{
 "cells": [
  {
   "cell_type": "code",
<<<<<<< Updated upstream
   "execution_count": 59,
=======
   "execution_count": 1,
>>>>>>> Stashed changes
   "metadata": {},
   "outputs": [
    {
     "data": {
      "text/html": [
       "        <script type=\"text/javascript\">\n",
       "        window.PlotlyConfig = {MathJaxConfig: 'local'};\n",
       "        if (window.MathJax && window.MathJax.Hub && window.MathJax.Hub.Config) {window.MathJax.Hub.Config({SVG: {font: \"STIX-Web\"}});}\n",
       "        if (typeof require !== 'undefined') {\n",
       "        require.undef(\"plotly\");\n",
       "        requirejs.config({\n",
       "            paths: {\n",
       "                'plotly': ['https://cdn.plot.ly/plotly-2.12.1.min']\n",
       "            }\n",
       "        });\n",
       "        require(['plotly'], function(Plotly) {\n",
       "            window._Plotly = Plotly;\n",
       "        });\n",
       "        }\n",
       "        </script>\n",
       "        "
      ]
     },
     "metadata": {},
     "output_type": "display_data"
    }
   ],
   "source": [
    "from collections import defaultdict\n",
    "import pandas as pd\n",
    "import numpy as np\n",
    "import sqlite3\n",
    "import pdb\n",
    "from tkinter import ON\n",
    "import csv\n",
    "import os\n",
    "if not os.path.exists(\"images\"):\n",
    "    os.mkdir(\"images\")\n",
    "\n",
    "%matplotlib inline\n",
    "from plotly.offline import plot, iplot, init_notebook_mode\n",
    "import plotly.graph_objs as go\n",
    "init_notebook_mode(connected=True)\n",
    "import matplotlib.pyplot as plt\n",
    "import plotly.express as px\n",
    "import plotly.io as pio\n",
    "pio.templates\n",
<<<<<<< Updated upstream
    "import seaborn as sns"
=======
    "from plotly.offline import plot, iplot, init_notebook_mode\n",
    "import plotly.graph_objs as go\n",
    "init_notebook_mode(connected=True)\n",
    "import seaborn as sns\n",
    "\n",
    "from IPython.core.interactiveshell import InteractiveShell\n",
    "InteractiveShell.ast_node_interactivity = \"all\"\n",
    "\n",
    "import warnings\n",
    "warnings.filterwarnings(\"ignore\")"
>>>>>>> Stashed changes
   ]
  },
  {
   "cell_type": "markdown",
   "metadata": {},
   "source": [
    "Outpatient Descriptive Statistics "
   ]
  },
  {
   "cell_type": "code",
<<<<<<< Updated upstream
   "execution_count": 60,
=======
   "execution_count": 2,
>>>>>>> Stashed changes
   "metadata": {},
   "outputs": [],
   "source": [
    "outpatient_df = pd.read_csv('idea-1/medicare-data/medicare-data/Outpatient_provdr.csv')"
   ]
  },
  {
   "cell_type": "code",
   "execution_count": 61,
   "metadata": {},
   "outputs": [
    {
     "data": {
      "text/html": [
       "<div>\n",
       "<style scoped>\n",
       "    .dataframe tbody tr th:only-of-type {\n",
       "        vertical-align: middle;\n",
       "    }\n",
       "\n",
       "    .dataframe tbody tr th {\n",
       "        vertical-align: top;\n",
       "    }\n",
       "\n",
       "    .dataframe thead th {\n",
       "        text-align: right;\n",
       "    }\n",
       "</style>\n",
       "<table border=\"1\" class=\"dataframe\">\n",
       "  <thead>\n",
       "    <tr style=\"text-align: right;\">\n",
       "      <th></th>\n",
       "      <th>Provider Id</th>\n",
       "      <th>Provider Zip Code</th>\n",
       "      <th>Outpatient Services</th>\n",
       "      <th>Average  Estimated Submitted Charges</th>\n",
       "      <th>Average Total Payments</th>\n",
       "    </tr>\n",
       "  </thead>\n",
       "  <tbody>\n",
       "    <tr>\n",
       "      <th>count</th>\n",
       "      <td>43372.000000</td>\n",
       "      <td>43372.000000</td>\n",
       "      <td>43372.000000</td>\n",
       "      <td>43372.000000</td>\n",
       "      <td>43372.000000</td>\n",
       "    </tr>\n",
       "    <tr>\n",
       "      <th>mean</th>\n",
       "      <td>265410.921747</td>\n",
       "      <td>49041.022434</td>\n",
       "      <td>587.980955</td>\n",
       "      <td>1473.994047</td>\n",
       "      <td>265.425586</td>\n",
       "    </tr>\n",
       "    <tr>\n",
       "      <th>std</th>\n",
       "      <td>152729.927698</td>\n",
       "      <td>27497.899751</td>\n",
       "      <td>3280.397168</td>\n",
       "      <td>1837.530791</td>\n",
       "      <td>261.260146</td>\n",
       "    </tr>\n",
       "    <tr>\n",
       "      <th>min</th>\n",
       "      <td>10001.000000</td>\n",
       "      <td>1040.000000</td>\n",
       "      <td>11.000000</td>\n",
       "      <td>12.643750</td>\n",
       "      <td>7.305000</td>\n",
       "    </tr>\n",
       "    <tr>\n",
       "      <th>25%</th>\n",
       "      <td>140043.000000</td>\n",
       "      <td>28645.000000</td>\n",
       "      <td>42.000000</td>\n",
       "      <td>284.610498</td>\n",
       "      <td>74.627714</td>\n",
       "    </tr>\n",
       "    <tr>\n",
       "      <th>50%</th>\n",
       "      <td>260091.000000</td>\n",
       "      <td>46342.000000</td>\n",
       "      <td>128.000000</td>\n",
       "      <td>709.995188</td>\n",
       "      <td>139.298570</td>\n",
       "    </tr>\n",
       "    <tr>\n",
       "      <th>75%</th>\n",
       "      <td>390101.000000</td>\n",
       "      <td>73101.000000</td>\n",
       "      <td>347.000000</td>\n",
       "      <td>2102.121346</td>\n",
       "      <td>394.211316</td>\n",
       "    </tr>\n",
       "    <tr>\n",
       "      <th>max</th>\n",
       "      <td>670061.000000</td>\n",
       "      <td>99801.000000</td>\n",
       "      <td>219042.000000</td>\n",
       "      <td>32105.636360</td>\n",
       "      <td>2062.470526</td>\n",
       "    </tr>\n",
       "  </tbody>\n",
       "</table>\n",
       "</div>"
      ],
      "text/plain": [
       "         Provider Id  Provider Zip Code  Outpatient Services  \\\n",
       "count   43372.000000       43372.000000         43372.000000   \n",
       "mean   265410.921747       49041.022434           587.980955   \n",
       "std    152729.927698       27497.899751          3280.397168   \n",
       "min     10001.000000        1040.000000            11.000000   \n",
       "25%    140043.000000       28645.000000            42.000000   \n",
       "50%    260091.000000       46342.000000           128.000000   \n",
       "75%    390101.000000       73101.000000           347.000000   \n",
       "max    670061.000000       99801.000000        219042.000000   \n",
       "\n",
       "       Average  Estimated Submitted Charges  Average Total Payments  \n",
       "count                          43372.000000            43372.000000  \n",
       "mean                            1473.994047              265.425586  \n",
       "std                             1837.530791              261.260146  \n",
       "min                               12.643750                7.305000  \n",
       "25%                              284.610498               74.627714  \n",
       "50%                              709.995188              139.298570  \n",
       "75%                             2102.121346              394.211316  \n",
       "max                            32105.636360             2062.470526  "
      ]
     },
     "execution_count": 61,
     "metadata": {},
     "output_type": "execute_result"
    }
   ],
   "source": [
    "outpatient_df.describe()"
   ]
  },
  {
   "cell_type": "code",
   "execution_count": 62,
   "metadata": {},
   "outputs": [
    {
     "name": "stdout",
     "output_type": "stream",
     "text": [
      "<class 'pandas.core.frame.DataFrame'>\n",
      "RangeIndex: 43372 entries, 0 to 43371\n",
      "Data columns (total 11 columns):\n",
      " #   Column                                      Non-Null Count  Dtype  \n",
      "---  ------                                      --------------  -----  \n",
      " 0   APC                                         43372 non-null  object \n",
      " 1   Provider Id                                 43372 non-null  int64  \n",
      " 2   Provider Name                               43372 non-null  object \n",
      " 3   Provider Street Address                     43372 non-null  object \n",
      " 4   Provider City                               43372 non-null  object \n",
      " 5   Provider State                              43372 non-null  object \n",
      " 6   Provider Zip Code                           43372 non-null  int64  \n",
      " 7   Hospital Referral Region (HRR) Description  43372 non-null  object \n",
      " 8   Outpatient Services                         43372 non-null  int64  \n",
      " 9   Average  Estimated Submitted Charges        43372 non-null  float64\n",
      " 10  Average Total Payments                      43372 non-null  float64\n",
      "dtypes: float64(2), int64(3), object(6)\n",
      "memory usage: 3.6+ MB\n"
     ]
    }
   ],
   "source": [
    "outpatient_df.info()"
   ]
  },
  {
   "cell_type": "code",
   "execution_count": 63,
   "metadata": {},
   "outputs": [
    {
     "data": {
      "text/html": [
       "<div>\n",
       "<style scoped>\n",
       "    .dataframe tbody tr th:only-of-type {\n",
       "        vertical-align: middle;\n",
       "    }\n",
       "\n",
       "    .dataframe tbody tr th {\n",
       "        vertical-align: top;\n",
       "    }\n",
       "\n",
       "    .dataframe thead th {\n",
       "        text-align: right;\n",
       "    }\n",
       "</style>\n",
       "<table border=\"1\" class=\"dataframe\">\n",
       "  <thead>\n",
       "    <tr style=\"text-align: right;\">\n",
       "      <th></th>\n",
       "      <th>Provider Id</th>\n",
       "      <th>Provider Zip Code</th>\n",
       "      <th>Outpatient Services</th>\n",
       "      <th>Average  Estimated Submitted Charges</th>\n",
       "      <th>Average Total Payments</th>\n",
       "    </tr>\n",
       "  </thead>\n",
       "  <tbody>\n",
       "    <tr>\n",
       "      <th>Provider Id</th>\n",
       "      <td>1.000000</td>\n",
       "      <td>-0.132199</td>\n",
       "      <td>0.011141</td>\n",
       "      <td>-0.051995</td>\n",
       "      <td>-0.024966</td>\n",
       "    </tr>\n",
       "    <tr>\n",
       "      <th>Provider Zip Code</th>\n",
       "      <td>-0.132199</td>\n",
       "      <td>1.000000</td>\n",
       "      <td>-0.013416</td>\n",
       "      <td>0.043500</td>\n",
       "      <td>0.000122</td>\n",
       "    </tr>\n",
       "    <tr>\n",
       "      <th>Outpatient Services</th>\n",
       "      <td>0.011141</td>\n",
       "      <td>-0.013416</td>\n",
       "      <td>1.000000</td>\n",
       "      <td>-0.080775</td>\n",
       "      <td>-0.080738</td>\n",
       "    </tr>\n",
       "    <tr>\n",
       "      <th>Average  Estimated Submitted Charges</th>\n",
       "      <td>-0.051995</td>\n",
       "      <td>0.043500</td>\n",
       "      <td>-0.080775</td>\n",
       "      <td>1.000000</td>\n",
       "      <td>0.768358</td>\n",
       "    </tr>\n",
       "    <tr>\n",
       "      <th>Average Total Payments</th>\n",
       "      <td>-0.024966</td>\n",
       "      <td>0.000122</td>\n",
       "      <td>-0.080738</td>\n",
       "      <td>0.768358</td>\n",
       "      <td>1.000000</td>\n",
       "    </tr>\n",
       "  </tbody>\n",
       "</table>\n",
       "</div>"
      ],
      "text/plain": [
       "                                      Provider Id  Provider Zip Code  \\\n",
       "Provider Id                              1.000000          -0.132199   \n",
       "Provider Zip Code                       -0.132199           1.000000   \n",
       "Outpatient Services                      0.011141          -0.013416   \n",
       "Average  Estimated Submitted Charges    -0.051995           0.043500   \n",
       "Average Total Payments                  -0.024966           0.000122   \n",
       "\n",
       "                                      Outpatient Services  \\\n",
       "Provider Id                                      0.011141   \n",
       "Provider Zip Code                               -0.013416   \n",
       "Outpatient Services                              1.000000   \n",
       "Average  Estimated Submitted Charges            -0.080775   \n",
       "Average Total Payments                          -0.080738   \n",
       "\n",
       "                                      Average  Estimated Submitted Charges  \\\n",
       "Provider Id                                                      -0.051995   \n",
       "Provider Zip Code                                                 0.043500   \n",
       "Outpatient Services                                              -0.080775   \n",
       "Average  Estimated Submitted Charges                              1.000000   \n",
       "Average Total Payments                                            0.768358   \n",
       "\n",
       "                                      Average Total Payments  \n",
       "Provider Id                                        -0.024966  \n",
       "Provider Zip Code                                   0.000122  \n",
       "Outpatient Services                                -0.080738  \n",
       "Average  Estimated Submitted Charges                0.768358  \n",
       "Average Total Payments                              1.000000  "
      ]
     },
     "execution_count": 63,
     "metadata": {},
     "output_type": "execute_result"
    }
   ],
   "source": [
    "outpatient_df.corr()"
   ]
  },
  {
   "cell_type": "markdown",
   "metadata": {},
   "source": [
    "Outpatient Top 10 Analysis"
   ]
  },
  {
   "cell_type": "code",
   "execution_count": 64,
   "metadata": {},
   "outputs": [
    {
     "data": {
      "application/vnd.plotly.v1+json": {
       "config": {
        "plotlyServerURL": "https://plot.ly"
       },
       "data": [
        {
         "alignmentgroup": "True",
         "hovertemplate": "x=%{x}<br>y=%{y}<extra></extra>",
         "legendgroup": "",
         "marker": {
          "color": "#636efa",
          "pattern": {
           "shape": ""
          }
         },
         "name": "",
         "offsetgroup": "",
         "orientation": "v",
         "showlegend": false,
         "textposition": "auto",
         "type": "bar",
         "x": [
          "CHICAGO",
          "HOUSTON",
          "SPRINGFIELD",
          "DALLAS",
          "COLUMBUS",
          "BOSTON",
          "PHILADELPHIA",
          "CLEVELAND",
          "WASHINGTON",
          "LOS ANGELES"
         ],
         "xaxis": "x",
         "y": [
          393,
          249,
          228,
          219,
          208,
          192,
          190,
          186,
          185,
          182
         ],
         "yaxis": "y"
        }
       ],
       "layout": {
        "bargap": 0.15,
        "bargroupgap": 0.1,
        "barmode": "group",
        "legend": {
         "tracegroupgap": 0,
         "x": 0,
         "y": 1
        },
        "margin": {
         "t": 60
        },
        "template": {
         "data": {
          "bar": [
           {
            "error_x": {
             "color": "rgb(51,51,51)"
            },
            "error_y": {
             "color": "rgb(51,51,51)"
            },
            "marker": {
             "line": {
              "color": "rgb(237,237,237)",
              "width": 0.5
             },
             "pattern": {
              "fillmode": "overlay",
              "size": 10,
              "solidity": 0.2
             }
            },
            "type": "bar"
           }
          ],
          "barpolar": [
           {
            "marker": {
             "line": {
              "color": "rgb(237,237,237)",
              "width": 0.5
             },
             "pattern": {
              "fillmode": "overlay",
              "size": 10,
              "solidity": 0.2
             }
            },
            "type": "barpolar"
           }
          ],
          "carpet": [
           {
            "aaxis": {
             "endlinecolor": "rgb(51,51,51)",
             "gridcolor": "white",
             "linecolor": "white",
             "minorgridcolor": "white",
             "startlinecolor": "rgb(51,51,51)"
            },
            "baxis": {
             "endlinecolor": "rgb(51,51,51)",
             "gridcolor": "white",
             "linecolor": "white",
             "minorgridcolor": "white",
             "startlinecolor": "rgb(51,51,51)"
            },
            "type": "carpet"
           }
          ],
          "choropleth": [
           {
            "colorbar": {
             "outlinewidth": 0,
             "tickcolor": "rgb(237,237,237)",
             "ticklen": 6,
             "ticks": "inside"
            },
            "type": "choropleth"
           }
          ],
          "contour": [
           {
            "colorbar": {
             "outlinewidth": 0,
             "tickcolor": "rgb(237,237,237)",
             "ticklen": 6,
             "ticks": "inside"
            },
            "colorscale": [
             [
              0,
              "rgb(20,44,66)"
             ],
             [
              1,
              "rgb(90,179,244)"
             ]
            ],
            "type": "contour"
           }
          ],
          "contourcarpet": [
           {
            "colorbar": {
             "outlinewidth": 0,
             "tickcolor": "rgb(237,237,237)",
             "ticklen": 6,
             "ticks": "inside"
            },
            "type": "contourcarpet"
           }
          ],
          "heatmap": [
           {
            "colorbar": {
             "outlinewidth": 0,
             "tickcolor": "rgb(237,237,237)",
             "ticklen": 6,
             "ticks": "inside"
            },
            "colorscale": [
             [
              0,
              "rgb(20,44,66)"
             ],
             [
              1,
              "rgb(90,179,244)"
             ]
            ],
            "type": "heatmap"
           }
          ],
          "heatmapgl": [
           {
            "colorbar": {
             "outlinewidth": 0,
             "tickcolor": "rgb(237,237,237)",
             "ticklen": 6,
             "ticks": "inside"
            },
            "colorscale": [
             [
              0,
              "rgb(20,44,66)"
             ],
             [
              1,
              "rgb(90,179,244)"
             ]
            ],
            "type": "heatmapgl"
           }
          ],
          "histogram": [
           {
            "marker": {
             "pattern": {
              "fillmode": "overlay",
              "size": 10,
              "solidity": 0.2
             }
            },
            "type": "histogram"
           }
          ],
          "histogram2d": [
           {
            "colorbar": {
             "outlinewidth": 0,
             "tickcolor": "rgb(237,237,237)",
             "ticklen": 6,
             "ticks": "inside"
            },
            "colorscale": [
             [
              0,
              "rgb(20,44,66)"
             ],
             [
              1,
              "rgb(90,179,244)"
             ]
            ],
            "type": "histogram2d"
           }
          ],
          "histogram2dcontour": [
           {
            "colorbar": {
             "outlinewidth": 0,
             "tickcolor": "rgb(237,237,237)",
             "ticklen": 6,
             "ticks": "inside"
            },
            "colorscale": [
             [
              0,
              "rgb(20,44,66)"
             ],
             [
              1,
              "rgb(90,179,244)"
             ]
            ],
            "type": "histogram2dcontour"
           }
          ],
          "mesh3d": [
           {
            "colorbar": {
             "outlinewidth": 0,
             "tickcolor": "rgb(237,237,237)",
             "ticklen": 6,
             "ticks": "inside"
            },
            "type": "mesh3d"
           }
          ],
          "parcoords": [
           {
            "line": {
             "colorbar": {
              "outlinewidth": 0,
              "tickcolor": "rgb(237,237,237)",
              "ticklen": 6,
              "ticks": "inside"
             }
            },
            "type": "parcoords"
           }
          ],
          "pie": [
           {
            "automargin": true,
            "type": "pie"
           }
          ],
          "scatter": [
           {
            "marker": {
             "colorbar": {
              "outlinewidth": 0,
              "tickcolor": "rgb(237,237,237)",
              "ticklen": 6,
              "ticks": "inside"
             }
            },
            "type": "scatter"
           }
          ],
          "scatter3d": [
           {
            "line": {
             "colorbar": {
              "outlinewidth": 0,
              "tickcolor": "rgb(237,237,237)",
              "ticklen": 6,
              "ticks": "inside"
             }
            },
            "marker": {
             "colorbar": {
              "outlinewidth": 0,
              "tickcolor": "rgb(237,237,237)",
              "ticklen": 6,
              "ticks": "inside"
             }
            },
            "type": "scatter3d"
           }
          ],
          "scattercarpet": [
           {
            "marker": {
             "colorbar": {
              "outlinewidth": 0,
              "tickcolor": "rgb(237,237,237)",
              "ticklen": 6,
              "ticks": "inside"
             }
            },
            "type": "scattercarpet"
           }
          ],
          "scattergeo": [
           {
            "marker": {
             "colorbar": {
              "outlinewidth": 0,
              "tickcolor": "rgb(237,237,237)",
              "ticklen": 6,
              "ticks": "inside"
             }
            },
            "type": "scattergeo"
           }
          ],
          "scattergl": [
           {
            "marker": {
             "colorbar": {
              "outlinewidth": 0,
              "tickcolor": "rgb(237,237,237)",
              "ticklen": 6,
              "ticks": "inside"
             }
            },
            "type": "scattergl"
           }
          ],
          "scattermapbox": [
           {
            "marker": {
             "colorbar": {
              "outlinewidth": 0,
              "tickcolor": "rgb(237,237,237)",
              "ticklen": 6,
              "ticks": "inside"
             }
            },
            "type": "scattermapbox"
           }
          ],
          "scatterpolar": [
           {
            "marker": {
             "colorbar": {
              "outlinewidth": 0,
              "tickcolor": "rgb(237,237,237)",
              "ticklen": 6,
              "ticks": "inside"
             }
            },
            "type": "scatterpolar"
           }
          ],
          "scatterpolargl": [
           {
            "marker": {
             "colorbar": {
              "outlinewidth": 0,
              "tickcolor": "rgb(237,237,237)",
              "ticklen": 6,
              "ticks": "inside"
             }
            },
            "type": "scatterpolargl"
           }
          ],
          "scatterternary": [
           {
            "marker": {
             "colorbar": {
              "outlinewidth": 0,
              "tickcolor": "rgb(237,237,237)",
              "ticklen": 6,
              "ticks": "inside"
             }
            },
            "type": "scatterternary"
           }
          ],
          "surface": [
           {
            "colorbar": {
             "outlinewidth": 0,
             "tickcolor": "rgb(237,237,237)",
             "ticklen": 6,
             "ticks": "inside"
            },
            "colorscale": [
             [
              0,
              "rgb(20,44,66)"
             ],
             [
              1,
              "rgb(90,179,244)"
             ]
            ],
            "type": "surface"
           }
          ],
          "table": [
           {
            "cells": {
             "fill": {
              "color": "rgb(237,237,237)"
             },
             "line": {
              "color": "white"
             }
            },
            "header": {
             "fill": {
              "color": "rgb(217,217,217)"
             },
             "line": {
              "color": "white"
             }
            },
            "type": "table"
           }
          ]
         },
         "layout": {
          "annotationdefaults": {
           "arrowhead": 0,
           "arrowwidth": 1
          },
          "autotypenumbers": "strict",
          "coloraxis": {
           "colorbar": {
            "outlinewidth": 0,
            "tickcolor": "rgb(237,237,237)",
            "ticklen": 6,
            "ticks": "inside"
           }
          },
          "colorscale": {
           "sequential": [
            [
             0,
             "rgb(20,44,66)"
            ],
            [
             1,
             "rgb(90,179,244)"
            ]
           ],
           "sequentialminus": [
            [
             0,
             "rgb(20,44,66)"
            ],
            [
             1,
             "rgb(90,179,244)"
            ]
           ]
          },
          "colorway": [
           "#F8766D",
           "#A3A500",
           "#00BF7D",
           "#00B0F6",
           "#E76BF3"
          ],
          "font": {
           "color": "rgb(51,51,51)"
          },
          "geo": {
           "bgcolor": "white",
           "lakecolor": "white",
           "landcolor": "rgb(237,237,237)",
           "showlakes": true,
           "showland": true,
           "subunitcolor": "white"
          },
          "hoverlabel": {
           "align": "left"
          },
          "hovermode": "closest",
          "paper_bgcolor": "white",
          "plot_bgcolor": "rgb(237,237,237)",
          "polar": {
           "angularaxis": {
            "gridcolor": "white",
            "linecolor": "white",
            "showgrid": true,
            "tickcolor": "rgb(51,51,51)",
            "ticks": "outside"
           },
           "bgcolor": "rgb(237,237,237)",
           "radialaxis": {
            "gridcolor": "white",
            "linecolor": "white",
            "showgrid": true,
            "tickcolor": "rgb(51,51,51)",
            "ticks": "outside"
           }
          },
          "scene": {
           "xaxis": {
            "backgroundcolor": "rgb(237,237,237)",
            "gridcolor": "white",
            "gridwidth": 2,
            "linecolor": "white",
            "showbackground": true,
            "showgrid": true,
            "tickcolor": "rgb(51,51,51)",
            "ticks": "outside",
            "zerolinecolor": "white"
           },
           "yaxis": {
            "backgroundcolor": "rgb(237,237,237)",
            "gridcolor": "white",
            "gridwidth": 2,
            "linecolor": "white",
            "showbackground": true,
            "showgrid": true,
            "tickcolor": "rgb(51,51,51)",
            "ticks": "outside",
            "zerolinecolor": "white"
           },
           "zaxis": {
            "backgroundcolor": "rgb(237,237,237)",
            "gridcolor": "white",
            "gridwidth": 2,
            "linecolor": "white",
            "showbackground": true,
            "showgrid": true,
            "tickcolor": "rgb(51,51,51)",
            "ticks": "outside",
            "zerolinecolor": "white"
           }
          },
          "shapedefaults": {
           "fillcolor": "black",
           "line": {
            "width": 0
           },
           "opacity": 0.3
          },
          "ternary": {
           "aaxis": {
            "gridcolor": "white",
            "linecolor": "white",
            "showgrid": true,
            "tickcolor": "rgb(51,51,51)",
            "ticks": "outside"
           },
           "baxis": {
            "gridcolor": "white",
            "linecolor": "white",
            "showgrid": true,
            "tickcolor": "rgb(51,51,51)",
            "ticks": "outside"
           },
           "bgcolor": "rgb(237,237,237)",
           "caxis": {
            "gridcolor": "white",
            "linecolor": "white",
            "showgrid": true,
            "tickcolor": "rgb(51,51,51)",
            "ticks": "outside"
           }
          },
          "xaxis": {
           "automargin": true,
           "gridcolor": "white",
           "linecolor": "white",
           "showgrid": true,
           "tickcolor": "rgb(51,51,51)",
           "ticks": "outside",
           "title": {
            "standoff": 15
           },
           "zerolinecolor": "white"
          },
          "yaxis": {
           "automargin": true,
           "gridcolor": "white",
           "linecolor": "white",
           "showgrid": true,
           "tickcolor": "rgb(51,51,51)",
           "ticks": "outside",
           "title": {
            "standoff": 15
           },
           "zerolinecolor": "white"
          }
         }
        },
        "title": {
         "text": "Outpatient Provider in Top 10 cities"
        },
        "xaxis": {
         "anchor": "y",
         "domain": [
          0,
          1
         ],
         "tickfont": {
          "size": 14
         },
         "title": {
          "font": {
           "size": 16
          },
          "text": "Provider City Id"
         },
         "type": "category"
        },
        "yaxis": {
         "anchor": "x",
         "domain": [
          0,
          1
         ],
         "tickfont": {
          "size": 14
         },
         "title": {
          "font": {
           "size": 16
          },
          "text": "Count"
         }
        }
       }
      },
      "text/html": [
       "<div>                            <div id=\"5b89345b-e4da-4238-b338-e7072ae9ad86\" class=\"plotly-graph-div\" style=\"height:525px; width:100%;\"></div>            <script type=\"text/javascript\">                require([\"plotly\"], function(Plotly) {                    window.PLOTLYENV=window.PLOTLYENV || {};                                    if (document.getElementById(\"5b89345b-e4da-4238-b338-e7072ae9ad86\")) {                    Plotly.newPlot(                        \"5b89345b-e4da-4238-b338-e7072ae9ad86\",                        [{\"alignmentgroup\":\"True\",\"hovertemplate\":\"x=%{x}<br>y=%{y}<extra></extra>\",\"legendgroup\":\"\",\"marker\":{\"color\":\"#636efa\",\"pattern\":{\"shape\":\"\"}},\"name\":\"\",\"offsetgroup\":\"\",\"orientation\":\"v\",\"showlegend\":false,\"textposition\":\"auto\",\"x\":[\"CHICAGO\",\"HOUSTON\",\"SPRINGFIELD\",\"DALLAS\",\"COLUMBUS\",\"BOSTON\",\"PHILADELPHIA\",\"CLEVELAND\",\"WASHINGTON\",\"LOS ANGELES\"],\"xaxis\":\"x\",\"y\":[393,249,228,219,208,192,190,186,185,182],\"yaxis\":\"y\",\"type\":\"bar\"}],                        {\"template\":{\"data\":{\"barpolar\":[{\"marker\":{\"line\":{\"color\":\"rgb(237,237,237)\",\"width\":0.5},\"pattern\":{\"fillmode\":\"overlay\",\"size\":10,\"solidity\":0.2}},\"type\":\"barpolar\"}],\"bar\":[{\"error_x\":{\"color\":\"rgb(51,51,51)\"},\"error_y\":{\"color\":\"rgb(51,51,51)\"},\"marker\":{\"line\":{\"color\":\"rgb(237,237,237)\",\"width\":0.5},\"pattern\":{\"fillmode\":\"overlay\",\"size\":10,\"solidity\":0.2}},\"type\":\"bar\"}],\"carpet\":[{\"aaxis\":{\"endlinecolor\":\"rgb(51,51,51)\",\"gridcolor\":\"white\",\"linecolor\":\"white\",\"minorgridcolor\":\"white\",\"startlinecolor\":\"rgb(51,51,51)\"},\"baxis\":{\"endlinecolor\":\"rgb(51,51,51)\",\"gridcolor\":\"white\",\"linecolor\":\"white\",\"minorgridcolor\":\"white\",\"startlinecolor\":\"rgb(51,51,51)\"},\"type\":\"carpet\"}],\"choropleth\":[{\"colorbar\":{\"outlinewidth\":0,\"tickcolor\":\"rgb(237,237,237)\",\"ticklen\":6,\"ticks\":\"inside\"},\"type\":\"choropleth\"}],\"contourcarpet\":[{\"colorbar\":{\"outlinewidth\":0,\"tickcolor\":\"rgb(237,237,237)\",\"ticklen\":6,\"ticks\":\"inside\"},\"type\":\"contourcarpet\"}],\"contour\":[{\"colorbar\":{\"outlinewidth\":0,\"tickcolor\":\"rgb(237,237,237)\",\"ticklen\":6,\"ticks\":\"inside\"},\"colorscale\":[[0,\"rgb(20,44,66)\"],[1,\"rgb(90,179,244)\"]],\"type\":\"contour\"}],\"heatmapgl\":[{\"colorbar\":{\"outlinewidth\":0,\"tickcolor\":\"rgb(237,237,237)\",\"ticklen\":6,\"ticks\":\"inside\"},\"colorscale\":[[0,\"rgb(20,44,66)\"],[1,\"rgb(90,179,244)\"]],\"type\":\"heatmapgl\"}],\"heatmap\":[{\"colorbar\":{\"outlinewidth\":0,\"tickcolor\":\"rgb(237,237,237)\",\"ticklen\":6,\"ticks\":\"inside\"},\"colorscale\":[[0,\"rgb(20,44,66)\"],[1,\"rgb(90,179,244)\"]],\"type\":\"heatmap\"}],\"histogram2dcontour\":[{\"colorbar\":{\"outlinewidth\":0,\"tickcolor\":\"rgb(237,237,237)\",\"ticklen\":6,\"ticks\":\"inside\"},\"colorscale\":[[0,\"rgb(20,44,66)\"],[1,\"rgb(90,179,244)\"]],\"type\":\"histogram2dcontour\"}],\"histogram2d\":[{\"colorbar\":{\"outlinewidth\":0,\"tickcolor\":\"rgb(237,237,237)\",\"ticklen\":6,\"ticks\":\"inside\"},\"colorscale\":[[0,\"rgb(20,44,66)\"],[1,\"rgb(90,179,244)\"]],\"type\":\"histogram2d\"}],\"histogram\":[{\"marker\":{\"pattern\":{\"fillmode\":\"overlay\",\"size\":10,\"solidity\":0.2}},\"type\":\"histogram\"}],\"mesh3d\":[{\"colorbar\":{\"outlinewidth\":0,\"tickcolor\":\"rgb(237,237,237)\",\"ticklen\":6,\"ticks\":\"inside\"},\"type\":\"mesh3d\"}],\"parcoords\":[{\"line\":{\"colorbar\":{\"outlinewidth\":0,\"tickcolor\":\"rgb(237,237,237)\",\"ticklen\":6,\"ticks\":\"inside\"}},\"type\":\"parcoords\"}],\"pie\":[{\"automargin\":true,\"type\":\"pie\"}],\"scatter3d\":[{\"line\":{\"colorbar\":{\"outlinewidth\":0,\"tickcolor\":\"rgb(237,237,237)\",\"ticklen\":6,\"ticks\":\"inside\"}},\"marker\":{\"colorbar\":{\"outlinewidth\":0,\"tickcolor\":\"rgb(237,237,237)\",\"ticklen\":6,\"ticks\":\"inside\"}},\"type\":\"scatter3d\"}],\"scattercarpet\":[{\"marker\":{\"colorbar\":{\"outlinewidth\":0,\"tickcolor\":\"rgb(237,237,237)\",\"ticklen\":6,\"ticks\":\"inside\"}},\"type\":\"scattercarpet\"}],\"scattergeo\":[{\"marker\":{\"colorbar\":{\"outlinewidth\":0,\"tickcolor\":\"rgb(237,237,237)\",\"ticklen\":6,\"ticks\":\"inside\"}},\"type\":\"scattergeo\"}],\"scattergl\":[{\"marker\":{\"colorbar\":{\"outlinewidth\":0,\"tickcolor\":\"rgb(237,237,237)\",\"ticklen\":6,\"ticks\":\"inside\"}},\"type\":\"scattergl\"}],\"scattermapbox\":[{\"marker\":{\"colorbar\":{\"outlinewidth\":0,\"tickcolor\":\"rgb(237,237,237)\",\"ticklen\":6,\"ticks\":\"inside\"}},\"type\":\"scattermapbox\"}],\"scatterpolargl\":[{\"marker\":{\"colorbar\":{\"outlinewidth\":0,\"tickcolor\":\"rgb(237,237,237)\",\"ticklen\":6,\"ticks\":\"inside\"}},\"type\":\"scatterpolargl\"}],\"scatterpolar\":[{\"marker\":{\"colorbar\":{\"outlinewidth\":0,\"tickcolor\":\"rgb(237,237,237)\",\"ticklen\":6,\"ticks\":\"inside\"}},\"type\":\"scatterpolar\"}],\"scatter\":[{\"marker\":{\"colorbar\":{\"outlinewidth\":0,\"tickcolor\":\"rgb(237,237,237)\",\"ticklen\":6,\"ticks\":\"inside\"}},\"type\":\"scatter\"}],\"scatterternary\":[{\"marker\":{\"colorbar\":{\"outlinewidth\":0,\"tickcolor\":\"rgb(237,237,237)\",\"ticklen\":6,\"ticks\":\"inside\"}},\"type\":\"scatterternary\"}],\"surface\":[{\"colorbar\":{\"outlinewidth\":0,\"tickcolor\":\"rgb(237,237,237)\",\"ticklen\":6,\"ticks\":\"inside\"},\"colorscale\":[[0,\"rgb(20,44,66)\"],[1,\"rgb(90,179,244)\"]],\"type\":\"surface\"}],\"table\":[{\"cells\":{\"fill\":{\"color\":\"rgb(237,237,237)\"},\"line\":{\"color\":\"white\"}},\"header\":{\"fill\":{\"color\":\"rgb(217,217,217)\"},\"line\":{\"color\":\"white\"}},\"type\":\"table\"}]},\"layout\":{\"annotationdefaults\":{\"arrowhead\":0,\"arrowwidth\":1},\"autotypenumbers\":\"strict\",\"coloraxis\":{\"colorbar\":{\"outlinewidth\":0,\"tickcolor\":\"rgb(237,237,237)\",\"ticklen\":6,\"ticks\":\"inside\"}},\"colorscale\":{\"sequential\":[[0,\"rgb(20,44,66)\"],[1,\"rgb(90,179,244)\"]],\"sequentialminus\":[[0,\"rgb(20,44,66)\"],[1,\"rgb(90,179,244)\"]]},\"colorway\":[\"#F8766D\",\"#A3A500\",\"#00BF7D\",\"#00B0F6\",\"#E76BF3\"],\"font\":{\"color\":\"rgb(51,51,51)\"},\"geo\":{\"bgcolor\":\"white\",\"lakecolor\":\"white\",\"landcolor\":\"rgb(237,237,237)\",\"showlakes\":true,\"showland\":true,\"subunitcolor\":\"white\"},\"hoverlabel\":{\"align\":\"left\"},\"hovermode\":\"closest\",\"paper_bgcolor\":\"white\",\"plot_bgcolor\":\"rgb(237,237,237)\",\"polar\":{\"angularaxis\":{\"gridcolor\":\"white\",\"linecolor\":\"white\",\"showgrid\":true,\"tickcolor\":\"rgb(51,51,51)\",\"ticks\":\"outside\"},\"bgcolor\":\"rgb(237,237,237)\",\"radialaxis\":{\"gridcolor\":\"white\",\"linecolor\":\"white\",\"showgrid\":true,\"tickcolor\":\"rgb(51,51,51)\",\"ticks\":\"outside\"}},\"scene\":{\"xaxis\":{\"backgroundcolor\":\"rgb(237,237,237)\",\"gridcolor\":\"white\",\"gridwidth\":2,\"linecolor\":\"white\",\"showbackground\":true,\"showgrid\":true,\"tickcolor\":\"rgb(51,51,51)\",\"ticks\":\"outside\",\"zerolinecolor\":\"white\"},\"yaxis\":{\"backgroundcolor\":\"rgb(237,237,237)\",\"gridcolor\":\"white\",\"gridwidth\":2,\"linecolor\":\"white\",\"showbackground\":true,\"showgrid\":true,\"tickcolor\":\"rgb(51,51,51)\",\"ticks\":\"outside\",\"zerolinecolor\":\"white\"},\"zaxis\":{\"backgroundcolor\":\"rgb(237,237,237)\",\"gridcolor\":\"white\",\"gridwidth\":2,\"linecolor\":\"white\",\"showbackground\":true,\"showgrid\":true,\"tickcolor\":\"rgb(51,51,51)\",\"ticks\":\"outside\",\"zerolinecolor\":\"white\"}},\"shapedefaults\":{\"fillcolor\":\"black\",\"line\":{\"width\":0},\"opacity\":0.3},\"ternary\":{\"aaxis\":{\"gridcolor\":\"white\",\"linecolor\":\"white\",\"showgrid\":true,\"tickcolor\":\"rgb(51,51,51)\",\"ticks\":\"outside\"},\"baxis\":{\"gridcolor\":\"white\",\"linecolor\":\"white\",\"showgrid\":true,\"tickcolor\":\"rgb(51,51,51)\",\"ticks\":\"outside\"},\"bgcolor\":\"rgb(237,237,237)\",\"caxis\":{\"gridcolor\":\"white\",\"linecolor\":\"white\",\"showgrid\":true,\"tickcolor\":\"rgb(51,51,51)\",\"ticks\":\"outside\"}},\"xaxis\":{\"automargin\":true,\"gridcolor\":\"white\",\"linecolor\":\"white\",\"showgrid\":true,\"tickcolor\":\"rgb(51,51,51)\",\"ticks\":\"outside\",\"title\":{\"standoff\":15},\"zerolinecolor\":\"white\"},\"yaxis\":{\"automargin\":true,\"gridcolor\":\"white\",\"linecolor\":\"white\",\"showgrid\":true,\"tickcolor\":\"rgb(51,51,51)\",\"ticks\":\"outside\",\"title\":{\"standoff\":15},\"zerolinecolor\":\"white\"}}},\"xaxis\":{\"anchor\":\"y\",\"domain\":[0.0,1.0],\"title\":{\"text\":\"Provider City Id\",\"font\":{\"size\":16}},\"tickfont\":{\"size\":14},\"type\":\"category\"},\"yaxis\":{\"anchor\":\"x\",\"domain\":[0.0,1.0],\"title\":{\"text\":\"Count\",\"font\":{\"size\":16}},\"tickfont\":{\"size\":14}},\"legend\":{\"tracegroupgap\":0,\"x\":0,\"y\":1.0},\"margin\":{\"t\":60},\"barmode\":\"group\",\"title\":{\"text\":\"Outpatient Provider in Top 10 cities\"},\"bargap\":0.15,\"bargroupgap\":0.1},                        {\"responsive\": true}                    ).then(function(){\n",
       "                            \n",
       "var gd = document.getElementById('5b89345b-e4da-4238-b338-e7072ae9ad86');\n",
       "var x = new MutationObserver(function (mutations, observer) {{\n",
       "        var display = window.getComputedStyle(gd).display;\n",
       "        if (!display || display === 'none') {{\n",
       "            console.log([gd, 'removed!']);\n",
       "            Plotly.purge(gd);\n",
       "            observer.disconnect();\n",
       "        }}\n",
       "}});\n",
       "\n",
       "// Listen for the removal of the full notebook cells\n",
       "var notebookContainer = gd.closest('#notebook-container');\n",
       "if (notebookContainer) {{\n",
       "    x.observe(notebookContainer, {childList: true});\n",
       "}}\n",
       "\n",
       "// Listen for the clearing of the current output cell\n",
       "var outputEl = gd.closest('.output');\n",
       "if (outputEl) {{\n",
       "    x.observe(outputEl, {childList: true});\n",
       "}}\n",
       "\n",
       "                        })                };                });            </script>        </div>"
      ]
     },
     "metadata": {},
     "output_type": "display_data"
    }
   ],
   "source": [
    "#Outpatient Provider City\n",
    "city_count  = outpatient_df['Provider City'].value_counts()\n",
    "city_count = city_count[:10,]\n",
    "fig = px.bar(x = city_count.index, y = city_count.values)\n",
    "fig.update_layout(\n",
    "    title='Outpatient Provider in Top 10 cities',\n",
    "    template='ggplot2',\n",
    "    xaxis=dict(\n",
    "        title='Provider City Id',\n",
    "        titlefont_size=16,\n",
    "        tickfont_size=14,\n",
    "    ),\n",
    "    yaxis=dict(\n",
    "        title='Count',\n",
    "        titlefont_size=16,\n",
    "        tickfont_size=14,\n",
    "    ),\n",
    "    legend=dict(\n",
    "        x=0,\n",
    "        y=1.0,\n",
    "    ),\n",
    "    barmode='group',\n",
    "    bargap=0.15,\n",
    "    bargroupgap=0.1,\n",
    ")\n",
    "fig.layout.xaxis.type = 'category'\n",
    "fig.show()\n",
    "fig.write_image(\"outpatient_analysis_graphs\\outpatient_provider_top_10_cities.png\", engine='orca')"
   ]
  },
  {
   "cell_type": "code",
   "execution_count": 65,
   "metadata": {},
   "outputs": [
    {
     "data": {
      "application/vnd.plotly.v1+json": {
       "config": {
        "plotlyServerURL": "https://plot.ly"
       },
       "data": [
        {
         "alignmentgroup": "True",
         "bingroup": "x",
         "histfunc": "sum",
         "hovertemplate": "x=%{x}<br>sum of y=%{y}<extra></extra>",
         "legendgroup": "",
         "marker": {
          "color": "#636efa",
          "pattern": {
           "shape": ""
          }
         },
         "name": "",
         "offsetgroup": "",
         "orientation": "v",
         "showlegend": false,
         "type": "histogram",
         "x": [
          "TX",
          "CA",
          "FL",
          "PA",
          "NY",
          "IL",
          "OH",
          "MI",
          "NC",
          "GA"
         ],
         "xaxis": "x",
         "y": [
          3239,
          2983,
          2279,
          2264,
          2133,
          2087,
          2064,
          1424,
          1409,
          1393
         ],
         "yaxis": "y"
        }
       ],
       "layout": {
        "bargap": 0.15,
        "bargroupgap": 0.1,
        "barmode": "group",
        "legend": {
         "bgcolor": "rgba(255, 255, 255, 0)",
         "bordercolor": "rgba(255, 255, 255, 0)",
         "tracegroupgap": 0,
         "x": 0,
         "y": 1
        },
        "margin": {
         "t": 60
        },
        "template": {
         "data": {
          "bar": [
           {
            "error_x": {
             "color": "rgb(51,51,51)"
            },
            "error_y": {
             "color": "rgb(51,51,51)"
            },
            "marker": {
             "line": {
              "color": "rgb(237,237,237)",
              "width": 0.5
             },
             "pattern": {
              "fillmode": "overlay",
              "size": 10,
              "solidity": 0.2
             }
            },
            "type": "bar"
           }
          ],
          "barpolar": [
           {
            "marker": {
             "line": {
              "color": "rgb(237,237,237)",
              "width": 0.5
             },
             "pattern": {
              "fillmode": "overlay",
              "size": 10,
              "solidity": 0.2
             }
            },
            "type": "barpolar"
           }
          ],
          "carpet": [
           {
            "aaxis": {
             "endlinecolor": "rgb(51,51,51)",
             "gridcolor": "white",
             "linecolor": "white",
             "minorgridcolor": "white",
             "startlinecolor": "rgb(51,51,51)"
            },
            "baxis": {
             "endlinecolor": "rgb(51,51,51)",
             "gridcolor": "white",
             "linecolor": "white",
             "minorgridcolor": "white",
             "startlinecolor": "rgb(51,51,51)"
            },
            "type": "carpet"
           }
          ],
          "choropleth": [
           {
            "colorbar": {
             "outlinewidth": 0,
             "tickcolor": "rgb(237,237,237)",
             "ticklen": 6,
             "ticks": "inside"
            },
            "type": "choropleth"
           }
          ],
          "contour": [
           {
            "colorbar": {
             "outlinewidth": 0,
             "tickcolor": "rgb(237,237,237)",
             "ticklen": 6,
             "ticks": "inside"
            },
            "colorscale": [
             [
              0,
              "rgb(20,44,66)"
             ],
             [
              1,
              "rgb(90,179,244)"
             ]
            ],
            "type": "contour"
           }
          ],
          "contourcarpet": [
           {
            "colorbar": {
             "outlinewidth": 0,
             "tickcolor": "rgb(237,237,237)",
             "ticklen": 6,
             "ticks": "inside"
            },
            "type": "contourcarpet"
           }
          ],
          "heatmap": [
           {
            "colorbar": {
             "outlinewidth": 0,
             "tickcolor": "rgb(237,237,237)",
             "ticklen": 6,
             "ticks": "inside"
            },
            "colorscale": [
             [
              0,
              "rgb(20,44,66)"
             ],
             [
              1,
              "rgb(90,179,244)"
             ]
            ],
            "type": "heatmap"
           }
          ],
          "heatmapgl": [
           {
            "colorbar": {
             "outlinewidth": 0,
             "tickcolor": "rgb(237,237,237)",
             "ticklen": 6,
             "ticks": "inside"
            },
            "colorscale": [
             [
              0,
              "rgb(20,44,66)"
             ],
             [
              1,
              "rgb(90,179,244)"
             ]
            ],
            "type": "heatmapgl"
           }
          ],
          "histogram": [
           {
            "marker": {
             "pattern": {
              "fillmode": "overlay",
              "size": 10,
              "solidity": 0.2
             }
            },
            "type": "histogram"
           }
          ],
          "histogram2d": [
           {
            "colorbar": {
             "outlinewidth": 0,
             "tickcolor": "rgb(237,237,237)",
             "ticklen": 6,
             "ticks": "inside"
            },
            "colorscale": [
             [
              0,
              "rgb(20,44,66)"
             ],
             [
              1,
              "rgb(90,179,244)"
             ]
            ],
            "type": "histogram2d"
           }
          ],
          "histogram2dcontour": [
           {
            "colorbar": {
             "outlinewidth": 0,
             "tickcolor": "rgb(237,237,237)",
             "ticklen": 6,
             "ticks": "inside"
            },
            "colorscale": [
             [
              0,
              "rgb(20,44,66)"
             ],
             [
              1,
              "rgb(90,179,244)"
             ]
            ],
            "type": "histogram2dcontour"
           }
          ],
          "mesh3d": [
           {
            "colorbar": {
             "outlinewidth": 0,
             "tickcolor": "rgb(237,237,237)",
             "ticklen": 6,
             "ticks": "inside"
            },
            "type": "mesh3d"
           }
          ],
          "parcoords": [
           {
            "line": {
             "colorbar": {
              "outlinewidth": 0,
              "tickcolor": "rgb(237,237,237)",
              "ticklen": 6,
              "ticks": "inside"
             }
            },
            "type": "parcoords"
           }
          ],
          "pie": [
           {
            "automargin": true,
            "type": "pie"
           }
          ],
          "scatter": [
           {
            "marker": {
             "colorbar": {
              "outlinewidth": 0,
              "tickcolor": "rgb(237,237,237)",
              "ticklen": 6,
              "ticks": "inside"
             }
            },
            "type": "scatter"
           }
          ],
          "scatter3d": [
           {
            "line": {
             "colorbar": {
              "outlinewidth": 0,
              "tickcolor": "rgb(237,237,237)",
              "ticklen": 6,
              "ticks": "inside"
             }
            },
            "marker": {
             "colorbar": {
              "outlinewidth": 0,
              "tickcolor": "rgb(237,237,237)",
              "ticklen": 6,
              "ticks": "inside"
             }
            },
            "type": "scatter3d"
           }
          ],
          "scattercarpet": [
           {
            "marker": {
             "colorbar": {
              "outlinewidth": 0,
              "tickcolor": "rgb(237,237,237)",
              "ticklen": 6,
              "ticks": "inside"
             }
            },
            "type": "scattercarpet"
           }
          ],
          "scattergeo": [
           {
            "marker": {
             "colorbar": {
              "outlinewidth": 0,
              "tickcolor": "rgb(237,237,237)",
              "ticklen": 6,
              "ticks": "inside"
             }
            },
            "type": "scattergeo"
           }
          ],
          "scattergl": [
           {
            "marker": {
             "colorbar": {
              "outlinewidth": 0,
              "tickcolor": "rgb(237,237,237)",
              "ticklen": 6,
              "ticks": "inside"
             }
            },
            "type": "scattergl"
           }
          ],
          "scattermapbox": [
           {
            "marker": {
             "colorbar": {
              "outlinewidth": 0,
              "tickcolor": "rgb(237,237,237)",
              "ticklen": 6,
              "ticks": "inside"
             }
            },
            "type": "scattermapbox"
           }
          ],
          "scatterpolar": [
           {
            "marker": {
             "colorbar": {
              "outlinewidth": 0,
              "tickcolor": "rgb(237,237,237)",
              "ticklen": 6,
              "ticks": "inside"
             }
            },
            "type": "scatterpolar"
           }
          ],
          "scatterpolargl": [
           {
            "marker": {
             "colorbar": {
              "outlinewidth": 0,
              "tickcolor": "rgb(237,237,237)",
              "ticklen": 6,
              "ticks": "inside"
             }
            },
            "type": "scatterpolargl"
           }
          ],
          "scatterternary": [
           {
            "marker": {
             "colorbar": {
              "outlinewidth": 0,
              "tickcolor": "rgb(237,237,237)",
              "ticklen": 6,
              "ticks": "inside"
             }
            },
            "type": "scatterternary"
           }
          ],
          "surface": [
           {
            "colorbar": {
             "outlinewidth": 0,
             "tickcolor": "rgb(237,237,237)",
             "ticklen": 6,
             "ticks": "inside"
            },
            "colorscale": [
             [
              0,
              "rgb(20,44,66)"
             ],
             [
              1,
              "rgb(90,179,244)"
             ]
            ],
            "type": "surface"
           }
          ],
          "table": [
           {
            "cells": {
             "fill": {
              "color": "rgb(237,237,237)"
             },
             "line": {
              "color": "white"
             }
            },
            "header": {
             "fill": {
              "color": "rgb(217,217,217)"
             },
             "line": {
              "color": "white"
             }
            },
            "type": "table"
           }
          ]
         },
         "layout": {
          "annotationdefaults": {
           "arrowhead": 0,
           "arrowwidth": 1
          },
          "autotypenumbers": "strict",
          "coloraxis": {
           "colorbar": {
            "outlinewidth": 0,
            "tickcolor": "rgb(237,237,237)",
            "ticklen": 6,
            "ticks": "inside"
           }
          },
          "colorscale": {
           "sequential": [
            [
             0,
             "rgb(20,44,66)"
            ],
            [
             1,
             "rgb(90,179,244)"
            ]
           ],
           "sequentialminus": [
            [
             0,
             "rgb(20,44,66)"
            ],
            [
             1,
             "rgb(90,179,244)"
            ]
           ]
          },
          "colorway": [
           "#F8766D",
           "#A3A500",
           "#00BF7D",
           "#00B0F6",
           "#E76BF3"
          ],
          "font": {
           "color": "rgb(51,51,51)"
          },
          "geo": {
           "bgcolor": "white",
           "lakecolor": "white",
           "landcolor": "rgb(237,237,237)",
           "showlakes": true,
           "showland": true,
           "subunitcolor": "white"
          },
          "hoverlabel": {
           "align": "left"
          },
          "hovermode": "closest",
          "paper_bgcolor": "white",
          "plot_bgcolor": "rgb(237,237,237)",
          "polar": {
           "angularaxis": {
            "gridcolor": "white",
            "linecolor": "white",
            "showgrid": true,
            "tickcolor": "rgb(51,51,51)",
            "ticks": "outside"
           },
           "bgcolor": "rgb(237,237,237)",
           "radialaxis": {
            "gridcolor": "white",
            "linecolor": "white",
            "showgrid": true,
            "tickcolor": "rgb(51,51,51)",
            "ticks": "outside"
           }
          },
          "scene": {
           "xaxis": {
            "backgroundcolor": "rgb(237,237,237)",
            "gridcolor": "white",
            "gridwidth": 2,
            "linecolor": "white",
            "showbackground": true,
            "showgrid": true,
            "tickcolor": "rgb(51,51,51)",
            "ticks": "outside",
            "zerolinecolor": "white"
           },
           "yaxis": {
            "backgroundcolor": "rgb(237,237,237)",
            "gridcolor": "white",
            "gridwidth": 2,
            "linecolor": "white",
            "showbackground": true,
            "showgrid": true,
            "tickcolor": "rgb(51,51,51)",
            "ticks": "outside",
            "zerolinecolor": "white"
           },
           "zaxis": {
            "backgroundcolor": "rgb(237,237,237)",
            "gridcolor": "white",
            "gridwidth": 2,
            "linecolor": "white",
            "showbackground": true,
            "showgrid": true,
            "tickcolor": "rgb(51,51,51)",
            "ticks": "outside",
            "zerolinecolor": "white"
           }
          },
          "shapedefaults": {
           "fillcolor": "black",
           "line": {
            "width": 0
           },
           "opacity": 0.3
          },
          "ternary": {
           "aaxis": {
            "gridcolor": "white",
            "linecolor": "white",
            "showgrid": true,
            "tickcolor": "rgb(51,51,51)",
            "ticks": "outside"
           },
           "baxis": {
            "gridcolor": "white",
            "linecolor": "white",
            "showgrid": true,
            "tickcolor": "rgb(51,51,51)",
            "ticks": "outside"
           },
           "bgcolor": "rgb(237,237,237)",
           "caxis": {
            "gridcolor": "white",
            "linecolor": "white",
            "showgrid": true,
            "tickcolor": "rgb(51,51,51)",
            "ticks": "outside"
           }
          },
          "xaxis": {
           "automargin": true,
           "gridcolor": "white",
           "linecolor": "white",
           "showgrid": true,
           "tickcolor": "rgb(51,51,51)",
           "ticks": "outside",
           "title": {
            "standoff": 15
           },
           "zerolinecolor": "white"
          },
          "yaxis": {
           "automargin": true,
           "gridcolor": "white",
           "linecolor": "white",
           "showgrid": true,
           "tickcolor": "rgb(51,51,51)",
           "ticks": "outside",
           "title": {
            "standoff": 15
           },
           "zerolinecolor": "white"
          }
         }
        },
        "title": {
         "text": "Outpatient Provider in Top 10 States"
        },
        "xaxis": {
         "anchor": "y",
         "domain": [
          0,
          1
         ],
         "tickfont": {
          "size": 14
         },
         "title": {
          "font": {
           "size": 16
          },
          "text": "States"
         },
         "type": "category"
        },
        "yaxis": {
         "anchor": "x",
         "domain": [
          0,
          1
         ],
         "tickfont": {
          "size": 14
         },
         "title": {
          "font": {
           "size": 16
          },
          "text": "Count"
         }
        }
       }
      },
      "text/html": [
       "<div>                            <div id=\"ba48061a-c89a-47f7-998a-39f846f72ca6\" class=\"plotly-graph-div\" style=\"height:525px; width:100%;\"></div>            <script type=\"text/javascript\">                require([\"plotly\"], function(Plotly) {                    window.PLOTLYENV=window.PLOTLYENV || {};                                    if (document.getElementById(\"ba48061a-c89a-47f7-998a-39f846f72ca6\")) {                    Plotly.newPlot(                        \"ba48061a-c89a-47f7-998a-39f846f72ca6\",                        [{\"alignmentgroup\":\"True\",\"bingroup\":\"x\",\"histfunc\":\"sum\",\"hovertemplate\":\"x=%{x}<br>sum of y=%{y}<extra></extra>\",\"legendgroup\":\"\",\"marker\":{\"color\":\"#636efa\",\"pattern\":{\"shape\":\"\"}},\"name\":\"\",\"offsetgroup\":\"\",\"orientation\":\"v\",\"showlegend\":false,\"x\":[\"TX\",\"CA\",\"FL\",\"PA\",\"NY\",\"IL\",\"OH\",\"MI\",\"NC\",\"GA\"],\"xaxis\":\"x\",\"y\":[3239,2983,2279,2264,2133,2087,2064,1424,1409,1393],\"yaxis\":\"y\",\"type\":\"histogram\"}],                        {\"template\":{\"data\":{\"barpolar\":[{\"marker\":{\"line\":{\"color\":\"rgb(237,237,237)\",\"width\":0.5},\"pattern\":{\"fillmode\":\"overlay\",\"size\":10,\"solidity\":0.2}},\"type\":\"barpolar\"}],\"bar\":[{\"error_x\":{\"color\":\"rgb(51,51,51)\"},\"error_y\":{\"color\":\"rgb(51,51,51)\"},\"marker\":{\"line\":{\"color\":\"rgb(237,237,237)\",\"width\":0.5},\"pattern\":{\"fillmode\":\"overlay\",\"size\":10,\"solidity\":0.2}},\"type\":\"bar\"}],\"carpet\":[{\"aaxis\":{\"endlinecolor\":\"rgb(51,51,51)\",\"gridcolor\":\"white\",\"linecolor\":\"white\",\"minorgridcolor\":\"white\",\"startlinecolor\":\"rgb(51,51,51)\"},\"baxis\":{\"endlinecolor\":\"rgb(51,51,51)\",\"gridcolor\":\"white\",\"linecolor\":\"white\",\"minorgridcolor\":\"white\",\"startlinecolor\":\"rgb(51,51,51)\"},\"type\":\"carpet\"}],\"choropleth\":[{\"colorbar\":{\"outlinewidth\":0,\"tickcolor\":\"rgb(237,237,237)\",\"ticklen\":6,\"ticks\":\"inside\"},\"type\":\"choropleth\"}],\"contourcarpet\":[{\"colorbar\":{\"outlinewidth\":0,\"tickcolor\":\"rgb(237,237,237)\",\"ticklen\":6,\"ticks\":\"inside\"},\"type\":\"contourcarpet\"}],\"contour\":[{\"colorbar\":{\"outlinewidth\":0,\"tickcolor\":\"rgb(237,237,237)\",\"ticklen\":6,\"ticks\":\"inside\"},\"colorscale\":[[0,\"rgb(20,44,66)\"],[1,\"rgb(90,179,244)\"]],\"type\":\"contour\"}],\"heatmapgl\":[{\"colorbar\":{\"outlinewidth\":0,\"tickcolor\":\"rgb(237,237,237)\",\"ticklen\":6,\"ticks\":\"inside\"},\"colorscale\":[[0,\"rgb(20,44,66)\"],[1,\"rgb(90,179,244)\"]],\"type\":\"heatmapgl\"}],\"heatmap\":[{\"colorbar\":{\"outlinewidth\":0,\"tickcolor\":\"rgb(237,237,237)\",\"ticklen\":6,\"ticks\":\"inside\"},\"colorscale\":[[0,\"rgb(20,44,66)\"],[1,\"rgb(90,179,244)\"]],\"type\":\"heatmap\"}],\"histogram2dcontour\":[{\"colorbar\":{\"outlinewidth\":0,\"tickcolor\":\"rgb(237,237,237)\",\"ticklen\":6,\"ticks\":\"inside\"},\"colorscale\":[[0,\"rgb(20,44,66)\"],[1,\"rgb(90,179,244)\"]],\"type\":\"histogram2dcontour\"}],\"histogram2d\":[{\"colorbar\":{\"outlinewidth\":0,\"tickcolor\":\"rgb(237,237,237)\",\"ticklen\":6,\"ticks\":\"inside\"},\"colorscale\":[[0,\"rgb(20,44,66)\"],[1,\"rgb(90,179,244)\"]],\"type\":\"histogram2d\"}],\"histogram\":[{\"marker\":{\"pattern\":{\"fillmode\":\"overlay\",\"size\":10,\"solidity\":0.2}},\"type\":\"histogram\"}],\"mesh3d\":[{\"colorbar\":{\"outlinewidth\":0,\"tickcolor\":\"rgb(237,237,237)\",\"ticklen\":6,\"ticks\":\"inside\"},\"type\":\"mesh3d\"}],\"parcoords\":[{\"line\":{\"colorbar\":{\"outlinewidth\":0,\"tickcolor\":\"rgb(237,237,237)\",\"ticklen\":6,\"ticks\":\"inside\"}},\"type\":\"parcoords\"}],\"pie\":[{\"automargin\":true,\"type\":\"pie\"}],\"scatter3d\":[{\"line\":{\"colorbar\":{\"outlinewidth\":0,\"tickcolor\":\"rgb(237,237,237)\",\"ticklen\":6,\"ticks\":\"inside\"}},\"marker\":{\"colorbar\":{\"outlinewidth\":0,\"tickcolor\":\"rgb(237,237,237)\",\"ticklen\":6,\"ticks\":\"inside\"}},\"type\":\"scatter3d\"}],\"scattercarpet\":[{\"marker\":{\"colorbar\":{\"outlinewidth\":0,\"tickcolor\":\"rgb(237,237,237)\",\"ticklen\":6,\"ticks\":\"inside\"}},\"type\":\"scattercarpet\"}],\"scattergeo\":[{\"marker\":{\"colorbar\":{\"outlinewidth\":0,\"tickcolor\":\"rgb(237,237,237)\",\"ticklen\":6,\"ticks\":\"inside\"}},\"type\":\"scattergeo\"}],\"scattergl\":[{\"marker\":{\"colorbar\":{\"outlinewidth\":0,\"tickcolor\":\"rgb(237,237,237)\",\"ticklen\":6,\"ticks\":\"inside\"}},\"type\":\"scattergl\"}],\"scattermapbox\":[{\"marker\":{\"colorbar\":{\"outlinewidth\":0,\"tickcolor\":\"rgb(237,237,237)\",\"ticklen\":6,\"ticks\":\"inside\"}},\"type\":\"scattermapbox\"}],\"scatterpolargl\":[{\"marker\":{\"colorbar\":{\"outlinewidth\":0,\"tickcolor\":\"rgb(237,237,237)\",\"ticklen\":6,\"ticks\":\"inside\"}},\"type\":\"scatterpolargl\"}],\"scatterpolar\":[{\"marker\":{\"colorbar\":{\"outlinewidth\":0,\"tickcolor\":\"rgb(237,237,237)\",\"ticklen\":6,\"ticks\":\"inside\"}},\"type\":\"scatterpolar\"}],\"scatter\":[{\"marker\":{\"colorbar\":{\"outlinewidth\":0,\"tickcolor\":\"rgb(237,237,237)\",\"ticklen\":6,\"ticks\":\"inside\"}},\"type\":\"scatter\"}],\"scatterternary\":[{\"marker\":{\"colorbar\":{\"outlinewidth\":0,\"tickcolor\":\"rgb(237,237,237)\",\"ticklen\":6,\"ticks\":\"inside\"}},\"type\":\"scatterternary\"}],\"surface\":[{\"colorbar\":{\"outlinewidth\":0,\"tickcolor\":\"rgb(237,237,237)\",\"ticklen\":6,\"ticks\":\"inside\"},\"colorscale\":[[0,\"rgb(20,44,66)\"],[1,\"rgb(90,179,244)\"]],\"type\":\"surface\"}],\"table\":[{\"cells\":{\"fill\":{\"color\":\"rgb(237,237,237)\"},\"line\":{\"color\":\"white\"}},\"header\":{\"fill\":{\"color\":\"rgb(217,217,217)\"},\"line\":{\"color\":\"white\"}},\"type\":\"table\"}]},\"layout\":{\"annotationdefaults\":{\"arrowhead\":0,\"arrowwidth\":1},\"autotypenumbers\":\"strict\",\"coloraxis\":{\"colorbar\":{\"outlinewidth\":0,\"tickcolor\":\"rgb(237,237,237)\",\"ticklen\":6,\"ticks\":\"inside\"}},\"colorscale\":{\"sequential\":[[0,\"rgb(20,44,66)\"],[1,\"rgb(90,179,244)\"]],\"sequentialminus\":[[0,\"rgb(20,44,66)\"],[1,\"rgb(90,179,244)\"]]},\"colorway\":[\"#F8766D\",\"#A3A500\",\"#00BF7D\",\"#00B0F6\",\"#E76BF3\"],\"font\":{\"color\":\"rgb(51,51,51)\"},\"geo\":{\"bgcolor\":\"white\",\"lakecolor\":\"white\",\"landcolor\":\"rgb(237,237,237)\",\"showlakes\":true,\"showland\":true,\"subunitcolor\":\"white\"},\"hoverlabel\":{\"align\":\"left\"},\"hovermode\":\"closest\",\"paper_bgcolor\":\"white\",\"plot_bgcolor\":\"rgb(237,237,237)\",\"polar\":{\"angularaxis\":{\"gridcolor\":\"white\",\"linecolor\":\"white\",\"showgrid\":true,\"tickcolor\":\"rgb(51,51,51)\",\"ticks\":\"outside\"},\"bgcolor\":\"rgb(237,237,237)\",\"radialaxis\":{\"gridcolor\":\"white\",\"linecolor\":\"white\",\"showgrid\":true,\"tickcolor\":\"rgb(51,51,51)\",\"ticks\":\"outside\"}},\"scene\":{\"xaxis\":{\"backgroundcolor\":\"rgb(237,237,237)\",\"gridcolor\":\"white\",\"gridwidth\":2,\"linecolor\":\"white\",\"showbackground\":true,\"showgrid\":true,\"tickcolor\":\"rgb(51,51,51)\",\"ticks\":\"outside\",\"zerolinecolor\":\"white\"},\"yaxis\":{\"backgroundcolor\":\"rgb(237,237,237)\",\"gridcolor\":\"white\",\"gridwidth\":2,\"linecolor\":\"white\",\"showbackground\":true,\"showgrid\":true,\"tickcolor\":\"rgb(51,51,51)\",\"ticks\":\"outside\",\"zerolinecolor\":\"white\"},\"zaxis\":{\"backgroundcolor\":\"rgb(237,237,237)\",\"gridcolor\":\"white\",\"gridwidth\":2,\"linecolor\":\"white\",\"showbackground\":true,\"showgrid\":true,\"tickcolor\":\"rgb(51,51,51)\",\"ticks\":\"outside\",\"zerolinecolor\":\"white\"}},\"shapedefaults\":{\"fillcolor\":\"black\",\"line\":{\"width\":0},\"opacity\":0.3},\"ternary\":{\"aaxis\":{\"gridcolor\":\"white\",\"linecolor\":\"white\",\"showgrid\":true,\"tickcolor\":\"rgb(51,51,51)\",\"ticks\":\"outside\"},\"baxis\":{\"gridcolor\":\"white\",\"linecolor\":\"white\",\"showgrid\":true,\"tickcolor\":\"rgb(51,51,51)\",\"ticks\":\"outside\"},\"bgcolor\":\"rgb(237,237,237)\",\"caxis\":{\"gridcolor\":\"white\",\"linecolor\":\"white\",\"showgrid\":true,\"tickcolor\":\"rgb(51,51,51)\",\"ticks\":\"outside\"}},\"xaxis\":{\"automargin\":true,\"gridcolor\":\"white\",\"linecolor\":\"white\",\"showgrid\":true,\"tickcolor\":\"rgb(51,51,51)\",\"ticks\":\"outside\",\"title\":{\"standoff\":15},\"zerolinecolor\":\"white\"},\"yaxis\":{\"automargin\":true,\"gridcolor\":\"white\",\"linecolor\":\"white\",\"showgrid\":true,\"tickcolor\":\"rgb(51,51,51)\",\"ticks\":\"outside\",\"title\":{\"standoff\":15},\"zerolinecolor\":\"white\"}}},\"xaxis\":{\"anchor\":\"y\",\"domain\":[0.0,1.0],\"title\":{\"text\":\"States\",\"font\":{\"size\":16}},\"tickfont\":{\"size\":14},\"type\":\"category\"},\"yaxis\":{\"anchor\":\"x\",\"domain\":[0.0,1.0],\"title\":{\"text\":\"Count\",\"font\":{\"size\":16}},\"tickfont\":{\"size\":14}},\"legend\":{\"tracegroupgap\":0,\"x\":0,\"y\":1.0,\"bgcolor\":\"rgba(255, 255, 255, 0)\",\"bordercolor\":\"rgba(255, 255, 255, 0)\"},\"margin\":{\"t\":60},\"barmode\":\"group\",\"title\":{\"text\":\"Outpatient Provider in Top 10 States\"},\"bargap\":0.15,\"bargroupgap\":0.1},                        {\"responsive\": true}                    ).then(function(){\n",
       "                            \n",
       "var gd = document.getElementById('ba48061a-c89a-47f7-998a-39f846f72ca6');\n",
       "var x = new MutationObserver(function (mutations, observer) {{\n",
       "        var display = window.getComputedStyle(gd).display;\n",
       "        if (!display || display === 'none') {{\n",
       "            console.log([gd, 'removed!']);\n",
       "            Plotly.purge(gd);\n",
       "            observer.disconnect();\n",
       "        }}\n",
       "}});\n",
       "\n",
       "// Listen for the removal of the full notebook cells\n",
       "var notebookContainer = gd.closest('#notebook-container');\n",
       "if (notebookContainer) {{\n",
       "    x.observe(notebookContainer, {childList: true});\n",
       "}}\n",
       "\n",
       "// Listen for the clearing of the current output cell\n",
       "var outputEl = gd.closest('.output');\n",
       "if (outputEl) {{\n",
       "    x.observe(outputEl, {childList: true});\n",
       "}}\n",
       "\n",
       "                        })                };                });            </script>        </div>"
      ]
     },
     "metadata": {},
     "output_type": "display_data"
    }
   ],
   "source": [
    "# Outpatient by State\n",
    "state_count  = outpatient_df['Provider State'].value_counts()\n",
    "state_count = state_count[:10,]\n",
    "fig = px.histogram(x = state_count.index, y = state_count.values)\n",
    "fig.update_layout(\n",
    "    title='Outpatient Provider in Top 10 States',\n",
    "    template='ggplot2',\n",
    "    xaxis=dict(\n",
    "        title='States',\n",
    "        titlefont_size=16,\n",
    "        tickfont_size=14,\n",
    "    ),\n",
    "    yaxis=dict(\n",
    "        title='Count',\n",
    "        titlefont_size=16,\n",
    "        tickfont_size=14,\n",
    "    ),\n",
    "    legend=dict(\n",
    "        x=0,\n",
    "        y=1.0,\n",
    "        bgcolor='rgba(255, 255, 255, 0)',\n",
    "        bordercolor='rgba(255, 255, 255, 0)'\n",
    "    ),\n",
    "    barmode='group',\n",
    "    bargap=0.15,\n",
    "    bargroupgap=0.1 \n",
    ")\n",
    "fig.layout.xaxis.type = 'category'\n",
    "fig.show()\n",
    "fig.write_image(\"outpatient_analysis_graphs\\outpatient_provider_top_10_states.png\", engine='orca')\n"
   ]
  },
  {
   "cell_type": "code",
   "execution_count": 66,
   "metadata": {},
   "outputs": [
    {
     "data": {
      "application/vnd.plotly.v1+json": {
       "config": {
        "plotlyServerURL": "https://plot.ly"
       },
       "data": [
        {
         "alignmentgroup": "True",
         "bingroup": "x",
         "histfunc": "sum",
         "hovertemplate": "x=%{x}<br>sum of y=%{y}<extra></extra>",
         "legendgroup": "",
         "marker": {
          "color": "#636efa",
          "pattern": {
           "shape": ""
          }
         },
         "name": "",
         "offsetgroup": "",
         "orientation": "v",
         "showlegend": false,
         "type": "histogram",
         "x": [
          76104,
          40202,
          72205,
          77030,
          79902,
          75701,
          60612,
          10021,
          55805,
          65201
         ],
         "xaxis": "x",
         "y": [
          78,
          70,
          67,
          65,
          61,
          57,
          57,
          52,
          50,
          49
         ],
         "yaxis": "y"
        }
       ],
       "layout": {
        "bargap": 0.15,
        "bargroupgap": 0.1,
        "barmode": "group",
        "legend": {
         "tracegroupgap": 0,
         "x": 0,
         "y": 1
        },
        "margin": {
         "t": 60
        },
        "template": {
         "data": {
          "bar": [
           {
            "error_x": {
             "color": "rgb(51,51,51)"
            },
            "error_y": {
             "color": "rgb(51,51,51)"
            },
            "marker": {
             "line": {
              "color": "rgb(237,237,237)",
              "width": 0.5
             },
             "pattern": {
              "fillmode": "overlay",
              "size": 10,
              "solidity": 0.2
             }
            },
            "type": "bar"
           }
          ],
          "barpolar": [
           {
            "marker": {
             "line": {
              "color": "rgb(237,237,237)",
              "width": 0.5
             },
             "pattern": {
              "fillmode": "overlay",
              "size": 10,
              "solidity": 0.2
             }
            },
            "type": "barpolar"
           }
          ],
          "carpet": [
           {
            "aaxis": {
             "endlinecolor": "rgb(51,51,51)",
             "gridcolor": "white",
             "linecolor": "white",
             "minorgridcolor": "white",
             "startlinecolor": "rgb(51,51,51)"
            },
            "baxis": {
             "endlinecolor": "rgb(51,51,51)",
             "gridcolor": "white",
             "linecolor": "white",
             "minorgridcolor": "white",
             "startlinecolor": "rgb(51,51,51)"
            },
            "type": "carpet"
           }
          ],
          "choropleth": [
           {
            "colorbar": {
             "outlinewidth": 0,
             "tickcolor": "rgb(237,237,237)",
             "ticklen": 6,
             "ticks": "inside"
            },
            "type": "choropleth"
           }
          ],
          "contour": [
           {
            "colorbar": {
             "outlinewidth": 0,
             "tickcolor": "rgb(237,237,237)",
             "ticklen": 6,
             "ticks": "inside"
            },
            "colorscale": [
             [
              0,
              "rgb(20,44,66)"
             ],
             [
              1,
              "rgb(90,179,244)"
             ]
            ],
            "type": "contour"
           }
          ],
          "contourcarpet": [
           {
            "colorbar": {
             "outlinewidth": 0,
             "tickcolor": "rgb(237,237,237)",
             "ticklen": 6,
             "ticks": "inside"
            },
            "type": "contourcarpet"
           }
          ],
          "heatmap": [
           {
            "colorbar": {
             "outlinewidth": 0,
             "tickcolor": "rgb(237,237,237)",
             "ticklen": 6,
             "ticks": "inside"
            },
            "colorscale": [
             [
              0,
              "rgb(20,44,66)"
             ],
             [
              1,
              "rgb(90,179,244)"
             ]
            ],
            "type": "heatmap"
           }
          ],
          "heatmapgl": [
           {
            "colorbar": {
             "outlinewidth": 0,
             "tickcolor": "rgb(237,237,237)",
             "ticklen": 6,
             "ticks": "inside"
            },
            "colorscale": [
             [
              0,
              "rgb(20,44,66)"
             ],
             [
              1,
              "rgb(90,179,244)"
             ]
            ],
            "type": "heatmapgl"
           }
          ],
          "histogram": [
           {
            "marker": {
             "pattern": {
              "fillmode": "overlay",
              "size": 10,
              "solidity": 0.2
             }
            },
            "type": "histogram"
           }
          ],
          "histogram2d": [
           {
            "colorbar": {
             "outlinewidth": 0,
             "tickcolor": "rgb(237,237,237)",
             "ticklen": 6,
             "ticks": "inside"
            },
            "colorscale": [
             [
              0,
              "rgb(20,44,66)"
             ],
             [
              1,
              "rgb(90,179,244)"
             ]
            ],
            "type": "histogram2d"
           }
          ],
          "histogram2dcontour": [
           {
            "colorbar": {
             "outlinewidth": 0,
             "tickcolor": "rgb(237,237,237)",
             "ticklen": 6,
             "ticks": "inside"
            },
            "colorscale": [
             [
              0,
              "rgb(20,44,66)"
             ],
             [
              1,
              "rgb(90,179,244)"
             ]
            ],
            "type": "histogram2dcontour"
           }
          ],
          "mesh3d": [
           {
            "colorbar": {
             "outlinewidth": 0,
             "tickcolor": "rgb(237,237,237)",
             "ticklen": 6,
             "ticks": "inside"
            },
            "type": "mesh3d"
           }
          ],
          "parcoords": [
           {
            "line": {
             "colorbar": {
              "outlinewidth": 0,
              "tickcolor": "rgb(237,237,237)",
              "ticklen": 6,
              "ticks": "inside"
             }
            },
            "type": "parcoords"
           }
          ],
          "pie": [
           {
            "automargin": true,
            "type": "pie"
           }
          ],
          "scatter": [
           {
            "marker": {
             "colorbar": {
              "outlinewidth": 0,
              "tickcolor": "rgb(237,237,237)",
              "ticklen": 6,
              "ticks": "inside"
             }
            },
            "type": "scatter"
           }
          ],
          "scatter3d": [
           {
            "line": {
             "colorbar": {
              "outlinewidth": 0,
              "tickcolor": "rgb(237,237,237)",
              "ticklen": 6,
              "ticks": "inside"
             }
            },
            "marker": {
             "colorbar": {
              "outlinewidth": 0,
              "tickcolor": "rgb(237,237,237)",
              "ticklen": 6,
              "ticks": "inside"
             }
            },
            "type": "scatter3d"
           }
          ],
          "scattercarpet": [
           {
            "marker": {
             "colorbar": {
              "outlinewidth": 0,
              "tickcolor": "rgb(237,237,237)",
              "ticklen": 6,
              "ticks": "inside"
             }
            },
            "type": "scattercarpet"
           }
          ],
          "scattergeo": [
           {
            "marker": {
             "colorbar": {
              "outlinewidth": 0,
              "tickcolor": "rgb(237,237,237)",
              "ticklen": 6,
              "ticks": "inside"
             }
            },
            "type": "scattergeo"
           }
          ],
          "scattergl": [
           {
            "marker": {
             "colorbar": {
              "outlinewidth": 0,
              "tickcolor": "rgb(237,237,237)",
              "ticklen": 6,
              "ticks": "inside"
             }
            },
            "type": "scattergl"
           }
          ],
          "scattermapbox": [
           {
            "marker": {
             "colorbar": {
              "outlinewidth": 0,
              "tickcolor": "rgb(237,237,237)",
              "ticklen": 6,
              "ticks": "inside"
             }
            },
            "type": "scattermapbox"
           }
          ],
          "scatterpolar": [
           {
            "marker": {
             "colorbar": {
              "outlinewidth": 0,
              "tickcolor": "rgb(237,237,237)",
              "ticklen": 6,
              "ticks": "inside"
             }
            },
            "type": "scatterpolar"
           }
          ],
          "scatterpolargl": [
           {
            "marker": {
             "colorbar": {
              "outlinewidth": 0,
              "tickcolor": "rgb(237,237,237)",
              "ticklen": 6,
              "ticks": "inside"
             }
            },
            "type": "scatterpolargl"
           }
          ],
          "scatterternary": [
           {
            "marker": {
             "colorbar": {
              "outlinewidth": 0,
              "tickcolor": "rgb(237,237,237)",
              "ticklen": 6,
              "ticks": "inside"
             }
            },
            "type": "scatterternary"
           }
          ],
          "surface": [
           {
            "colorbar": {
             "outlinewidth": 0,
             "tickcolor": "rgb(237,237,237)",
             "ticklen": 6,
             "ticks": "inside"
            },
            "colorscale": [
             [
              0,
              "rgb(20,44,66)"
             ],
             [
              1,
              "rgb(90,179,244)"
             ]
            ],
            "type": "surface"
           }
          ],
          "table": [
           {
            "cells": {
             "fill": {
              "color": "rgb(237,237,237)"
             },
             "line": {
              "color": "white"
             }
            },
            "header": {
             "fill": {
              "color": "rgb(217,217,217)"
             },
             "line": {
              "color": "white"
             }
            },
            "type": "table"
           }
          ]
         },
         "layout": {
          "annotationdefaults": {
           "arrowhead": 0,
           "arrowwidth": 1
          },
          "autotypenumbers": "strict",
          "coloraxis": {
           "colorbar": {
            "outlinewidth": 0,
            "tickcolor": "rgb(237,237,237)",
            "ticklen": 6,
            "ticks": "inside"
           }
          },
          "colorscale": {
           "sequential": [
            [
             0,
             "rgb(20,44,66)"
            ],
            [
             1,
             "rgb(90,179,244)"
            ]
           ],
           "sequentialminus": [
            [
             0,
             "rgb(20,44,66)"
            ],
            [
             1,
             "rgb(90,179,244)"
            ]
           ]
          },
          "colorway": [
           "#F8766D",
           "#A3A500",
           "#00BF7D",
           "#00B0F6",
           "#E76BF3"
          ],
          "font": {
           "color": "rgb(51,51,51)"
          },
          "geo": {
           "bgcolor": "white",
           "lakecolor": "white",
           "landcolor": "rgb(237,237,237)",
           "showlakes": true,
           "showland": true,
           "subunitcolor": "white"
          },
          "hoverlabel": {
           "align": "left"
          },
          "hovermode": "closest",
          "paper_bgcolor": "white",
          "plot_bgcolor": "rgb(237,237,237)",
          "polar": {
           "angularaxis": {
            "gridcolor": "white",
            "linecolor": "white",
            "showgrid": true,
            "tickcolor": "rgb(51,51,51)",
            "ticks": "outside"
           },
           "bgcolor": "rgb(237,237,237)",
           "radialaxis": {
            "gridcolor": "white",
            "linecolor": "white",
            "showgrid": true,
            "tickcolor": "rgb(51,51,51)",
            "ticks": "outside"
           }
          },
          "scene": {
           "xaxis": {
            "backgroundcolor": "rgb(237,237,237)",
            "gridcolor": "white",
            "gridwidth": 2,
            "linecolor": "white",
            "showbackground": true,
            "showgrid": true,
            "tickcolor": "rgb(51,51,51)",
            "ticks": "outside",
            "zerolinecolor": "white"
           },
           "yaxis": {
            "backgroundcolor": "rgb(237,237,237)",
            "gridcolor": "white",
            "gridwidth": 2,
            "linecolor": "white",
            "showbackground": true,
            "showgrid": true,
            "tickcolor": "rgb(51,51,51)",
            "ticks": "outside",
            "zerolinecolor": "white"
           },
           "zaxis": {
            "backgroundcolor": "rgb(237,237,237)",
            "gridcolor": "white",
            "gridwidth": 2,
            "linecolor": "white",
            "showbackground": true,
            "showgrid": true,
            "tickcolor": "rgb(51,51,51)",
            "ticks": "outside",
            "zerolinecolor": "white"
           }
          },
          "shapedefaults": {
           "fillcolor": "black",
           "line": {
            "width": 0
           },
           "opacity": 0.3
          },
          "ternary": {
           "aaxis": {
            "gridcolor": "white",
            "linecolor": "white",
            "showgrid": true,
            "tickcolor": "rgb(51,51,51)",
            "ticks": "outside"
           },
           "baxis": {
            "gridcolor": "white",
            "linecolor": "white",
            "showgrid": true,
            "tickcolor": "rgb(51,51,51)",
            "ticks": "outside"
           },
           "bgcolor": "rgb(237,237,237)",
           "caxis": {
            "gridcolor": "white",
            "linecolor": "white",
            "showgrid": true,
            "tickcolor": "rgb(51,51,51)",
            "ticks": "outside"
           }
          },
          "xaxis": {
           "automargin": true,
           "gridcolor": "white",
           "linecolor": "white",
           "showgrid": true,
           "tickcolor": "rgb(51,51,51)",
           "ticks": "outside",
           "title": {
            "standoff": 15
           },
           "zerolinecolor": "white"
          },
          "yaxis": {
           "automargin": true,
           "gridcolor": "white",
           "linecolor": "white",
           "showgrid": true,
           "tickcolor": "rgb(51,51,51)",
           "ticks": "outside",
           "title": {
            "standoff": 15
           },
           "zerolinecolor": "white"
          }
         }
        },
        "title": {
         "text": "Outpatient Provider in Top 10 Zip Codes"
        },
        "xaxis": {
         "anchor": "y",
         "domain": [
          0,
          1
         ],
         "tickfont": {
          "size": 14
         },
         "title": {
          "font": {
           "size": 16
          },
          "text": "Zip Codes"
         },
         "type": "category"
        },
        "yaxis": {
         "anchor": "x",
         "domain": [
          0,
          1
         ],
         "tickfont": {
          "size": 14
         },
         "title": {
          "font": {
           "size": 16
          },
          "text": "Count"
         }
        }
       }
      },
      "text/html": [
       "<div>                            <div id=\"8707e6a0-e9cb-48c1-a0c3-a1338e623c93\" class=\"plotly-graph-div\" style=\"height:525px; width:100%;\"></div>            <script type=\"text/javascript\">                require([\"plotly\"], function(Plotly) {                    window.PLOTLYENV=window.PLOTLYENV || {};                                    if (document.getElementById(\"8707e6a0-e9cb-48c1-a0c3-a1338e623c93\")) {                    Plotly.newPlot(                        \"8707e6a0-e9cb-48c1-a0c3-a1338e623c93\",                        [{\"alignmentgroup\":\"True\",\"bingroup\":\"x\",\"histfunc\":\"sum\",\"hovertemplate\":\"x=%{x}<br>sum of y=%{y}<extra></extra>\",\"legendgroup\":\"\",\"marker\":{\"color\":\"#636efa\",\"pattern\":{\"shape\":\"\"}},\"name\":\"\",\"offsetgroup\":\"\",\"orientation\":\"v\",\"showlegend\":false,\"x\":[76104,40202,72205,77030,79902,75701,60612,10021,55805,65201],\"xaxis\":\"x\",\"y\":[78,70,67,65,61,57,57,52,50,49],\"yaxis\":\"y\",\"type\":\"histogram\"}],                        {\"template\":{\"data\":{\"barpolar\":[{\"marker\":{\"line\":{\"color\":\"rgb(237,237,237)\",\"width\":0.5},\"pattern\":{\"fillmode\":\"overlay\",\"size\":10,\"solidity\":0.2}},\"type\":\"barpolar\"}],\"bar\":[{\"error_x\":{\"color\":\"rgb(51,51,51)\"},\"error_y\":{\"color\":\"rgb(51,51,51)\"},\"marker\":{\"line\":{\"color\":\"rgb(237,237,237)\",\"width\":0.5},\"pattern\":{\"fillmode\":\"overlay\",\"size\":10,\"solidity\":0.2}},\"type\":\"bar\"}],\"carpet\":[{\"aaxis\":{\"endlinecolor\":\"rgb(51,51,51)\",\"gridcolor\":\"white\",\"linecolor\":\"white\",\"minorgridcolor\":\"white\",\"startlinecolor\":\"rgb(51,51,51)\"},\"baxis\":{\"endlinecolor\":\"rgb(51,51,51)\",\"gridcolor\":\"white\",\"linecolor\":\"white\",\"minorgridcolor\":\"white\",\"startlinecolor\":\"rgb(51,51,51)\"},\"type\":\"carpet\"}],\"choropleth\":[{\"colorbar\":{\"outlinewidth\":0,\"tickcolor\":\"rgb(237,237,237)\",\"ticklen\":6,\"ticks\":\"inside\"},\"type\":\"choropleth\"}],\"contourcarpet\":[{\"colorbar\":{\"outlinewidth\":0,\"tickcolor\":\"rgb(237,237,237)\",\"ticklen\":6,\"ticks\":\"inside\"},\"type\":\"contourcarpet\"}],\"contour\":[{\"colorbar\":{\"outlinewidth\":0,\"tickcolor\":\"rgb(237,237,237)\",\"ticklen\":6,\"ticks\":\"inside\"},\"colorscale\":[[0,\"rgb(20,44,66)\"],[1,\"rgb(90,179,244)\"]],\"type\":\"contour\"}],\"heatmapgl\":[{\"colorbar\":{\"outlinewidth\":0,\"tickcolor\":\"rgb(237,237,237)\",\"ticklen\":6,\"ticks\":\"inside\"},\"colorscale\":[[0,\"rgb(20,44,66)\"],[1,\"rgb(90,179,244)\"]],\"type\":\"heatmapgl\"}],\"heatmap\":[{\"colorbar\":{\"outlinewidth\":0,\"tickcolor\":\"rgb(237,237,237)\",\"ticklen\":6,\"ticks\":\"inside\"},\"colorscale\":[[0,\"rgb(20,44,66)\"],[1,\"rgb(90,179,244)\"]],\"type\":\"heatmap\"}],\"histogram2dcontour\":[{\"colorbar\":{\"outlinewidth\":0,\"tickcolor\":\"rgb(237,237,237)\",\"ticklen\":6,\"ticks\":\"inside\"},\"colorscale\":[[0,\"rgb(20,44,66)\"],[1,\"rgb(90,179,244)\"]],\"type\":\"histogram2dcontour\"}],\"histogram2d\":[{\"colorbar\":{\"outlinewidth\":0,\"tickcolor\":\"rgb(237,237,237)\",\"ticklen\":6,\"ticks\":\"inside\"},\"colorscale\":[[0,\"rgb(20,44,66)\"],[1,\"rgb(90,179,244)\"]],\"type\":\"histogram2d\"}],\"histogram\":[{\"marker\":{\"pattern\":{\"fillmode\":\"overlay\",\"size\":10,\"solidity\":0.2}},\"type\":\"histogram\"}],\"mesh3d\":[{\"colorbar\":{\"outlinewidth\":0,\"tickcolor\":\"rgb(237,237,237)\",\"ticklen\":6,\"ticks\":\"inside\"},\"type\":\"mesh3d\"}],\"parcoords\":[{\"line\":{\"colorbar\":{\"outlinewidth\":0,\"tickcolor\":\"rgb(237,237,237)\",\"ticklen\":6,\"ticks\":\"inside\"}},\"type\":\"parcoords\"}],\"pie\":[{\"automargin\":true,\"type\":\"pie\"}],\"scatter3d\":[{\"line\":{\"colorbar\":{\"outlinewidth\":0,\"tickcolor\":\"rgb(237,237,237)\",\"ticklen\":6,\"ticks\":\"inside\"}},\"marker\":{\"colorbar\":{\"outlinewidth\":0,\"tickcolor\":\"rgb(237,237,237)\",\"ticklen\":6,\"ticks\":\"inside\"}},\"type\":\"scatter3d\"}],\"scattercarpet\":[{\"marker\":{\"colorbar\":{\"outlinewidth\":0,\"tickcolor\":\"rgb(237,237,237)\",\"ticklen\":6,\"ticks\":\"inside\"}},\"type\":\"scattercarpet\"}],\"scattergeo\":[{\"marker\":{\"colorbar\":{\"outlinewidth\":0,\"tickcolor\":\"rgb(237,237,237)\",\"ticklen\":6,\"ticks\":\"inside\"}},\"type\":\"scattergeo\"}],\"scattergl\":[{\"marker\":{\"colorbar\":{\"outlinewidth\":0,\"tickcolor\":\"rgb(237,237,237)\",\"ticklen\":6,\"ticks\":\"inside\"}},\"type\":\"scattergl\"}],\"scattermapbox\":[{\"marker\":{\"colorbar\":{\"outlinewidth\":0,\"tickcolor\":\"rgb(237,237,237)\",\"ticklen\":6,\"ticks\":\"inside\"}},\"type\":\"scattermapbox\"}],\"scatterpolargl\":[{\"marker\":{\"colorbar\":{\"outlinewidth\":0,\"tickcolor\":\"rgb(237,237,237)\",\"ticklen\":6,\"ticks\":\"inside\"}},\"type\":\"scatterpolargl\"}],\"scatterpolar\":[{\"marker\":{\"colorbar\":{\"outlinewidth\":0,\"tickcolor\":\"rgb(237,237,237)\",\"ticklen\":6,\"ticks\":\"inside\"}},\"type\":\"scatterpolar\"}],\"scatter\":[{\"marker\":{\"colorbar\":{\"outlinewidth\":0,\"tickcolor\":\"rgb(237,237,237)\",\"ticklen\":6,\"ticks\":\"inside\"}},\"type\":\"scatter\"}],\"scatterternary\":[{\"marker\":{\"colorbar\":{\"outlinewidth\":0,\"tickcolor\":\"rgb(237,237,237)\",\"ticklen\":6,\"ticks\":\"inside\"}},\"type\":\"scatterternary\"}],\"surface\":[{\"colorbar\":{\"outlinewidth\":0,\"tickcolor\":\"rgb(237,237,237)\",\"ticklen\":6,\"ticks\":\"inside\"},\"colorscale\":[[0,\"rgb(20,44,66)\"],[1,\"rgb(90,179,244)\"]],\"type\":\"surface\"}],\"table\":[{\"cells\":{\"fill\":{\"color\":\"rgb(237,237,237)\"},\"line\":{\"color\":\"white\"}},\"header\":{\"fill\":{\"color\":\"rgb(217,217,217)\"},\"line\":{\"color\":\"white\"}},\"type\":\"table\"}]},\"layout\":{\"annotationdefaults\":{\"arrowhead\":0,\"arrowwidth\":1},\"autotypenumbers\":\"strict\",\"coloraxis\":{\"colorbar\":{\"outlinewidth\":0,\"tickcolor\":\"rgb(237,237,237)\",\"ticklen\":6,\"ticks\":\"inside\"}},\"colorscale\":{\"sequential\":[[0,\"rgb(20,44,66)\"],[1,\"rgb(90,179,244)\"]],\"sequentialminus\":[[0,\"rgb(20,44,66)\"],[1,\"rgb(90,179,244)\"]]},\"colorway\":[\"#F8766D\",\"#A3A500\",\"#00BF7D\",\"#00B0F6\",\"#E76BF3\"],\"font\":{\"color\":\"rgb(51,51,51)\"},\"geo\":{\"bgcolor\":\"white\",\"lakecolor\":\"white\",\"landcolor\":\"rgb(237,237,237)\",\"showlakes\":true,\"showland\":true,\"subunitcolor\":\"white\"},\"hoverlabel\":{\"align\":\"left\"},\"hovermode\":\"closest\",\"paper_bgcolor\":\"white\",\"plot_bgcolor\":\"rgb(237,237,237)\",\"polar\":{\"angularaxis\":{\"gridcolor\":\"white\",\"linecolor\":\"white\",\"showgrid\":true,\"tickcolor\":\"rgb(51,51,51)\",\"ticks\":\"outside\"},\"bgcolor\":\"rgb(237,237,237)\",\"radialaxis\":{\"gridcolor\":\"white\",\"linecolor\":\"white\",\"showgrid\":true,\"tickcolor\":\"rgb(51,51,51)\",\"ticks\":\"outside\"}},\"scene\":{\"xaxis\":{\"backgroundcolor\":\"rgb(237,237,237)\",\"gridcolor\":\"white\",\"gridwidth\":2,\"linecolor\":\"white\",\"showbackground\":true,\"showgrid\":true,\"tickcolor\":\"rgb(51,51,51)\",\"ticks\":\"outside\",\"zerolinecolor\":\"white\"},\"yaxis\":{\"backgroundcolor\":\"rgb(237,237,237)\",\"gridcolor\":\"white\",\"gridwidth\":2,\"linecolor\":\"white\",\"showbackground\":true,\"showgrid\":true,\"tickcolor\":\"rgb(51,51,51)\",\"ticks\":\"outside\",\"zerolinecolor\":\"white\"},\"zaxis\":{\"backgroundcolor\":\"rgb(237,237,237)\",\"gridcolor\":\"white\",\"gridwidth\":2,\"linecolor\":\"white\",\"showbackground\":true,\"showgrid\":true,\"tickcolor\":\"rgb(51,51,51)\",\"ticks\":\"outside\",\"zerolinecolor\":\"white\"}},\"shapedefaults\":{\"fillcolor\":\"black\",\"line\":{\"width\":0},\"opacity\":0.3},\"ternary\":{\"aaxis\":{\"gridcolor\":\"white\",\"linecolor\":\"white\",\"showgrid\":true,\"tickcolor\":\"rgb(51,51,51)\",\"ticks\":\"outside\"},\"baxis\":{\"gridcolor\":\"white\",\"linecolor\":\"white\",\"showgrid\":true,\"tickcolor\":\"rgb(51,51,51)\",\"ticks\":\"outside\"},\"bgcolor\":\"rgb(237,237,237)\",\"caxis\":{\"gridcolor\":\"white\",\"linecolor\":\"white\",\"showgrid\":true,\"tickcolor\":\"rgb(51,51,51)\",\"ticks\":\"outside\"}},\"xaxis\":{\"automargin\":true,\"gridcolor\":\"white\",\"linecolor\":\"white\",\"showgrid\":true,\"tickcolor\":\"rgb(51,51,51)\",\"ticks\":\"outside\",\"title\":{\"standoff\":15},\"zerolinecolor\":\"white\"},\"yaxis\":{\"automargin\":true,\"gridcolor\":\"white\",\"linecolor\":\"white\",\"showgrid\":true,\"tickcolor\":\"rgb(51,51,51)\",\"ticks\":\"outside\",\"title\":{\"standoff\":15},\"zerolinecolor\":\"white\"}}},\"xaxis\":{\"anchor\":\"y\",\"domain\":[0.0,1.0],\"title\":{\"text\":\"Zip Codes\",\"font\":{\"size\":16}},\"tickfont\":{\"size\":14},\"type\":\"category\"},\"yaxis\":{\"anchor\":\"x\",\"domain\":[0.0,1.0],\"title\":{\"text\":\"Count\",\"font\":{\"size\":16}},\"tickfont\":{\"size\":14}},\"legend\":{\"tracegroupgap\":0,\"x\":0,\"y\":1.0},\"margin\":{\"t\":60},\"barmode\":\"group\",\"title\":{\"text\":\"Outpatient Provider in Top 10 Zip Codes\"},\"bargap\":0.15,\"bargroupgap\":0.1},                        {\"responsive\": true}                    ).then(function(){\n",
       "                            \n",
       "var gd = document.getElementById('8707e6a0-e9cb-48c1-a0c3-a1338e623c93');\n",
       "var x = new MutationObserver(function (mutations, observer) {{\n",
       "        var display = window.getComputedStyle(gd).display;\n",
       "        if (!display || display === 'none') {{\n",
       "            console.log([gd, 'removed!']);\n",
       "            Plotly.purge(gd);\n",
       "            observer.disconnect();\n",
       "        }}\n",
       "}});\n",
       "\n",
       "// Listen for the removal of the full notebook cells\n",
       "var notebookContainer = gd.closest('#notebook-container');\n",
       "if (notebookContainer) {{\n",
       "    x.observe(notebookContainer, {childList: true});\n",
       "}}\n",
       "\n",
       "// Listen for the clearing of the current output cell\n",
       "var outputEl = gd.closest('.output');\n",
       "if (outputEl) {{\n",
       "    x.observe(outputEl, {childList: true});\n",
       "}}\n",
       "\n",
       "                        })                };                });            </script>        </div>"
      ]
     },
     "metadata": {},
     "output_type": "display_data"
    }
   ],
   "source": [
    "# Outpatient by Zip Code\n",
    "zipcode_count  =outpatient_df['Provider Zip Code'].value_counts()\n",
    "zipcode_count = zipcode_count[:10,]\n",
    "fig = px.histogram(x = zipcode_count.index, y = zipcode_count.values)\n",
    "fig.update_layout(\n",
    "    title='Outpatient Provider in Top 10 Zip Codes',\n",
    "    template='ggplot2',\n",
    "    xaxis=dict(\n",
    "        title='Zip Codes',\n",
    "        titlefont_size=16,\n",
    "        tickfont_size=14,\n",
    "    ),\n",
    "    yaxis=dict(\n",
    "        title='Count',\n",
    "        titlefont_size=16,\n",
    "        tickfont_size=14,\n",
    "    ),\n",
    "    legend=dict(\n",
    "        x=0,\n",
    "        y=1.0,\n",
    "    ),\n",
    "    barmode='group',\n",
    "    bargap=0.15,\n",
    "    bargroupgap=0.1 \n",
    ")\n",
    "fig.layout.xaxis.type = 'category'\n",
    "fig.show()\n",
    "fig.write_image(\"outpatient_analysis_graphs\\outpatient_provider_top_10_zipCodes.png\", engine='orca')"
   ]
  },
  {
   "cell_type": "markdown",
   "metadata": {},
   "source": [
    "Outpatient procedures COST among states"
   ]
  },
  {
   "cell_type": "code",
   "execution_count": 67,
   "metadata": {},
   "outputs": [],
   "source": [
    "class SQLServer:\n",
    "      def __init__(self, server):\n",
    "        self.server = server\n",
    "       \n",
    "      def __enter__(self):\n",
    "        self.conn: sqlite3.Connection = sqlite3.connect(self.server)\n",
    "        self.cur: sqlite3.Cursor = self.conn.cursor() \n",
    "        return self\n",
    "        \n",
    "      def __exit__(self, exc_type, exc_val, exc_tb):\n",
    "        self.conn.close()"
   ]
  },
  {
   "cell_type": "code",
   "execution_count": 68,
   "metadata": {},
   "outputs": [],
   "source": [
    "_df = pd.read_csv('idea-1/medicare-data/medicare-data/Outpatient_provdr.csv')\n",
    "outpatient_hospital_charges = 'outpatient_hospital_charges.db'\n",
    "\n",
    "with SQLServer('outpatient_hospital_charges') as db:\n",
    "    _df.columns = [column.strip() for column in _df.columns]\n",
    "    _df.to_sql('outpatient_hospital_charges', db.conn, if_exists='replace', index=False)"
   ]
  },
  {
   "cell_type": "code",
   "execution_count": 69,
   "metadata": {},
   "outputs": [],
   "source": [
    "with SQLServer('outpatient_hospital_charges') as db:\n",
    "    query = '''\n",
    "SELECT `APC`, `Provider State` as providerState, t.maxAvgPaymentPerDRG\n",
    "FROM outpatient_hospital_charges hc\n",
    "INNER JOIN (\n",
    "    SELECT `APC` as drg, MAX(`Average Total Payments`) as maxAvgPaymentPerDRG\n",
    "    FROM outpatient_hospital_charges\n",
    "    GROUP BY `APC`\n",
    ") t\n",
    "ON hc.`APC` == t.drg AND hc.`Average Total Payments` == t.maxAvgPaymentPerDRG\n",
    "ORDER BY providerState ASC\n",
    "'''\n",
    "    cursor = db.cur.execute(query)\n",
    "    results = [record for record in cursor]"
   ]
  },
  {
   "cell_type": "code",
   "execution_count": 70,
   "metadata": {},
   "outputs": [],
   "source": [
    "_df = pd.DataFrame(results, columns=['APC', 'ProviderState', 'Payment'])"
   ]
  },
  {
   "cell_type": "code",
   "execution_count": 71,
   "metadata": {},
   "outputs": [],
   "source": [
    "with SQLServer('outpatient_hospital_charges') as db:\n",
    "    ranking_by_drg = dict()\n",
    "    for drg in outpatient_df['APC'].unique():\n",
    "\n",
    "        query = \"\"\"\n",
    "            SELECT `Provider State` as providerState\n",
    "            FROM outpatient_hospital_charges\n",
    "            WHERE `APC` = '{drg}' \n",
    "            GROUP BY `Provider State`\n",
    "            ORDER BY AVG(`Average Total Payments`) ASC\n",
    "        \"\"\".format(drg=drg)\n",
    "    \n",
    "        cursor = db.cur.execute(query)\n",
    "        ranking_by_drg[drg] = [record[0] for record in cursor]\n"
   ]
  },
  {
   "cell_type": "code",
   "execution_count": 72,
   "metadata": {},
   "outputs": [],
   "source": [
    "for k,v in ranking_by_drg.items():\n",
    "    while True:\n",
    "        if len(v) >= 51:\n",
    "            break\n",
    "        v.append(None)"
   ]
  },
  {
   "cell_type": "code",
   "execution_count": 73,
   "metadata": {},
   "outputs": [],
   "source": [
    "drg_by_id = {key.split(' - ')[0]: key for key in ranking_by_drg.keys()}\n",
    "df_rank = pd.DataFrame(ranking_by_drg)"
   ]
  },
  {
   "cell_type": "code",
   "execution_count": null,
   "metadata": {},
   "outputs": [],
   "source": [
    "_df = pd.DataFrame(index=outpatient_df['Provider State'].unique())\n",
    "for column in df_rank.columns:\n",
    "    rankings_by_state = []\n",
    "\n",
    "    if column in ['rank']:\n",
    "        continue\n",
    "        \n",
    "    for rank, curr_state in zip(outpatient_df.index, df_rank[column]):\n",
    "        rankings_by_state.append(curr_state)\n",
    "    \n",
    "    t = pd.DataFrame(rankings_by_state, columns=['State'])\n",
    "    t['Rank'] = t.index\n",
    "    t.set_index(['State'], inplace=True)\n",
    "    \n",
    "    _df = pd.merge(left=_df, right=t, how='left', left_index=True, right_index=True)\n",
    "    \n",
    "_df.columns = drg_by_id.keys()"
   ]
  },
  {
   "cell_type": "code",
   "execution_count": 75,
   "metadata": {},
   "outputs": [
    {
     "data": {
      "text/html": [
       "<div>\n",
       "<style scoped>\n",
       "    .dataframe tbody tr th:only-of-type {\n",
       "        vertical-align: middle;\n",
       "    }\n",
       "\n",
       "    .dataframe tbody tr th {\n",
       "        vertical-align: top;\n",
       "    }\n",
       "\n",
       "    .dataframe thead th {\n",
       "        text-align: right;\n",
       "    }\n",
       "</style>\n",
       "<table border=\"1\" class=\"dataframe\">\n",
       "  <thead>\n",
       "    <tr style=\"text-align: right;\">\n",
       "      <th></th>\n",
       "      <th>0012</th>\n",
       "      <th>0013</th>\n",
       "      <th>0015</th>\n",
       "      <th>0019</th>\n",
       "      <th>0020</th>\n",
       "      <th>0073</th>\n",
       "      <th>0074</th>\n",
       "      <th>0078</th>\n",
       "      <th>0096</th>\n",
       "      <th>0203</th>\n",
       "      <th>...</th>\n",
       "      <th>0369</th>\n",
       "      <th>0377</th>\n",
       "      <th>0604</th>\n",
       "      <th>0605</th>\n",
       "      <th>0606</th>\n",
       "      <th>0607</th>\n",
       "      <th>0608</th>\n",
       "      <th>0690</th>\n",
       "      <th>0692</th>\n",
       "      <th>0698</th>\n",
       "    </tr>\n",
       "  </thead>\n",
       "  <tbody>\n",
       "    <tr>\n",
       "      <th>AK</th>\n",
       "      <td>46.0</td>\n",
       "      <td>49</td>\n",
       "      <td>49</td>\n",
       "      <td>-100.0</td>\n",
       "      <td>-100.0</td>\n",
       "      <td>32.0</td>\n",
       "      <td>-100.0</td>\n",
       "      <td>48</td>\n",
       "      <td>48</td>\n",
       "      <td>-100.0</td>\n",
       "      <td>...</td>\n",
       "      <td>-100.0</td>\n",
       "      <td>48</td>\n",
       "      <td>48</td>\n",
       "      <td>47</td>\n",
       "      <td>47</td>\n",
       "      <td>48</td>\n",
       "      <td>-100.0</td>\n",
       "      <td>48</td>\n",
       "      <td>46.0</td>\n",
       "      <td>-100.0</td>\n",
       "    </tr>\n",
       "    <tr>\n",
       "      <th>AL</th>\n",
       "      <td>42.0</td>\n",
       "      <td>2</td>\n",
       "      <td>0</td>\n",
       "      <td>8.0</td>\n",
       "      <td>0.0</td>\n",
       "      <td>-100.0</td>\n",
       "      <td>3.0</td>\n",
       "      <td>2</td>\n",
       "      <td>2</td>\n",
       "      <td>8.0</td>\n",
       "      <td>...</td>\n",
       "      <td>2.0</td>\n",
       "      <td>1</td>\n",
       "      <td>1</td>\n",
       "      <td>1</td>\n",
       "      <td>1</td>\n",
       "      <td>2</td>\n",
       "      <td>2.0</td>\n",
       "      <td>1</td>\n",
       "      <td>1.0</td>\n",
       "      <td>-100.0</td>\n",
       "    </tr>\n",
       "    <tr>\n",
       "      <th>AR</th>\n",
       "      <td>30.0</td>\n",
       "      <td>7</td>\n",
       "      <td>4</td>\n",
       "      <td>7.0</td>\n",
       "      <td>11.0</td>\n",
       "      <td>1.0</td>\n",
       "      <td>2.0</td>\n",
       "      <td>6</td>\n",
       "      <td>5</td>\n",
       "      <td>14.0</td>\n",
       "      <td>...</td>\n",
       "      <td>3.0</td>\n",
       "      <td>5</td>\n",
       "      <td>4</td>\n",
       "      <td>5</td>\n",
       "      <td>4</td>\n",
       "      <td>3</td>\n",
       "      <td>5.0</td>\n",
       "      <td>2</td>\n",
       "      <td>12.0</td>\n",
       "      <td>3.0</td>\n",
       "    </tr>\n",
       "    <tr>\n",
       "      <th>AZ</th>\n",
       "      <td>28.0</td>\n",
       "      <td>29</td>\n",
       "      <td>36</td>\n",
       "      <td>27.0</td>\n",
       "      <td>32.0</td>\n",
       "      <td>28.0</td>\n",
       "      <td>18.0</td>\n",
       "      <td>32</td>\n",
       "      <td>27</td>\n",
       "      <td>32.0</td>\n",
       "      <td>...</td>\n",
       "      <td>32.0</td>\n",
       "      <td>30</td>\n",
       "      <td>33</td>\n",
       "      <td>30</td>\n",
       "      <td>32</td>\n",
       "      <td>31</td>\n",
       "      <td>29.0</td>\n",
       "      <td>29</td>\n",
       "      <td>26.0</td>\n",
       "      <td>22.0</td>\n",
       "    </tr>\n",
       "    <tr>\n",
       "      <th>CA</th>\n",
       "      <td>40.0</td>\n",
       "      <td>48</td>\n",
       "      <td>48</td>\n",
       "      <td>43.0</td>\n",
       "      <td>47.0</td>\n",
       "      <td>33.0</td>\n",
       "      <td>44.0</td>\n",
       "      <td>49</td>\n",
       "      <td>49</td>\n",
       "      <td>36.0</td>\n",
       "      <td>...</td>\n",
       "      <td>44.0</td>\n",
       "      <td>49</td>\n",
       "      <td>49</td>\n",
       "      <td>48</td>\n",
       "      <td>49</td>\n",
       "      <td>49</td>\n",
       "      <td>44.0</td>\n",
       "      <td>49</td>\n",
       "      <td>45.0</td>\n",
       "      <td>40.0</td>\n",
       "    </tr>\n",
       "  </tbody>\n",
       "</table>\n",
       "<p>5 rows × 30 columns</p>\n",
       "</div>"
      ],
      "text/plain": [
       "    0012  0013  0015   0019   0020   0073   0074  0078  0096   0203  ...  \\\n",
       "AK  46.0    49    49 -100.0 -100.0   32.0 -100.0    48    48 -100.0  ...   \n",
       "AL  42.0     2     0    8.0    0.0 -100.0    3.0     2     2    8.0  ...   \n",
       "AR  30.0     7     4    7.0   11.0    1.0    2.0     6     5   14.0  ...   \n",
       "AZ  28.0    29    36   27.0   32.0   28.0   18.0    32    27   32.0  ...   \n",
       "CA  40.0    48    48   43.0   47.0   33.0   44.0    49    49   36.0  ...   \n",
       "\n",
       "     0369  0377  0604  0605  0606  0607   0608  0690  0692   0698  \n",
       "AK -100.0    48    48    47    47    48 -100.0    48  46.0 -100.0  \n",
       "AL    2.0     1     1     1     1     2    2.0     1   1.0 -100.0  \n",
       "AR    3.0     5     4     5     4     3    5.0     2  12.0    3.0  \n",
       "AZ   32.0    30    33    30    32    31   29.0    29  26.0   22.0  \n",
       "CA   44.0    49    49    48    49    49   44.0    49  45.0   40.0  \n",
       "\n",
       "[5 rows x 30 columns]"
      ]
     },
     "execution_count": 75,
     "metadata": {},
     "output_type": "execute_result"
    }
   ],
   "source": [
    "_df.fillna(-100, inplace=True)\n",
    "_df.head()"
   ]
  },
  {
   "cell_type": "code",
   "execution_count": 77,
   "metadata": {},
   "outputs": [
    {
     "data": {
      "application/vnd.plotly.v1+json": {
       "config": {
        "plotlyServerURL": "https://plot.ly"
       },
       "data": [
        {
         "coloraxis": "coloraxis",
         "hovertemplate": "x: %{x}<br>y: %{y}<br>color: %{z}<extra></extra>",
         "name": "0",
         "texttemplate": "%{z}",
         "type": "heatmap",
         "x": [
          "0012",
          "0013",
          "0015",
          "0019",
          "0020",
          "0073",
          "0074",
          "0078",
          "0096",
          "0203",
          "0204",
          "0206",
          "0207",
          "0209",
          "0265",
          "0267",
          "0269",
          "0270",
          "0336",
          "0368",
          "0369",
          "0377",
          "0604",
          "0605",
          "0606",
          "0607",
          "0608",
          "0690",
          "0692",
          "0698"
         ],
         "xaxis": "x",
         "y": [
          "AK",
          "AL",
          "AR",
          "AZ",
          "CA",
          "CO",
          "CT",
          "DC",
          "DE",
          "FL",
          "GA",
          "HI",
          "IA",
          "ID",
          "IL",
          "IN",
          "KS",
          "KY",
          "LA",
          "MA",
          "ME",
          "MI",
          "MN",
          "MO",
          "MS",
          "MT",
          "NC",
          "ND",
          "NE",
          "NH",
          "NJ",
          "NM",
          "NV",
          "NY",
          "OH",
          "OK",
          "OR",
          "PA",
          "RI",
          "SC",
          "SD",
          "TN",
          "TX",
          "UT",
          "VA",
          "VT",
          "WA",
          "WI",
          "WV",
          "WY"
         ],
         "yaxis": "y",
         "z": [
          [
           46,
           49,
           49,
           -100,
           -100,
           32,
           -100,
           48,
           48,
           -100,
           47,
           -100,
           49,
           48,
           48,
           49,
           48,
           47,
           46,
           48,
           -100,
           48,
           48,
           47,
           47,
           48,
           -100,
           48,
           46,
           -100
          ],
          [
           42,
           2,
           0,
           8,
           0,
           -100,
           3,
           2,
           2,
           8,
           1,
           1,
           1,
           1,
           2,
           1,
           1,
           1,
           1,
           2,
           2,
           1,
           1,
           1,
           1,
           2,
           2,
           1,
           1,
           -100
          ],
          [
           30,
           7,
           4,
           7,
           11,
           1,
           2,
           6,
           5,
           14,
           7,
           10,
           5,
           3,
           4,
           6,
           6,
           6,
           2,
           5,
           3,
           5,
           4,
           5,
           4,
           3,
           5,
           2,
           12,
           3
          ],
          [
           28,
           29,
           36,
           27,
           32,
           28,
           18,
           32,
           27,
           32,
           33,
           30,
           30,
           30,
           30,
           31,
           31,
           30,
           39,
           31,
           32,
           30,
           33,
           30,
           32,
           31,
           29,
           29,
           26,
           22
          ],
          [
           40,
           48,
           48,
           43,
           47,
           33,
           44,
           49,
           49,
           36,
           49,
           47,
           48,
           49,
           49,
           48,
           49,
           49,
           49,
           49,
           44,
           49,
           49,
           48,
           49,
           49,
           44,
           49,
           45,
           40
          ],
          [
           26,
           36,
           32,
           34,
           28,
           24,
           25,
           31,
           32,
           2,
           31,
           24,
           27,
           33,
           31,
           30,
           29,
           28,
           30,
           30,
           25,
           31,
           31,
           33,
           31,
           32,
           28,
           34,
           29,
           28
          ],
          [
           39,
           41,
           47,
           42,
           46,
           -100,
           43,
           47,
           47,
           35,
           48,
           46,
           47,
           47,
           47,
           47,
           47,
           48,
           45,
           47,
           43,
           47,
           47,
           49,
           48,
           47,
           42,
           47,
           44,
           -100
          ],
          [
           10,
           35,
           40,
           39,
           38,
           22,
           35,
           33,
           34,
           -100,
           34,
           27,
           35,
           35,
           33,
           33,
           34,
           35,
           29,
           34,
           29,
           33,
           32,
           35,
           35,
           33,
           31,
           31,
           -100,
           29
          ],
          [
           -100,
           28,
           35,
           36,
           36,
           -100,
           37,
           29,
           33,
           -100,
           39,
           40,
           39,
           19,
           32,
           32,
           32,
           32,
           32,
           32,
           28,
           32,
           30,
           32,
           34,
           35,
           -100,
           32,
           -100,
           -100
          ],
          [
           18,
           15,
           19,
           23,
           15,
           11,
           20,
           20,
           20,
           22,
           20,
           18,
           18,
           21,
           21,
           20,
           20,
           18,
           19,
           19,
           17,
           19,
           19,
           22,
           20,
           18,
           15,
           21,
           18,
           8
          ],
          [
           41,
           21,
           14,
           25,
           16,
           15,
           19,
           12,
           15,
           -100,
           19,
           25,
           11,
           10,
           9,
           11,
           11,
           15,
           15,
           11,
           19,
           12,
           10,
           12,
           11,
           11,
           10,
           13,
           17,
           16
          ],
          [
           16,
           18,
           34,
           -100,
           44,
           -100,
           -100,
           43,
           44,
           -100,
           44,
           35,
           46,
           44,
           45,
           45,
           44,
           41,
           47,
           44,
           30,
           44,
           44,
           45,
           44,
           44,
           -100,
           39,
           40,
           31
          ],
          [
           11,
           16,
           7,
           16,
           17,
           7,
           11,
           16,
           14,
           -100,
           13,
           14,
           19,
           15,
           14,
           15,
           16,
           17,
           9,
           14,
           13,
           14,
           14,
           15,
           14,
           13,
           11,
           6,
           15,
           13
          ],
          [
           5,
           30,
           26,
           11,
           23,
           -100,
           0,
           19,
           19,
           -100,
           11,
           23,
           16,
           18,
           7,
           18,
           7,
           21,
           36,
           20,
           6,
           18,
           17,
           19,
           19,
           20,
           23,
           24,
           21,
           -100
          ],
          [
           14,
           22,
           24,
           29,
           30,
           23,
           28,
           25,
           28,
           29,
           28,
           28,
           26,
           25,
           24,
           25,
           25,
           26,
           25,
           25,
           23,
           24,
           26,
           26,
           27,
           26,
           30,
           25,
           27,
           26
          ],
          [
           22,
           20,
           17,
           21,
           22,
           -100,
           22,
           18,
           18,
           26,
           14,
           7,
           10,
           20,
           19,
           19,
           19,
           19,
           17,
           18,
           16,
           20,
           21,
           17,
           21,
           17,
           19,
           23,
           4,
           17
          ],
          [
           33,
           9,
           9,
           5,
           7,
           -100,
           24,
           10,
           9,
           24,
           8,
           4,
           15,
           11,
           13,
           8,
           10,
           10,
           10,
           10,
           15,
           11,
           8,
           9,
           10,
           10,
           21,
           11,
           11,
           0
          ],
          [
           37,
           5,
           8,
           13,
           6,
           6,
           13,
           4,
           7,
           18,
           6,
           6,
           9,
           5,
           5,
           5,
           4,
           5,
           4,
           6,
           4,
           6,
           5,
           6,
           6,
           7,
           6,
           8,
           7,
           2
          ],
          [
           35,
           10,
           2,
           1,
           4,
           2,
           9,
           3,
           6,
           10,
           2,
           3,
           0,
           6,
           3,
           3,
           3,
           3,
           7,
           3,
           1,
           3,
           3,
           3,
           3,
           5,
           4,
           3,
           5,
           4
          ],
          [
           38,
           39,
           45,
           38,
           43,
           30,
           42,
           45,
           45,
           34,
           45,
           41,
           44,
           45,
           44,
           44,
           45,
           45,
           40,
           45,
           41,
           45,
           45,
           44,
           45,
           45,
           40,
           45,
           42,
           38
          ],
          [
           12,
           23,
           23,
           20,
           24,
           16,
           27,
           23,
           23,
           28,
           17,
           26,
           24,
           23,
           23,
           23,
           23,
           24,
           24,
           22,
           21,
           23,
           22,
           18,
           22,
           22,
           17,
           20,
           23,
           12
          ],
          [
           17,
           24,
           27,
           31,
           31,
           21,
           31,
           26,
           25,
           25,
           26,
           32,
           28,
           26,
           27,
           26,
           26,
           31,
           23,
           26,
           26,
           26,
           27,
           27,
           29,
           27,
           26,
           26,
           28,
           24
          ],
          [
           25,
           31,
           38,
           32,
           35,
           18,
           33,
           36,
           36,
           7,
           37,
           36,
           38,
           36,
           35,
           35,
           35,
           37,
           42,
           36,
           33,
           36,
           36,
           36,
           36,
           36,
           34,
           33,
           32,
           25
          ],
          [
           15,
           17,
           13,
           14,
           13,
           0,
           4,
           9,
           8,
           11,
           10,
           15,
           13,
           9,
           12,
           9,
           9,
           7,
           11,
           9,
           9,
           8,
           9,
           8,
           8,
           6,
           8,
           7,
           10,
           5
          ],
          [
           45,
           4,
           5,
           2,
           3,
           -100,
           6,
           1,
           1,
           3,
           4,
           12,
           3,
           2,
           1,
           2,
           2,
           2,
           3,
           1,
           7,
           2,
           2,
           2,
           0,
           4,
           0,
           4,
           0,
           -100
          ],
          [
           9,
           37,
           29,
           -100,
           29,
           19,
           32,
           30,
           31,
           13,
           32,
           33,
           29,
           31,
           29,
           29,
           30,
           29,
           33,
           28,
           36,
           29,
           29,
           29,
           30,
           30,
           24,
           30,
           31,
           30
          ],
          [
           23,
           11,
           12,
           15,
           12,
           10,
           5,
           11,
           12,
           0,
           9,
           11,
           12,
           12,
           11,
           12,
           13,
           13,
           12,
           12,
           14,
           13,
           15,
           11,
           12,
           9,
           16,
           15,
           14,
           10
          ],
          [
           13,
           27,
           25,
           10,
           26,
           20,
           29,
           28,
           30,
           16,
           22,
           34,
           31,
           29,
           28,
           28,
           28,
           33,
           27,
           29,
           27,
           28,
           28,
           28,
           28,
           28,
           27,
           28,
           30,
           27
          ],
          [
           1,
           13,
           22,
           -100,
           14,
           -100,
           21,
           21,
           21,
           6,
           27,
           17,
           22,
           24,
           22,
           22,
           22,
           16,
           21,
           23,
           -100,
           21,
           23,
           24,
           18,
           23,
           22,
           17,
           25,
           18
          ],
          [
           31,
           46,
           43,
           40,
           42,
           31,
           39,
           41,
           41,
           -100,
           42,
           43,
           43,
           42,
           42,
           42,
           42,
           40,
           38,
           42,
           38,
           42,
           41,
           40,
           40,
           39,
           39,
           38,
           38,
           36
          ],
          [
           -100,
           43,
           46,
           41,
           45,
           -100,
           45,
           46,
           46,
           31,
           46,
           44,
           45,
           46,
           46,
           46,
           46,
           46,
           43,
           46,
           40,
           46,
           46,
           46,
           46,
           46,
           41,
           46,
           43,
           39
          ],
          [
           2,
           38,
           31,
           26,
           27,
           13,
           -100,
           27,
           24,
           27,
           21,
           21,
           23,
           28,
           25,
           24,
           24,
           25,
           22,
           24,
           -100,
           25,
           25,
           23,
           24,
           29,
           13,
           22,
           24,
           19
          ],
          [
           34,
           45,
           30,
           -100,
           33,
           -100,
           30,
           42,
           37,
           -100,
           35,
           42,
           41,
           32,
           39,
           41,
           39,
           42,
           48,
           41,
           -100,
           41,
           39,
           38,
           38,
           34,
           35,
           44,
           34,
           -100
          ],
          [
           29,
           47,
           44,
           22,
           40,
           34,
           38,
           35,
           40,
           33,
           38,
           31,
           42,
           37,
           41,
           40,
           41,
           43,
           35,
           39,
           42,
           39,
           42,
           43,
           43,
           43,
           36,
           41,
           33,
           37
          ],
          [
           4,
           8,
           11,
           12,
           8,
           9,
           14,
           13,
           16,
           20,
           16,
           16,
           17,
           14,
           16,
           17,
           18,
           14,
           14,
           16,
           18,
           16,
           16,
           13,
           15,
           14,
           18,
           18,
           20,
           15
          ],
          [
           21,
           12,
           6,
           17,
           5,
           -100,
           7,
           7,
           3,
           17,
           3,
           5,
           4,
           8,
           8,
           7,
           8,
           8,
           5,
           7,
           8,
           7,
           7,
           7,
           7,
           8,
           7,
           9,
           8,
           -100
          ],
          [
           36,
           42,
           41,
           30,
           37,
           25,
           34,
           38,
           38,
           -100,
           41,
           39,
           32,
           38,
           37,
           37,
           38,
           36,
           37,
           40,
           34,
           38,
           37,
           37,
           37,
           38,
           32,
           35,
           36,
           33
          ],
          [
           8,
           6,
           18,
           19,
           21,
           8,
           15,
           22,
           22,
           30,
           23,
           20,
           21,
           22,
           20,
           21,
           21,
           22,
           20,
           21,
           22,
           22,
           20,
           21,
           23,
           21,
           20,
           19,
           13,
           20
          ],
          [
           43,
           32,
           21,
           33,
           39,
           27,
           41,
           44,
           43,
           -100,
           43,
           45,
           40,
           43,
           43,
           43,
           43,
           44,
           41,
           43,
           39,
           43,
           43,
           42,
           42,
           42,
           38,
           42,
           39,
           34
          ],
          [
           44,
           14,
           10,
           6,
           10,
           4,
           12,
           8,
           11,
           1,
           12,
           9,
           6,
           7,
           10,
           10,
           12,
           9,
           8,
           8,
           11,
           9,
           11,
           10,
           9,
           12,
           3,
           12,
           3,
           6
          ],
          [
           32,
           44,
           42,
           24,
           9,
           -100,
           26,
           40,
           35,
           21,
           29,
           0,
           33,
           41,
           38,
           36,
           36,
           23,
           31,
           37,
           35,
           37,
           40,
           41,
           39,
           41,
           43,
           40,
           37,
           21
          ],
          [
           27,
           3,
           1,
           18,
           2,
           14,
           10,
           5,
           4,
           15,
           5,
           13,
           7,
           4,
           6,
           4,
           5,
           4,
           6,
           4,
           5,
           4,
           6,
           4,
           5,
           1,
           1,
           5,
           9,
           11
          ],
          [
           6,
           19,
           16,
           9,
           18,
           3,
           17,
           15,
           13,
           19,
           15,
           19,
           14,
           17,
           17,
           14,
           15,
           11,
           18,
           15,
           12,
           15,
           13,
           16,
           17,
           16,
           14,
           14,
           16,
           14
          ],
          [
           7,
           25,
           20,
           4,
           19,
           5,
           8,
           17,
           10,
           5,
           18,
           8,
           8,
           13,
           18,
           13,
           14,
           12,
           16,
           17,
           10,
           10,
           12,
           14,
           13,
           15,
           12,
           10,
           6,
           9
          ],
          [
           3,
           26,
           15,
           3,
           20,
           12,
           16,
           14,
           17,
           4,
           24,
           22,
           20,
           16,
           15,
           16,
           17,
           20,
           13,
           13,
           20,
           17,
           18,
           20,
           16,
           19,
           9,
           16,
           19,
           7
          ],
          [
           20,
           40,
           39,
           35,
           34,
           29,
           40,
           34,
           42,
           9,
           36,
           38,
           36,
           40,
           34,
           34,
           33,
           38,
           28,
           33,
           37,
           34,
           35,
           34,
           33,
           37,
           37,
           37,
           41,
           35
          ],
          [
           24,
           34,
           37,
           37,
           41,
           26,
           36,
           39,
           39,
           -100,
           40,
           37,
           37,
           39,
           36,
           39,
           40,
           39,
           44,
           38,
           31,
           40,
           38,
           39,
           41,
           40,
           33,
           36,
           35,
           32
          ],
          [
           19,
           33,
           28,
           28,
           25,
           17,
           23,
           24,
           26,
           23,
           25,
           29,
           25,
           27,
           26,
           27,
           27,
           27,
           26,
           27,
           24,
           27,
           24,
           25,
           25,
           25,
           25,
           27,
           22,
           23
          ],
          [
           0,
           1,
           3,
           0,
           1,
           -100,
           1,
           0,
           0,
           12,
           0,
           2,
           2,
           0,
           0,
           0,
           0,
           0,
           0,
           0,
           0,
           0,
           0,
           0,
           2,
           0,
           -100,
           0,
           2,
           1
          ],
          [
           -100,
           0,
           33,
           -100,
           -100,
           -100,
           -100,
           37,
           29,
           -100,
           30,
           -100,
           34,
           34,
           40,
           38,
           37,
           34,
           34,
           35,
           -100,
           35,
           34,
           31,
           26,
           24,
           -100,
           43,
           -100,
           -100
          ]
         ]
        }
       ],
       "layout": {
        "bargap": 0.15,
        "bargroupgap": 0.1,
        "barmode": "group",
        "coloraxis": {
         "colorscale": [
          [
           0,
           "#0d0887"
          ],
          [
           0.1111111111111111,
           "#46039f"
          ],
          [
           0.2222222222222222,
           "#7201a8"
          ],
          [
           0.3333333333333333,
           "#9c179e"
          ],
          [
           0.4444444444444444,
           "#bd3786"
          ],
          [
           0.5555555555555556,
           "#d8576b"
          ],
          [
           0.6666666666666666,
           "#ed7953"
          ],
          [
           0.7777777777777778,
           "#fb9f3a"
          ],
          [
           0.8888888888888888,
           "#fdca26"
          ],
          [
           1,
           "#f0f921"
          ]
         ]
        },
        "legend": {
         "x": 0,
         "y": 1
        },
        "margin": {
         "t": 60
        },
        "template": {
         "data": {
          "bar": [
           {
            "error_x": {
             "color": "rgb(51,51,51)"
            },
            "error_y": {
             "color": "rgb(51,51,51)"
            },
            "marker": {
             "line": {
              "color": "rgb(237,237,237)",
              "width": 0.5
             },
             "pattern": {
              "fillmode": "overlay",
              "size": 10,
              "solidity": 0.2
             }
            },
            "type": "bar"
           }
          ],
          "barpolar": [
           {
            "marker": {
             "line": {
              "color": "rgb(237,237,237)",
              "width": 0.5
             },
             "pattern": {
              "fillmode": "overlay",
              "size": 10,
              "solidity": 0.2
             }
            },
            "type": "barpolar"
           }
          ],
          "carpet": [
           {
            "aaxis": {
             "endlinecolor": "rgb(51,51,51)",
             "gridcolor": "white",
             "linecolor": "white",
             "minorgridcolor": "white",
             "startlinecolor": "rgb(51,51,51)"
            },
            "baxis": {
             "endlinecolor": "rgb(51,51,51)",
             "gridcolor": "white",
             "linecolor": "white",
             "minorgridcolor": "white",
             "startlinecolor": "rgb(51,51,51)"
            },
            "type": "carpet"
           }
          ],
          "choropleth": [
           {
            "colorbar": {
             "outlinewidth": 0,
             "tickcolor": "rgb(237,237,237)",
             "ticklen": 6,
             "ticks": "inside"
            },
            "type": "choropleth"
           }
          ],
          "contour": [
           {
            "colorbar": {
             "outlinewidth": 0,
             "tickcolor": "rgb(237,237,237)",
             "ticklen": 6,
             "ticks": "inside"
            },
            "colorscale": [
             [
              0,
              "rgb(20,44,66)"
             ],
             [
              1,
              "rgb(90,179,244)"
             ]
            ],
            "type": "contour"
           }
          ],
          "contourcarpet": [
           {
            "colorbar": {
             "outlinewidth": 0,
             "tickcolor": "rgb(237,237,237)",
             "ticklen": 6,
             "ticks": "inside"
            },
            "type": "contourcarpet"
           }
          ],
          "heatmap": [
           {
            "colorbar": {
             "outlinewidth": 0,
             "tickcolor": "rgb(237,237,237)",
             "ticklen": 6,
             "ticks": "inside"
            },
            "colorscale": [
             [
              0,
              "rgb(20,44,66)"
             ],
             [
              1,
              "rgb(90,179,244)"
             ]
            ],
            "type": "heatmap"
           }
          ],
          "heatmapgl": [
           {
            "colorbar": {
             "outlinewidth": 0,
             "tickcolor": "rgb(237,237,237)",
             "ticklen": 6,
             "ticks": "inside"
            },
            "colorscale": [
             [
              0,
              "rgb(20,44,66)"
             ],
             [
              1,
              "rgb(90,179,244)"
             ]
            ],
            "type": "heatmapgl"
           }
          ],
          "histogram": [
           {
            "marker": {
             "pattern": {
              "fillmode": "overlay",
              "size": 10,
              "solidity": 0.2
             }
            },
            "type": "histogram"
           }
          ],
          "histogram2d": [
           {
            "colorbar": {
             "outlinewidth": 0,
             "tickcolor": "rgb(237,237,237)",
             "ticklen": 6,
             "ticks": "inside"
            },
            "colorscale": [
             [
              0,
              "rgb(20,44,66)"
             ],
             [
              1,
              "rgb(90,179,244)"
             ]
            ],
            "type": "histogram2d"
           }
          ],
          "histogram2dcontour": [
           {
            "colorbar": {
             "outlinewidth": 0,
             "tickcolor": "rgb(237,237,237)",
             "ticklen": 6,
             "ticks": "inside"
            },
            "colorscale": [
             [
              0,
              "rgb(20,44,66)"
             ],
             [
              1,
              "rgb(90,179,244)"
             ]
            ],
            "type": "histogram2dcontour"
           }
          ],
          "mesh3d": [
           {
            "colorbar": {
             "outlinewidth": 0,
             "tickcolor": "rgb(237,237,237)",
             "ticklen": 6,
             "ticks": "inside"
            },
            "type": "mesh3d"
           }
          ],
          "parcoords": [
           {
            "line": {
             "colorbar": {
              "outlinewidth": 0,
              "tickcolor": "rgb(237,237,237)",
              "ticklen": 6,
              "ticks": "inside"
             }
            },
            "type": "parcoords"
           }
          ],
          "pie": [
           {
            "automargin": true,
            "type": "pie"
           }
          ],
          "scatter": [
           {
            "marker": {
             "colorbar": {
              "outlinewidth": 0,
              "tickcolor": "rgb(237,237,237)",
              "ticklen": 6,
              "ticks": "inside"
             }
            },
            "type": "scatter"
           }
          ],
          "scatter3d": [
           {
            "line": {
             "colorbar": {
              "outlinewidth": 0,
              "tickcolor": "rgb(237,237,237)",
              "ticklen": 6,
              "ticks": "inside"
             }
            },
            "marker": {
             "colorbar": {
              "outlinewidth": 0,
              "tickcolor": "rgb(237,237,237)",
              "ticklen": 6,
              "ticks": "inside"
             }
            },
            "type": "scatter3d"
           }
          ],
          "scattercarpet": [
           {
            "marker": {
             "colorbar": {
              "outlinewidth": 0,
              "tickcolor": "rgb(237,237,237)",
              "ticklen": 6,
              "ticks": "inside"
             }
            },
            "type": "scattercarpet"
           }
          ],
          "scattergeo": [
           {
            "marker": {
             "colorbar": {
              "outlinewidth": 0,
              "tickcolor": "rgb(237,237,237)",
              "ticklen": 6,
              "ticks": "inside"
             }
            },
            "type": "scattergeo"
           }
          ],
          "scattergl": [
           {
            "marker": {
             "colorbar": {
              "outlinewidth": 0,
              "tickcolor": "rgb(237,237,237)",
              "ticklen": 6,
              "ticks": "inside"
             }
            },
            "type": "scattergl"
           }
          ],
          "scattermapbox": [
           {
            "marker": {
             "colorbar": {
              "outlinewidth": 0,
              "tickcolor": "rgb(237,237,237)",
              "ticklen": 6,
              "ticks": "inside"
             }
            },
            "type": "scattermapbox"
           }
          ],
          "scatterpolar": [
           {
            "marker": {
             "colorbar": {
              "outlinewidth": 0,
              "tickcolor": "rgb(237,237,237)",
              "ticklen": 6,
              "ticks": "inside"
             }
            },
            "type": "scatterpolar"
           }
          ],
          "scatterpolargl": [
           {
            "marker": {
             "colorbar": {
              "outlinewidth": 0,
              "tickcolor": "rgb(237,237,237)",
              "ticklen": 6,
              "ticks": "inside"
             }
            },
            "type": "scatterpolargl"
           }
          ],
          "scatterternary": [
           {
            "marker": {
             "colorbar": {
              "outlinewidth": 0,
              "tickcolor": "rgb(237,237,237)",
              "ticklen": 6,
              "ticks": "inside"
             }
            },
            "type": "scatterternary"
           }
          ],
          "surface": [
           {
            "colorbar": {
             "outlinewidth": 0,
             "tickcolor": "rgb(237,237,237)",
             "ticklen": 6,
             "ticks": "inside"
            },
            "colorscale": [
             [
              0,
              "rgb(20,44,66)"
             ],
             [
              1,
              "rgb(90,179,244)"
             ]
            ],
            "type": "surface"
           }
          ],
          "table": [
           {
            "cells": {
             "fill": {
              "color": "rgb(237,237,237)"
             },
             "line": {
              "color": "white"
             }
            },
            "header": {
             "fill": {
              "color": "rgb(217,217,217)"
             },
             "line": {
              "color": "white"
             }
            },
            "type": "table"
           }
          ]
         },
         "layout": {
          "annotationdefaults": {
           "arrowhead": 0,
           "arrowwidth": 1
          },
          "autotypenumbers": "strict",
          "coloraxis": {
           "colorbar": {
            "outlinewidth": 0,
            "tickcolor": "rgb(237,237,237)",
            "ticklen": 6,
            "ticks": "inside"
           }
          },
          "colorscale": {
           "sequential": [
            [
             0,
             "rgb(20,44,66)"
            ],
            [
             1,
             "rgb(90,179,244)"
            ]
           ],
           "sequentialminus": [
            [
             0,
             "rgb(20,44,66)"
            ],
            [
             1,
             "rgb(90,179,244)"
            ]
           ]
          },
          "colorway": [
           "#F8766D",
           "#A3A500",
           "#00BF7D",
           "#00B0F6",
           "#E76BF3"
          ],
          "font": {
           "color": "rgb(51,51,51)"
          },
          "geo": {
           "bgcolor": "white",
           "lakecolor": "white",
           "landcolor": "rgb(237,237,237)",
           "showlakes": true,
           "showland": true,
           "subunitcolor": "white"
          },
          "hoverlabel": {
           "align": "left"
          },
          "hovermode": "closest",
          "paper_bgcolor": "white",
          "plot_bgcolor": "rgb(237,237,237)",
          "polar": {
           "angularaxis": {
            "gridcolor": "white",
            "linecolor": "white",
            "showgrid": true,
            "tickcolor": "rgb(51,51,51)",
            "ticks": "outside"
           },
           "bgcolor": "rgb(237,237,237)",
           "radialaxis": {
            "gridcolor": "white",
            "linecolor": "white",
            "showgrid": true,
            "tickcolor": "rgb(51,51,51)",
            "ticks": "outside"
           }
          },
          "scene": {
           "xaxis": {
            "backgroundcolor": "rgb(237,237,237)",
            "gridcolor": "white",
            "gridwidth": 2,
            "linecolor": "white",
            "showbackground": true,
            "showgrid": true,
            "tickcolor": "rgb(51,51,51)",
            "ticks": "outside",
            "zerolinecolor": "white"
           },
           "yaxis": {
            "backgroundcolor": "rgb(237,237,237)",
            "gridcolor": "white",
            "gridwidth": 2,
            "linecolor": "white",
            "showbackground": true,
            "showgrid": true,
            "tickcolor": "rgb(51,51,51)",
            "ticks": "outside",
            "zerolinecolor": "white"
           },
           "zaxis": {
            "backgroundcolor": "rgb(237,237,237)",
            "gridcolor": "white",
            "gridwidth": 2,
            "linecolor": "white",
            "showbackground": true,
            "showgrid": true,
            "tickcolor": "rgb(51,51,51)",
            "ticks": "outside",
            "zerolinecolor": "white"
           }
          },
          "shapedefaults": {
           "fillcolor": "black",
           "line": {
            "width": 0
           },
           "opacity": 0.3
          },
          "ternary": {
           "aaxis": {
            "gridcolor": "white",
            "linecolor": "white",
            "showgrid": true,
            "tickcolor": "rgb(51,51,51)",
            "ticks": "outside"
           },
           "baxis": {
            "gridcolor": "white",
            "linecolor": "white",
            "showgrid": true,
            "tickcolor": "rgb(51,51,51)",
            "ticks": "outside"
           },
           "bgcolor": "rgb(237,237,237)",
           "caxis": {
            "gridcolor": "white",
            "linecolor": "white",
            "showgrid": true,
            "tickcolor": "rgb(51,51,51)",
            "ticks": "outside"
           }
          },
          "xaxis": {
           "automargin": true,
           "gridcolor": "white",
           "linecolor": "white",
           "showgrid": true,
           "tickcolor": "rgb(51,51,51)",
           "ticks": "outside",
           "title": {
            "standoff": 15
           },
           "zerolinecolor": "white"
          },
          "yaxis": {
           "automargin": true,
           "gridcolor": "white",
           "linecolor": "white",
           "showgrid": true,
           "tickcolor": "rgb(51,51,51)",
           "ticks": "outside",
           "title": {
            "standoff": 15
           },
           "zerolinecolor": "white"
          }
         }
        },
        "title": {
         "text": "Outpatient Cost Rankings Per Procedure"
        },
        "xaxis": {
         "anchor": "y",
         "domain": [
          0,
          1
         ],
         "tickfont": {
          "size": 14
         },
         "title": {
          "font": {
           "size": 16
          },
          "text": "APC Definition Id"
         }
        },
        "yaxis": {
         "anchor": "x",
         "autorange": "reversed",
         "domain": [
          0,
          1
         ],
         "tickfont": {
          "size": 14
         },
         "title": {
          "font": {
           "size": 16
          },
          "text": "State"
         }
        }
       }
      },
      "text/html": [
       "<div>                            <div id=\"aef0dd74-92f9-4400-b0bc-4568907e134c\" class=\"plotly-graph-div\" style=\"height:525px; width:100%;\"></div>            <script type=\"text/javascript\">                require([\"plotly\"], function(Plotly) {                    window.PLOTLYENV=window.PLOTLYENV || {};                                    if (document.getElementById(\"aef0dd74-92f9-4400-b0bc-4568907e134c\")) {                    Plotly.newPlot(                        \"aef0dd74-92f9-4400-b0bc-4568907e134c\",                        [{\"coloraxis\":\"coloraxis\",\"name\":\"0\",\"texttemplate\":\"%{z}\",\"x\":[\"0012\",\"0013\",\"0015\",\"0019\",\"0020\",\"0073\",\"0074\",\"0078\",\"0096\",\"0203\",\"0204\",\"0206\",\"0207\",\"0209\",\"0265\",\"0267\",\"0269\",\"0270\",\"0336\",\"0368\",\"0369\",\"0377\",\"0604\",\"0605\",\"0606\",\"0607\",\"0608\",\"0690\",\"0692\",\"0698\"],\"y\":[\"AK\",\"AL\",\"AR\",\"AZ\",\"CA\",\"CO\",\"CT\",\"DC\",\"DE\",\"FL\",\"GA\",\"HI\",\"IA\",\"ID\",\"IL\",\"IN\",\"KS\",\"KY\",\"LA\",\"MA\",\"ME\",\"MI\",\"MN\",\"MO\",\"MS\",\"MT\",\"NC\",\"ND\",\"NE\",\"NH\",\"NJ\",\"NM\",\"NV\",\"NY\",\"OH\",\"OK\",\"OR\",\"PA\",\"RI\",\"SC\",\"SD\",\"TN\",\"TX\",\"UT\",\"VA\",\"VT\",\"WA\",\"WI\",\"WV\",\"WY\"],\"z\":[[46.0,49.0,49.0,-100.0,-100.0,32.0,-100.0,48.0,48.0,-100.0,47.0,-100.0,49.0,48.0,48.0,49.0,48.0,47.0,46.0,48.0,-100.0,48.0,48.0,47.0,47.0,48.0,-100.0,48.0,46.0,-100.0],[42.0,2.0,0.0,8.0,0.0,-100.0,3.0,2.0,2.0,8.0,1.0,1.0,1.0,1.0,2.0,1.0,1.0,1.0,1.0,2.0,2.0,1.0,1.0,1.0,1.0,2.0,2.0,1.0,1.0,-100.0],[30.0,7.0,4.0,7.0,11.0,1.0,2.0,6.0,5.0,14.0,7.0,10.0,5.0,3.0,4.0,6.0,6.0,6.0,2.0,5.0,3.0,5.0,4.0,5.0,4.0,3.0,5.0,2.0,12.0,3.0],[28.0,29.0,36.0,27.0,32.0,28.0,18.0,32.0,27.0,32.0,33.0,30.0,30.0,30.0,30.0,31.0,31.0,30.0,39.0,31.0,32.0,30.0,33.0,30.0,32.0,31.0,29.0,29.0,26.0,22.0],[40.0,48.0,48.0,43.0,47.0,33.0,44.0,49.0,49.0,36.0,49.0,47.0,48.0,49.0,49.0,48.0,49.0,49.0,49.0,49.0,44.0,49.0,49.0,48.0,49.0,49.0,44.0,49.0,45.0,40.0],[26.0,36.0,32.0,34.0,28.0,24.0,25.0,31.0,32.0,2.0,31.0,24.0,27.0,33.0,31.0,30.0,29.0,28.0,30.0,30.0,25.0,31.0,31.0,33.0,31.0,32.0,28.0,34.0,29.0,28.0],[39.0,41.0,47.0,42.0,46.0,-100.0,43.0,47.0,47.0,35.0,48.0,46.0,47.0,47.0,47.0,47.0,47.0,48.0,45.0,47.0,43.0,47.0,47.0,49.0,48.0,47.0,42.0,47.0,44.0,-100.0],[10.0,35.0,40.0,39.0,38.0,22.0,35.0,33.0,34.0,-100.0,34.0,27.0,35.0,35.0,33.0,33.0,34.0,35.0,29.0,34.0,29.0,33.0,32.0,35.0,35.0,33.0,31.0,31.0,-100.0,29.0],[-100.0,28.0,35.0,36.0,36.0,-100.0,37.0,29.0,33.0,-100.0,39.0,40.0,39.0,19.0,32.0,32.0,32.0,32.0,32.0,32.0,28.0,32.0,30.0,32.0,34.0,35.0,-100.0,32.0,-100.0,-100.0],[18.0,15.0,19.0,23.0,15.0,11.0,20.0,20.0,20.0,22.0,20.0,18.0,18.0,21.0,21.0,20.0,20.0,18.0,19.0,19.0,17.0,19.0,19.0,22.0,20.0,18.0,15.0,21.0,18.0,8.0],[41.0,21.0,14.0,25.0,16.0,15.0,19.0,12.0,15.0,-100.0,19.0,25.0,11.0,10.0,9.0,11.0,11.0,15.0,15.0,11.0,19.0,12.0,10.0,12.0,11.0,11.0,10.0,13.0,17.0,16.0],[16.0,18.0,34.0,-100.0,44.0,-100.0,-100.0,43.0,44.0,-100.0,44.0,35.0,46.0,44.0,45.0,45.0,44.0,41.0,47.0,44.0,30.0,44.0,44.0,45.0,44.0,44.0,-100.0,39.0,40.0,31.0],[11.0,16.0,7.0,16.0,17.0,7.0,11.0,16.0,14.0,-100.0,13.0,14.0,19.0,15.0,14.0,15.0,16.0,17.0,9.0,14.0,13.0,14.0,14.0,15.0,14.0,13.0,11.0,6.0,15.0,13.0],[5.0,30.0,26.0,11.0,23.0,-100.0,0.0,19.0,19.0,-100.0,11.0,23.0,16.0,18.0,7.0,18.0,7.0,21.0,36.0,20.0,6.0,18.0,17.0,19.0,19.0,20.0,23.0,24.0,21.0,-100.0],[14.0,22.0,24.0,29.0,30.0,23.0,28.0,25.0,28.0,29.0,28.0,28.0,26.0,25.0,24.0,25.0,25.0,26.0,25.0,25.0,23.0,24.0,26.0,26.0,27.0,26.0,30.0,25.0,27.0,26.0],[22.0,20.0,17.0,21.0,22.0,-100.0,22.0,18.0,18.0,26.0,14.0,7.0,10.0,20.0,19.0,19.0,19.0,19.0,17.0,18.0,16.0,20.0,21.0,17.0,21.0,17.0,19.0,23.0,4.0,17.0],[33.0,9.0,9.0,5.0,7.0,-100.0,24.0,10.0,9.0,24.0,8.0,4.0,15.0,11.0,13.0,8.0,10.0,10.0,10.0,10.0,15.0,11.0,8.0,9.0,10.0,10.0,21.0,11.0,11.0,0.0],[37.0,5.0,8.0,13.0,6.0,6.0,13.0,4.0,7.0,18.0,6.0,6.0,9.0,5.0,5.0,5.0,4.0,5.0,4.0,6.0,4.0,6.0,5.0,6.0,6.0,7.0,6.0,8.0,7.0,2.0],[35.0,10.0,2.0,1.0,4.0,2.0,9.0,3.0,6.0,10.0,2.0,3.0,0.0,6.0,3.0,3.0,3.0,3.0,7.0,3.0,1.0,3.0,3.0,3.0,3.0,5.0,4.0,3.0,5.0,4.0],[38.0,39.0,45.0,38.0,43.0,30.0,42.0,45.0,45.0,34.0,45.0,41.0,44.0,45.0,44.0,44.0,45.0,45.0,40.0,45.0,41.0,45.0,45.0,44.0,45.0,45.0,40.0,45.0,42.0,38.0],[12.0,23.0,23.0,20.0,24.0,16.0,27.0,23.0,23.0,28.0,17.0,26.0,24.0,23.0,23.0,23.0,23.0,24.0,24.0,22.0,21.0,23.0,22.0,18.0,22.0,22.0,17.0,20.0,23.0,12.0],[17.0,24.0,27.0,31.0,31.0,21.0,31.0,26.0,25.0,25.0,26.0,32.0,28.0,26.0,27.0,26.0,26.0,31.0,23.0,26.0,26.0,26.0,27.0,27.0,29.0,27.0,26.0,26.0,28.0,24.0],[25.0,31.0,38.0,32.0,35.0,18.0,33.0,36.0,36.0,7.0,37.0,36.0,38.0,36.0,35.0,35.0,35.0,37.0,42.0,36.0,33.0,36.0,36.0,36.0,36.0,36.0,34.0,33.0,32.0,25.0],[15.0,17.0,13.0,14.0,13.0,0.0,4.0,9.0,8.0,11.0,10.0,15.0,13.0,9.0,12.0,9.0,9.0,7.0,11.0,9.0,9.0,8.0,9.0,8.0,8.0,6.0,8.0,7.0,10.0,5.0],[45.0,4.0,5.0,2.0,3.0,-100.0,6.0,1.0,1.0,3.0,4.0,12.0,3.0,2.0,1.0,2.0,2.0,2.0,3.0,1.0,7.0,2.0,2.0,2.0,0.0,4.0,0.0,4.0,0.0,-100.0],[9.0,37.0,29.0,-100.0,29.0,19.0,32.0,30.0,31.0,13.0,32.0,33.0,29.0,31.0,29.0,29.0,30.0,29.0,33.0,28.0,36.0,29.0,29.0,29.0,30.0,30.0,24.0,30.0,31.0,30.0],[23.0,11.0,12.0,15.0,12.0,10.0,5.0,11.0,12.0,0.0,9.0,11.0,12.0,12.0,11.0,12.0,13.0,13.0,12.0,12.0,14.0,13.0,15.0,11.0,12.0,9.0,16.0,15.0,14.0,10.0],[13.0,27.0,25.0,10.0,26.0,20.0,29.0,28.0,30.0,16.0,22.0,34.0,31.0,29.0,28.0,28.0,28.0,33.0,27.0,29.0,27.0,28.0,28.0,28.0,28.0,28.0,27.0,28.0,30.0,27.0],[1.0,13.0,22.0,-100.0,14.0,-100.0,21.0,21.0,21.0,6.0,27.0,17.0,22.0,24.0,22.0,22.0,22.0,16.0,21.0,23.0,-100.0,21.0,23.0,24.0,18.0,23.0,22.0,17.0,25.0,18.0],[31.0,46.0,43.0,40.0,42.0,31.0,39.0,41.0,41.0,-100.0,42.0,43.0,43.0,42.0,42.0,42.0,42.0,40.0,38.0,42.0,38.0,42.0,41.0,40.0,40.0,39.0,39.0,38.0,38.0,36.0],[-100.0,43.0,46.0,41.0,45.0,-100.0,45.0,46.0,46.0,31.0,46.0,44.0,45.0,46.0,46.0,46.0,46.0,46.0,43.0,46.0,40.0,46.0,46.0,46.0,46.0,46.0,41.0,46.0,43.0,39.0],[2.0,38.0,31.0,26.0,27.0,13.0,-100.0,27.0,24.0,27.0,21.0,21.0,23.0,28.0,25.0,24.0,24.0,25.0,22.0,24.0,-100.0,25.0,25.0,23.0,24.0,29.0,13.0,22.0,24.0,19.0],[34.0,45.0,30.0,-100.0,33.0,-100.0,30.0,42.0,37.0,-100.0,35.0,42.0,41.0,32.0,39.0,41.0,39.0,42.0,48.0,41.0,-100.0,41.0,39.0,38.0,38.0,34.0,35.0,44.0,34.0,-100.0],[29.0,47.0,44.0,22.0,40.0,34.0,38.0,35.0,40.0,33.0,38.0,31.0,42.0,37.0,41.0,40.0,41.0,43.0,35.0,39.0,42.0,39.0,42.0,43.0,43.0,43.0,36.0,41.0,33.0,37.0],[4.0,8.0,11.0,12.0,8.0,9.0,14.0,13.0,16.0,20.0,16.0,16.0,17.0,14.0,16.0,17.0,18.0,14.0,14.0,16.0,18.0,16.0,16.0,13.0,15.0,14.0,18.0,18.0,20.0,15.0],[21.0,12.0,6.0,17.0,5.0,-100.0,7.0,7.0,3.0,17.0,3.0,5.0,4.0,8.0,8.0,7.0,8.0,8.0,5.0,7.0,8.0,7.0,7.0,7.0,7.0,8.0,7.0,9.0,8.0,-100.0],[36.0,42.0,41.0,30.0,37.0,25.0,34.0,38.0,38.0,-100.0,41.0,39.0,32.0,38.0,37.0,37.0,38.0,36.0,37.0,40.0,34.0,38.0,37.0,37.0,37.0,38.0,32.0,35.0,36.0,33.0],[8.0,6.0,18.0,19.0,21.0,8.0,15.0,22.0,22.0,30.0,23.0,20.0,21.0,22.0,20.0,21.0,21.0,22.0,20.0,21.0,22.0,22.0,20.0,21.0,23.0,21.0,20.0,19.0,13.0,20.0],[43.0,32.0,21.0,33.0,39.0,27.0,41.0,44.0,43.0,-100.0,43.0,45.0,40.0,43.0,43.0,43.0,43.0,44.0,41.0,43.0,39.0,43.0,43.0,42.0,42.0,42.0,38.0,42.0,39.0,34.0],[44.0,14.0,10.0,6.0,10.0,4.0,12.0,8.0,11.0,1.0,12.0,9.0,6.0,7.0,10.0,10.0,12.0,9.0,8.0,8.0,11.0,9.0,11.0,10.0,9.0,12.0,3.0,12.0,3.0,6.0],[32.0,44.0,42.0,24.0,9.0,-100.0,26.0,40.0,35.0,21.0,29.0,0.0,33.0,41.0,38.0,36.0,36.0,23.0,31.0,37.0,35.0,37.0,40.0,41.0,39.0,41.0,43.0,40.0,37.0,21.0],[27.0,3.0,1.0,18.0,2.0,14.0,10.0,5.0,4.0,15.0,5.0,13.0,7.0,4.0,6.0,4.0,5.0,4.0,6.0,4.0,5.0,4.0,6.0,4.0,5.0,1.0,1.0,5.0,9.0,11.0],[6.0,19.0,16.0,9.0,18.0,3.0,17.0,15.0,13.0,19.0,15.0,19.0,14.0,17.0,17.0,14.0,15.0,11.0,18.0,15.0,12.0,15.0,13.0,16.0,17.0,16.0,14.0,14.0,16.0,14.0],[7.0,25.0,20.0,4.0,19.0,5.0,8.0,17.0,10.0,5.0,18.0,8.0,8.0,13.0,18.0,13.0,14.0,12.0,16.0,17.0,10.0,10.0,12.0,14.0,13.0,15.0,12.0,10.0,6.0,9.0],[3.0,26.0,15.0,3.0,20.0,12.0,16.0,14.0,17.0,4.0,24.0,22.0,20.0,16.0,15.0,16.0,17.0,20.0,13.0,13.0,20.0,17.0,18.0,20.0,16.0,19.0,9.0,16.0,19.0,7.0],[20.0,40.0,39.0,35.0,34.0,29.0,40.0,34.0,42.0,9.0,36.0,38.0,36.0,40.0,34.0,34.0,33.0,38.0,28.0,33.0,37.0,34.0,35.0,34.0,33.0,37.0,37.0,37.0,41.0,35.0],[24.0,34.0,37.0,37.0,41.0,26.0,36.0,39.0,39.0,-100.0,40.0,37.0,37.0,39.0,36.0,39.0,40.0,39.0,44.0,38.0,31.0,40.0,38.0,39.0,41.0,40.0,33.0,36.0,35.0,32.0],[19.0,33.0,28.0,28.0,25.0,17.0,23.0,24.0,26.0,23.0,25.0,29.0,25.0,27.0,26.0,27.0,27.0,27.0,26.0,27.0,24.0,27.0,24.0,25.0,25.0,25.0,25.0,27.0,22.0,23.0],[0.0,1.0,3.0,0.0,1.0,-100.0,1.0,0.0,0.0,12.0,0.0,2.0,2.0,0.0,0.0,0.0,0.0,0.0,0.0,0.0,0.0,0.0,0.0,0.0,2.0,0.0,-100.0,0.0,2.0,1.0],[-100.0,0.0,33.0,-100.0,-100.0,-100.0,-100.0,37.0,29.0,-100.0,30.0,-100.0,34.0,34.0,40.0,38.0,37.0,34.0,34.0,35.0,-100.0,35.0,34.0,31.0,26.0,24.0,-100.0,43.0,-100.0,-100.0]],\"type\":\"heatmap\",\"xaxis\":\"x\",\"yaxis\":\"y\",\"hovertemplate\":\"x: %{x}<br>y: %{y}<br>color: %{z}<extra></extra>\"}],                        {\"template\":{\"data\":{\"barpolar\":[{\"marker\":{\"line\":{\"color\":\"rgb(237,237,237)\",\"width\":0.5},\"pattern\":{\"fillmode\":\"overlay\",\"size\":10,\"solidity\":0.2}},\"type\":\"barpolar\"}],\"bar\":[{\"error_x\":{\"color\":\"rgb(51,51,51)\"},\"error_y\":{\"color\":\"rgb(51,51,51)\"},\"marker\":{\"line\":{\"color\":\"rgb(237,237,237)\",\"width\":0.5},\"pattern\":{\"fillmode\":\"overlay\",\"size\":10,\"solidity\":0.2}},\"type\":\"bar\"}],\"carpet\":[{\"aaxis\":{\"endlinecolor\":\"rgb(51,51,51)\",\"gridcolor\":\"white\",\"linecolor\":\"white\",\"minorgridcolor\":\"white\",\"startlinecolor\":\"rgb(51,51,51)\"},\"baxis\":{\"endlinecolor\":\"rgb(51,51,51)\",\"gridcolor\":\"white\",\"linecolor\":\"white\",\"minorgridcolor\":\"white\",\"startlinecolor\":\"rgb(51,51,51)\"},\"type\":\"carpet\"}],\"choropleth\":[{\"colorbar\":{\"outlinewidth\":0,\"tickcolor\":\"rgb(237,237,237)\",\"ticklen\":6,\"ticks\":\"inside\"},\"type\":\"choropleth\"}],\"contourcarpet\":[{\"colorbar\":{\"outlinewidth\":0,\"tickcolor\":\"rgb(237,237,237)\",\"ticklen\":6,\"ticks\":\"inside\"},\"type\":\"contourcarpet\"}],\"contour\":[{\"colorbar\":{\"outlinewidth\":0,\"tickcolor\":\"rgb(237,237,237)\",\"ticklen\":6,\"ticks\":\"inside\"},\"colorscale\":[[0,\"rgb(20,44,66)\"],[1,\"rgb(90,179,244)\"]],\"type\":\"contour\"}],\"heatmapgl\":[{\"colorbar\":{\"outlinewidth\":0,\"tickcolor\":\"rgb(237,237,237)\",\"ticklen\":6,\"ticks\":\"inside\"},\"colorscale\":[[0,\"rgb(20,44,66)\"],[1,\"rgb(90,179,244)\"]],\"type\":\"heatmapgl\"}],\"heatmap\":[{\"colorbar\":{\"outlinewidth\":0,\"tickcolor\":\"rgb(237,237,237)\",\"ticklen\":6,\"ticks\":\"inside\"},\"colorscale\":[[0,\"rgb(20,44,66)\"],[1,\"rgb(90,179,244)\"]],\"type\":\"heatmap\"}],\"histogram2dcontour\":[{\"colorbar\":{\"outlinewidth\":0,\"tickcolor\":\"rgb(237,237,237)\",\"ticklen\":6,\"ticks\":\"inside\"},\"colorscale\":[[0,\"rgb(20,44,66)\"],[1,\"rgb(90,179,244)\"]],\"type\":\"histogram2dcontour\"}],\"histogram2d\":[{\"colorbar\":{\"outlinewidth\":0,\"tickcolor\":\"rgb(237,237,237)\",\"ticklen\":6,\"ticks\":\"inside\"},\"colorscale\":[[0,\"rgb(20,44,66)\"],[1,\"rgb(90,179,244)\"]],\"type\":\"histogram2d\"}],\"histogram\":[{\"marker\":{\"pattern\":{\"fillmode\":\"overlay\",\"size\":10,\"solidity\":0.2}},\"type\":\"histogram\"}],\"mesh3d\":[{\"colorbar\":{\"outlinewidth\":0,\"tickcolor\":\"rgb(237,237,237)\",\"ticklen\":6,\"ticks\":\"inside\"},\"type\":\"mesh3d\"}],\"parcoords\":[{\"line\":{\"colorbar\":{\"outlinewidth\":0,\"tickcolor\":\"rgb(237,237,237)\",\"ticklen\":6,\"ticks\":\"inside\"}},\"type\":\"parcoords\"}],\"pie\":[{\"automargin\":true,\"type\":\"pie\"}],\"scatter3d\":[{\"line\":{\"colorbar\":{\"outlinewidth\":0,\"tickcolor\":\"rgb(237,237,237)\",\"ticklen\":6,\"ticks\":\"inside\"}},\"marker\":{\"colorbar\":{\"outlinewidth\":0,\"tickcolor\":\"rgb(237,237,237)\",\"ticklen\":6,\"ticks\":\"inside\"}},\"type\":\"scatter3d\"}],\"scattercarpet\":[{\"marker\":{\"colorbar\":{\"outlinewidth\":0,\"tickcolor\":\"rgb(237,237,237)\",\"ticklen\":6,\"ticks\":\"inside\"}},\"type\":\"scattercarpet\"}],\"scattergeo\":[{\"marker\":{\"colorbar\":{\"outlinewidth\":0,\"tickcolor\":\"rgb(237,237,237)\",\"ticklen\":6,\"ticks\":\"inside\"}},\"type\":\"scattergeo\"}],\"scattergl\":[{\"marker\":{\"colorbar\":{\"outlinewidth\":0,\"tickcolor\":\"rgb(237,237,237)\",\"ticklen\":6,\"ticks\":\"inside\"}},\"type\":\"scattergl\"}],\"scattermapbox\":[{\"marker\":{\"colorbar\":{\"outlinewidth\":0,\"tickcolor\":\"rgb(237,237,237)\",\"ticklen\":6,\"ticks\":\"inside\"}},\"type\":\"scattermapbox\"}],\"scatterpolargl\":[{\"marker\":{\"colorbar\":{\"outlinewidth\":0,\"tickcolor\":\"rgb(237,237,237)\",\"ticklen\":6,\"ticks\":\"inside\"}},\"type\":\"scatterpolargl\"}],\"scatterpolar\":[{\"marker\":{\"colorbar\":{\"outlinewidth\":0,\"tickcolor\":\"rgb(237,237,237)\",\"ticklen\":6,\"ticks\":\"inside\"}},\"type\":\"scatterpolar\"}],\"scatter\":[{\"marker\":{\"colorbar\":{\"outlinewidth\":0,\"tickcolor\":\"rgb(237,237,237)\",\"ticklen\":6,\"ticks\":\"inside\"}},\"type\":\"scatter\"}],\"scatterternary\":[{\"marker\":{\"colorbar\":{\"outlinewidth\":0,\"tickcolor\":\"rgb(237,237,237)\",\"ticklen\":6,\"ticks\":\"inside\"}},\"type\":\"scatterternary\"}],\"surface\":[{\"colorbar\":{\"outlinewidth\":0,\"tickcolor\":\"rgb(237,237,237)\",\"ticklen\":6,\"ticks\":\"inside\"},\"colorscale\":[[0,\"rgb(20,44,66)\"],[1,\"rgb(90,179,244)\"]],\"type\":\"surface\"}],\"table\":[{\"cells\":{\"fill\":{\"color\":\"rgb(237,237,237)\"},\"line\":{\"color\":\"white\"}},\"header\":{\"fill\":{\"color\":\"rgb(217,217,217)\"},\"line\":{\"color\":\"white\"}},\"type\":\"table\"}]},\"layout\":{\"annotationdefaults\":{\"arrowhead\":0,\"arrowwidth\":1},\"autotypenumbers\":\"strict\",\"coloraxis\":{\"colorbar\":{\"outlinewidth\":0,\"tickcolor\":\"rgb(237,237,237)\",\"ticklen\":6,\"ticks\":\"inside\"}},\"colorscale\":{\"sequential\":[[0,\"rgb(20,44,66)\"],[1,\"rgb(90,179,244)\"]],\"sequentialminus\":[[0,\"rgb(20,44,66)\"],[1,\"rgb(90,179,244)\"]]},\"colorway\":[\"#F8766D\",\"#A3A500\",\"#00BF7D\",\"#00B0F6\",\"#E76BF3\"],\"font\":{\"color\":\"rgb(51,51,51)\"},\"geo\":{\"bgcolor\":\"white\",\"lakecolor\":\"white\",\"landcolor\":\"rgb(237,237,237)\",\"showlakes\":true,\"showland\":true,\"subunitcolor\":\"white\"},\"hoverlabel\":{\"align\":\"left\"},\"hovermode\":\"closest\",\"paper_bgcolor\":\"white\",\"plot_bgcolor\":\"rgb(237,237,237)\",\"polar\":{\"angularaxis\":{\"gridcolor\":\"white\",\"linecolor\":\"white\",\"showgrid\":true,\"tickcolor\":\"rgb(51,51,51)\",\"ticks\":\"outside\"},\"bgcolor\":\"rgb(237,237,237)\",\"radialaxis\":{\"gridcolor\":\"white\",\"linecolor\":\"white\",\"showgrid\":true,\"tickcolor\":\"rgb(51,51,51)\",\"ticks\":\"outside\"}},\"scene\":{\"xaxis\":{\"backgroundcolor\":\"rgb(237,237,237)\",\"gridcolor\":\"white\",\"gridwidth\":2,\"linecolor\":\"white\",\"showbackground\":true,\"showgrid\":true,\"tickcolor\":\"rgb(51,51,51)\",\"ticks\":\"outside\",\"zerolinecolor\":\"white\"},\"yaxis\":{\"backgroundcolor\":\"rgb(237,237,237)\",\"gridcolor\":\"white\",\"gridwidth\":2,\"linecolor\":\"white\",\"showbackground\":true,\"showgrid\":true,\"tickcolor\":\"rgb(51,51,51)\",\"ticks\":\"outside\",\"zerolinecolor\":\"white\"},\"zaxis\":{\"backgroundcolor\":\"rgb(237,237,237)\",\"gridcolor\":\"white\",\"gridwidth\":2,\"linecolor\":\"white\",\"showbackground\":true,\"showgrid\":true,\"tickcolor\":\"rgb(51,51,51)\",\"ticks\":\"outside\",\"zerolinecolor\":\"white\"}},\"shapedefaults\":{\"fillcolor\":\"black\",\"line\":{\"width\":0},\"opacity\":0.3},\"ternary\":{\"aaxis\":{\"gridcolor\":\"white\",\"linecolor\":\"white\",\"showgrid\":true,\"tickcolor\":\"rgb(51,51,51)\",\"ticks\":\"outside\"},\"baxis\":{\"gridcolor\":\"white\",\"linecolor\":\"white\",\"showgrid\":true,\"tickcolor\":\"rgb(51,51,51)\",\"ticks\":\"outside\"},\"bgcolor\":\"rgb(237,237,237)\",\"caxis\":{\"gridcolor\":\"white\",\"linecolor\":\"white\",\"showgrid\":true,\"tickcolor\":\"rgb(51,51,51)\",\"ticks\":\"outside\"}},\"xaxis\":{\"automargin\":true,\"gridcolor\":\"white\",\"linecolor\":\"white\",\"showgrid\":true,\"tickcolor\":\"rgb(51,51,51)\",\"ticks\":\"outside\",\"title\":{\"standoff\":15},\"zerolinecolor\":\"white\"},\"yaxis\":{\"automargin\":true,\"gridcolor\":\"white\",\"linecolor\":\"white\",\"showgrid\":true,\"tickcolor\":\"rgb(51,51,51)\",\"ticks\":\"outside\",\"title\":{\"standoff\":15},\"zerolinecolor\":\"white\"}}},\"xaxis\":{\"anchor\":\"y\",\"domain\":[0.0,1.0],\"title\":{\"text\":\"APC Definition Id\",\"font\":{\"size\":16}},\"tickfont\":{\"size\":14}},\"yaxis\":{\"anchor\":\"x\",\"domain\":[0.0,1.0],\"autorange\":\"reversed\",\"title\":{\"text\":\"State\",\"font\":{\"size\":16}},\"tickfont\":{\"size\":14}},\"coloraxis\":{\"colorscale\":[[0.0,\"#0d0887\"],[0.1111111111111111,\"#46039f\"],[0.2222222222222222,\"#7201a8\"],[0.3333333333333333,\"#9c179e\"],[0.4444444444444444,\"#bd3786\"],[0.5555555555555556,\"#d8576b\"],[0.6666666666666666,\"#ed7953\"],[0.7777777777777778,\"#fb9f3a\"],[0.8888888888888888,\"#fdca26\"],[1.0,\"#f0f921\"]]},\"margin\":{\"t\":60},\"legend\":{\"x\":0,\"y\":1.0},\"title\":{\"text\":\"Outpatient Cost Rankings Per Procedure\"},\"barmode\":\"group\",\"bargap\":0.15,\"bargroupgap\":0.1},                        {\"responsive\": true}                    ).then(function(){\n",
       "                            \n",
       "var gd = document.getElementById('aef0dd74-92f9-4400-b0bc-4568907e134c');\n",
       "var x = new MutationObserver(function (mutations, observer) {{\n",
       "        var display = window.getComputedStyle(gd).display;\n",
       "        if (!display || display === 'none') {{\n",
       "            console.log([gd, 'removed!']);\n",
       "            Plotly.purge(gd);\n",
       "            observer.disconnect();\n",
       "        }}\n",
       "}});\n",
       "\n",
       "// Listen for the removal of the full notebook cells\n",
       "var notebookContainer = gd.closest('#notebook-container');\n",
       "if (notebookContainer) {{\n",
       "    x.observe(notebookContainer, {childList: true});\n",
       "}}\n",
       "\n",
       "// Listen for the clearing of the current output cell\n",
       "var outputEl = gd.closest('.output');\n",
       "if (outputEl) {{\n",
       "    x.observe(outputEl, {childList: true});\n",
       "}}\n",
       "\n",
       "                        })                };                });            </script>        </div>"
      ]
     },
     "metadata": {},
     "output_type": "display_data"
    }
   ],
   "source": [
    "fig = px.imshow(_df,text_auto=True, aspect=\"auto\")\n",
    "fig.update_layout(\n",
    "    title='Outpatient Cost Rankings Per Procedure',\n",
    "    template='ggplot2',\n",
    "    xaxis=dict(\n",
    "        title='APC Definition Id',\n",
    "        titlefont_size=16,\n",
    "        tickfont_size=14,\n",
    "    ),\n",
    "    yaxis=dict(\n",
    "        title='State',\n",
    "        titlefont_size=16,\n",
    "        tickfont_size=14,\n",
    "    ),\n",
    "    legend=dict(\n",
    "        x=0,\n",
    "        y=1.0,\n",
    "    ),\n",
    "    barmode='group',\n",
    "    bargap=0.15,\n",
    "    bargroupgap=0.1 \n",
    ")\n",
    "fig.show()\n",
    "fig.write_image(\"outpatient_analysis_graphs\\outpatient_cost_rank_per_procedure.png\", engine='orca')"
   ]
  },
  {
   "cell_type": "markdown",
   "metadata": {},
   "source": [
    "Outpatient by 10 Most Expensive Procedures"
   ]
  },
  {
   "cell_type": "code",
   "execution_count": 8,
   "metadata": {},
   "outputs": [
    {
     "data": {
      "text/plain": [
       "<Figure size 2160x576 with 0 Axes>"
      ]
     },
     "execution_count": 8,
     "metadata": {},
     "output_type": "execute_result"
    },
    {
     "data": {
      "text/plain": [
       "Text(0.5, 1.0, 'Outpatient Top 10 Most Expensive Cares')"
      ]
     },
     "execution_count": 8,
     "metadata": {},
     "output_type": "execute_result"
    },
    {
     "data": {
      "image/png": "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",
      "text/plain": [
       "<Figure size 2160x576 with 1 Axes>"
      ]
     },
     "metadata": {
      "needs_background": "light"
     },
     "output_type": "display_data"
    }
   ],
   "source": [
    "outp_group3 = outpatient_df.groupby('APC')['Average Total Payments'].sum().nlargest(10).reset_index()\n",
    "\n",
    "APC_ = []\n",
    "for i in outp_group3['APC']:\n",
    "    APC_.append(i[0:4])\n",
    "\n",
    "outp = {'APC': APC_, 'Average Total Payments': outp_group3['Average Total Payments']}\n",
    "outpatient_top10 = pd.DataFrame(data=outp)\n",
    "\n",
    "plt.figure(figsize=(30,8))\n",
    "plt.title('Outpatient Top 10 Most Expensive Cares', fontdict = {'fontsize' : 20})\n",
    "_=sns.barplot(data=outpatient_top10, x=\"APC\", y=\"Average Total Payments\")\n",
    "\n",
    "plt.show()"
   ]
  },
  {
   "cell_type": "markdown",
   "metadata": {},
   "source": [
    "Closer insight into differences in outpatient costs among different states for the same procedures (Top 3)"
   ]
  },
  {
   "cell_type": "code",
   "execution_count": 4,
   "metadata": {},
   "outputs": [],
   "source": [
    "new_outp = outpatient_df[['Provider State', 'APC', 'Average Total Payments']]"
   ]
  },
  {
   "cell_type": "markdown",
   "metadata": {},
   "source": [
    "1. Most expensive procedure: 0377 - Level II Cardiac Imaging"
   ]
  },
  {
   "cell_type": "code",
   "execution_count": 5,
   "metadata": {},
   "outputs": [
    {
     "data": {
      "text/plain": [
       "<AxesSubplot:title={'center':'Cost Comparison Among Different States for the Procedure 0377'}, xlabel='States', ylabel='Average Cost'>"
      ]
     },
     "execution_count": 5,
     "metadata": {},
     "output_type": "execute_result"
    },
    {
     "data": {
      "image/png": "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",
      "text/plain": [
       "<Figure size 2160x576 with 1 Axes>"
      ]
     },
     "metadata": {
      "needs_background": "light"
     },
     "output_type": "display_data"
    }
   ],
   "source": [
    "outp_group = new_outp[new_outp['APC'] == '0377 - Level II Cardiac Imaging']\n",
    "outp_pay = outp_group.groupby(by=['Provider State'])['Average Total Payments'].sum().reset_index()\n",
    "\n",
    "a = np.array(outp_pay['Average Total Payments'])\n",
    "a_mean = np.mean(a)\n",
    "b = {'States': outp_pay['Provider State'], 'Average Cost': a}\n",
    "\n",
    "procedure_cost = pd.DataFrame(data=b)\n",
    "\n",
    "_=plt.figure(figsize=(30,8))\n",
    "_=plt.axhline(a_mean, label='Average Cost')\n",
    "_=plt.title('Cost Comparison Among Different States for the Procedure 0377', fontdict={'fontsize' : 20})\n",
    "_=plt.legend()\n",
    "\n",
    "sns.barplot(data=procedure_cost, x='States', y='Average Cost')"
   ]
  },
  {
   "cell_type": "markdown",
   "metadata": {},
   "source": [
    "2. Second Most Expensive Procedure: 0209 - Level II Extended EEG, Sleep, and Cardiovascular Studies"
   ]
  },
  {
   "cell_type": "code",
   "execution_count": 6,
   "metadata": {},
   "outputs": [
    {
     "data": {
      "text/plain": [
       "<AxesSubplot:title={'center':'Cost Comparison Among Different States for the Procedure 0209'}, xlabel='States', ylabel='Average Cost'>"
      ]
     },
     "execution_count": 6,
     "metadata": {},
     "output_type": "execute_result"
    },
    {
     "data": {
      "image/png": "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",
      "text/plain": [
       "<Figure size 2160x576 with 1 Axes>"
      ]
     },
     "metadata": {
      "needs_background": "light"
     },
     "output_type": "display_data"
    }
   ],
   "source": [
    "outp_group2 = new_outp[new_outp['APC'] == '0209 - Level II Extended EEG, Sleep, and Cardiovascular Studies']\n",
    "outp_pay2 = outp_group2.groupby(by=['Provider State'])['Average Total Payments'].sum().reset_index()\n",
    "\n",
    "a = np.array(outp_pay2['Average Total Payments'])\n",
    "a_mean = np.mean(a)\n",
    "b = {'States': outp_pay2['Provider State'], 'Average Cost': a}\n",
    "\n",
    "procedure_cost = pd.DataFrame(data=b)\n",
    "\n",
    "_=plt.figure(figsize=(30,8))\n",
    "_=plt.axhline(a_mean, label='Average Cost')\n",
    "_=plt.title('Cost Comparison Among Different States for the Procedure 0209', fontdict={'fontsize' : 20})\n",
    "_=plt.legend()\n",
    "\n",
    "sns.barplot(data=procedure_cost, x='States', y='Average Cost')"
   ]
  },
  {
   "cell_type": "markdown",
   "metadata": {},
   "source": [
    "3. Third Most Expensive Procedure: 0269 - Level II Echocardiogram Without Contrast"
   ]
  },
  {
   "cell_type": "code",
   "execution_count": 7,
   "metadata": {},
   "outputs": [
    {
     "data": {
      "text/plain": [
       "<AxesSubplot:title={'center':'Cost Comparison Among Different States for the Procedure 0209'}, xlabel='States', ylabel='Average Cost'>"
      ]
     },
     "execution_count": 7,
     "metadata": {},
     "output_type": "execute_result"
    },
    {
     "data": {
      "image/png": "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",
      "text/plain": [
       "<Figure size 2160x576 with 1 Axes>"
      ]
     },
     "metadata": {
      "needs_background": "light"
     },
     "output_type": "display_data"
    }
   ],
   "source": [
    "outp_group3 = new_outp[new_outp['APC'] == '0269 - Level II Echocardiogram Without Contrast']\n",
    "outp_pay3 = outp_group3.groupby(by=['Provider State'])['Average Total Payments'].sum().reset_index()\n",
    "\n",
    "a = np.array(outp_pay3['Average Total Payments'])\n",
    "a_mean = np.mean(a)\n",
    "b = {'States': outp_pay3['Provider State'], 'Average Cost': a}\n",
    "\n",
    "procedure_cost = pd.DataFrame(data=b)\n",
    "\n",
    "_=plt.figure(figsize=(30,8))\n",
    "_=plt.axhline(a_mean, label='Average Cost')\n",
    "_=plt.title('Cost Comparison Among Different States for the Procedure 0209', fontdict={'fontsize' : 20})\n",
    "_=plt.legend()\n",
    "\n",
    "sns.barplot(data=procedure_cost, x='States', y='Average Cost')"
   ]
  },
  {
   "cell_type": "markdown",
   "metadata": {},
   "source": [
    "##### Conclusion: We observe common trend from the graphs above. In particular, the states that have the higher procedure costs (above average) are almost identical. The states with the most expensive costs include: CA, FL, GA, IL, MI, NY, OH, PA, TN, and TX. All of those states either have high overall population, or populated metropolitan area."
   ]
  }
 ],
 "metadata": {
  "kernelspec": {
   "display_name": "Python 3.9.7 ('base')",
   "language": "python",
   "name": "python3"
  },
  "language_info": {
   "codemirror_mode": {
    "name": "ipython",
    "version": 3
   },
   "file_extension": ".py",
   "mimetype": "text/x-python",
   "name": "python",
   "nbconvert_exporter": "python",
   "pygments_lexer": "ipython3",
   "version": "3.9.7"
  },
  "orig_nbformat": 4,
  "vscode": {
   "interpreter": {
    "hash": "8f2dfc67e9f9420847b6bc6f2bba8684fd0a547e4c1b2a47c6c96dbcc157d7de"
   }
  }
 },
 "nbformat": 4,
 "nbformat_minor": 2
}
