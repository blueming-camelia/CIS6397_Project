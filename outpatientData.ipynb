{
 "cells": [
  {
   "cell_type": "code",
   "execution_count": 82,
   "metadata": {},
   "outputs": [
    {
     "data": {
      "text/html": [
       "        <script type=\"text/javascript\">\n",
       "        window.PlotlyConfig = {MathJaxConfig: 'local'};\n",
       "        if (window.MathJax) {MathJax.Hub.Config({SVG: {font: \"STIX-Web\"}});}\n",
       "        if (typeof require !== 'undefined') {\n",
       "        require.undef(\"plotly\");\n",
       "        requirejs.config({\n",
       "            paths: {\n",
       "                'plotly': ['https://cdn.plot.ly/plotly-2.9.0.min']\n",
       "            }\n",
       "        });\n",
       "        require(['plotly'], function(Plotly) {\n",
       "            window._Plotly = Plotly;\n",
       "        });\n",
       "        }\n",
       "        </script>\n",
       "        "
      ]
     },
     "metadata": {},
     "output_type": "display_data"
    }
   ],
   "source": [
    "from collections import defaultdict\n",
    "import pandas as pd\n",
    "import numpy as np\n",
    "import sqlite3\n",
    "import pdb\n",
    "from tkinter import ON\n",
    "import csv\n",
    "import os\n",
    "if not os.path.exists(\"images\"):\n",
    "    os.mkdir(\"images\")\n",
    "\n",
    "%matplotlib inline\n",
    "from plotly.offline import plot, iplot, init_notebook_mode\n",
    "import plotly.graph_objs as go\n",
    "init_notebook_mode(connected=True)\n",
    "import matplotlib.pyplot as plt\n",
    "import plotly.express as px\n",
    "import plotly.io as pio\n",
    "pio.templates\n",
    "import seaborn as sns"
   ]
  },
  {
   "cell_type": "markdown",
   "metadata": {},
   "source": [
    "## Outpatient Descriptive Statistics "
   ]
  },
  {
   "cell_type": "code",
   "execution_count": 83,
   "metadata": {},
   "outputs": [],
   "source": [
    "outpatient_df = pd.read_csv('idea-1/medicare-data/medicare-data/Outpatient_provdr.csv')"
   ]
  },
  {
   "cell_type": "code",
   "execution_count": 84,
   "metadata": {},
   "outputs": [
    {
     "data": {
      "text/html": [
       "<div>\n",
       "<style scoped>\n",
       "    .dataframe tbody tr th:only-of-type {\n",
       "        vertical-align: middle;\n",
       "    }\n",
       "\n",
       "    .dataframe tbody tr th {\n",
       "        vertical-align: top;\n",
       "    }\n",
       "\n",
       "    .dataframe thead th {\n",
       "        text-align: right;\n",
       "    }\n",
       "</style>\n",
       "<table border=\"1\" class=\"dataframe\">\n",
       "  <thead>\n",
       "    <tr style=\"text-align: right;\">\n",
       "      <th></th>\n",
       "      <th>Provider Id</th>\n",
       "      <th>Provider Zip Code</th>\n",
       "      <th>Outpatient Services</th>\n",
       "      <th>Average  Estimated Submitted Charges</th>\n",
       "      <th>Average Total Payments</th>\n",
       "    </tr>\n",
       "  </thead>\n",
       "  <tbody>\n",
       "    <tr>\n",
       "      <th>count</th>\n",
       "      <td>43372.000000</td>\n",
       "      <td>43372.000000</td>\n",
       "      <td>43372.000000</td>\n",
       "      <td>43372.000000</td>\n",
       "      <td>43372.000000</td>\n",
       "    </tr>\n",
       "    <tr>\n",
       "      <th>mean</th>\n",
       "      <td>265410.921747</td>\n",
       "      <td>49041.022434</td>\n",
       "      <td>587.980955</td>\n",
       "      <td>1473.994047</td>\n",
       "      <td>265.425586</td>\n",
       "    </tr>\n",
       "    <tr>\n",
       "      <th>std</th>\n",
       "      <td>152729.927698</td>\n",
       "      <td>27497.899751</td>\n",
       "      <td>3280.397168</td>\n",
       "      <td>1837.530791</td>\n",
       "      <td>261.260146</td>\n",
       "    </tr>\n",
       "    <tr>\n",
       "      <th>min</th>\n",
       "      <td>10001.000000</td>\n",
       "      <td>1040.000000</td>\n",
       "      <td>11.000000</td>\n",
       "      <td>12.643750</td>\n",
       "      <td>7.305000</td>\n",
       "    </tr>\n",
       "    <tr>\n",
       "      <th>25%</th>\n",
       "      <td>140043.000000</td>\n",
       "      <td>28645.000000</td>\n",
       "      <td>42.000000</td>\n",
       "      <td>284.610498</td>\n",
       "      <td>74.627714</td>\n",
       "    </tr>\n",
       "    <tr>\n",
       "      <th>50%</th>\n",
       "      <td>260091.000000</td>\n",
       "      <td>46342.000000</td>\n",
       "      <td>128.000000</td>\n",
       "      <td>709.995188</td>\n",
       "      <td>139.298570</td>\n",
       "    </tr>\n",
       "    <tr>\n",
       "      <th>75%</th>\n",
       "      <td>390101.000000</td>\n",
       "      <td>73101.000000</td>\n",
       "      <td>347.000000</td>\n",
       "      <td>2102.121346</td>\n",
       "      <td>394.211316</td>\n",
       "    </tr>\n",
       "    <tr>\n",
       "      <th>max</th>\n",
       "      <td>670061.000000</td>\n",
       "      <td>99801.000000</td>\n",
       "      <td>219042.000000</td>\n",
       "      <td>32105.636360</td>\n",
       "      <td>2062.470526</td>\n",
       "    </tr>\n",
       "  </tbody>\n",
       "</table>\n",
       "</div>"
      ],
      "text/plain": [
       "         Provider Id  Provider Zip Code  Outpatient Services  \\\n",
       "count   43372.000000       43372.000000         43372.000000   \n",
       "mean   265410.921747       49041.022434           587.980955   \n",
       "std    152729.927698       27497.899751          3280.397168   \n",
       "min     10001.000000        1040.000000            11.000000   \n",
       "25%    140043.000000       28645.000000            42.000000   \n",
       "50%    260091.000000       46342.000000           128.000000   \n",
       "75%    390101.000000       73101.000000           347.000000   \n",
       "max    670061.000000       99801.000000        219042.000000   \n",
       "\n",
       "       Average  Estimated Submitted Charges  Average Total Payments  \n",
       "count                          43372.000000            43372.000000  \n",
       "mean                            1473.994047              265.425586  \n",
       "std                             1837.530791              261.260146  \n",
       "min                               12.643750                7.305000  \n",
       "25%                              284.610498               74.627714  \n",
       "50%                              709.995188              139.298570  \n",
       "75%                             2102.121346              394.211316  \n",
       "max                            32105.636360             2062.470526  "
      ]
     },
     "execution_count": 84,
     "metadata": {},
     "output_type": "execute_result"
    }
   ],
   "source": [
    "outpatient_df.describe()"
   ]
  },
  {
   "cell_type": "code",
   "execution_count": 85,
   "metadata": {},
   "outputs": [
    {
     "name": "stdout",
     "output_type": "stream",
     "text": [
      "<class 'pandas.core.frame.DataFrame'>\n",
      "RangeIndex: 43372 entries, 0 to 43371\n",
      "Data columns (total 11 columns):\n",
      " #   Column                                      Non-Null Count  Dtype  \n",
      "---  ------                                      --------------  -----  \n",
      " 0   APC                                         43372 non-null  object \n",
      " 1   Provider Id                                 43372 non-null  int64  \n",
      " 2   Provider Name                               43372 non-null  object \n",
      " 3   Provider Street Address                     43372 non-null  object \n",
      " 4   Provider City                               43372 non-null  object \n",
      " 5   Provider State                              43372 non-null  object \n",
      " 6   Provider Zip Code                           43372 non-null  int64  \n",
      " 7   Hospital Referral Region (HRR) Description  43372 non-null  object \n",
      " 8   Outpatient Services                         43372 non-null  int64  \n",
      " 9   Average  Estimated Submitted Charges        43372 non-null  float64\n",
      " 10  Average Total Payments                      43372 non-null  float64\n",
      "dtypes: float64(2), int64(3), object(6)\n",
      "memory usage: 3.6+ MB\n"
     ]
    }
   ],
   "source": [
    "outpatient_df.info()"
   ]
  },
  {
   "cell_type": "code",
   "execution_count": 86,
   "metadata": {},
   "outputs": [
    {
     "data": {
      "text/html": [
       "<div>\n",
       "<style scoped>\n",
       "    .dataframe tbody tr th:only-of-type {\n",
       "        vertical-align: middle;\n",
       "    }\n",
       "\n",
       "    .dataframe tbody tr th {\n",
       "        vertical-align: top;\n",
       "    }\n",
       "\n",
       "    .dataframe thead th {\n",
       "        text-align: right;\n",
       "    }\n",
       "</style>\n",
       "<table border=\"1\" class=\"dataframe\">\n",
       "  <thead>\n",
       "    <tr style=\"text-align: right;\">\n",
       "      <th></th>\n",
       "      <th>Provider Id</th>\n",
       "      <th>Provider Zip Code</th>\n",
       "      <th>Outpatient Services</th>\n",
       "      <th>Average  Estimated Submitted Charges</th>\n",
       "      <th>Average Total Payments</th>\n",
       "    </tr>\n",
       "  </thead>\n",
       "  <tbody>\n",
       "    <tr>\n",
       "      <th>Provider Id</th>\n",
       "      <td>1.000000</td>\n",
       "      <td>-0.132199</td>\n",
       "      <td>0.011141</td>\n",
       "      <td>-0.051995</td>\n",
       "      <td>-0.024966</td>\n",
       "    </tr>\n",
       "    <tr>\n",
       "      <th>Provider Zip Code</th>\n",
       "      <td>-0.132199</td>\n",
       "      <td>1.000000</td>\n",
       "      <td>-0.013416</td>\n",
       "      <td>0.043500</td>\n",
       "      <td>0.000122</td>\n",
       "    </tr>\n",
       "    <tr>\n",
       "      <th>Outpatient Services</th>\n",
       "      <td>0.011141</td>\n",
       "      <td>-0.013416</td>\n",
       "      <td>1.000000</td>\n",
       "      <td>-0.080775</td>\n",
       "      <td>-0.080738</td>\n",
       "    </tr>\n",
       "    <tr>\n",
       "      <th>Average  Estimated Submitted Charges</th>\n",
       "      <td>-0.051995</td>\n",
       "      <td>0.043500</td>\n",
       "      <td>-0.080775</td>\n",
       "      <td>1.000000</td>\n",
       "      <td>0.768358</td>\n",
       "    </tr>\n",
       "    <tr>\n",
       "      <th>Average Total Payments</th>\n",
       "      <td>-0.024966</td>\n",
       "      <td>0.000122</td>\n",
       "      <td>-0.080738</td>\n",
       "      <td>0.768358</td>\n",
       "      <td>1.000000</td>\n",
       "    </tr>\n",
       "  </tbody>\n",
       "</table>\n",
       "</div>"
      ],
      "text/plain": [
       "                                      Provider Id  Provider Zip Code  \\\n",
       "Provider Id                              1.000000          -0.132199   \n",
       "Provider Zip Code                       -0.132199           1.000000   \n",
       "Outpatient Services                      0.011141          -0.013416   \n",
       "Average  Estimated Submitted Charges    -0.051995           0.043500   \n",
       "Average Total Payments                  -0.024966           0.000122   \n",
       "\n",
       "                                      Outpatient Services  \\\n",
       "Provider Id                                      0.011141   \n",
       "Provider Zip Code                               -0.013416   \n",
       "Outpatient Services                              1.000000   \n",
       "Average  Estimated Submitted Charges            -0.080775   \n",
       "Average Total Payments                          -0.080738   \n",
       "\n",
       "                                      Average  Estimated Submitted Charges  \\\n",
       "Provider Id                                                      -0.051995   \n",
       "Provider Zip Code                                                 0.043500   \n",
       "Outpatient Services                                              -0.080775   \n",
       "Average  Estimated Submitted Charges                              1.000000   \n",
       "Average Total Payments                                            0.768358   \n",
       "\n",
       "                                      Average Total Payments  \n",
       "Provider Id                                        -0.024966  \n",
       "Provider Zip Code                                   0.000122  \n",
       "Outpatient Services                                -0.080738  \n",
       "Average  Estimated Submitted Charges                0.768358  \n",
       "Average Total Payments                              1.000000  "
      ]
     },
     "execution_count": 86,
     "metadata": {},
     "output_type": "execute_result"
    }
   ],
   "source": [
    "outpatient_df.corr()"
   ]
  },
  {
   "cell_type": "markdown",
   "metadata": {},
   "source": [
    "## Outpatient Dataset Top 10 Analysis"
   ]
  },
  {
   "cell_type": "code",
   "execution_count": 100,
   "metadata": {},
   "outputs": [
    {
     "data": {
      "image/png": "[encoded data removed]",
      "text/plain": [
       "<Figure size 2160x576 with 1 Axes>"
      ]
     },
     "metadata": {
      "needs_background": "light"
     },
     "output_type": "display_data"
    }
   ],
   "source": [
    "#Outpatient Provider City\n",
    "city_count  = outpatient_df['Provider City'].value_counts()\n",
    "city_count = city_count[:10,]\n",
    "\n",
    "plt.figure(figsize=(30,8))\n",
    "\n",
    "sns.barplot(x = city_count.index, y = city_count.values,  palette = \"Blues\")\n",
    "plt.title('Outpatient Provider in Top 10 Cities', fontsize=20)\n",
    "plt.ylabel('Count', fontsize=16)\n",
    "plt.xlabel('Provider City Id', fontsize=16)\n",
    "plt.show()"
   ]
  },
  {
   "cell_type": "code",
   "execution_count": 101,
   "metadata": {},
   "outputs": [
    {
     "data": {
      "image/png": "[encoded data removed]",
      "text/plain": [
       "<Figure size 2160x576 with 1 Axes>"
      ]
     },
     "metadata": {
      "needs_background": "light"
     },
     "output_type": "display_data"
    }
   ],
   "source": [
    "# Outpatient by State\n",
    "state_count  = outpatient_df['Provider State'].value_counts()\n",
    "state_count = state_count[:10,]\n",
    "\n",
    "plt.figure(figsize=(30,8))\n",
    "\n",
    "sns.barplot(x = state_count.index, y = state_count.values,  palette = \"Blues\")\n",
    "plt.title('Outpatient Provider in Top 10 States', fontsize=20)\n",
    "plt.ylabel('Count', fontsize=16)\n",
    "plt.xlabel('States', fontsize=16)\n",
    "plt.show()\n"
   ]
  },
  {
   "cell_type": "code",
   "execution_count": 102,
   "metadata": {},
   "outputs": [
    {
     "data": {
      "image/png": "[encoded data removed]",
      "text/plain": [
       "<Figure size 2160x576 with 1 Axes>"
      ]
     },
     "metadata": {
      "needs_background": "light"
     },
     "output_type": "display_data"
    }
   ],
   "source": [
    "# Outpatient by Zip Code\n",
    "zipcode_count  =outpatient_df['Provider Zip Code'].value_counts()\n",
    "zipcode_count = zipcode_count[:10,]\n",
    "\n",
    "plt.figure(figsize=(30,8))\n",
    "\n",
    "sns.barplot(x = zipcode_count.index, y = zipcode_count.values,  palette = \"Blues\")\n",
    "plt.title('Outpatient Provider in Top 10 Zip Codes', fontsize=20)\n",
    "plt.ylabel('Count', fontsize=16)\n",
    "plt.xlabel('Zip Codes', fontsize=16)\n",
    "plt.show()"
   ]
  },
  {
   "cell_type": "markdown",
   "metadata": {},
   "source": [
    "## Outpatient Procedures Cost Among States"
   ]
  },
  {
   "cell_type": "code",
   "execution_count": 90,
   "metadata": {},
   "outputs": [],
   "source": [
    "class SQLServer:\n",
    "      def __init__(self, server):\n",
    "        self.server = server\n",
    "       \n",
    "      def __enter__(self):\n",
    "        self.conn: sqlite3.Connection = sqlite3.connect(self.server)\n",
    "        self.cur: sqlite3.Cursor = self.conn.cursor() \n",
    "        return self\n",
    "        \n",
    "      def __exit__(self, exc_type, exc_val, exc_tb):\n",
    "        self.conn.close()"
   ]
  },
  {
   "cell_type": "code",
   "execution_count": 91,
   "metadata": {},
   "outputs": [],
   "source": [
    "_df = pd.read_csv('idea-1/medicare-data/medicare-data/Outpatient_provdr.csv')\n",
    "outpatient_hospital_charges = 'outpatient_hospital_charges.db'\n",
    "\n",
    "with SQLServer('outpatient_hospital_charges') as db:\n",
    "    _df.columns = [column.strip() for column in _df.columns]\n",
    "    _df.to_sql('outpatient_hospital_charges', db.conn, if_exists='replace', index=False)"
   ]
  },
  {
   "cell_type": "code",
   "execution_count": 92,
   "metadata": {},
   "outputs": [],
   "source": [
    "with SQLServer('outpatient_hospital_charges') as db:\n",
    "    query = '''\n",
    "SELECT `APC`, `Provider State` as providerState, t.maxAvgPaymentPerDRG\n",
    "FROM outpatient_hospital_charges hc\n",
    "INNER JOIN (\n",
    "    SELECT `APC` as drg, MAX(`Average Total Payments`) as maxAvgPaymentPerDRG\n",
    "    FROM outpatient_hospital_charges\n",
    "    GROUP BY `APC`\n",
    ") t\n",
    "ON hc.`APC` == t.drg AND hc.`Average Total Payments` == t.maxAvgPaymentPerDRG\n",
    "ORDER BY providerState ASC\n",
    "'''\n",
    "    cursor = db.cur.execute(query)\n",
    "    results = [record for record in cursor]"
   ]
  },
  {
   "cell_type": "code",
   "execution_count": 93,
   "metadata": {},
   "outputs": [],
   "source": [
    "_df = pd.DataFrame(results, columns=['APC', 'ProviderState', 'Payment'])"
   ]
  },
  {
   "cell_type": "code",
   "execution_count": 94,
   "metadata": {},
   "outputs": [],
   "source": [
    "with SQLServer('outpatient_hospital_charges') as db:\n",
    "    ranking_by_drg = dict()\n",
    "    for drg in outpatient_df['APC'].unique():\n",
    "\n",
    "        query = \"\"\"\n",
    "            SELECT `Provider State` as providerState\n",
    "            FROM outpatient_hospital_charges\n",
    "            WHERE `APC` = '{drg}' \n",
    "            GROUP BY `Provider State`\n",
    "            ORDER BY AVG(`Average Total Payments`) ASC\n",
    "        \"\"\".format(drg=drg)\n",
    "    \n",
    "        cursor = db.cur.execute(query)\n",
    "        ranking_by_drg[drg] = [record[0] for record in cursor]\n"
   ]
  },
  {
   "cell_type": "code",
   "execution_count": 95,
   "metadata": {},
   "outputs": [],
   "source": [
    "for k,v in ranking_by_drg.items():\n",
    "    while True:\n",
    "        if len(v) >= 51:\n",
    "            break\n",
    "        v.append(None)"
   ]
  },
  {
   "cell_type": "code",
   "execution_count": 96,
   "metadata": {},
   "outputs": [],
   "source": [
    "drg_by_id = {key.split(' - ')[0]: key for key in ranking_by_drg.keys()}\n",
    "df_rank = pd.DataFrame(ranking_by_drg)"
   ]
  },
  {
   "cell_type": "code",
   "execution_count": null,
   "metadata": {},
   "outputs": [],
   "source": [
    "_df = pd.DataFrame(index=outpatient_df['Provider State'].unique())\n",
    "for column in df_rank.columns:\n",
    "    rankings_by_state = []\n",
    "\n",
    "    if column in ['rank']:\n",
    "        continue\n",
    "        \n",
    "    for rank, curr_state in zip(outpatient_df.index, df_rank[column]):\n",
    "        rankings_by_state.append(curr_state)\n",
    "    \n",
    "    t = pd.DataFrame(rankings_by_state, columns=['State'])\n",
    "    t['Rank'] = t.index\n",
    "    t.set_index(['State'], inplace=True)\n",
    "    \n",
    "    _df = pd.merge(left=_df, right=t, how='left', left_index=True, right_index=True)\n",
    "    \n",
    "_df.columns = drg_by_id.keys()"
   ]
  },
  {
   "cell_type": "code",
   "execution_count": 98,
   "metadata": {},
   "outputs": [
    {
     "data": {
      "text/html": [
       "<div>\n",
       "<style scoped>\n",
       "    .dataframe tbody tr th:only-of-type {\n",
       "        vertical-align: middle;\n",
       "    }\n",
       "\n",
       "    .dataframe tbody tr th {\n",
       "        vertical-align: top;\n",
       "    }\n",
       "\n",
       "    .dataframe thead th {\n",
       "        text-align: right;\n",
       "    }\n",
       "</style>\n",
       "<table border=\"1\" class=\"dataframe\">\n",
       "  <thead>\n",
       "    <tr style=\"text-align: right;\">\n",
       "      <th></th>\n",
       "      <th>0012</th>\n",
       "      <th>0013</th>\n",
       "      <th>0015</th>\n",
       "      <th>0019</th>\n",
       "      <th>0020</th>\n",
       "      <th>0073</th>\n",
       "      <th>0074</th>\n",
       "      <th>0078</th>\n",
       "      <th>0096</th>\n",
       "      <th>0203</th>\n",
       "      <th>...</th>\n",
       "      <th>0369</th>\n",
       "      <th>0377</th>\n",
       "      <th>0604</th>\n",
       "      <th>0605</th>\n",
       "      <th>0606</th>\n",
       "      <th>0607</th>\n",
       "      <th>0608</th>\n",
       "      <th>0690</th>\n",
       "      <th>0692</th>\n",
       "      <th>0698</th>\n",
       "    </tr>\n",
       "  </thead>\n",
       "  <tbody>\n",
       "    <tr>\n",
       "      <th>AK</th>\n",
       "      <td>46.0</td>\n",
       "      <td>49</td>\n",
       "      <td>49</td>\n",
       "      <td>-100.0</td>\n",
       "      <td>-100.0</td>\n",
       "      <td>32.0</td>\n",
       "      <td>-100.0</td>\n",
       "      <td>48</td>\n",
       "      <td>48</td>\n",
       "      <td>-100.0</td>\n",
       "      <td>...</td>\n",
       "      <td>-100.0</td>\n",
       "      <td>48</td>\n",
       "      <td>48</td>\n",
       "      <td>47</td>\n",
       "      <td>47</td>\n",
       "      <td>48</td>\n",
       "      <td>-100.0</td>\n",
       "      <td>48</td>\n",
       "      <td>46.0</td>\n",
       "      <td>-100.0</td>\n",
       "    </tr>\n",
       "    <tr>\n",
       "      <th>AL</th>\n",
       "      <td>42.0</td>\n",
       "      <td>2</td>\n",
       "      <td>0</td>\n",
       "      <td>8.0</td>\n",
       "      <td>0.0</td>\n",
       "      <td>-100.0</td>\n",
       "      <td>3.0</td>\n",
       "      <td>2</td>\n",
       "      <td>2</td>\n",
       "      <td>8.0</td>\n",
       "      <td>...</td>\n",
       "      <td>2.0</td>\n",
       "      <td>1</td>\n",
       "      <td>1</td>\n",
       "      <td>1</td>\n",
       "      <td>1</td>\n",
       "      <td>2</td>\n",
       "      <td>2.0</td>\n",
       "      <td>1</td>\n",
       "      <td>1.0</td>\n",
       "      <td>-100.0</td>\n",
       "    </tr>\n",
       "    <tr>\n",
       "      <th>AR</th>\n",
       "      <td>30.0</td>\n",
       "      <td>7</td>\n",
       "      <td>4</td>\n",
       "      <td>7.0</td>\n",
       "      <td>11.0</td>\n",
       "      <td>1.0</td>\n",
       "      <td>2.0</td>\n",
       "      <td>6</td>\n",
       "      <td>5</td>\n",
       "      <td>14.0</td>\n",
       "      <td>...</td>\n",
       "      <td>3.0</td>\n",
       "      <td>5</td>\n",
       "      <td>4</td>\n",
       "      <td>5</td>\n",
       "      <td>4</td>\n",
       "      <td>3</td>\n",
       "      <td>5.0</td>\n",
       "      <td>2</td>\n",
       "      <td>12.0</td>\n",
       "      <td>3.0</td>\n",
       "    </tr>\n",
       "    <tr>\n",
       "      <th>AZ</th>\n",
       "      <td>28.0</td>\n",
       "      <td>29</td>\n",
       "      <td>36</td>\n",
       "      <td>27.0</td>\n",
       "      <td>32.0</td>\n",
       "      <td>28.0</td>\n",
       "      <td>18.0</td>\n",
       "      <td>32</td>\n",
       "      <td>27</td>\n",
       "      <td>32.0</td>\n",
       "      <td>...</td>\n",
       "      <td>32.0</td>\n",
       "      <td>30</td>\n",
       "      <td>33</td>\n",
       "      <td>30</td>\n",
       "      <td>32</td>\n",
       "      <td>31</td>\n",
       "      <td>29.0</td>\n",
       "      <td>29</td>\n",
       "      <td>26.0</td>\n",
       "      <td>22.0</td>\n",
       "    </tr>\n",
       "    <tr>\n",
       "      <th>CA</th>\n",
       "      <td>40.0</td>\n",
       "      <td>48</td>\n",
       "      <td>48</td>\n",
       "      <td>43.0</td>\n",
       "      <td>47.0</td>\n",
       "      <td>33.0</td>\n",
       "      <td>44.0</td>\n",
       "      <td>49</td>\n",
       "      <td>49</td>\n",
       "      <td>36.0</td>\n",
       "      <td>...</td>\n",
       "      <td>44.0</td>\n",
       "      <td>49</td>\n",
       "      <td>49</td>\n",
       "      <td>48</td>\n",
       "      <td>49</td>\n",
       "      <td>49</td>\n",
       "      <td>44.0</td>\n",
       "      <td>49</td>\n",
       "      <td>45.0</td>\n",
       "      <td>40.0</td>\n",
       "    </tr>\n",
       "  </tbody>\n",
       "</table>\n",
       "<p>5 rows × 30 columns</p>\n",
       "</div>"
      ],
      "text/plain": [
       "    0012  0013  0015   0019   0020   0073   0074  0078  0096   0203  ...  \\\n",
       "AK  46.0    49    49 -100.0 -100.0   32.0 -100.0    48    48 -100.0  ...   \n",
       "AL  42.0     2     0    8.0    0.0 -100.0    3.0     2     2    8.0  ...   \n",
       "AR  30.0     7     4    7.0   11.0    1.0    2.0     6     5   14.0  ...   \n",
       "AZ  28.0    29    36   27.0   32.0   28.0   18.0    32    27   32.0  ...   \n",
       "CA  40.0    48    48   43.0   47.0   33.0   44.0    49    49   36.0  ...   \n",
       "\n",
       "     0369  0377  0604  0605  0606  0607   0608  0690  0692   0698  \n",
       "AK -100.0    48    48    47    47    48 -100.0    48  46.0 -100.0  \n",
       "AL    2.0     1     1     1     1     2    2.0     1   1.0 -100.0  \n",
       "AR    3.0     5     4     5     4     3    5.0     2  12.0    3.0  \n",
       "AZ   32.0    30    33    30    32    31   29.0    29  26.0   22.0  \n",
       "CA   44.0    49    49    48    49    49   44.0    49  45.0   40.0  \n",
       "\n",
       "[5 rows x 30 columns]"
      ]
     },
     "execution_count": 98,
     "metadata": {},
     "output_type": "execute_result"
    }
   ],
   "source": [
    "_df.fillna(-100, inplace=True)\n",
    "_df.head()"
   ]
  },
  {
   "cell_type": "code",
   "execution_count": 118,
   "metadata": {},
   "outputs": [
    {
     "data": {
      "image/png": "[encoded data removed]",
      "text/plain": [
       "<Figure size 1440x1080 with 2 Axes>"
      ]
     },
     "metadata": {
      "needs_background": "light"
     },
     "output_type": "display_data"
    }
   ],
   "source": [
    "#darker shade = more expensive\n",
    "plt.figure(figsize=(20,15))\n",
    "sns.heatmap(_df, square=True, vmin=-100, cbar=True, linewidths=0.1)\n",
    "plt.title('Ranked Outpatient Cost Per Procedure', fontsize=20)\n",
    "plt.ylabel('State', fontsize=16)\n",
    "plt.xlabel('APC Definition Id', fontsize=16)\n",
    "plt.show()"
   ]
  },
  {
   "cell_type": "markdown",
   "metadata": {},
   "source": [
    "## Top 5 Most Common Procedures"
   ]
  },
  {
   "cell_type": "code",
   "execution_count": 105,
   "metadata": {},
   "outputs": [
    {
     "name": "stdout",
     "output_type": "stream",
     "text": [
      "0267 - Level III Diagnostic and Screening Ultrasound                                     2998\n",
      "0269 - Level II Echocardiogram Without Contrast                                          2898\n",
      "0336 - Magnetic Resonance Imaging and Magnetic Resonance Angiography without Contrast    2855\n",
      "0265 - Level I Diagnostic and Screening Ultrasound                                       2739\n",
      "0377 - Level II Cardiac Imaging                                                          2564\n",
      "Name: APC, dtype: int64\n"
     ]
    }
   ],
   "source": [
    "top_5_count  = outpatient_df['APC'].value_counts()\n",
    "top_5_count = top_5_count[:5,]\n",
    "print(top_5_count)"
   ]
  },
  {
   "cell_type": "markdown",
   "metadata": {},
   "source": [
    "### Digging Dipper Into Top Common Procedure"
   ]
  },
  {
   "cell_type": "code",
   "execution_count": 106,
   "metadata": {},
   "outputs": [
    {
     "data": {
      "text/plain": [
       "'0267 - Level III Diagnostic and Screening Ultrasound'"
      ]
     },
     "execution_count": 106,
     "metadata": {},
     "output_type": "execute_result"
    }
   ],
   "source": [
    "#select top DRG from above list\n",
    "selected_top_drg =  drg_by_id['0267']\n",
    "select_provider_id = None\n",
    "selected_top_drg"
   ]
  },
  {
   "cell_type": "code",
   "execution_count": null,
   "metadata": {},
   "outputs": [],
   "source": [
    "df_0267 = outpatient_df[outpatient_df['APC'] == selected_top_drg]\n",
    "df_0267.loc[:, 'Provider State'] = df_0267.loc[:, 'Provider State'].astype('category')\n",
    "groupby_state = df_0267.groupby(by='Provider State').agg(['mean', 'min', 'max'])\n",
    "groupby_state.reset_index(inplace=True)"
   ]
  },
  {
   "cell_type": "code",
   "execution_count": 116,
   "metadata": {},
   "outputs": [
    {
     "data": {
      "text/html": [
       "<div>\n",
       "<style scoped>\n",
       "    .dataframe tbody tr th:only-of-type {\n",
       "        vertical-align: middle;\n",
       "    }\n",
       "\n",
       "    .dataframe tbody tr th {\n",
       "        vertical-align: top;\n",
       "    }\n",
       "\n",
       "    .dataframe thead tr th {\n",
       "        text-align: left;\n",
       "    }\n",
       "</style>\n",
       "<table border=\"1\" class=\"dataframe\">\n",
       "  <thead>\n",
       "    <tr>\n",
       "      <th></th>\n",
       "      <th>Provider State</th>\n",
       "      <th colspan=\"3\" halign=\"left\">Provider Id</th>\n",
       "      <th colspan=\"3\" halign=\"left\">Provider Zip Code</th>\n",
       "      <th colspan=\"3\" halign=\"left\">Outpatient Services</th>\n",
       "      <th colspan=\"3\" halign=\"left\">Average  Estimated Submitted Charges</th>\n",
       "      <th colspan=\"3\" halign=\"left\">Average Total Payments</th>\n",
       "    </tr>\n",
       "    <tr>\n",
       "      <th></th>\n",
       "      <th></th>\n",
       "      <th>mean</th>\n",
       "      <th>min</th>\n",
       "      <th>max</th>\n",
       "      <th>mean</th>\n",
       "      <th>min</th>\n",
       "      <th>max</th>\n",
       "      <th>mean</th>\n",
       "      <th>min</th>\n",
       "      <th>max</th>\n",
       "      <th>mean</th>\n",
       "      <th>min</th>\n",
       "      <th>max</th>\n",
       "      <th>mean</th>\n",
       "      <th>min</th>\n",
       "      <th>max</th>\n",
       "    </tr>\n",
       "  </thead>\n",
       "  <tbody>\n",
       "    <tr>\n",
       "      <th>0</th>\n",
       "      <td>AK</td>\n",
       "      <td>20011.333333</td>\n",
       "      <td>20001</td>\n",
       "      <td>20024</td>\n",
       "      <td>99640.500000</td>\n",
       "      <td>99508</td>\n",
       "      <td>99801</td>\n",
       "      <td>170.833333</td>\n",
       "      <td>87</td>\n",
       "      <td>272</td>\n",
       "      <td>933.351478</td>\n",
       "      <td>792.106073</td>\n",
       "      <td>1104.394912</td>\n",
       "      <td>179.672147</td>\n",
       "      <td>173.262610</td>\n",
       "      <td>191.380800</td>\n",
       "    </tr>\n",
       "    <tr>\n",
       "      <th>1</th>\n",
       "      <td>AL</td>\n",
       "      <td>10077.022222</td>\n",
       "      <td>10001</td>\n",
       "      <td>10169</td>\n",
       "      <td>35978.477778</td>\n",
       "      <td>35007</td>\n",
       "      <td>36925</td>\n",
       "      <td>347.244444</td>\n",
       "      <td>11</td>\n",
       "      <td>4640</td>\n",
       "      <td>850.513683</td>\n",
       "      <td>293.326923</td>\n",
       "      <td>2173.770833</td>\n",
       "      <td>136.356835</td>\n",
       "      <td>127.116282</td>\n",
       "      <td>147.163810</td>\n",
       "    </tr>\n",
       "    <tr>\n",
       "      <th>2</th>\n",
       "      <td>AR</td>\n",
       "      <td>40054.318182</td>\n",
       "      <td>40001</td>\n",
       "      <td>40152</td>\n",
       "      <td>72304.386364</td>\n",
       "      <td>71603</td>\n",
       "      <td>72956</td>\n",
       "      <td>277.318182</td>\n",
       "      <td>37</td>\n",
       "      <td>919</td>\n",
       "      <td>896.679274</td>\n",
       "      <td>321.543478</td>\n",
       "      <td>2481.522422</td>\n",
       "      <td>139.570731</td>\n",
       "      <td>126.899808</td>\n",
       "      <td>151.635600</td>\n",
       "    </tr>\n",
       "    <tr>\n",
       "      <th>3</th>\n",
       "      <td>AZ</td>\n",
       "      <td>30067.400000</td>\n",
       "      <td>30001</td>\n",
       "      <td>30126</td>\n",
       "      <td>85467.880000</td>\n",
       "      <td>85006</td>\n",
       "      <td>86442</td>\n",
       "      <td>301.220000</td>\n",
       "      <td>37</td>\n",
       "      <td>821</td>\n",
       "      <td>1318.116687</td>\n",
       "      <td>464.226573</td>\n",
       "      <td>2390.075910</td>\n",
       "      <td>156.745145</td>\n",
       "      <td>146.843049</td>\n",
       "      <td>184.150898</td>\n",
       "    </tr>\n",
       "    <tr>\n",
       "      <th>4</th>\n",
       "      <td>CA</td>\n",
       "      <td>50333.868313</td>\n",
       "      <td>50002</td>\n",
       "      <td>50764</td>\n",
       "      <td>93039.485597</td>\n",
       "      <td>90004</td>\n",
       "      <td>96158</td>\n",
       "      <td>370.794239</td>\n",
       "      <td>15</td>\n",
       "      <td>4168</td>\n",
       "      <td>1627.505907</td>\n",
       "      <td>251.617647</td>\n",
       "      <td>7566.223986</td>\n",
       "      <td>179.479687</td>\n",
       "      <td>166.871111</td>\n",
       "      <td>211.550000</td>\n",
       "    </tr>\n",
       "  </tbody>\n",
       "</table>\n",
       "</div>"
      ],
      "text/plain": [
       "  Provider State   Provider Id               Provider Zip Code                \\\n",
       "                          mean    min    max              mean    min    max   \n",
       "0             AK  20011.333333  20001  20024      99640.500000  99508  99801   \n",
       "1             AL  10077.022222  10001  10169      35978.477778  35007  36925   \n",
       "2             AR  40054.318182  40001  40152      72304.386364  71603  72956   \n",
       "3             AZ  30067.400000  30001  30126      85467.880000  85006  86442   \n",
       "4             CA  50333.868313  50002  50764      93039.485597  90004  96158   \n",
       "\n",
       "  Outpatient Services           Average  Estimated Submitted Charges  \\\n",
       "                 mean min   max                                 mean   \n",
       "0          170.833333  87   272                           933.351478   \n",
       "1          347.244444  11  4640                           850.513683   \n",
       "2          277.318182  37   919                           896.679274   \n",
       "3          301.220000  37   821                          1318.116687   \n",
       "4          370.794239  15  4168                          1627.505907   \n",
       "\n",
       "                           Average Total Payments                          \n",
       "          min          max                   mean         min         max  \n",
       "0  792.106073  1104.394912             179.672147  173.262610  191.380800  \n",
       "1  293.326923  2173.770833             136.356835  127.116282  147.163810  \n",
       "2  321.543478  2481.522422             139.570731  126.899808  151.635600  \n",
       "3  464.226573  2390.075910             156.745145  146.843049  184.150898  \n",
       "4  251.617647  7566.223986             179.479687  166.871111  211.550000  "
      ]
     },
     "execution_count": 116,
     "metadata": {},
     "output_type": "execute_result"
    }
   ],
   "source": [
    "# Analyze top 5 states for 0267 - Level III Diagnostic and Screening Ultrasound\n",
    "groupby_state.head(5)"
   ]
  },
  {
   "cell_type": "code",
   "execution_count": 109,
   "metadata": {},
   "outputs": [
    {
     "data": {
      "text/plain": [
       "Text(0.5, 0, 'Provider State')"
      ]
     },
     "execution_count": 109,
     "metadata": {},
     "output_type": "execute_result"
    },
    {
     "data": {
      "image/png": "[encoded data removed]",
      "text/plain": [
       "<Figure size 2160x576 with 1 Axes>"
      ]
     },
     "metadata": {
      "needs_background": "light"
     },
     "output_type": "display_data"
    }
   ],
   "source": [
    "plt.figure(figsize=(30,8))\n",
    "\n",
    "sns.barplot(x='Provider State', y='Average Total Payments', palette = \"Blues\", data=df_0267)\n",
    "plt.title('Avg. Cost and 95% CI for APC = {}'.format(selected_top_drg), fontsize=20)\n",
    "plt.xlabel('Average Cost ($)', fontsize=20)\n",
    "plt.xlabel('Provider State', fontsize=20)"
   ]
  }
 ],
 "metadata": {
  "kernelspec": {
   "display_name": "Python 3.9.12 ('base')",
   "language": "python",
   "name": "python3"
  },
  "language_info": {
   "codemirror_mode": {
    "name": "ipython",
    "version": 3
   },
   "file_extension": ".py",
   "mimetype": "text/x-python",
   "name": "python",
   "nbconvert_exporter": "python",
   "pygments_lexer": "ipython3",
   "version": "3.9.12"
  },
  "orig_nbformat": 4,
  "vscode": {
   "interpreter": {
    "hash": "277d713a2869ad522e0f58de96fa3cb2620734b34dd3b3afd7f1966d69d2580f"
   }
  }
 },
 "nbformat": 4,
 "nbformat_minor": 2
}
