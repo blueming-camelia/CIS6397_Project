{
 "cells": [
  {
   "cell_type": "code",
   "execution_count": 129,
   "metadata": {},
   "outputs": [],
   "source": [
    "from collections import defaultdict\n",
    "import pandas as pd\n",
    "import numpy as np\n",
    "import seaborn as sns\n",
    "import sqlite3\n",
    "import pdb\n",
    "import os\n",
    "\n",
    "%matplotlib inline\n",
    "import matplotlib.pyplot as plt"
   ]
  },
  {
   "cell_type": "code",
   "execution_count": 130,
   "metadata": {},
   "outputs": [],
   "source": [
    "inpatient_df = pd.read_csv('idea-1/medicare-data/medicare-data/Inpatient_provdr.csv')\n",
    "outpatient_df = pd.read_csv('idea-1/medicare-data/medicare-data/Outpatient_provdr.csv')"
   ]
  },
  {
   "cell_type": "code",
   "execution_count": 131,
   "metadata": {},
   "outputs": [],
   "source": [
    "conn = sqlite3.connect('inpatient_hospital_charges.db')\n",
    "_df = pd.read_csv('idea-1/medicare-data/medicare-data/Inpatient_provdr.csv')\n",
    "_df.columns = [column.strip() for column in _df.columns]\n",
    "_df.to_sql('inpatient_hospital_charges', conn, if_exists='replace', index=False)\n",
    "conn.close()"
   ]
  },
  {
   "cell_type": "code",
   "execution_count": 132,
   "metadata": {},
   "outputs": [],
   "source": [
    "conn = sqlite3.connect('inpatient_hospital_charges.db')\n",
    "\n",
    "query = '''\n",
    "SELECT `DRG Definition`, `Provider State` as providerState, t.maxAvgPaymentPerDRG\n",
    "FROM inpatient_hospital_charges hc\n",
    "INNER JOIN (\n",
    "    SELECT `DRG Definition` as drg, MAX(`Average Total Payments`) as maxAvgPaymentPerDRG\n",
    "    FROM inpatient_hospital_charges\n",
    "    GROUP BY `DRG Definition`\n",
    ") t\n",
    "ON hc.`DRG Definition` == t.drg AND hc.`Average Total Payments` == t.maxAvgPaymentPerDRG\n",
    "ORDER BY providerState ASC\n",
    "'''\n",
    "\n",
    "cursor = conn.execute(query)\n",
    "results = [record for record in cursor]\n",
    "conn.close()"
   ]
  },
  {
   "cell_type": "code",
   "execution_count": 133,
   "metadata": {},
   "outputs": [],
   "source": [
    "_df = pd.DataFrame(results, columns=['DRG', 'ProviderState', 'Payment'])"
   ]
  },
  {
   "cell_type": "code",
   "execution_count": 134,
   "metadata": {},
   "outputs": [],
   "source": [
    "conn = sqlite3.connect('inpatient_hospital_charges.db')\n",
    "\n",
    "ranking_by_drg = dict()\n",
    "for drg in inpatient_df['DRG Definition'].unique():\n",
    "\n",
    "    query = \"\"\"\n",
    "        SELECT `Provider State` as providerState\n",
    "        FROM inpatient_hospital_charges\n",
    "        WHERE `DRG Definition` = '{drg}' \n",
    "        GROUP BY `Provider State`\n",
    "        ORDER BY AVG(`Average Total Payments`) ASC\n",
    "    \"\"\".format(drg=drg)\n",
    "    \n",
    "    cursor = conn.execute(query)\n",
    "    ranking_by_drg[drg] = [record[0] for record in cursor]\n",
    "    \n",
    "conn.close()"
   ]
  },
  {
   "cell_type": "code",
   "execution_count": 135,
   "metadata": {},
   "outputs": [],
   "source": [
    "for k,v in ranking_by_drg.items():\n",
    "    while True:\n",
    "        if len(v) >= 51:\n",
    "            break\n",
    "        v.append(None)"
   ]
  },
  {
   "cell_type": "code",
   "execution_count": 136,
   "metadata": {},
   "outputs": [],
   "source": [
    "drg_by_id = {key.split(' - ')[0]: key for key in ranking_by_drg.keys()}\n",
    "df_rank = pd.DataFrame(ranking_by_drg)"
   ]
  },
  {
   "cell_type": "code",
   "execution_count": null,
   "metadata": {},
   "outputs": [],
   "source": [
    "_df = pd.DataFrame(index=inpatient_df['Provider State'].unique())\n",
    "for column in df_rank.columns:\n",
    "    rankings_by_state = []\n",
    "\n",
    "    if column in ['rank']:\n",
    "        continue\n",
    "        \n",
    "    for rank, curr_state in zip(inpatient_df.index, df_rank[column]):\n",
    "        rankings_by_state.append(curr_state)\n",
    "    \n",
    "    t = pd.DataFrame(rankings_by_state, columns=['State'])\n",
    "    t['Rank'] = t.index\n",
    "    t.set_index(['State'], inplace=True)\n",
    "    \n",
    "    _df = pd.merge(left=_df, right=t, how='left', left_index=True, right_index=True)\n",
    "    \n",
    "_df.columns = drg_by_id.keys()"
   ]
  },
  {
   "cell_type": "code",
   "execution_count": 138,
   "metadata": {},
   "outputs": [
    {
     "data": {
      "text/html": [
       "<div>\n",
       "<style scoped>\n",
       "    .dataframe tbody tr th:only-of-type {\n",
       "        vertical-align: middle;\n",
       "    }\n",
       "\n",
       "    .dataframe tbody tr th {\n",
       "        vertical-align: top;\n",
       "    }\n",
       "\n",
       "    .dataframe thead th {\n",
       "        text-align: right;\n",
       "    }\n",
       "</style>\n",
       "<table border=\"1\" class=\"dataframe\">\n",
       "  <thead>\n",
       "    <tr style=\"text-align: right;\">\n",
       "      <th></th>\n",
       "      <th>039</th>\n",
       "      <th>057</th>\n",
       "      <th>064</th>\n",
       "      <th>065</th>\n",
       "      <th>066</th>\n",
       "      <th>069</th>\n",
       "      <th>074</th>\n",
       "      <th>101</th>\n",
       "      <th>149</th>\n",
       "      <th>176</th>\n",
       "      <th>...</th>\n",
       "      <th>812</th>\n",
       "      <th>853</th>\n",
       "      <th>870</th>\n",
       "      <th>871</th>\n",
       "      <th>872</th>\n",
       "      <th>885</th>\n",
       "      <th>897</th>\n",
       "      <th>917</th>\n",
       "      <th>918</th>\n",
       "      <th>948</th>\n",
       "    </tr>\n",
       "  </thead>\n",
       "  <tbody>\n",
       "    <tr>\n",
       "      <th>AK</th>\n",
       "      <td>45</td>\n",
       "      <td>46</td>\n",
       "      <td>50</td>\n",
       "      <td>50</td>\n",
       "      <td>50</td>\n",
       "      <td>49.0</td>\n",
       "      <td>-100.0</td>\n",
       "      <td>49</td>\n",
       "      <td>-100.0</td>\n",
       "      <td>49</td>\n",
       "      <td>...</td>\n",
       "      <td>50</td>\n",
       "      <td>49</td>\n",
       "      <td>47.0</td>\n",
       "      <td>50</td>\n",
       "      <td>50</td>\n",
       "      <td>48.0</td>\n",
       "      <td>48</td>\n",
       "      <td>-100.0</td>\n",
       "      <td>49</td>\n",
       "      <td>50</td>\n",
       "    </tr>\n",
       "    <tr>\n",
       "      <th>AL</th>\n",
       "      <td>0</td>\n",
       "      <td>0</td>\n",
       "      <td>1</td>\n",
       "      <td>1</td>\n",
       "      <td>0</td>\n",
       "      <td>0.0</td>\n",
       "      <td>2.0</td>\n",
       "      <td>0</td>\n",
       "      <td>2.0</td>\n",
       "      <td>0</td>\n",
       "      <td>...</td>\n",
       "      <td>0</td>\n",
       "      <td>1</td>\n",
       "      <td>1.0</td>\n",
       "      <td>1</td>\n",
       "      <td>1</td>\n",
       "      <td>1.0</td>\n",
       "      <td>0</td>\n",
       "      <td>2.0</td>\n",
       "      <td>1</td>\n",
       "      <td>0</td>\n",
       "    </tr>\n",
       "    <tr>\n",
       "      <th>AR</th>\n",
       "      <td>3</td>\n",
       "      <td>4</td>\n",
       "      <td>3</td>\n",
       "      <td>2</td>\n",
       "      <td>2</td>\n",
       "      <td>1.0</td>\n",
       "      <td>5.0</td>\n",
       "      <td>3</td>\n",
       "      <td>1.0</td>\n",
       "      <td>1</td>\n",
       "      <td>...</td>\n",
       "      <td>3</td>\n",
       "      <td>0</td>\n",
       "      <td>0.0</td>\n",
       "      <td>0</td>\n",
       "      <td>2</td>\n",
       "      <td>2.0</td>\n",
       "      <td>1</td>\n",
       "      <td>6.0</td>\n",
       "      <td>0</td>\n",
       "      <td>1</td>\n",
       "    </tr>\n",
       "    <tr>\n",
       "      <th>AZ</th>\n",
       "      <td>36</td>\n",
       "      <td>29</td>\n",
       "      <td>33</td>\n",
       "      <td>33</td>\n",
       "      <td>34</td>\n",
       "      <td>36.0</td>\n",
       "      <td>22.0</td>\n",
       "      <td>34</td>\n",
       "      <td>27.0</td>\n",
       "      <td>35</td>\n",
       "      <td>...</td>\n",
       "      <td>36</td>\n",
       "      <td>25</td>\n",
       "      <td>25.0</td>\n",
       "      <td>38</td>\n",
       "      <td>37</td>\n",
       "      <td>34.0</td>\n",
       "      <td>8</td>\n",
       "      <td>23.0</td>\n",
       "      <td>27</td>\n",
       "      <td>28</td>\n",
       "    </tr>\n",
       "    <tr>\n",
       "      <th>CA</th>\n",
       "      <td>44</td>\n",
       "      <td>44</td>\n",
       "      <td>47</td>\n",
       "      <td>45</td>\n",
       "      <td>46</td>\n",
       "      <td>44.0</td>\n",
       "      <td>44.0</td>\n",
       "      <td>44</td>\n",
       "      <td>40.0</td>\n",
       "      <td>45</td>\n",
       "      <td>...</td>\n",
       "      <td>46</td>\n",
       "      <td>46</td>\n",
       "      <td>45.0</td>\n",
       "      <td>45</td>\n",
       "      <td>45</td>\n",
       "      <td>44.0</td>\n",
       "      <td>46</td>\n",
       "      <td>44.0</td>\n",
       "      <td>44</td>\n",
       "      <td>44</td>\n",
       "    </tr>\n",
       "  </tbody>\n",
       "</table>\n",
       "<p>5 rows × 100 columns</p>\n",
       "</div>"
      ],
      "text/plain": [
       "    039  057  064  065  066   069    074  101    149  176  ...  812  853  \\\n",
       "AK   45   46   50   50   50  49.0 -100.0   49 -100.0   49  ...   50   49   \n",
       "AL    0    0    1    1    0   0.0    2.0    0    2.0    0  ...    0    1   \n",
       "AR    3    4    3    2    2   1.0    5.0    3    1.0    1  ...    3    0   \n",
       "AZ   36   29   33   33   34  36.0   22.0   34   27.0   35  ...   36   25   \n",
       "CA   44   44   47   45   46  44.0   44.0   44   40.0   45  ...   46   46   \n",
       "\n",
       "     870  871  872   885  897    917  918  948  \n",
       "AK  47.0   50   50  48.0   48 -100.0   49   50  \n",
       "AL   1.0    1    1   1.0    0    2.0    1    0  \n",
       "AR   0.0    0    2   2.0    1    6.0    0    1  \n",
       "AZ  25.0   38   37  34.0    8   23.0   27   28  \n",
       "CA  45.0   45   45  44.0   46   44.0   44   44  \n",
       "\n",
       "[5 rows x 100 columns]"
      ]
     },
     "execution_count": 138,
     "metadata": {},
     "output_type": "execute_result"
    }
   ],
   "source": [
    "_df.fillna(-100, inplace=True)\n",
    "_df.head()"
   ]
  },
  {
   "cell_type": "code",
   "execution_count": 139,
   "metadata": {},
   "outputs": [
    {
     "data": {
      "text/plain": [
       "Text(156.5, 0.5, 'States')"
      ]
     },
     "execution_count": 139,
     "metadata": {},
     "output_type": "execute_result"
    },
    {
     "data": {
      "image/png": "[encoded data removed]",
      "text/plain": [
       "<Figure size 1440x1440 with 1 Axes>"
      ]
     },
     "metadata": {
      "needs_background": "light"
     },
     "output_type": "display_data"
    }
   ],
   "source": [
    "plt.figure(figsize=(20,20))\n",
    "sns.heatmap(_df, square=True, cbar=False, vmin=-100, linewidths=0.4)\n",
    "plt.title(\"Inpatient Cost Rankings Per Procedure\", fontsize=20)\n",
    "plt.xlabel(\"Procedures - DRG Definition Id\", fontsize=20)\n",
    "plt.ylabel(\"States\", fontsize=20)"
   ]
  },
  {
   "cell_type": "code",
   "execution_count": null,
   "metadata": {},
   "outputs": [],
   "source": []
  }
 ],
 "metadata": {
  "kernelspec": {
   "display_name": "Python 3.9.12 ('base')",
   "language": "python",
   "name": "python3"
  },
  "language_info": {
   "codemirror_mode": {
    "name": "ipython",
    "version": 3
   },
   "file_extension": ".py",
   "mimetype": "text/x-python",
   "name": "python",
   "nbconvert_exporter": "python",
   "pygments_lexer": "ipython3",
   "version": "3.9.12"
  },
  "orig_nbformat": 4,
  "vscode": {
   "interpreter": {
    "hash": "277d713a2869ad522e0f58de96fa3cb2620734b34dd3b3afd7f1966d69d2580f"
   }
  }
 },
 "nbformat": 4,
 "nbformat_minor": 2
}
