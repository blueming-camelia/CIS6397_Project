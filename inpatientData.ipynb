{
 "cells": [
  {
   "cell_type": "code",
   "execution_count": 110,
   "metadata": {},
   "outputs": [
    {
     "data": {
      "text/html": [
       "        <script type=\"text/javascript\">\n",
       "        window.PlotlyConfig = {MathJaxConfig: 'local'};\n",
       "        if (window.MathJax) {MathJax.Hub.Config({SVG: {font: \"STIX-Web\"}});}\n",
       "        if (typeof require !== 'undefined') {\n",
       "        require.undef(\"plotly\");\n",
       "        requirejs.config({\n",
       "            paths: {\n",
       "                'plotly': ['https://cdn.plot.ly/plotly-2.9.0.min']\n",
       "            }\n",
       "        });\n",
       "        require(['plotly'], function(Plotly) {\n",
       "            window._Plotly = Plotly;\n",
       "        });\n",
       "        }\n",
       "        </script>\n",
       "        "
      ]
     },
     "metadata": {},
     "output_type": "display_data"
    }
   ],
   "source": [
    "from collections import defaultdict\n",
    "import pandas as pd\n",
    "import numpy as np\n",
    "import sqlite3\n",
    "import pdb\n",
    "import os\n",
    "\n",
    "%matplotlib inline\n",
    "import matplotlib.pyplot as plt\n",
    "import plotly.express as px\n",
    "import plotly.io as pio\n",
    "pio.templates\n",
    "from plotly.offline import plot, iplot, init_notebook_mode\n",
    "import plotly.graph_objs as go\n",
    "init_notebook_mode(connected=True)\n",
    "import seaborn as sns\n",
    "\n",
    "import sqlite3, os\n",
    "from tkinter import ON\n",
    "import pandas as pd\n",
    "import numpy as np\n",
    "import csv\n",
    "import matplotlib.pyplot as plt"
   ]
  },
  {
   "cell_type": "markdown",
   "metadata": {},
   "source": [
    "Inpatient Descriptive Statistics "
   ]
  },
  {
   "cell_type": "code",
   "execution_count": 158,
   "metadata": {},
   "outputs": [],
   "source": [
    "inpatient_df = pd.read_csv('idea-1/medicare-data/medicare-data/Inpatient_provdr.csv')"
   ]
  },
  {
   "cell_type": "code",
   "execution_count": 97,
   "metadata": {},
   "outputs": [
    {
     "data": {
      "text/html": [
       "<div>\n",
       "<style scoped>\n",
       "    .dataframe tbody tr th:only-of-type {\n",
       "        vertical-align: middle;\n",
       "    }\n",
       "\n",
       "    .dataframe tbody tr th {\n",
       "        vertical-align: top;\n",
       "    }\n",
       "\n",
       "    .dataframe thead th {\n",
       "        text-align: right;\n",
       "    }\n",
       "</style>\n",
       "<table border=\"1\" class=\"dataframe\">\n",
       "  <thead>\n",
       "    <tr style=\"text-align: right;\">\n",
       "      <th></th>\n",
       "      <th>Provider Id</th>\n",
       "      <th>Provider Zip Code</th>\n",
       "      <th>Total Discharges</th>\n",
       "      <th>Average Covered Charges</th>\n",
       "      <th>Average Total Payments</th>\n",
       "      <th>Average Medicare Payments</th>\n",
       "    </tr>\n",
       "  </thead>\n",
       "  <tbody>\n",
       "    <tr>\n",
       "      <th>count</th>\n",
       "      <td>163065.000000</td>\n",
       "      <td>163065.000000</td>\n",
       "      <td>163065.000000</td>\n",
       "      <td>163065.000000</td>\n",
       "      <td>163065.000000</td>\n",
       "      <td>163065.000000</td>\n",
       "    </tr>\n",
       "    <tr>\n",
       "      <th>mean</th>\n",
       "      <td>255569.865428</td>\n",
       "      <td>47938.121908</td>\n",
       "      <td>42.776304</td>\n",
       "      <td>36133.958434</td>\n",
       "      <td>9707.477867</td>\n",
       "      <td>8494.495174</td>\n",
       "    </tr>\n",
       "    <tr>\n",
       "      <th>std</th>\n",
       "      <td>151563.671767</td>\n",
       "      <td>27854.323080</td>\n",
       "      <td>51.104042</td>\n",
       "      <td>35065.365905</td>\n",
       "      <td>7664.642652</td>\n",
       "      <td>7309.467247</td>\n",
       "    </tr>\n",
       "    <tr>\n",
       "      <th>min</th>\n",
       "      <td>10001.000000</td>\n",
       "      <td>1040.000000</td>\n",
       "      <td>11.000000</td>\n",
       "      <td>2459.400000</td>\n",
       "      <td>2673.000000</td>\n",
       "      <td>1148.909091</td>\n",
       "    </tr>\n",
       "    <tr>\n",
       "      <th>25%</th>\n",
       "      <td>110092.000000</td>\n",
       "      <td>27261.000000</td>\n",
       "      <td>17.000000</td>\n",
       "      <td>15947.166670</td>\n",
       "      <td>5234.500000</td>\n",
       "      <td>4192.354839</td>\n",
       "    </tr>\n",
       "    <tr>\n",
       "      <th>50%</th>\n",
       "      <td>250007.000000</td>\n",
       "      <td>44309.000000</td>\n",
       "      <td>27.000000</td>\n",
       "      <td>25245.823530</td>\n",
       "      <td>7214.100000</td>\n",
       "      <td>6158.465116</td>\n",
       "    </tr>\n",
       "    <tr>\n",
       "      <th>75%</th>\n",
       "      <td>380075.000000</td>\n",
       "      <td>72901.000000</td>\n",
       "      <td>49.000000</td>\n",
       "      <td>43232.592590</td>\n",
       "      <td>11286.400000</td>\n",
       "      <td>10056.882350</td>\n",
       "    </tr>\n",
       "    <tr>\n",
       "      <th>max</th>\n",
       "      <td>670077.000000</td>\n",
       "      <td>99835.000000</td>\n",
       "      <td>3383.000000</td>\n",
       "      <td>929118.909100</td>\n",
       "      <td>156158.181800</td>\n",
       "      <td>154620.818200</td>\n",
       "    </tr>\n",
       "  </tbody>\n",
       "</table>\n",
       "</div>"
      ],
      "text/plain": [
       "         Provider Id  Provider Zip Code  Total Discharges  \\\n",
       "count  163065.000000      163065.000000     163065.000000   \n",
       "mean   255569.865428       47938.121908         42.776304   \n",
       "std    151563.671767       27854.323080         51.104042   \n",
       "min     10001.000000        1040.000000         11.000000   \n",
       "25%    110092.000000       27261.000000         17.000000   \n",
       "50%    250007.000000       44309.000000         27.000000   \n",
       "75%    380075.000000       72901.000000         49.000000   \n",
       "max    670077.000000       99835.000000       3383.000000   \n",
       "\n",
       "       Average Covered Charges  Average Total Payments  \\\n",
       "count            163065.000000           163065.000000   \n",
       "mean              36133.958434             9707.477867   \n",
       "std               35065.365905             7664.642652   \n",
       "min                2459.400000             2673.000000   \n",
       "25%               15947.166670             5234.500000   \n",
       "50%               25245.823530             7214.100000   \n",
       "75%               43232.592590            11286.400000   \n",
       "max              929118.909100           156158.181800   \n",
       "\n",
       "       Average Medicare Payments  \n",
       "count              163065.000000  \n",
       "mean                 8494.495174  \n",
       "std                  7309.467247  \n",
       "min                  1148.909091  \n",
       "25%                  4192.354839  \n",
       "50%                  6158.465116  \n",
       "75%                 10056.882350  \n",
       "max                154620.818200  "
      ]
     },
     "execution_count": 97,
     "metadata": {},
     "output_type": "execute_result"
    }
   ],
   "source": [
    "inpatient_df.describe()"
   ]
  },
  {
   "cell_type": "code",
   "execution_count": 98,
   "metadata": {},
   "outputs": [
    {
     "name": "stdout",
     "output_type": "stream",
     "text": [
      "<class 'pandas.core.frame.DataFrame'>\n",
      "RangeIndex: 163065 entries, 0 to 163064\n",
      "Data columns (total 12 columns):\n",
      " #   Column                                      Non-Null Count   Dtype  \n",
      "---  ------                                      --------------   -----  \n",
      " 0   DRG Definition                              163065 non-null  object \n",
      " 1   Provider Id                                 163065 non-null  int64  \n",
      " 2   Provider Name                               163065 non-null  object \n",
      " 3   Provider Street Address                     163065 non-null  object \n",
      " 4   Provider City                               163065 non-null  object \n",
      " 5   Provider State                              163065 non-null  object \n",
      " 6   Provider Zip Code                           163065 non-null  int64  \n",
      " 7   Hospital Referral Region (HRR) Description  163065 non-null  object \n",
      " 8   Total Discharges                            163065 non-null  int64  \n",
      " 9   Average Covered Charges                     163065 non-null  float64\n",
      " 10  Average Total Payments                      163065 non-null  float64\n",
      " 11  Average Medicare Payments                   163065 non-null  float64\n",
      "dtypes: float64(3), int64(3), object(6)\n",
      "memory usage: 14.9+ MB\n"
     ]
    }
   ],
   "source": [
    "inpatient_df.info()"
   ]
  },
  {
   "cell_type": "code",
   "execution_count": 99,
   "metadata": {},
   "outputs": [
    {
     "data": {
      "text/html": [
       "<div>\n",
       "<style scoped>\n",
       "    .dataframe tbody tr th:only-of-type {\n",
       "        vertical-align: middle;\n",
       "    }\n",
       "\n",
       "    .dataframe tbody tr th {\n",
       "        vertical-align: top;\n",
       "    }\n",
       "\n",
       "    .dataframe thead th {\n",
       "        text-align: right;\n",
       "    }\n",
       "</style>\n",
       "<table border=\"1\" class=\"dataframe\">\n",
       "  <thead>\n",
       "    <tr style=\"text-align: right;\">\n",
       "      <th></th>\n",
       "      <th>Provider Id</th>\n",
       "      <th>Provider Zip Code</th>\n",
       "      <th>Total Discharges</th>\n",
       "      <th>Average Covered Charges</th>\n",
       "      <th>Average Total Payments</th>\n",
       "      <th>Average Medicare Payments</th>\n",
       "    </tr>\n",
       "  </thead>\n",
       "  <tbody>\n",
       "    <tr>\n",
       "      <th>Provider Id</th>\n",
       "      <td>1.000000</td>\n",
       "      <td>-0.160237</td>\n",
       "      <td>0.000456</td>\n",
       "      <td>-0.112490</td>\n",
       "      <td>-0.040059</td>\n",
       "      <td>-0.044846</td>\n",
       "    </tr>\n",
       "    <tr>\n",
       "      <th>Provider Zip Code</th>\n",
       "      <td>-0.160237</td>\n",
       "      <td>1.000000</td>\n",
       "      <td>-0.071804</td>\n",
       "      <td>0.140658</td>\n",
       "      <td>0.027496</td>\n",
       "      <td>0.022262</td>\n",
       "    </tr>\n",
       "    <tr>\n",
       "      <th>Total Discharges</th>\n",
       "      <td>0.000456</td>\n",
       "      <td>-0.071804</td>\n",
       "      <td>1.000000</td>\n",
       "      <td>-0.020766</td>\n",
       "      <td>-0.016020</td>\n",
       "      <td>-0.021299</td>\n",
       "    </tr>\n",
       "    <tr>\n",
       "      <th>Average Covered Charges</th>\n",
       "      <td>-0.112490</td>\n",
       "      <td>0.140658</td>\n",
       "      <td>-0.020766</td>\n",
       "      <td>1.000000</td>\n",
       "      <td>0.774112</td>\n",
       "      <td>0.768927</td>\n",
       "    </tr>\n",
       "    <tr>\n",
       "      <th>Average Total Payments</th>\n",
       "      <td>-0.040059</td>\n",
       "      <td>0.027496</td>\n",
       "      <td>-0.016020</td>\n",
       "      <td>0.774112</td>\n",
       "      <td>1.000000</td>\n",
       "      <td>0.989362</td>\n",
       "    </tr>\n",
       "    <tr>\n",
       "      <th>Average Medicare Payments</th>\n",
       "      <td>-0.044846</td>\n",
       "      <td>0.022262</td>\n",
       "      <td>-0.021299</td>\n",
       "      <td>0.768927</td>\n",
       "      <td>0.989362</td>\n",
       "      <td>1.000000</td>\n",
       "    </tr>\n",
       "  </tbody>\n",
       "</table>\n",
       "</div>"
      ],
      "text/plain": [
       "                           Provider Id  Provider Zip Code  Total Discharges  \\\n",
       "Provider Id                   1.000000          -0.160237          0.000456   \n",
       "Provider Zip Code            -0.160237           1.000000         -0.071804   \n",
       "Total Discharges              0.000456          -0.071804          1.000000   \n",
       "Average Covered Charges      -0.112490           0.140658         -0.020766   \n",
       "Average Total Payments       -0.040059           0.027496         -0.016020   \n",
       "Average Medicare Payments    -0.044846           0.022262         -0.021299   \n",
       "\n",
       "                           Average Covered Charges  Average Total Payments  \\\n",
       "Provider Id                              -0.112490               -0.040059   \n",
       "Provider Zip Code                         0.140658                0.027496   \n",
       "Total Discharges                         -0.020766               -0.016020   \n",
       "Average Covered Charges                   1.000000                0.774112   \n",
       "Average Total Payments                    0.774112                1.000000   \n",
       "Average Medicare Payments                 0.768927                0.989362   \n",
       "\n",
       "                           Average Medicare Payments  \n",
       "Provider Id                                -0.044846  \n",
       "Provider Zip Code                           0.022262  \n",
       "Total Discharges                           -0.021299  \n",
       "Average Covered Charges                     0.768927  \n",
       "Average Total Payments                      0.989362  \n",
       "Average Medicare Payments                   1.000000  "
      ]
     },
     "execution_count": 99,
     "metadata": {},
     "output_type": "execute_result"
    }
   ],
   "source": [
    "inpatient_df.corr()"
   ]
  },
  {
   "cell_type": "markdown",
   "metadata": {},
   "source": [
    "Inpatient Top 10 Analysis"
   ]
  },
  {
   "cell_type": "code",
   "execution_count": 218,
   "metadata": {},
   "outputs": [
    {
     "data": {
      "application/vnd.plotly.v1+json": {
       "config": {
        "plotlyServerURL": "https://plot.ly"
       },
       "data": [
        {
         "alignmentgroup": "True",
         "hovertemplate": "x=%{x}<br>y=%{y}<extra></extra>",
         "legendgroup": "",
         "marker": {
          "color": "#636efa",
          "pattern": {
           "shape": ""
          }
         },
         "name": "",
         "offsetgroup": "",
         "orientation": "v",
         "showlegend": false,
         "textposition": "auto",
         "type": "bar",
         "x": [
          "CHICAGO",
          "BALTIMORE",
          "HOUSTON",
          "PHILADELPHIA",
          "BROOKLYN",
          "SPRINGFIELD",
          "COLUMBUS",
          "LOS ANGELES",
          "NEW YORK",
          "DALLAS"
         ],
         "xaxis": "x",
         "y": [
          1505,
          1059,
          950,
          898,
          877,
          807,
          792,
          777,
          746,
          717
         ],
         "yaxis": "y"
        }
       ],
       "layout": {
        "bargap": 0.15,
        "bargroupgap": 0.1,
        "barmode": "group",
        "legend": {
         "tracegroupgap": 0,
         "x": 0,
         "y": 1
        },
        "margin": {
         "t": 60
        },
        "template": {
         "data": {
          "bar": [
           {
            "error_x": {
             "color": "rgb(51,51,51)"
            },
            "error_y": {
             "color": "rgb(51,51,51)"
            },
            "marker": {
             "line": {
              "color": "rgb(237,237,237)",
              "width": 0.5
             },
             "pattern": {
              "fillmode": "overlay",
              "size": 10,
              "solidity": 0.2
             }
            },
            "type": "bar"
           }
          ],
          "barpolar": [
           {
            "marker": {
             "line": {
              "color": "rgb(237,237,237)",
              "width": 0.5
             },
             "pattern": {
              "fillmode": "overlay",
              "size": 10,
              "solidity": 0.2
             }
            },
            "type": "barpolar"
           }
          ],
          "carpet": [
           {
            "aaxis": {
             "endlinecolor": "rgb(51,51,51)",
             "gridcolor": "white",
             "linecolor": "white",
             "minorgridcolor": "white",
             "startlinecolor": "rgb(51,51,51)"
            },
            "baxis": {
             "endlinecolor": "rgb(51,51,51)",
             "gridcolor": "white",
             "linecolor": "white",
             "minorgridcolor": "white",
             "startlinecolor": "rgb(51,51,51)"
            },
            "type": "carpet"
           }
          ],
          "choropleth": [
           {
            "colorbar": {
             "outlinewidth": 0,
             "tickcolor": "rgb(237,237,237)",
             "ticklen": 6,
             "ticks": "inside"
            },
            "type": "choropleth"
           }
          ],
          "contour": [
           {
            "colorbar": {
             "outlinewidth": 0,
             "tickcolor": "rgb(237,237,237)",
             "ticklen": 6,
             "ticks": "inside"
            },
            "colorscale": [
             [
              0,
              "rgb(20,44,66)"
             ],
             [
              1,
              "rgb(90,179,244)"
             ]
            ],
            "type": "contour"
           }
          ],
          "contourcarpet": [
           {
            "colorbar": {
             "outlinewidth": 0,
             "tickcolor": "rgb(237,237,237)",
             "ticklen": 6,
             "ticks": "inside"
            },
            "type": "contourcarpet"
           }
          ],
          "heatmap": [
           {
            "colorbar": {
             "outlinewidth": 0,
             "tickcolor": "rgb(237,237,237)",
             "ticklen": 6,
             "ticks": "inside"
            },
            "colorscale": [
             [
              0,
              "rgb(20,44,66)"
             ],
             [
              1,
              "rgb(90,179,244)"
             ]
            ],
            "type": "heatmap"
           }
          ],
          "heatmapgl": [
           {
            "colorbar": {
             "outlinewidth": 0,
             "tickcolor": "rgb(237,237,237)",
             "ticklen": 6,
             "ticks": "inside"
            },
            "colorscale": [
             [
              0,
              "rgb(20,44,66)"
             ],
             [
              1,
              "rgb(90,179,244)"
             ]
            ],
            "type": "heatmapgl"
           }
          ],
          "histogram": [
           {
            "marker": {
             "pattern": {
              "fillmode": "overlay",
              "size": 10,
              "solidity": 0.2
             }
            },
            "type": "histogram"
           }
          ],
          "histogram2d": [
           {
            "colorbar": {
             "outlinewidth": 0,
             "tickcolor": "rgb(237,237,237)",
             "ticklen": 6,
             "ticks": "inside"
            },
            "colorscale": [
             [
              0,
              "rgb(20,44,66)"
             ],
             [
              1,
              "rgb(90,179,244)"
             ]
            ],
            "type": "histogram2d"
           }
          ],
          "histogram2dcontour": [
           {
            "colorbar": {
             "outlinewidth": 0,
             "tickcolor": "rgb(237,237,237)",
             "ticklen": 6,
             "ticks": "inside"
            },
            "colorscale": [
             [
              0,
              "rgb(20,44,66)"
             ],
             [
              1,
              "rgb(90,179,244)"
             ]
            ],
            "type": "histogram2dcontour"
           }
          ],
          "mesh3d": [
           {
            "colorbar": {
             "outlinewidth": 0,
             "tickcolor": "rgb(237,237,237)",
             "ticklen": 6,
             "ticks": "inside"
            },
            "type": "mesh3d"
           }
          ],
          "parcoords": [
           {
            "line": {
             "colorbar": {
              "outlinewidth": 0,
              "tickcolor": "rgb(237,237,237)",
              "ticklen": 6,
              "ticks": "inside"
             }
            },
            "type": "parcoords"
           }
          ],
          "pie": [
           {
            "automargin": true,
            "type": "pie"
           }
          ],
          "scatter": [
           {
            "marker": {
             "colorbar": {
              "outlinewidth": 0,
              "tickcolor": "rgb(237,237,237)",
              "ticklen": 6,
              "ticks": "inside"
             }
            },
            "type": "scatter"
           }
          ],
          "scatter3d": [
           {
            "line": {
             "colorbar": {
              "outlinewidth": 0,
              "tickcolor": "rgb(237,237,237)",
              "ticklen": 6,
              "ticks": "inside"
             }
            },
            "marker": {
             "colorbar": {
              "outlinewidth": 0,
              "tickcolor": "rgb(237,237,237)",
              "ticklen": 6,
              "ticks": "inside"
             }
            },
            "type": "scatter3d"
           }
          ],
          "scattercarpet": [
           {
            "marker": {
             "colorbar": {
              "outlinewidth": 0,
              "tickcolor": "rgb(237,237,237)",
              "ticklen": 6,
              "ticks": "inside"
             }
            },
            "type": "scattercarpet"
           }
          ],
          "scattergeo": [
           {
            "marker": {
             "colorbar": {
              "outlinewidth": 0,
              "tickcolor": "rgb(237,237,237)",
              "ticklen": 6,
              "ticks": "inside"
             }
            },
            "type": "scattergeo"
           }
          ],
          "scattergl": [
           {
            "marker": {
             "colorbar": {
              "outlinewidth": 0,
              "tickcolor": "rgb(237,237,237)",
              "ticklen": 6,
              "ticks": "inside"
             }
            },
            "type": "scattergl"
           }
          ],
          "scattermapbox": [
           {
            "marker": {
             "colorbar": {
              "outlinewidth": 0,
              "tickcolor": "rgb(237,237,237)",
              "ticklen": 6,
              "ticks": "inside"
             }
            },
            "type": "scattermapbox"
           }
          ],
          "scatterpolar": [
           {
            "marker": {
             "colorbar": {
              "outlinewidth": 0,
              "tickcolor": "rgb(237,237,237)",
              "ticklen": 6,
              "ticks": "inside"
             }
            },
            "type": "scatterpolar"
           }
          ],
          "scatterpolargl": [
           {
            "marker": {
             "colorbar": {
              "outlinewidth": 0,
              "tickcolor": "rgb(237,237,237)",
              "ticklen": 6,
              "ticks": "inside"
             }
            },
            "type": "scatterpolargl"
           }
          ],
          "scatterternary": [
           {
            "marker": {
             "colorbar": {
              "outlinewidth": 0,
              "tickcolor": "rgb(237,237,237)",
              "ticklen": 6,
              "ticks": "inside"
             }
            },
            "type": "scatterternary"
           }
          ],
          "surface": [
           {
            "colorbar": {
             "outlinewidth": 0,
             "tickcolor": "rgb(237,237,237)",
             "ticklen": 6,
             "ticks": "inside"
            },
            "colorscale": [
             [
              0,
              "rgb(20,44,66)"
             ],
             [
              1,
              "rgb(90,179,244)"
             ]
            ],
            "type": "surface"
           }
          ],
          "table": [
           {
            "cells": {
             "fill": {
              "color": "rgb(237,237,237)"
             },
             "line": {
              "color": "white"
             }
            },
            "header": {
             "fill": {
              "color": "rgb(217,217,217)"
             },
             "line": {
              "color": "white"
             }
            },
            "type": "table"
           }
          ]
         },
         "layout": {
          "annotationdefaults": {
           "arrowhead": 0,
           "arrowwidth": 1
          },
          "autotypenumbers": "strict",
          "coloraxis": {
           "colorbar": {
            "outlinewidth": 0,
            "tickcolor": "rgb(237,237,237)",
            "ticklen": 6,
            "ticks": "inside"
           }
          },
          "colorscale": {
           "sequential": [
            [
             0,
             "rgb(20,44,66)"
            ],
            [
             1,
             "rgb(90,179,244)"
            ]
           ],
           "sequentialminus": [
            [
             0,
             "rgb(20,44,66)"
            ],
            [
             1,
             "rgb(90,179,244)"
            ]
           ]
          },
          "colorway": [
           "#F8766D",
           "#A3A500",
           "#00BF7D",
           "#00B0F6",
           "#E76BF3"
          ],
          "font": {
           "color": "rgb(51,51,51)"
          },
          "geo": {
           "bgcolor": "white",
           "lakecolor": "white",
           "landcolor": "rgb(237,237,237)",
           "showlakes": true,
           "showland": true,
           "subunitcolor": "white"
          },
          "hoverlabel": {
           "align": "left"
          },
          "hovermode": "closest",
          "paper_bgcolor": "white",
          "plot_bgcolor": "rgb(237,237,237)",
          "polar": {
           "angularaxis": {
            "gridcolor": "white",
            "linecolor": "white",
            "showgrid": true,
            "tickcolor": "rgb(51,51,51)",
            "ticks": "outside"
           },
           "bgcolor": "rgb(237,237,237)",
           "radialaxis": {
            "gridcolor": "white",
            "linecolor": "white",
            "showgrid": true,
            "tickcolor": "rgb(51,51,51)",
            "ticks": "outside"
           }
          },
          "scene": {
           "xaxis": {
            "backgroundcolor": "rgb(237,237,237)",
            "gridcolor": "white",
            "gridwidth": 2,
            "linecolor": "white",
            "showbackground": true,
            "showgrid": true,
            "tickcolor": "rgb(51,51,51)",
            "ticks": "outside",
            "zerolinecolor": "white"
           },
           "yaxis": {
            "backgroundcolor": "rgb(237,237,237)",
            "gridcolor": "white",
            "gridwidth": 2,
            "linecolor": "white",
            "showbackground": true,
            "showgrid": true,
            "tickcolor": "rgb(51,51,51)",
            "ticks": "outside",
            "zerolinecolor": "white"
           },
           "zaxis": {
            "backgroundcolor": "rgb(237,237,237)",
            "gridcolor": "white",
            "gridwidth": 2,
            "linecolor": "white",
            "showbackground": true,
            "showgrid": true,
            "tickcolor": "rgb(51,51,51)",
            "ticks": "outside",
            "zerolinecolor": "white"
           }
          },
          "shapedefaults": {
           "fillcolor": "black",
           "line": {
            "width": 0
           },
           "opacity": 0.3
          },
          "ternary": {
           "aaxis": {
            "gridcolor": "white",
            "linecolor": "white",
            "showgrid": true,
            "tickcolor": "rgb(51,51,51)",
            "ticks": "outside"
           },
           "baxis": {
            "gridcolor": "white",
            "linecolor": "white",
            "showgrid": true,
            "tickcolor": "rgb(51,51,51)",
            "ticks": "outside"
           },
           "bgcolor": "rgb(237,237,237)",
           "caxis": {
            "gridcolor": "white",
            "linecolor": "white",
            "showgrid": true,
            "tickcolor": "rgb(51,51,51)",
            "ticks": "outside"
           }
          },
          "xaxis": {
           "automargin": true,
           "gridcolor": "white",
           "linecolor": "white",
           "showgrid": true,
           "tickcolor": "rgb(51,51,51)",
           "ticks": "outside",
           "title": {
            "standoff": 15
           },
           "zerolinecolor": "white"
          },
          "yaxis": {
           "automargin": true,
           "gridcolor": "white",
           "linecolor": "white",
           "showgrid": true,
           "tickcolor": "rgb(51,51,51)",
           "ticks": "outside",
           "title": {
            "standoff": 15
           },
           "zerolinecolor": "white"
          }
         }
        },
        "title": {
         "text": "Inpatient Provider in Top 10 cities"
        },
        "xaxis": {
         "anchor": "y",
         "domain": [
          0,
          1
         ],
         "tickfont": {
          "size": 14
         },
         "title": {
          "font": {
           "size": 16
          },
          "text": "Provider City Id"
         },
         "type": "category"
        },
        "yaxis": {
         "anchor": "x",
         "domain": [
          0,
          1
         ],
         "tickfont": {
          "size": 14
         },
         "title": {
          "font": {
           "size": 16
          },
          "text": "Count"
         }
        }
       }
      },
      "text/html": [
       "<div>                            <div id=\"da50e717-fe46-44ec-836f-b883940f1340\" class=\"plotly-graph-div\" style=\"height:525px; width:100%;\"></div>            <script type=\"text/javascript\">                require([\"plotly\"], function(Plotly) {                    window.PLOTLYENV=window.PLOTLYENV || {};                                    if (document.getElementById(\"da50e717-fe46-44ec-836f-b883940f1340\")) {                    Plotly.newPlot(                        \"da50e717-fe46-44ec-836f-b883940f1340\",                        [{\"alignmentgroup\":\"True\",\"hovertemplate\":\"x=%{x}<br>y=%{y}<extra></extra>\",\"legendgroup\":\"\",\"marker\":{\"color\":\"#636efa\",\"pattern\":{\"shape\":\"\"}},\"name\":\"\",\"offsetgroup\":\"\",\"orientation\":\"v\",\"showlegend\":false,\"textposition\":\"auto\",\"x\":[\"CHICAGO\",\"BALTIMORE\",\"HOUSTON\",\"PHILADELPHIA\",\"BROOKLYN\",\"SPRINGFIELD\",\"COLUMBUS\",\"LOS ANGELES\",\"NEW YORK\",\"DALLAS\"],\"xaxis\":\"x\",\"y\":[1505,1059,950,898,877,807,792,777,746,717],\"yaxis\":\"y\",\"type\":\"bar\"}],                        {\"template\":{\"data\":{\"barpolar\":[{\"marker\":{\"line\":{\"color\":\"rgb(237,237,237)\",\"width\":0.5},\"pattern\":{\"fillmode\":\"overlay\",\"size\":10,\"solidity\":0.2}},\"type\":\"barpolar\"}],\"bar\":[{\"error_x\":{\"color\":\"rgb(51,51,51)\"},\"error_y\":{\"color\":\"rgb(51,51,51)\"},\"marker\":{\"line\":{\"color\":\"rgb(237,237,237)\",\"width\":0.5},\"pattern\":{\"fillmode\":\"overlay\",\"size\":10,\"solidity\":0.2}},\"type\":\"bar\"}],\"carpet\":[{\"aaxis\":{\"endlinecolor\":\"rgb(51,51,51)\",\"gridcolor\":\"white\",\"linecolor\":\"white\",\"minorgridcolor\":\"white\",\"startlinecolor\":\"rgb(51,51,51)\"},\"baxis\":{\"endlinecolor\":\"rgb(51,51,51)\",\"gridcolor\":\"white\",\"linecolor\":\"white\",\"minorgridcolor\":\"white\",\"startlinecolor\":\"rgb(51,51,51)\"},\"type\":\"carpet\"}],\"choropleth\":[{\"colorbar\":{\"outlinewidth\":0,\"tickcolor\":\"rgb(237,237,237)\",\"ticklen\":6,\"ticks\":\"inside\"},\"type\":\"choropleth\"}],\"contourcarpet\":[{\"colorbar\":{\"outlinewidth\":0,\"tickcolor\":\"rgb(237,237,237)\",\"ticklen\":6,\"ticks\":\"inside\"},\"type\":\"contourcarpet\"}],\"contour\":[{\"colorbar\":{\"outlinewidth\":0,\"tickcolor\":\"rgb(237,237,237)\",\"ticklen\":6,\"ticks\":\"inside\"},\"colorscale\":[[0,\"rgb(20,44,66)\"],[1,\"rgb(90,179,244)\"]],\"type\":\"contour\"}],\"heatmapgl\":[{\"colorbar\":{\"outlinewidth\":0,\"tickcolor\":\"rgb(237,237,237)\",\"ticklen\":6,\"ticks\":\"inside\"},\"colorscale\":[[0,\"rgb(20,44,66)\"],[1,\"rgb(90,179,244)\"]],\"type\":\"heatmapgl\"}],\"heatmap\":[{\"colorbar\":{\"outlinewidth\":0,\"tickcolor\":\"rgb(237,237,237)\",\"ticklen\":6,\"ticks\":\"inside\"},\"colorscale\":[[0,\"rgb(20,44,66)\"],[1,\"rgb(90,179,244)\"]],\"type\":\"heatmap\"}],\"histogram2dcontour\":[{\"colorbar\":{\"outlinewidth\":0,\"tickcolor\":\"rgb(237,237,237)\",\"ticklen\":6,\"ticks\":\"inside\"},\"colorscale\":[[0,\"rgb(20,44,66)\"],[1,\"rgb(90,179,244)\"]],\"type\":\"histogram2dcontour\"}],\"histogram2d\":[{\"colorbar\":{\"outlinewidth\":0,\"tickcolor\":\"rgb(237,237,237)\",\"ticklen\":6,\"ticks\":\"inside\"},\"colorscale\":[[0,\"rgb(20,44,66)\"],[1,\"rgb(90,179,244)\"]],\"type\":\"histogram2d\"}],\"histogram\":[{\"marker\":{\"pattern\":{\"fillmode\":\"overlay\",\"size\":10,\"solidity\":0.2}},\"type\":\"histogram\"}],\"mesh3d\":[{\"colorbar\":{\"outlinewidth\":0,\"tickcolor\":\"rgb(237,237,237)\",\"ticklen\":6,\"ticks\":\"inside\"},\"type\":\"mesh3d\"}],\"parcoords\":[{\"line\":{\"colorbar\":{\"outlinewidth\":0,\"tickcolor\":\"rgb(237,237,237)\",\"ticklen\":6,\"ticks\":\"inside\"}},\"type\":\"parcoords\"}],\"pie\":[{\"automargin\":true,\"type\":\"pie\"}],\"scatter3d\":[{\"line\":{\"colorbar\":{\"outlinewidth\":0,\"tickcolor\":\"rgb(237,237,237)\",\"ticklen\":6,\"ticks\":\"inside\"}},\"marker\":{\"colorbar\":{\"outlinewidth\":0,\"tickcolor\":\"rgb(237,237,237)\",\"ticklen\":6,\"ticks\":\"inside\"}},\"type\":\"scatter3d\"}],\"scattercarpet\":[{\"marker\":{\"colorbar\":{\"outlinewidth\":0,\"tickcolor\":\"rgb(237,237,237)\",\"ticklen\":6,\"ticks\":\"inside\"}},\"type\":\"scattercarpet\"}],\"scattergeo\":[{\"marker\":{\"colorbar\":{\"outlinewidth\":0,\"tickcolor\":\"rgb(237,237,237)\",\"ticklen\":6,\"ticks\":\"inside\"}},\"type\":\"scattergeo\"}],\"scattergl\":[{\"marker\":{\"colorbar\":{\"outlinewidth\":0,\"tickcolor\":\"rgb(237,237,237)\",\"ticklen\":6,\"ticks\":\"inside\"}},\"type\":\"scattergl\"}],\"scattermapbox\":[{\"marker\":{\"colorbar\":{\"outlinewidth\":0,\"tickcolor\":\"rgb(237,237,237)\",\"ticklen\":6,\"ticks\":\"inside\"}},\"type\":\"scattermapbox\"}],\"scatterpolargl\":[{\"marker\":{\"colorbar\":{\"outlinewidth\":0,\"tickcolor\":\"rgb(237,237,237)\",\"ticklen\":6,\"ticks\":\"inside\"}},\"type\":\"scatterpolargl\"}],\"scatterpolar\":[{\"marker\":{\"colorbar\":{\"outlinewidth\":0,\"tickcolor\":\"rgb(237,237,237)\",\"ticklen\":6,\"ticks\":\"inside\"}},\"type\":\"scatterpolar\"}],\"scatter\":[{\"marker\":{\"colorbar\":{\"outlinewidth\":0,\"tickcolor\":\"rgb(237,237,237)\",\"ticklen\":6,\"ticks\":\"inside\"}},\"type\":\"scatter\"}],\"scatterternary\":[{\"marker\":{\"colorbar\":{\"outlinewidth\":0,\"tickcolor\":\"rgb(237,237,237)\",\"ticklen\":6,\"ticks\":\"inside\"}},\"type\":\"scatterternary\"}],\"surface\":[{\"colorbar\":{\"outlinewidth\":0,\"tickcolor\":\"rgb(237,237,237)\",\"ticklen\":6,\"ticks\":\"inside\"},\"colorscale\":[[0,\"rgb(20,44,66)\"],[1,\"rgb(90,179,244)\"]],\"type\":\"surface\"}],\"table\":[{\"cells\":{\"fill\":{\"color\":\"rgb(237,237,237)\"},\"line\":{\"color\":\"white\"}},\"header\":{\"fill\":{\"color\":\"rgb(217,217,217)\"},\"line\":{\"color\":\"white\"}},\"type\":\"table\"}]},\"layout\":{\"annotationdefaults\":{\"arrowhead\":0,\"arrowwidth\":1},\"autotypenumbers\":\"strict\",\"coloraxis\":{\"colorbar\":{\"outlinewidth\":0,\"tickcolor\":\"rgb(237,237,237)\",\"ticklen\":6,\"ticks\":\"inside\"}},\"colorscale\":{\"sequential\":[[0,\"rgb(20,44,66)\"],[1,\"rgb(90,179,244)\"]],\"sequentialminus\":[[0,\"rgb(20,44,66)\"],[1,\"rgb(90,179,244)\"]]},\"colorway\":[\"#F8766D\",\"#A3A500\",\"#00BF7D\",\"#00B0F6\",\"#E76BF3\"],\"font\":{\"color\":\"rgb(51,51,51)\"},\"geo\":{\"bgcolor\":\"white\",\"lakecolor\":\"white\",\"landcolor\":\"rgb(237,237,237)\",\"showlakes\":true,\"showland\":true,\"subunitcolor\":\"white\"},\"hoverlabel\":{\"align\":\"left\"},\"hovermode\":\"closest\",\"paper_bgcolor\":\"white\",\"plot_bgcolor\":\"rgb(237,237,237)\",\"polar\":{\"angularaxis\":{\"gridcolor\":\"white\",\"linecolor\":\"white\",\"showgrid\":true,\"tickcolor\":\"rgb(51,51,51)\",\"ticks\":\"outside\"},\"bgcolor\":\"rgb(237,237,237)\",\"radialaxis\":{\"gridcolor\":\"white\",\"linecolor\":\"white\",\"showgrid\":true,\"tickcolor\":\"rgb(51,51,51)\",\"ticks\":\"outside\"}},\"scene\":{\"xaxis\":{\"backgroundcolor\":\"rgb(237,237,237)\",\"gridcolor\":\"white\",\"gridwidth\":2,\"linecolor\":\"white\",\"showbackground\":true,\"showgrid\":true,\"tickcolor\":\"rgb(51,51,51)\",\"ticks\":\"outside\",\"zerolinecolor\":\"white\"},\"yaxis\":{\"backgroundcolor\":\"rgb(237,237,237)\",\"gridcolor\":\"white\",\"gridwidth\":2,\"linecolor\":\"white\",\"showbackground\":true,\"showgrid\":true,\"tickcolor\":\"rgb(51,51,51)\",\"ticks\":\"outside\",\"zerolinecolor\":\"white\"},\"zaxis\":{\"backgroundcolor\":\"rgb(237,237,237)\",\"gridcolor\":\"white\",\"gridwidth\":2,\"linecolor\":\"white\",\"showbackground\":true,\"showgrid\":true,\"tickcolor\":\"rgb(51,51,51)\",\"ticks\":\"outside\",\"zerolinecolor\":\"white\"}},\"shapedefaults\":{\"fillcolor\":\"black\",\"line\":{\"width\":0},\"opacity\":0.3},\"ternary\":{\"aaxis\":{\"gridcolor\":\"white\",\"linecolor\":\"white\",\"showgrid\":true,\"tickcolor\":\"rgb(51,51,51)\",\"ticks\":\"outside\"},\"baxis\":{\"gridcolor\":\"white\",\"linecolor\":\"white\",\"showgrid\":true,\"tickcolor\":\"rgb(51,51,51)\",\"ticks\":\"outside\"},\"bgcolor\":\"rgb(237,237,237)\",\"caxis\":{\"gridcolor\":\"white\",\"linecolor\":\"white\",\"showgrid\":true,\"tickcolor\":\"rgb(51,51,51)\",\"ticks\":\"outside\"}},\"xaxis\":{\"automargin\":true,\"gridcolor\":\"white\",\"linecolor\":\"white\",\"showgrid\":true,\"tickcolor\":\"rgb(51,51,51)\",\"ticks\":\"outside\",\"title\":{\"standoff\":15},\"zerolinecolor\":\"white\"},\"yaxis\":{\"automargin\":true,\"gridcolor\":\"white\",\"linecolor\":\"white\",\"showgrid\":true,\"tickcolor\":\"rgb(51,51,51)\",\"ticks\":\"outside\",\"title\":{\"standoff\":15},\"zerolinecolor\":\"white\"}}},\"xaxis\":{\"anchor\":\"y\",\"domain\":[0.0,1.0],\"title\":{\"text\":\"Provider City Id\",\"font\":{\"size\":16}},\"tickfont\":{\"size\":14},\"type\":\"category\"},\"yaxis\":{\"anchor\":\"x\",\"domain\":[0.0,1.0],\"title\":{\"text\":\"Count\",\"font\":{\"size\":16}},\"tickfont\":{\"size\":14}},\"legend\":{\"tracegroupgap\":0,\"x\":0,\"y\":1.0},\"margin\":{\"t\":60},\"barmode\":\"group\",\"title\":{\"text\":\"Inpatient Provider in Top 10 cities\"},\"bargap\":0.15,\"bargroupgap\":0.1},                        {\"responsive\": true}                    ).then(function(){\n",
       "                            \n",
       "var gd = document.getElementById('da50e717-fe46-44ec-836f-b883940f1340');\n",
       "var x = new MutationObserver(function (mutations, observer) {{\n",
       "        var display = window.getComputedStyle(gd).display;\n",
       "        if (!display || display === 'none') {{\n",
       "            console.log([gd, 'removed!']);\n",
       "            Plotly.purge(gd);\n",
       "            observer.disconnect();\n",
       "        }}\n",
       "}});\n",
       "\n",
       "// Listen for the removal of the full notebook cells\n",
       "var notebookContainer = gd.closest('#notebook-container');\n",
       "if (notebookContainer) {{\n",
       "    x.observe(notebookContainer, {childList: true});\n",
       "}}\n",
       "\n",
       "// Listen for the clearing of the current output cell\n",
       "var outputEl = gd.closest('.output');\n",
       "if (outputEl) {{\n",
       "    x.observe(outputEl, {childList: true});\n",
       "}}\n",
       "\n",
       "                        })                };                });            </script>        </div>"
      ]
     },
     "metadata": {},
     "output_type": "display_data"
    }
   ],
   "source": [
    "#Inpatient Provider City\n",
    "city_count  = inpatient_df['Provider City'].value_counts()\n",
    "city_count = city_count[:10,]\n",
    "fig = go.Figure()\n",
    "fig = px.bar(x = city_count.index, y = city_count.values)\n",
    "fig.update_layout(\n",
    "    title='Inpatient Provider in Top 10 cities',\n",
    "    template='ggplot2',\n",
    "    xaxis=dict(\n",
    "        title='Provider City Id',\n",
    "        titlefont_size=16,\n",
    "        tickfont_size=14,\n",
    "    ),\n",
    "    yaxis=dict(\n",
    "        title='Count',\n",
    "        titlefont_size=16,\n",
    "        tickfont_size=14,\n",
    "    ),\n",
    "    legend=dict(\n",
    "        x=0,\n",
    "        y=1.0,\n",
    "    ),\n",
    "    barmode='group',\n",
    "    bargap=0.15,\n",
    "    bargroupgap=0.1,\n",
    ")\n",
    "fig.layout.xaxis.type = 'category'\n",
    "fig.show()\n"
   ]
  },
  {
   "cell_type": "code",
   "execution_count": 101,
   "metadata": {},
   "outputs": [
    {
     "data": {
      "application/vnd.plotly.v1+json": {
       "config": {
        "plotlyServerURL": "https://plot.ly"
       },
       "data": [
        {
         "alignmentgroup": "True",
         "bingroup": "x",
         "histfunc": "sum",
         "hovertemplate": "x=%{x}<br>sum of y=%{y}<extra></extra>",
         "legendgroup": "",
         "marker": {
          "color": "#636efa",
          "pattern": {
           "shape": ""
          }
         },
         "name": "",
         "offsetgroup": "",
         "orientation": "v",
         "showlegend": false,
         "type": "histogram",
         "x": [
          "CA",
          "TX",
          "FL",
          "NY",
          "IL",
          "PA",
          "OH",
          "MI",
          "NC",
          "GA"
         ],
         "xaxis": "x",
         "y": [
          13064,
          11864,
          11155,
          9178,
          7909,
          7804,
          7012,
          5419,
          5041,
          4968
         ],
         "yaxis": "y"
        }
       ],
       "layout": {
        "bargap": 0.15,
        "bargroupgap": 0.1,
        "barmode": "group",
        "legend": {
         "bgcolor": "rgba(255, 255, 255, 0)",
         "bordercolor": "rgba(255, 255, 255, 0)",
         "tracegroupgap": 0,
         "x": 0,
         "y": 1
        },
        "margin": {
         "t": 60
        },
        "template": {
         "data": {
          "bar": [
           {
            "error_x": {
             "color": "rgb(51,51,51)"
            },
            "error_y": {
             "color": "rgb(51,51,51)"
            },
            "marker": {
             "line": {
              "color": "rgb(237,237,237)",
              "width": 0.5
             },
             "pattern": {
              "fillmode": "overlay",
              "size": 10,
              "solidity": 0.2
             }
            },
            "type": "bar"
           }
          ],
          "barpolar": [
           {
            "marker": {
             "line": {
              "color": "rgb(237,237,237)",
              "width": 0.5
             },
             "pattern": {
              "fillmode": "overlay",
              "size": 10,
              "solidity": 0.2
             }
            },
            "type": "barpolar"
           }
          ],
          "carpet": [
           {
            "aaxis": {
             "endlinecolor": "rgb(51,51,51)",
             "gridcolor": "white",
             "linecolor": "white",
             "minorgridcolor": "white",
             "startlinecolor": "rgb(51,51,51)"
            },
            "baxis": {
             "endlinecolor": "rgb(51,51,51)",
             "gridcolor": "white",
             "linecolor": "white",
             "minorgridcolor": "white",
             "startlinecolor": "rgb(51,51,51)"
            },
            "type": "carpet"
           }
          ],
          "choropleth": [
           {
            "colorbar": {
             "outlinewidth": 0,
             "tickcolor": "rgb(237,237,237)",
             "ticklen": 6,
             "ticks": "inside"
            },
            "type": "choropleth"
           }
          ],
          "contour": [
           {
            "colorbar": {
             "outlinewidth": 0,
             "tickcolor": "rgb(237,237,237)",
             "ticklen": 6,
             "ticks": "inside"
            },
            "colorscale": [
             [
              0,
              "rgb(20,44,66)"
             ],
             [
              1,
              "rgb(90,179,244)"
             ]
            ],
            "type": "contour"
           }
          ],
          "contourcarpet": [
           {
            "colorbar": {
             "outlinewidth": 0,
             "tickcolor": "rgb(237,237,237)",
             "ticklen": 6,
             "ticks": "inside"
            },
            "type": "contourcarpet"
           }
          ],
          "heatmap": [
           {
            "colorbar": {
             "outlinewidth": 0,
             "tickcolor": "rgb(237,237,237)",
             "ticklen": 6,
             "ticks": "inside"
            },
            "colorscale": [
             [
              0,
              "rgb(20,44,66)"
             ],
             [
              1,
              "rgb(90,179,244)"
             ]
            ],
            "type": "heatmap"
           }
          ],
          "heatmapgl": [
           {
            "colorbar": {
             "outlinewidth": 0,
             "tickcolor": "rgb(237,237,237)",
             "ticklen": 6,
             "ticks": "inside"
            },
            "colorscale": [
             [
              0,
              "rgb(20,44,66)"
             ],
             [
              1,
              "rgb(90,179,244)"
             ]
            ],
            "type": "heatmapgl"
           }
          ],
          "histogram": [
           {
            "marker": {
             "pattern": {
              "fillmode": "overlay",
              "size": 10,
              "solidity": 0.2
             }
            },
            "type": "histogram"
           }
          ],
          "histogram2d": [
           {
            "colorbar": {
             "outlinewidth": 0,
             "tickcolor": "rgb(237,237,237)",
             "ticklen": 6,
             "ticks": "inside"
            },
            "colorscale": [
             [
              0,
              "rgb(20,44,66)"
             ],
             [
              1,
              "rgb(90,179,244)"
             ]
            ],
            "type": "histogram2d"
           }
          ],
          "histogram2dcontour": [
           {
            "colorbar": {
             "outlinewidth": 0,
             "tickcolor": "rgb(237,237,237)",
             "ticklen": 6,
             "ticks": "inside"
            },
            "colorscale": [
             [
              0,
              "rgb(20,44,66)"
             ],
             [
              1,
              "rgb(90,179,244)"
             ]
            ],
            "type": "histogram2dcontour"
           }
          ],
          "mesh3d": [
           {
            "colorbar": {
             "outlinewidth": 0,
             "tickcolor": "rgb(237,237,237)",
             "ticklen": 6,
             "ticks": "inside"
            },
            "type": "mesh3d"
           }
          ],
          "parcoords": [
           {
            "line": {
             "colorbar": {
              "outlinewidth": 0,
              "tickcolor": "rgb(237,237,237)",
              "ticklen": 6,
              "ticks": "inside"
             }
            },
            "type": "parcoords"
           }
          ],
          "pie": [
           {
            "automargin": true,
            "type": "pie"
           }
          ],
          "scatter": [
           {
            "marker": {
             "colorbar": {
              "outlinewidth": 0,
              "tickcolor": "rgb(237,237,237)",
              "ticklen": 6,
              "ticks": "inside"
             }
            },
            "type": "scatter"
           }
          ],
          "scatter3d": [
           {
            "line": {
             "colorbar": {
              "outlinewidth": 0,
              "tickcolor": "rgb(237,237,237)",
              "ticklen": 6,
              "ticks": "inside"
             }
            },
            "marker": {
             "colorbar": {
              "outlinewidth": 0,
              "tickcolor": "rgb(237,237,237)",
              "ticklen": 6,
              "ticks": "inside"
             }
            },
            "type": "scatter3d"
           }
          ],
          "scattercarpet": [
           {
            "marker": {
             "colorbar": {
              "outlinewidth": 0,
              "tickcolor": "rgb(237,237,237)",
              "ticklen": 6,
              "ticks": "inside"
             }
            },
            "type": "scattercarpet"
           }
          ],
          "scattergeo": [
           {
            "marker": {
             "colorbar": {
              "outlinewidth": 0,
              "tickcolor": "rgb(237,237,237)",
              "ticklen": 6,
              "ticks": "inside"
             }
            },
            "type": "scattergeo"
           }
          ],
          "scattergl": [
           {
            "marker": {
             "colorbar": {
              "outlinewidth": 0,
              "tickcolor": "rgb(237,237,237)",
              "ticklen": 6,
              "ticks": "inside"
             }
            },
            "type": "scattergl"
           }
          ],
          "scattermapbox": [
           {
            "marker": {
             "colorbar": {
              "outlinewidth": 0,
              "tickcolor": "rgb(237,237,237)",
              "ticklen": 6,
              "ticks": "inside"
             }
            },
            "type": "scattermapbox"
           }
          ],
          "scatterpolar": [
           {
            "marker": {
             "colorbar": {
              "outlinewidth": 0,
              "tickcolor": "rgb(237,237,237)",
              "ticklen": 6,
              "ticks": "inside"
             }
            },
            "type": "scatterpolar"
           }
          ],
          "scatterpolargl": [
           {
            "marker": {
             "colorbar": {
              "outlinewidth": 0,
              "tickcolor": "rgb(237,237,237)",
              "ticklen": 6,
              "ticks": "inside"
             }
            },
            "type": "scatterpolargl"
           }
          ],
          "scatterternary": [
           {
            "marker": {
             "colorbar": {
              "outlinewidth": 0,
              "tickcolor": "rgb(237,237,237)",
              "ticklen": 6,
              "ticks": "inside"
             }
            },
            "type": "scatterternary"
           }
          ],
          "surface": [
           {
            "colorbar": {
             "outlinewidth": 0,
             "tickcolor": "rgb(237,237,237)",
             "ticklen": 6,
             "ticks": "inside"
            },
            "colorscale": [
             [
              0,
              "rgb(20,44,66)"
             ],
             [
              1,
              "rgb(90,179,244)"
             ]
            ],
            "type": "surface"
           }
          ],
          "table": [
           {
            "cells": {
             "fill": {
              "color": "rgb(237,237,237)"
             },
             "line": {
              "color": "white"
             }
            },
            "header": {
             "fill": {
              "color": "rgb(217,217,217)"
             },
             "line": {
              "color": "white"
             }
            },
            "type": "table"
           }
          ]
         },
         "layout": {
          "annotationdefaults": {
           "arrowhead": 0,
           "arrowwidth": 1
          },
          "autotypenumbers": "strict",
          "coloraxis": {
           "colorbar": {
            "outlinewidth": 0,
            "tickcolor": "rgb(237,237,237)",
            "ticklen": 6,
            "ticks": "inside"
           }
          },
          "colorscale": {
           "sequential": [
            [
             0,
             "rgb(20,44,66)"
            ],
            [
             1,
             "rgb(90,179,244)"
            ]
           ],
           "sequentialminus": [
            [
             0,
             "rgb(20,44,66)"
            ],
            [
             1,
             "rgb(90,179,244)"
            ]
           ]
          },
          "colorway": [
           "#F8766D",
           "#A3A500",
           "#00BF7D",
           "#00B0F6",
           "#E76BF3"
          ],
          "font": {
           "color": "rgb(51,51,51)"
          },
          "geo": {
           "bgcolor": "white",
           "lakecolor": "white",
           "landcolor": "rgb(237,237,237)",
           "showlakes": true,
           "showland": true,
           "subunitcolor": "white"
          },
          "hoverlabel": {
           "align": "left"
          },
          "hovermode": "closest",
          "paper_bgcolor": "white",
          "plot_bgcolor": "rgb(237,237,237)",
          "polar": {
           "angularaxis": {
            "gridcolor": "white",
            "linecolor": "white",
            "showgrid": true,
            "tickcolor": "rgb(51,51,51)",
            "ticks": "outside"
           },
           "bgcolor": "rgb(237,237,237)",
           "radialaxis": {
            "gridcolor": "white",
            "linecolor": "white",
            "showgrid": true,
            "tickcolor": "rgb(51,51,51)",
            "ticks": "outside"
           }
          },
          "scene": {
           "xaxis": {
            "backgroundcolor": "rgb(237,237,237)",
            "gridcolor": "white",
            "gridwidth": 2,
            "linecolor": "white",
            "showbackground": true,
            "showgrid": true,
            "tickcolor": "rgb(51,51,51)",
            "ticks": "outside",
            "zerolinecolor": "white"
           },
           "yaxis": {
            "backgroundcolor": "rgb(237,237,237)",
            "gridcolor": "white",
            "gridwidth": 2,
            "linecolor": "white",
            "showbackground": true,
            "showgrid": true,
            "tickcolor": "rgb(51,51,51)",
            "ticks": "outside",
            "zerolinecolor": "white"
           },
           "zaxis": {
            "backgroundcolor": "rgb(237,237,237)",
            "gridcolor": "white",
            "gridwidth": 2,
            "linecolor": "white",
            "showbackground": true,
            "showgrid": true,
            "tickcolor": "rgb(51,51,51)",
            "ticks": "outside",
            "zerolinecolor": "white"
           }
          },
          "shapedefaults": {
           "fillcolor": "black",
           "line": {
            "width": 0
           },
           "opacity": 0.3
          },
          "ternary": {
           "aaxis": {
            "gridcolor": "white",
            "linecolor": "white",
            "showgrid": true,
            "tickcolor": "rgb(51,51,51)",
            "ticks": "outside"
           },
           "baxis": {
            "gridcolor": "white",
            "linecolor": "white",
            "showgrid": true,
            "tickcolor": "rgb(51,51,51)",
            "ticks": "outside"
           },
           "bgcolor": "rgb(237,237,237)",
           "caxis": {
            "gridcolor": "white",
            "linecolor": "white",
            "showgrid": true,
            "tickcolor": "rgb(51,51,51)",
            "ticks": "outside"
           }
          },
          "xaxis": {
           "automargin": true,
           "gridcolor": "white",
           "linecolor": "white",
           "showgrid": true,
           "tickcolor": "rgb(51,51,51)",
           "ticks": "outside",
           "title": {
            "standoff": 15
           },
           "zerolinecolor": "white"
          },
          "yaxis": {
           "automargin": true,
           "gridcolor": "white",
           "linecolor": "white",
           "showgrid": true,
           "tickcolor": "rgb(51,51,51)",
           "ticks": "outside",
           "title": {
            "standoff": 15
           },
           "zerolinecolor": "white"
          }
         }
        },
        "title": {
         "text": "Inpatient Provider in Top 10 States"
        },
        "xaxis": {
         "anchor": "y",
         "domain": [
          0,
          1
         ],
         "tickfont": {
          "size": 14
         },
         "title": {
          "font": {
           "size": 16
          },
          "text": "States"
         },
         "type": "category"
        },
        "yaxis": {
         "anchor": "x",
         "domain": [
          0,
          1
         ],
         "tickfont": {
          "size": 14
         },
         "title": {
          "font": {
           "size": 16
          },
          "text": "Count"
         }
        }
       }
      },
      "text/html": [
       "<div>                            <div id=\"e3d1c0f5-04e8-4b1a-8853-51653f9fbc17\" class=\"plotly-graph-div\" style=\"height:525px; width:100%;\"></div>            <script type=\"text/javascript\">                require([\"plotly\"], function(Plotly) {                    window.PLOTLYENV=window.PLOTLYENV || {};                                    if (document.getElementById(\"e3d1c0f5-04e8-4b1a-8853-51653f9fbc17\")) {                    Plotly.newPlot(                        \"e3d1c0f5-04e8-4b1a-8853-51653f9fbc17\",                        [{\"alignmentgroup\":\"True\",\"bingroup\":\"x\",\"histfunc\":\"sum\",\"hovertemplate\":\"x=%{x}<br>sum of y=%{y}<extra></extra>\",\"legendgroup\":\"\",\"marker\":{\"color\":\"#636efa\",\"pattern\":{\"shape\":\"\"}},\"name\":\"\",\"offsetgroup\":\"\",\"orientation\":\"v\",\"showlegend\":false,\"x\":[\"CA\",\"TX\",\"FL\",\"NY\",\"IL\",\"PA\",\"OH\",\"MI\",\"NC\",\"GA\"],\"xaxis\":\"x\",\"y\":[13064,11864,11155,9178,7909,7804,7012,5419,5041,4968],\"yaxis\":\"y\",\"type\":\"histogram\"}],                        {\"template\":{\"data\":{\"barpolar\":[{\"marker\":{\"line\":{\"color\":\"rgb(237,237,237)\",\"width\":0.5},\"pattern\":{\"fillmode\":\"overlay\",\"size\":10,\"solidity\":0.2}},\"type\":\"barpolar\"}],\"bar\":[{\"error_x\":{\"color\":\"rgb(51,51,51)\"},\"error_y\":{\"color\":\"rgb(51,51,51)\"},\"marker\":{\"line\":{\"color\":\"rgb(237,237,237)\",\"width\":0.5},\"pattern\":{\"fillmode\":\"overlay\",\"size\":10,\"solidity\":0.2}},\"type\":\"bar\"}],\"carpet\":[{\"aaxis\":{\"endlinecolor\":\"rgb(51,51,51)\",\"gridcolor\":\"white\",\"linecolor\":\"white\",\"minorgridcolor\":\"white\",\"startlinecolor\":\"rgb(51,51,51)\"},\"baxis\":{\"endlinecolor\":\"rgb(51,51,51)\",\"gridcolor\":\"white\",\"linecolor\":\"white\",\"minorgridcolor\":\"white\",\"startlinecolor\":\"rgb(51,51,51)\"},\"type\":\"carpet\"}],\"choropleth\":[{\"colorbar\":{\"outlinewidth\":0,\"tickcolor\":\"rgb(237,237,237)\",\"ticklen\":6,\"ticks\":\"inside\"},\"type\":\"choropleth\"}],\"contourcarpet\":[{\"colorbar\":{\"outlinewidth\":0,\"tickcolor\":\"rgb(237,237,237)\",\"ticklen\":6,\"ticks\":\"inside\"},\"type\":\"contourcarpet\"}],\"contour\":[{\"colorbar\":{\"outlinewidth\":0,\"tickcolor\":\"rgb(237,237,237)\",\"ticklen\":6,\"ticks\":\"inside\"},\"colorscale\":[[0,\"rgb(20,44,66)\"],[1,\"rgb(90,179,244)\"]],\"type\":\"contour\"}],\"heatmapgl\":[{\"colorbar\":{\"outlinewidth\":0,\"tickcolor\":\"rgb(237,237,237)\",\"ticklen\":6,\"ticks\":\"inside\"},\"colorscale\":[[0,\"rgb(20,44,66)\"],[1,\"rgb(90,179,244)\"]],\"type\":\"heatmapgl\"}],\"heatmap\":[{\"colorbar\":{\"outlinewidth\":0,\"tickcolor\":\"rgb(237,237,237)\",\"ticklen\":6,\"ticks\":\"inside\"},\"colorscale\":[[0,\"rgb(20,44,66)\"],[1,\"rgb(90,179,244)\"]],\"type\":\"heatmap\"}],\"histogram2dcontour\":[{\"colorbar\":{\"outlinewidth\":0,\"tickcolor\":\"rgb(237,237,237)\",\"ticklen\":6,\"ticks\":\"inside\"},\"colorscale\":[[0,\"rgb(20,44,66)\"],[1,\"rgb(90,179,244)\"]],\"type\":\"histogram2dcontour\"}],\"histogram2d\":[{\"colorbar\":{\"outlinewidth\":0,\"tickcolor\":\"rgb(237,237,237)\",\"ticklen\":6,\"ticks\":\"inside\"},\"colorscale\":[[0,\"rgb(20,44,66)\"],[1,\"rgb(90,179,244)\"]],\"type\":\"histogram2d\"}],\"histogram\":[{\"marker\":{\"pattern\":{\"fillmode\":\"overlay\",\"size\":10,\"solidity\":0.2}},\"type\":\"histogram\"}],\"mesh3d\":[{\"colorbar\":{\"outlinewidth\":0,\"tickcolor\":\"rgb(237,237,237)\",\"ticklen\":6,\"ticks\":\"inside\"},\"type\":\"mesh3d\"}],\"parcoords\":[{\"line\":{\"colorbar\":{\"outlinewidth\":0,\"tickcolor\":\"rgb(237,237,237)\",\"ticklen\":6,\"ticks\":\"inside\"}},\"type\":\"parcoords\"}],\"pie\":[{\"automargin\":true,\"type\":\"pie\"}],\"scatter3d\":[{\"line\":{\"colorbar\":{\"outlinewidth\":0,\"tickcolor\":\"rgb(237,237,237)\",\"ticklen\":6,\"ticks\":\"inside\"}},\"marker\":{\"colorbar\":{\"outlinewidth\":0,\"tickcolor\":\"rgb(237,237,237)\",\"ticklen\":6,\"ticks\":\"inside\"}},\"type\":\"scatter3d\"}],\"scattercarpet\":[{\"marker\":{\"colorbar\":{\"outlinewidth\":0,\"tickcolor\":\"rgb(237,237,237)\",\"ticklen\":6,\"ticks\":\"inside\"}},\"type\":\"scattercarpet\"}],\"scattergeo\":[{\"marker\":{\"colorbar\":{\"outlinewidth\":0,\"tickcolor\":\"rgb(237,237,237)\",\"ticklen\":6,\"ticks\":\"inside\"}},\"type\":\"scattergeo\"}],\"scattergl\":[{\"marker\":{\"colorbar\":{\"outlinewidth\":0,\"tickcolor\":\"rgb(237,237,237)\",\"ticklen\":6,\"ticks\":\"inside\"}},\"type\":\"scattergl\"}],\"scattermapbox\":[{\"marker\":{\"colorbar\":{\"outlinewidth\":0,\"tickcolor\":\"rgb(237,237,237)\",\"ticklen\":6,\"ticks\":\"inside\"}},\"type\":\"scattermapbox\"}],\"scatterpolargl\":[{\"marker\":{\"colorbar\":{\"outlinewidth\":0,\"tickcolor\":\"rgb(237,237,237)\",\"ticklen\":6,\"ticks\":\"inside\"}},\"type\":\"scatterpolargl\"}],\"scatterpolar\":[{\"marker\":{\"colorbar\":{\"outlinewidth\":0,\"tickcolor\":\"rgb(237,237,237)\",\"ticklen\":6,\"ticks\":\"inside\"}},\"type\":\"scatterpolar\"}],\"scatter\":[{\"marker\":{\"colorbar\":{\"outlinewidth\":0,\"tickcolor\":\"rgb(237,237,237)\",\"ticklen\":6,\"ticks\":\"inside\"}},\"type\":\"scatter\"}],\"scatterternary\":[{\"marker\":{\"colorbar\":{\"outlinewidth\":0,\"tickcolor\":\"rgb(237,237,237)\",\"ticklen\":6,\"ticks\":\"inside\"}},\"type\":\"scatterternary\"}],\"surface\":[{\"colorbar\":{\"outlinewidth\":0,\"tickcolor\":\"rgb(237,237,237)\",\"ticklen\":6,\"ticks\":\"inside\"},\"colorscale\":[[0,\"rgb(20,44,66)\"],[1,\"rgb(90,179,244)\"]],\"type\":\"surface\"}],\"table\":[{\"cells\":{\"fill\":{\"color\":\"rgb(237,237,237)\"},\"line\":{\"color\":\"white\"}},\"header\":{\"fill\":{\"color\":\"rgb(217,217,217)\"},\"line\":{\"color\":\"white\"}},\"type\":\"table\"}]},\"layout\":{\"annotationdefaults\":{\"arrowhead\":0,\"arrowwidth\":1},\"autotypenumbers\":\"strict\",\"coloraxis\":{\"colorbar\":{\"outlinewidth\":0,\"tickcolor\":\"rgb(237,237,237)\",\"ticklen\":6,\"ticks\":\"inside\"}},\"colorscale\":{\"sequential\":[[0,\"rgb(20,44,66)\"],[1,\"rgb(90,179,244)\"]],\"sequentialminus\":[[0,\"rgb(20,44,66)\"],[1,\"rgb(90,179,244)\"]]},\"colorway\":[\"#F8766D\",\"#A3A500\",\"#00BF7D\",\"#00B0F6\",\"#E76BF3\"],\"font\":{\"color\":\"rgb(51,51,51)\"},\"geo\":{\"bgcolor\":\"white\",\"lakecolor\":\"white\",\"landcolor\":\"rgb(237,237,237)\",\"showlakes\":true,\"showland\":true,\"subunitcolor\":\"white\"},\"hoverlabel\":{\"align\":\"left\"},\"hovermode\":\"closest\",\"paper_bgcolor\":\"white\",\"plot_bgcolor\":\"rgb(237,237,237)\",\"polar\":{\"angularaxis\":{\"gridcolor\":\"white\",\"linecolor\":\"white\",\"showgrid\":true,\"tickcolor\":\"rgb(51,51,51)\",\"ticks\":\"outside\"},\"bgcolor\":\"rgb(237,237,237)\",\"radialaxis\":{\"gridcolor\":\"white\",\"linecolor\":\"white\",\"showgrid\":true,\"tickcolor\":\"rgb(51,51,51)\",\"ticks\":\"outside\"}},\"scene\":{\"xaxis\":{\"backgroundcolor\":\"rgb(237,237,237)\",\"gridcolor\":\"white\",\"gridwidth\":2,\"linecolor\":\"white\",\"showbackground\":true,\"showgrid\":true,\"tickcolor\":\"rgb(51,51,51)\",\"ticks\":\"outside\",\"zerolinecolor\":\"white\"},\"yaxis\":{\"backgroundcolor\":\"rgb(237,237,237)\",\"gridcolor\":\"white\",\"gridwidth\":2,\"linecolor\":\"white\",\"showbackground\":true,\"showgrid\":true,\"tickcolor\":\"rgb(51,51,51)\",\"ticks\":\"outside\",\"zerolinecolor\":\"white\"},\"zaxis\":{\"backgroundcolor\":\"rgb(237,237,237)\",\"gridcolor\":\"white\",\"gridwidth\":2,\"linecolor\":\"white\",\"showbackground\":true,\"showgrid\":true,\"tickcolor\":\"rgb(51,51,51)\",\"ticks\":\"outside\",\"zerolinecolor\":\"white\"}},\"shapedefaults\":{\"fillcolor\":\"black\",\"line\":{\"width\":0},\"opacity\":0.3},\"ternary\":{\"aaxis\":{\"gridcolor\":\"white\",\"linecolor\":\"white\",\"showgrid\":true,\"tickcolor\":\"rgb(51,51,51)\",\"ticks\":\"outside\"},\"baxis\":{\"gridcolor\":\"white\",\"linecolor\":\"white\",\"showgrid\":true,\"tickcolor\":\"rgb(51,51,51)\",\"ticks\":\"outside\"},\"bgcolor\":\"rgb(237,237,237)\",\"caxis\":{\"gridcolor\":\"white\",\"linecolor\":\"white\",\"showgrid\":true,\"tickcolor\":\"rgb(51,51,51)\",\"ticks\":\"outside\"}},\"xaxis\":{\"automargin\":true,\"gridcolor\":\"white\",\"linecolor\":\"white\",\"showgrid\":true,\"tickcolor\":\"rgb(51,51,51)\",\"ticks\":\"outside\",\"title\":{\"standoff\":15},\"zerolinecolor\":\"white\"},\"yaxis\":{\"automargin\":true,\"gridcolor\":\"white\",\"linecolor\":\"white\",\"showgrid\":true,\"tickcolor\":\"rgb(51,51,51)\",\"ticks\":\"outside\",\"title\":{\"standoff\":15},\"zerolinecolor\":\"white\"}}},\"xaxis\":{\"anchor\":\"y\",\"domain\":[0.0,1.0],\"title\":{\"text\":\"States\",\"font\":{\"size\":16}},\"tickfont\":{\"size\":14},\"type\":\"category\"},\"yaxis\":{\"anchor\":\"x\",\"domain\":[0.0,1.0],\"title\":{\"text\":\"Count\",\"font\":{\"size\":16}},\"tickfont\":{\"size\":14}},\"legend\":{\"tracegroupgap\":0,\"x\":0,\"y\":1.0,\"bgcolor\":\"rgba(255, 255, 255, 0)\",\"bordercolor\":\"rgba(255, 255, 255, 0)\"},\"margin\":{\"t\":60},\"barmode\":\"group\",\"title\":{\"text\":\"Inpatient Provider in Top 10 States\"},\"bargap\":0.15,\"bargroupgap\":0.1},                        {\"responsive\": true}                    ).then(function(){\n",
       "                            \n",
       "var gd = document.getElementById('e3d1c0f5-04e8-4b1a-8853-51653f9fbc17');\n",
       "var x = new MutationObserver(function (mutations, observer) {{\n",
       "        var display = window.getComputedStyle(gd).display;\n",
       "        if (!display || display === 'none') {{\n",
       "            console.log([gd, 'removed!']);\n",
       "            Plotly.purge(gd);\n",
       "            observer.disconnect();\n",
       "        }}\n",
       "}});\n",
       "\n",
       "// Listen for the removal of the full notebook cells\n",
       "var notebookContainer = gd.closest('#notebook-container');\n",
       "if (notebookContainer) {{\n",
       "    x.observe(notebookContainer, {childList: true});\n",
       "}}\n",
       "\n",
       "// Listen for the clearing of the current output cell\n",
       "var outputEl = gd.closest('.output');\n",
       "if (outputEl) {{\n",
       "    x.observe(outputEl, {childList: true});\n",
       "}}\n",
       "\n",
       "                        })                };                });            </script>        </div>"
      ]
     },
     "metadata": {},
     "output_type": "display_data"
    }
   ],
   "source": [
    "# Inpatient by State\n",
    "state_count  = inpatient_df['Provider State'].value_counts()\n",
    "state_count = state_count[:10,]\n",
    "fig = px.histogram(x = state_count.index, y = state_count.values)\n",
    "fig.update_layout(\n",
    "    title='Inpatient Provider in Top 10 States',\n",
    "    template='ggplot2',\n",
    "    xaxis=dict(\n",
    "        title='States',\n",
    "        titlefont_size=16,\n",
    "        tickfont_size=14,\n",
    "    ),\n",
    "    yaxis=dict(\n",
    "        title='Count',\n",
    "        titlefont_size=16,\n",
    "        tickfont_size=14,\n",
    "    ),\n",
    "    legend=dict(\n",
    "        x=0,\n",
    "        y=1.0,\n",
    "        bgcolor='rgba(255, 255, 255, 0)',\n",
    "        bordercolor='rgba(255, 255, 255, 0)'\n",
    "    ),\n",
    "    barmode='group',\n",
    "    bargap=0.15,\n",
    "    bargroupgap=0.1 \n",
    ")\n",
    "fig.layout.xaxis.type = 'category'\n",
    "fig.show()\n"
   ]
  },
  {
   "cell_type": "code",
   "execution_count": 102,
   "metadata": {},
   "outputs": [
    {
     "data": {
      "application/vnd.plotly.v1+json": {
       "config": {
        "plotlyServerURL": "https://plot.ly"
       },
       "data": [
        {
         "alignmentgroup": "True",
         "bingroup": "x",
         "histfunc": "sum",
         "hovertemplate": "x=%{x}<br>sum of y=%{y}<extra></extra>",
         "legendgroup": "",
         "marker": {
          "color": "#636efa",
          "pattern": {
           "shape": ""
          }
         },
         "name": "",
         "offsetgroup": "",
         "orientation": "v",
         "showlegend": false,
         "type": "histogram",
         "x": [
          76104,
          77030,
          72205,
          40202,
          79902,
          93301,
          10021,
          75701,
          78705,
          60612
         ],
         "xaxis": "x",
         "y": [
          317,
          282,
          268,
          248,
          247,
          210,
          203,
          198,
          193,
          191
         ],
         "yaxis": "y"
        }
       ],
       "layout": {
        "bargap": 0.15,
        "bargroupgap": 0.1,
        "barmode": "group",
        "legend": {
         "tracegroupgap": 0,
         "x": 0,
         "y": 1
        },
        "margin": {
         "t": 60
        },
        "template": {
         "data": {
          "bar": [
           {
            "error_x": {
             "color": "rgb(51,51,51)"
            },
            "error_y": {
             "color": "rgb(51,51,51)"
            },
            "marker": {
             "line": {
              "color": "rgb(237,237,237)",
              "width": 0.5
             },
             "pattern": {
              "fillmode": "overlay",
              "size": 10,
              "solidity": 0.2
             }
            },
            "type": "bar"
           }
          ],
          "barpolar": [
           {
            "marker": {
             "line": {
              "color": "rgb(237,237,237)",
              "width": 0.5
             },
             "pattern": {
              "fillmode": "overlay",
              "size": 10,
              "solidity": 0.2
             }
            },
            "type": "barpolar"
           }
          ],
          "carpet": [
           {
            "aaxis": {
             "endlinecolor": "rgb(51,51,51)",
             "gridcolor": "white",
             "linecolor": "white",
             "minorgridcolor": "white",
             "startlinecolor": "rgb(51,51,51)"
            },
            "baxis": {
             "endlinecolor": "rgb(51,51,51)",
             "gridcolor": "white",
             "linecolor": "white",
             "minorgridcolor": "white",
             "startlinecolor": "rgb(51,51,51)"
            },
            "type": "carpet"
           }
          ],
          "choropleth": [
           {
            "colorbar": {
             "outlinewidth": 0,
             "tickcolor": "rgb(237,237,237)",
             "ticklen": 6,
             "ticks": "inside"
            },
            "type": "choropleth"
           }
          ],
          "contour": [
           {
            "colorbar": {
             "outlinewidth": 0,
             "tickcolor": "rgb(237,237,237)",
             "ticklen": 6,
             "ticks": "inside"
            },
            "colorscale": [
             [
              0,
              "rgb(20,44,66)"
             ],
             [
              1,
              "rgb(90,179,244)"
             ]
            ],
            "type": "contour"
           }
          ],
          "contourcarpet": [
           {
            "colorbar": {
             "outlinewidth": 0,
             "tickcolor": "rgb(237,237,237)",
             "ticklen": 6,
             "ticks": "inside"
            },
            "type": "contourcarpet"
           }
          ],
          "heatmap": [
           {
            "colorbar": {
             "outlinewidth": 0,
             "tickcolor": "rgb(237,237,237)",
             "ticklen": 6,
             "ticks": "inside"
            },
            "colorscale": [
             [
              0,
              "rgb(20,44,66)"
             ],
             [
              1,
              "rgb(90,179,244)"
             ]
            ],
            "type": "heatmap"
           }
          ],
          "heatmapgl": [
           {
            "colorbar": {
             "outlinewidth": 0,
             "tickcolor": "rgb(237,237,237)",
             "ticklen": 6,
             "ticks": "inside"
            },
            "colorscale": [
             [
              0,
              "rgb(20,44,66)"
             ],
             [
              1,
              "rgb(90,179,244)"
             ]
            ],
            "type": "heatmapgl"
           }
          ],
          "histogram": [
           {
            "marker": {
             "pattern": {
              "fillmode": "overlay",
              "size": 10,
              "solidity": 0.2
             }
            },
            "type": "histogram"
           }
          ],
          "histogram2d": [
           {
            "colorbar": {
             "outlinewidth": 0,
             "tickcolor": "rgb(237,237,237)",
             "ticklen": 6,
             "ticks": "inside"
            },
            "colorscale": [
             [
              0,
              "rgb(20,44,66)"
             ],
             [
              1,
              "rgb(90,179,244)"
             ]
            ],
            "type": "histogram2d"
           }
          ],
          "histogram2dcontour": [
           {
            "colorbar": {
             "outlinewidth": 0,
             "tickcolor": "rgb(237,237,237)",
             "ticklen": 6,
             "ticks": "inside"
            },
            "colorscale": [
             [
              0,
              "rgb(20,44,66)"
             ],
             [
              1,
              "rgb(90,179,244)"
             ]
            ],
            "type": "histogram2dcontour"
           }
          ],
          "mesh3d": [
           {
            "colorbar": {
             "outlinewidth": 0,
             "tickcolor": "rgb(237,237,237)",
             "ticklen": 6,
             "ticks": "inside"
            },
            "type": "mesh3d"
           }
          ],
          "parcoords": [
           {
            "line": {
             "colorbar": {
              "outlinewidth": 0,
              "tickcolor": "rgb(237,237,237)",
              "ticklen": 6,
              "ticks": "inside"
             }
            },
            "type": "parcoords"
           }
          ],
          "pie": [
           {
            "automargin": true,
            "type": "pie"
           }
          ],
          "scatter": [
           {
            "marker": {
             "colorbar": {
              "outlinewidth": 0,
              "tickcolor": "rgb(237,237,237)",
              "ticklen": 6,
              "ticks": "inside"
             }
            },
            "type": "scatter"
           }
          ],
          "scatter3d": [
           {
            "line": {
             "colorbar": {
              "outlinewidth": 0,
              "tickcolor": "rgb(237,237,237)",
              "ticklen": 6,
              "ticks": "inside"
             }
            },
            "marker": {
             "colorbar": {
              "outlinewidth": 0,
              "tickcolor": "rgb(237,237,237)",
              "ticklen": 6,
              "ticks": "inside"
             }
            },
            "type": "scatter3d"
           }
          ],
          "scattercarpet": [
           {
            "marker": {
             "colorbar": {
              "outlinewidth": 0,
              "tickcolor": "rgb(237,237,237)",
              "ticklen": 6,
              "ticks": "inside"
             }
            },
            "type": "scattercarpet"
           }
          ],
          "scattergeo": [
           {
            "marker": {
             "colorbar": {
              "outlinewidth": 0,
              "tickcolor": "rgb(237,237,237)",
              "ticklen": 6,
              "ticks": "inside"
             }
            },
            "type": "scattergeo"
           }
          ],
          "scattergl": [
           {
            "marker": {
             "colorbar": {
              "outlinewidth": 0,
              "tickcolor": "rgb(237,237,237)",
              "ticklen": 6,
              "ticks": "inside"
             }
            },
            "type": "scattergl"
           }
          ],
          "scattermapbox": [
           {
            "marker": {
             "colorbar": {
              "outlinewidth": 0,
              "tickcolor": "rgb(237,237,237)",
              "ticklen": 6,
              "ticks": "inside"
             }
            },
            "type": "scattermapbox"
           }
          ],
          "scatterpolar": [
           {
            "marker": {
             "colorbar": {
              "outlinewidth": 0,
              "tickcolor": "rgb(237,237,237)",
              "ticklen": 6,
              "ticks": "inside"
             }
            },
            "type": "scatterpolar"
           }
          ],
          "scatterpolargl": [
           {
            "marker": {
             "colorbar": {
              "outlinewidth": 0,
              "tickcolor": "rgb(237,237,237)",
              "ticklen": 6,
              "ticks": "inside"
             }
            },
            "type": "scatterpolargl"
           }
          ],
          "scatterternary": [
           {
            "marker": {
             "colorbar": {
              "outlinewidth": 0,
              "tickcolor": "rgb(237,237,237)",
              "ticklen": 6,
              "ticks": "inside"
             }
            },
            "type": "scatterternary"
           }
          ],
          "surface": [
           {
            "colorbar": {
             "outlinewidth": 0,
             "tickcolor": "rgb(237,237,237)",
             "ticklen": 6,
             "ticks": "inside"
            },
            "colorscale": [
             [
              0,
              "rgb(20,44,66)"
             ],
             [
              1,
              "rgb(90,179,244)"
             ]
            ],
            "type": "surface"
           }
          ],
          "table": [
           {
            "cells": {
             "fill": {
              "color": "rgb(237,237,237)"
             },
             "line": {
              "color": "white"
             }
            },
            "header": {
             "fill": {
              "color": "rgb(217,217,217)"
             },
             "line": {
              "color": "white"
             }
            },
            "type": "table"
           }
          ]
         },
         "layout": {
          "annotationdefaults": {
           "arrowhead": 0,
           "arrowwidth": 1
          },
          "autotypenumbers": "strict",
          "coloraxis": {
           "colorbar": {
            "outlinewidth": 0,
            "tickcolor": "rgb(237,237,237)",
            "ticklen": 6,
            "ticks": "inside"
           }
          },
          "colorscale": {
           "sequential": [
            [
             0,
             "rgb(20,44,66)"
            ],
            [
             1,
             "rgb(90,179,244)"
            ]
           ],
           "sequentialminus": [
            [
             0,
             "rgb(20,44,66)"
            ],
            [
             1,
             "rgb(90,179,244)"
            ]
           ]
          },
          "colorway": [
           "#F8766D",
           "#A3A500",
           "#00BF7D",
           "#00B0F6",
           "#E76BF3"
          ],
          "font": {
           "color": "rgb(51,51,51)"
          },
          "geo": {
           "bgcolor": "white",
           "lakecolor": "white",
           "landcolor": "rgb(237,237,237)",
           "showlakes": true,
           "showland": true,
           "subunitcolor": "white"
          },
          "hoverlabel": {
           "align": "left"
          },
          "hovermode": "closest",
          "paper_bgcolor": "white",
          "plot_bgcolor": "rgb(237,237,237)",
          "polar": {
           "angularaxis": {
            "gridcolor": "white",
            "linecolor": "white",
            "showgrid": true,
            "tickcolor": "rgb(51,51,51)",
            "ticks": "outside"
           },
           "bgcolor": "rgb(237,237,237)",
           "radialaxis": {
            "gridcolor": "white",
            "linecolor": "white",
            "showgrid": true,
            "tickcolor": "rgb(51,51,51)",
            "ticks": "outside"
           }
          },
          "scene": {
           "xaxis": {
            "backgroundcolor": "rgb(237,237,237)",
            "gridcolor": "white",
            "gridwidth": 2,
            "linecolor": "white",
            "showbackground": true,
            "showgrid": true,
            "tickcolor": "rgb(51,51,51)",
            "ticks": "outside",
            "zerolinecolor": "white"
           },
           "yaxis": {
            "backgroundcolor": "rgb(237,237,237)",
            "gridcolor": "white",
            "gridwidth": 2,
            "linecolor": "white",
            "showbackground": true,
            "showgrid": true,
            "tickcolor": "rgb(51,51,51)",
            "ticks": "outside",
            "zerolinecolor": "white"
           },
           "zaxis": {
            "backgroundcolor": "rgb(237,237,237)",
            "gridcolor": "white",
            "gridwidth": 2,
            "linecolor": "white",
            "showbackground": true,
            "showgrid": true,
            "tickcolor": "rgb(51,51,51)",
            "ticks": "outside",
            "zerolinecolor": "white"
           }
          },
          "shapedefaults": {
           "fillcolor": "black",
           "line": {
            "width": 0
           },
           "opacity": 0.3
          },
          "ternary": {
           "aaxis": {
            "gridcolor": "white",
            "linecolor": "white",
            "showgrid": true,
            "tickcolor": "rgb(51,51,51)",
            "ticks": "outside"
           },
           "baxis": {
            "gridcolor": "white",
            "linecolor": "white",
            "showgrid": true,
            "tickcolor": "rgb(51,51,51)",
            "ticks": "outside"
           },
           "bgcolor": "rgb(237,237,237)",
           "caxis": {
            "gridcolor": "white",
            "linecolor": "white",
            "showgrid": true,
            "tickcolor": "rgb(51,51,51)",
            "ticks": "outside"
           }
          },
          "xaxis": {
           "automargin": true,
           "gridcolor": "white",
           "linecolor": "white",
           "showgrid": true,
           "tickcolor": "rgb(51,51,51)",
           "ticks": "outside",
           "title": {
            "standoff": 15
           },
           "zerolinecolor": "white"
          },
          "yaxis": {
           "automargin": true,
           "gridcolor": "white",
           "linecolor": "white",
           "showgrid": true,
           "tickcolor": "rgb(51,51,51)",
           "ticks": "outside",
           "title": {
            "standoff": 15
           },
           "zerolinecolor": "white"
          }
         }
        },
        "title": {
         "text": "Inpatient Provider in Top 10 Zip Codes"
        },
        "xaxis": {
         "anchor": "y",
         "domain": [
          0,
          1
         ],
         "tickfont": {
          "size": 14
         },
         "title": {
          "font": {
           "size": 16
          },
          "text": "Zip Codes"
         },
         "type": "category"
        },
        "yaxis": {
         "anchor": "x",
         "domain": [
          0,
          1
         ],
         "tickfont": {
          "size": 14
         },
         "title": {
          "font": {
           "size": 16
          },
          "text": "Count"
         }
        }
       }
      },
      "text/html": [
       "<div>                            <div id=\"eb038751-363d-437b-a48c-b8ae6fc38666\" class=\"plotly-graph-div\" style=\"height:525px; width:100%;\"></div>            <script type=\"text/javascript\">                require([\"plotly\"], function(Plotly) {                    window.PLOTLYENV=window.PLOTLYENV || {};                                    if (document.getElementById(\"eb038751-363d-437b-a48c-b8ae6fc38666\")) {                    Plotly.newPlot(                        \"eb038751-363d-437b-a48c-b8ae6fc38666\",                        [{\"alignmentgroup\":\"True\",\"bingroup\":\"x\",\"histfunc\":\"sum\",\"hovertemplate\":\"x=%{x}<br>sum of y=%{y}<extra></extra>\",\"legendgroup\":\"\",\"marker\":{\"color\":\"#636efa\",\"pattern\":{\"shape\":\"\"}},\"name\":\"\",\"offsetgroup\":\"\",\"orientation\":\"v\",\"showlegend\":false,\"x\":[76104,77030,72205,40202,79902,93301,10021,75701,78705,60612],\"xaxis\":\"x\",\"y\":[317,282,268,248,247,210,203,198,193,191],\"yaxis\":\"y\",\"type\":\"histogram\"}],                        {\"template\":{\"data\":{\"barpolar\":[{\"marker\":{\"line\":{\"color\":\"rgb(237,237,237)\",\"width\":0.5},\"pattern\":{\"fillmode\":\"overlay\",\"size\":10,\"solidity\":0.2}},\"type\":\"barpolar\"}],\"bar\":[{\"error_x\":{\"color\":\"rgb(51,51,51)\"},\"error_y\":{\"color\":\"rgb(51,51,51)\"},\"marker\":{\"line\":{\"color\":\"rgb(237,237,237)\",\"width\":0.5},\"pattern\":{\"fillmode\":\"overlay\",\"size\":10,\"solidity\":0.2}},\"type\":\"bar\"}],\"carpet\":[{\"aaxis\":{\"endlinecolor\":\"rgb(51,51,51)\",\"gridcolor\":\"white\",\"linecolor\":\"white\",\"minorgridcolor\":\"white\",\"startlinecolor\":\"rgb(51,51,51)\"},\"baxis\":{\"endlinecolor\":\"rgb(51,51,51)\",\"gridcolor\":\"white\",\"linecolor\":\"white\",\"minorgridcolor\":\"white\",\"startlinecolor\":\"rgb(51,51,51)\"},\"type\":\"carpet\"}],\"choropleth\":[{\"colorbar\":{\"outlinewidth\":0,\"tickcolor\":\"rgb(237,237,237)\",\"ticklen\":6,\"ticks\":\"inside\"},\"type\":\"choropleth\"}],\"contourcarpet\":[{\"colorbar\":{\"outlinewidth\":0,\"tickcolor\":\"rgb(237,237,237)\",\"ticklen\":6,\"ticks\":\"inside\"},\"type\":\"contourcarpet\"}],\"contour\":[{\"colorbar\":{\"outlinewidth\":0,\"tickcolor\":\"rgb(237,237,237)\",\"ticklen\":6,\"ticks\":\"inside\"},\"colorscale\":[[0,\"rgb(20,44,66)\"],[1,\"rgb(90,179,244)\"]],\"type\":\"contour\"}],\"heatmapgl\":[{\"colorbar\":{\"outlinewidth\":0,\"tickcolor\":\"rgb(237,237,237)\",\"ticklen\":6,\"ticks\":\"inside\"},\"colorscale\":[[0,\"rgb(20,44,66)\"],[1,\"rgb(90,179,244)\"]],\"type\":\"heatmapgl\"}],\"heatmap\":[{\"colorbar\":{\"outlinewidth\":0,\"tickcolor\":\"rgb(237,237,237)\",\"ticklen\":6,\"ticks\":\"inside\"},\"colorscale\":[[0,\"rgb(20,44,66)\"],[1,\"rgb(90,179,244)\"]],\"type\":\"heatmap\"}],\"histogram2dcontour\":[{\"colorbar\":{\"outlinewidth\":0,\"tickcolor\":\"rgb(237,237,237)\",\"ticklen\":6,\"ticks\":\"inside\"},\"colorscale\":[[0,\"rgb(20,44,66)\"],[1,\"rgb(90,179,244)\"]],\"type\":\"histogram2dcontour\"}],\"histogram2d\":[{\"colorbar\":{\"outlinewidth\":0,\"tickcolor\":\"rgb(237,237,237)\",\"ticklen\":6,\"ticks\":\"inside\"},\"colorscale\":[[0,\"rgb(20,44,66)\"],[1,\"rgb(90,179,244)\"]],\"type\":\"histogram2d\"}],\"histogram\":[{\"marker\":{\"pattern\":{\"fillmode\":\"overlay\",\"size\":10,\"solidity\":0.2}},\"type\":\"histogram\"}],\"mesh3d\":[{\"colorbar\":{\"outlinewidth\":0,\"tickcolor\":\"rgb(237,237,237)\",\"ticklen\":6,\"ticks\":\"inside\"},\"type\":\"mesh3d\"}],\"parcoords\":[{\"line\":{\"colorbar\":{\"outlinewidth\":0,\"tickcolor\":\"rgb(237,237,237)\",\"ticklen\":6,\"ticks\":\"inside\"}},\"type\":\"parcoords\"}],\"pie\":[{\"automargin\":true,\"type\":\"pie\"}],\"scatter3d\":[{\"line\":{\"colorbar\":{\"outlinewidth\":0,\"tickcolor\":\"rgb(237,237,237)\",\"ticklen\":6,\"ticks\":\"inside\"}},\"marker\":{\"colorbar\":{\"outlinewidth\":0,\"tickcolor\":\"rgb(237,237,237)\",\"ticklen\":6,\"ticks\":\"inside\"}},\"type\":\"scatter3d\"}],\"scattercarpet\":[{\"marker\":{\"colorbar\":{\"outlinewidth\":0,\"tickcolor\":\"rgb(237,237,237)\",\"ticklen\":6,\"ticks\":\"inside\"}},\"type\":\"scattercarpet\"}],\"scattergeo\":[{\"marker\":{\"colorbar\":{\"outlinewidth\":0,\"tickcolor\":\"rgb(237,237,237)\",\"ticklen\":6,\"ticks\":\"inside\"}},\"type\":\"scattergeo\"}],\"scattergl\":[{\"marker\":{\"colorbar\":{\"outlinewidth\":0,\"tickcolor\":\"rgb(237,237,237)\",\"ticklen\":6,\"ticks\":\"inside\"}},\"type\":\"scattergl\"}],\"scattermapbox\":[{\"marker\":{\"colorbar\":{\"outlinewidth\":0,\"tickcolor\":\"rgb(237,237,237)\",\"ticklen\":6,\"ticks\":\"inside\"}},\"type\":\"scattermapbox\"}],\"scatterpolargl\":[{\"marker\":{\"colorbar\":{\"outlinewidth\":0,\"tickcolor\":\"rgb(237,237,237)\",\"ticklen\":6,\"ticks\":\"inside\"}},\"type\":\"scatterpolargl\"}],\"scatterpolar\":[{\"marker\":{\"colorbar\":{\"outlinewidth\":0,\"tickcolor\":\"rgb(237,237,237)\",\"ticklen\":6,\"ticks\":\"inside\"}},\"type\":\"scatterpolar\"}],\"scatter\":[{\"marker\":{\"colorbar\":{\"outlinewidth\":0,\"tickcolor\":\"rgb(237,237,237)\",\"ticklen\":6,\"ticks\":\"inside\"}},\"type\":\"scatter\"}],\"scatterternary\":[{\"marker\":{\"colorbar\":{\"outlinewidth\":0,\"tickcolor\":\"rgb(237,237,237)\",\"ticklen\":6,\"ticks\":\"inside\"}},\"type\":\"scatterternary\"}],\"surface\":[{\"colorbar\":{\"outlinewidth\":0,\"tickcolor\":\"rgb(237,237,237)\",\"ticklen\":6,\"ticks\":\"inside\"},\"colorscale\":[[0,\"rgb(20,44,66)\"],[1,\"rgb(90,179,244)\"]],\"type\":\"surface\"}],\"table\":[{\"cells\":{\"fill\":{\"color\":\"rgb(237,237,237)\"},\"line\":{\"color\":\"white\"}},\"header\":{\"fill\":{\"color\":\"rgb(217,217,217)\"},\"line\":{\"color\":\"white\"}},\"type\":\"table\"}]},\"layout\":{\"annotationdefaults\":{\"arrowhead\":0,\"arrowwidth\":1},\"autotypenumbers\":\"strict\",\"coloraxis\":{\"colorbar\":{\"outlinewidth\":0,\"tickcolor\":\"rgb(237,237,237)\",\"ticklen\":6,\"ticks\":\"inside\"}},\"colorscale\":{\"sequential\":[[0,\"rgb(20,44,66)\"],[1,\"rgb(90,179,244)\"]],\"sequentialminus\":[[0,\"rgb(20,44,66)\"],[1,\"rgb(90,179,244)\"]]},\"colorway\":[\"#F8766D\",\"#A3A500\",\"#00BF7D\",\"#00B0F6\",\"#E76BF3\"],\"font\":{\"color\":\"rgb(51,51,51)\"},\"geo\":{\"bgcolor\":\"white\",\"lakecolor\":\"white\",\"landcolor\":\"rgb(237,237,237)\",\"showlakes\":true,\"showland\":true,\"subunitcolor\":\"white\"},\"hoverlabel\":{\"align\":\"left\"},\"hovermode\":\"closest\",\"paper_bgcolor\":\"white\",\"plot_bgcolor\":\"rgb(237,237,237)\",\"polar\":{\"angularaxis\":{\"gridcolor\":\"white\",\"linecolor\":\"white\",\"showgrid\":true,\"tickcolor\":\"rgb(51,51,51)\",\"ticks\":\"outside\"},\"bgcolor\":\"rgb(237,237,237)\",\"radialaxis\":{\"gridcolor\":\"white\",\"linecolor\":\"white\",\"showgrid\":true,\"tickcolor\":\"rgb(51,51,51)\",\"ticks\":\"outside\"}},\"scene\":{\"xaxis\":{\"backgroundcolor\":\"rgb(237,237,237)\",\"gridcolor\":\"white\",\"gridwidth\":2,\"linecolor\":\"white\",\"showbackground\":true,\"showgrid\":true,\"tickcolor\":\"rgb(51,51,51)\",\"ticks\":\"outside\",\"zerolinecolor\":\"white\"},\"yaxis\":{\"backgroundcolor\":\"rgb(237,237,237)\",\"gridcolor\":\"white\",\"gridwidth\":2,\"linecolor\":\"white\",\"showbackground\":true,\"showgrid\":true,\"tickcolor\":\"rgb(51,51,51)\",\"ticks\":\"outside\",\"zerolinecolor\":\"white\"},\"zaxis\":{\"backgroundcolor\":\"rgb(237,237,237)\",\"gridcolor\":\"white\",\"gridwidth\":2,\"linecolor\":\"white\",\"showbackground\":true,\"showgrid\":true,\"tickcolor\":\"rgb(51,51,51)\",\"ticks\":\"outside\",\"zerolinecolor\":\"white\"}},\"shapedefaults\":{\"fillcolor\":\"black\",\"line\":{\"width\":0},\"opacity\":0.3},\"ternary\":{\"aaxis\":{\"gridcolor\":\"white\",\"linecolor\":\"white\",\"showgrid\":true,\"tickcolor\":\"rgb(51,51,51)\",\"ticks\":\"outside\"},\"baxis\":{\"gridcolor\":\"white\",\"linecolor\":\"white\",\"showgrid\":true,\"tickcolor\":\"rgb(51,51,51)\",\"ticks\":\"outside\"},\"bgcolor\":\"rgb(237,237,237)\",\"caxis\":{\"gridcolor\":\"white\",\"linecolor\":\"white\",\"showgrid\":true,\"tickcolor\":\"rgb(51,51,51)\",\"ticks\":\"outside\"}},\"xaxis\":{\"automargin\":true,\"gridcolor\":\"white\",\"linecolor\":\"white\",\"showgrid\":true,\"tickcolor\":\"rgb(51,51,51)\",\"ticks\":\"outside\",\"title\":{\"standoff\":15},\"zerolinecolor\":\"white\"},\"yaxis\":{\"automargin\":true,\"gridcolor\":\"white\",\"linecolor\":\"white\",\"showgrid\":true,\"tickcolor\":\"rgb(51,51,51)\",\"ticks\":\"outside\",\"title\":{\"standoff\":15},\"zerolinecolor\":\"white\"}}},\"xaxis\":{\"anchor\":\"y\",\"domain\":[0.0,1.0],\"title\":{\"text\":\"Zip Codes\",\"font\":{\"size\":16}},\"tickfont\":{\"size\":14},\"type\":\"category\"},\"yaxis\":{\"anchor\":\"x\",\"domain\":[0.0,1.0],\"title\":{\"text\":\"Count\",\"font\":{\"size\":16}},\"tickfont\":{\"size\":14}},\"legend\":{\"tracegroupgap\":0,\"x\":0,\"y\":1.0},\"margin\":{\"t\":60},\"barmode\":\"group\",\"title\":{\"text\":\"Inpatient Provider in Top 10 Zip Codes\"},\"bargap\":0.15,\"bargroupgap\":0.1},                        {\"responsive\": true}                    ).then(function(){\n",
       "                            \n",
       "var gd = document.getElementById('eb038751-363d-437b-a48c-b8ae6fc38666');\n",
       "var x = new MutationObserver(function (mutations, observer) {{\n",
       "        var display = window.getComputedStyle(gd).display;\n",
       "        if (!display || display === 'none') {{\n",
       "            console.log([gd, 'removed!']);\n",
       "            Plotly.purge(gd);\n",
       "            observer.disconnect();\n",
       "        }}\n",
       "}});\n",
       "\n",
       "// Listen for the removal of the full notebook cells\n",
       "var notebookContainer = gd.closest('#notebook-container');\n",
       "if (notebookContainer) {{\n",
       "    x.observe(notebookContainer, {childList: true});\n",
       "}}\n",
       "\n",
       "// Listen for the clearing of the current output cell\n",
       "var outputEl = gd.closest('.output');\n",
       "if (outputEl) {{\n",
       "    x.observe(outputEl, {childList: true});\n",
       "}}\n",
       "\n",
       "                        })                };                });            </script>        </div>"
      ]
     },
     "metadata": {},
     "output_type": "display_data"
    }
   ],
   "source": [
    "# Inpatient by Zip Code\n",
    "zipcode_count  = inpatient_df['Provider Zip Code'].value_counts()\n",
    "zipcode_count = zipcode_count[:10,]\n",
    "fig = px.histogram(x = zipcode_count.index, y = zipcode_count.values)\n",
    "fig.update_layout(\n",
    "    title='Inpatient Provider in Top 10 Zip Codes',\n",
    "    template='ggplot2',\n",
    "    xaxis=dict(\n",
    "        title='Zip Codes',\n",
    "        titlefont_size=16,\n",
    "        tickfont_size=14,\n",
    "    ),\n",
    "    yaxis=dict(\n",
    "        title='Count',\n",
    "        titlefont_size=16,\n",
    "        tickfont_size=14,\n",
    "    ),\n",
    "    legend=dict(\n",
    "        x=0,\n",
    "        y=1.0,\n",
    "    ),\n",
    "    barmode='group',\n",
    "    bargap=0.15,\n",
    "    bargroupgap=0.1 \n",
    ")\n",
    "fig.layout.xaxis.type = 'category'\n",
    "fig.show()\n"
   ]
  },
  {
   "cell_type": "markdown",
   "metadata": {},
   "source": [
    "Inpatient procedures COST among states"
   ]
  },
  {
   "cell_type": "code",
   "execution_count": 160,
   "metadata": {},
   "outputs": [],
   "source": [
    "class SQLServer:\n",
    "      def __init__(self, server):\n",
    "        self.server = server\n",
    "       \n",
    "      def __enter__(self):\n",
    "        self.conn: sqlite3.Connection = sqlite3.connect(self.server)\n",
    "        self.cur: sqlite3.Cursor = self.conn.cursor() \n",
    "        return self\n",
    "        \n",
    "      def __exit__(self, exc_type, exc_val, exc_tb):\n",
    "        self.conn.close()"
   ]
  },
  {
   "cell_type": "code",
   "execution_count": 195,
   "metadata": {},
   "outputs": [],
   "source": [
    "_df = pd.read_csv('idea-1/medicare-data/medicare-data/Inpatient_provdr.csv')\n",
    "inpatient_hospital_charges = 'inpatient_hospital_charges.db'\n",
    "\n",
    "with SQLServer('inpatient_hospital_charges') as db:\n",
    "    _df.columns = [column.strip() for column in _df.columns]\n",
    "    _df.to_sql('inpatient_hospital_charges', db.conn, if_exists='replace', index=False)"
   ]
  },
  {
   "cell_type": "code",
   "execution_count": null,
   "metadata": {},
   "outputs": [],
   "source": [
    "with SQLServer('inpatient_hospital_charges') as db:\n",
    "    query = '''\n",
    "SELECT `DRG Definition`, `Provider State` as providerState, t.maxAvgPaymentPerDRG\n",
    "FROM inpatient_hospital_charges hc\n",
    "INNER JOIN (\n",
    "    SELECT `DRG Definition` as drg, MAX(`Average Total Payments`) as maxAvgPaymentPerDRG\n",
    "    FROM inpatient_hospital_charges\n",
    "    GROUP BY `DRG Definition`\n",
    ") t\n",
    "ON hc.`DRG Definition` == t.drg AND hc.`Average Total Payments` == t.maxAvgPaymentPerDRG\n",
    "ORDER BY providerState ASC\n",
    "'''\n",
    "    cursor = db.cur.execute(query)\n",
    "    results = [record for record in cursor]"
   ]
  },
  {
   "cell_type": "code",
   "execution_count": null,
   "metadata": {},
   "outputs": [],
   "source": [
    "_df = pd.DataFrame(results, columns=['DRG', 'ProviderState', 'Payment'])"
   ]
  },
  {
   "cell_type": "code",
   "execution_count": null,
   "metadata": {},
   "outputs": [],
   "source": [
    "with SQLServer('inpatient_hospital_charges') as db:\n",
    "    ranking_by_drg = dict()\n",
    "    for drg in inpatient_df['DRG Definition'].unique():\n",
    "\n",
    "        query = \"\"\"\n",
    "            SELECT `Provider State` as providerState\n",
    "            FROM inpatient_hospital_charges\n",
    "            WHERE `DRG Definition` = '{drg}' \n",
    "            GROUP BY `Provider State`\n",
    "            ORDER BY AVG(`Average Total Payments`) ASC\n",
    "        \"\"\".format(drg=drg)\n",
    "    \n",
    "        cursor = db.cur.execute(query)\n",
    "        ranking_by_drg[drg] = [record[0] for record in cursor]\n"
   ]
  },
  {
   "cell_type": "code",
   "execution_count": 204,
   "metadata": {},
   "outputs": [],
   "source": [
    "for k,v in ranking_by_drg.items():\n",
    "    while True:\n",
    "        if len(v) >= 51:\n",
    "            break\n",
    "        v.append(None)"
   ]
  },
  {
   "cell_type": "code",
   "execution_count": 205,
   "metadata": {},
   "outputs": [],
   "source": [
    "drg_by_id = {key.split(' - ')[0]: key for key in ranking_by_drg.keys()}\n",
    "df_rank = pd.DataFrame(ranking_by_drg)"
   ]
  },
  {
   "cell_type": "code",
   "execution_count": null,
   "metadata": {},
   "outputs": [],
   "source": [
    "_df = pd.DataFrame(index=inpatient_df['Provider State'].unique())\n",
    "for column in df_rank.columns:\n",
    "    rankings_by_state = []\n",
    "\n",
    "    if column in ['rank']:\n",
    "        continue\n",
    "        \n",
    "    for rank, curr_state in zip(inpatient_df.index, df_rank[column]):\n",
    "        rankings_by_state.append(curr_state)\n",
    "    \n",
    "    t = pd.DataFrame(rankings_by_state, columns=['State'])\n",
    "    t['Rank'] = t.index\n",
    "    t.set_index(['State'], inplace=True)\n",
    "    \n",
    "    _df = pd.merge(left=_df, right=t, how='left', left_index=True, right_index=True)\n",
    "    \n",
    "_df.columns = drg_by_id.keys()"
   ]
  },
  {
   "cell_type": "code",
   "execution_count": 207,
   "metadata": {},
   "outputs": [
    {
     "data": {
      "text/html": [
       "<div>\n",
       "<style scoped>\n",
       "    .dataframe tbody tr th:only-of-type {\n",
       "        vertical-align: middle;\n",
       "    }\n",
       "\n",
       "    .dataframe tbody tr th {\n",
       "        vertical-align: top;\n",
       "    }\n",
       "\n",
       "    .dataframe thead th {\n",
       "        text-align: right;\n",
       "    }\n",
       "</style>\n",
       "<table border=\"1\" class=\"dataframe\">\n",
       "  <thead>\n",
       "    <tr style=\"text-align: right;\">\n",
       "      <th></th>\n",
       "      <th>039</th>\n",
       "      <th>057</th>\n",
       "      <th>064</th>\n",
       "      <th>065</th>\n",
       "      <th>066</th>\n",
       "      <th>069</th>\n",
       "      <th>074</th>\n",
       "      <th>101</th>\n",
       "      <th>149</th>\n",
       "      <th>176</th>\n",
       "      <th>...</th>\n",
       "      <th>379</th>\n",
       "      <th>389</th>\n",
       "      <th>390</th>\n",
       "      <th>391</th>\n",
       "      <th>392</th>\n",
       "      <th>394</th>\n",
       "      <th>418</th>\n",
       "      <th>419</th>\n",
       "      <th>439</th>\n",
       "      <th>460</th>\n",
       "    </tr>\n",
       "  </thead>\n",
       "  <tbody>\n",
       "    <tr>\n",
       "      <th>AK</th>\n",
       "      <td>45</td>\n",
       "      <td>46</td>\n",
       "      <td>50</td>\n",
       "      <td>50</td>\n",
       "      <td>50</td>\n",
       "      <td>49.0</td>\n",
       "      <td>-100.0</td>\n",
       "      <td>49</td>\n",
       "      <td>-100.0</td>\n",
       "      <td>49</td>\n",
       "      <td>...</td>\n",
       "      <td>50</td>\n",
       "      <td>50</td>\n",
       "      <td>-100.0</td>\n",
       "      <td>-100.0</td>\n",
       "      <td>50</td>\n",
       "      <td>44</td>\n",
       "      <td>49.0</td>\n",
       "      <td>47</td>\n",
       "      <td>-100.0</td>\n",
       "      <td>50</td>\n",
       "    </tr>\n",
       "    <tr>\n",
       "      <th>AL</th>\n",
       "      <td>0</td>\n",
       "      <td>0</td>\n",
       "      <td>1</td>\n",
       "      <td>1</td>\n",
       "      <td>0</td>\n",
       "      <td>0.0</td>\n",
       "      <td>2.0</td>\n",
       "      <td>0</td>\n",
       "      <td>2.0</td>\n",
       "      <td>0</td>\n",
       "      <td>...</td>\n",
       "      <td>2</td>\n",
       "      <td>0</td>\n",
       "      <td>1.0</td>\n",
       "      <td>0.0</td>\n",
       "      <td>1</td>\n",
       "      <td>0</td>\n",
       "      <td>0.0</td>\n",
       "      <td>1</td>\n",
       "      <td>0.0</td>\n",
       "      <td>0</td>\n",
       "    </tr>\n",
       "    <tr>\n",
       "      <th>AR</th>\n",
       "      <td>3</td>\n",
       "      <td>4</td>\n",
       "      <td>3</td>\n",
       "      <td>2</td>\n",
       "      <td>2</td>\n",
       "      <td>1.0</td>\n",
       "      <td>5.0</td>\n",
       "      <td>3</td>\n",
       "      <td>1.0</td>\n",
       "      <td>1</td>\n",
       "      <td>...</td>\n",
       "      <td>4</td>\n",
       "      <td>4</td>\n",
       "      <td>2.0</td>\n",
       "      <td>3.0</td>\n",
       "      <td>2</td>\n",
       "      <td>2</td>\n",
       "      <td>2.0</td>\n",
       "      <td>2</td>\n",
       "      <td>1.0</td>\n",
       "      <td>1</td>\n",
       "    </tr>\n",
       "    <tr>\n",
       "      <th>AZ</th>\n",
       "      <td>36</td>\n",
       "      <td>29</td>\n",
       "      <td>33</td>\n",
       "      <td>33</td>\n",
       "      <td>34</td>\n",
       "      <td>36.0</td>\n",
       "      <td>22.0</td>\n",
       "      <td>34</td>\n",
       "      <td>27.0</td>\n",
       "      <td>35</td>\n",
       "      <td>...</td>\n",
       "      <td>35</td>\n",
       "      <td>35</td>\n",
       "      <td>37.0</td>\n",
       "      <td>25.0</td>\n",
       "      <td>35</td>\n",
       "      <td>30</td>\n",
       "      <td>38.0</td>\n",
       "      <td>30</td>\n",
       "      <td>19.0</td>\n",
       "      <td>30</td>\n",
       "    </tr>\n",
       "    <tr>\n",
       "      <th>CA</th>\n",
       "      <td>44</td>\n",
       "      <td>44</td>\n",
       "      <td>47</td>\n",
       "      <td>45</td>\n",
       "      <td>46</td>\n",
       "      <td>44.0</td>\n",
       "      <td>44.0</td>\n",
       "      <td>44</td>\n",
       "      <td>40.0</td>\n",
       "      <td>45</td>\n",
       "      <td>...</td>\n",
       "      <td>44</td>\n",
       "      <td>46</td>\n",
       "      <td>46.0</td>\n",
       "      <td>46.0</td>\n",
       "      <td>45</td>\n",
       "      <td>48</td>\n",
       "      <td>47.0</td>\n",
       "      <td>45</td>\n",
       "      <td>43.0</td>\n",
       "      <td>46</td>\n",
       "    </tr>\n",
       "  </tbody>\n",
       "</table>\n",
       "<p>5 rows × 67 columns</p>\n",
       "</div>"
      ],
      "text/plain": [
       "    039  057  064  065  066   069    074  101    149  176  ...  379  389  \\\n",
       "AK   45   46   50   50   50  49.0 -100.0   49 -100.0   49  ...   50   50   \n",
       "AL    0    0    1    1    0   0.0    2.0    0    2.0    0  ...    2    0   \n",
       "AR    3    4    3    2    2   1.0    5.0    3    1.0    1  ...    4    4   \n",
       "AZ   36   29   33   33   34  36.0   22.0   34   27.0   35  ...   35   35   \n",
       "CA   44   44   47   45   46  44.0   44.0   44   40.0   45  ...   44   46   \n",
       "\n",
       "      390    391  392  394   418  419    439  460  \n",
       "AK -100.0 -100.0   50   44  49.0   47 -100.0   50  \n",
       "AL    1.0    0.0    1    0   0.0    1    0.0    0  \n",
       "AR    2.0    3.0    2    2   2.0    2    1.0    1  \n",
       "AZ   37.0   25.0   35   30  38.0   30   19.0   30  \n",
       "CA   46.0   46.0   45   48  47.0   45   43.0   46  \n",
       "\n",
       "[5 rows x 67 columns]"
      ]
     },
     "execution_count": 207,
     "metadata": {},
     "output_type": "execute_result"
    }
   ],
   "source": [
    "_df.fillna(-100, inplace=True)\n",
    "_df.head()"
   ]
  },
  {
   "cell_type": "code",
   "execution_count": 217,
   "metadata": {},
   "outputs": [
    {
     "data": {
      "application/vnd.plotly.v1+json": {
       "config": {
        "plotlyServerURL": "https://plot.ly"
       },
       "data": [
        {
         "coloraxis": "coloraxis",
         "hovertemplate": "x: %{x}<br>y: %{y}<br>color: %{z}<extra></extra>",
         "name": "0",
         "texttemplate": "%{z}",
         "type": "heatmap",
         "x": [
          "039",
          "057",
          "064",
          "065",
          "066",
          "069",
          "074",
          "101",
          "149",
          "176",
          "177",
          "178",
          "189",
          "190",
          "191",
          "192",
          "193",
          "194",
          "195",
          "202",
          "203",
          "207",
          "208",
          "238",
          "243",
          "244",
          "246",
          "247",
          "249",
          "251",
          "252",
          "253",
          "254",
          "280",
          "281",
          "282",
          "286",
          "287",
          "291",
          "292",
          "293",
          "300",
          "301",
          "303",
          "305",
          "308",
          "309",
          "310",
          "312",
          "313",
          "314",
          "315",
          "329",
          "330",
          "372",
          "377",
          "378",
          "379",
          "389",
          "390",
          "391",
          "392",
          "394",
          "418",
          "419",
          "439",
          "460"
         ],
         "xaxis": "x",
         "y": [
          "AK",
          "AL",
          "AR",
          "AZ",
          "CA",
          "CO",
          "CT",
          "DC",
          "DE",
          "FL",
          "GA",
          "HI",
          "IA",
          "ID",
          "IL",
          "IN",
          "KS",
          "KY",
          "LA",
          "MA",
          "MD",
          "ME",
          "MI",
          "MN",
          "MO",
          "MS",
          "MT",
          "NC",
          "ND",
          "NE",
          "NH",
          "NJ",
          "NM",
          "NV",
          "NY",
          "OH",
          "OK",
          "OR",
          "PA",
          "RI",
          "SC",
          "SD",
          "TN",
          "TX",
          "UT",
          "VA",
          "VT",
          "WA",
          "WI",
          "WV",
          "WY"
         ],
         "yaxis": "y",
         "z": [
          [
           45,
           46,
           50,
           50,
           50,
           49,
           -100,
           49,
           -100,
           49,
           43,
           50,
           48,
           50,
           50,
           50,
           50,
           50,
           50,
           -100,
           -100,
           49,
           50,
           48,
           48,
           47,
           49,
           49,
           -100,
           47,
           47,
           49,
           -100,
           50,
           49,
           47,
           39,
           50,
           50,
           50,
           50,
           43,
           -100,
           42,
           -100,
           45,
           50,
           50,
           50,
           50,
           50,
           -100,
           50,
           50,
           -100,
           50,
           50,
           50,
           50,
           -100,
           -100,
           50,
           44,
           49,
           47,
           -100,
           50
          ],
          [
           0,
           0,
           1,
           1,
           0,
           0,
           2,
           0,
           2,
           0,
           2,
           2,
           0,
           0,
           3,
           0,
           0,
           0,
           0,
           4,
           9,
           2,
           0,
           0,
           0,
           0,
           0,
           0,
           1,
           0,
           0,
           0,
           0,
           2,
           1,
           1,
           3,
           0,
           0,
           0,
           0,
           2,
           2,
           12,
           2,
           0,
           0,
           0,
           0,
           2,
           1,
           1,
           1,
           0,
           1,
           0,
           0,
           2,
           0,
           1,
           0,
           1,
           0,
           0,
           1,
           0,
           0
          ],
          [
           3,
           4,
           3,
           2,
           2,
           1,
           5,
           3,
           1,
           1,
           0,
           1,
           1,
           2,
           0,
           2,
           3,
           2,
           1,
           0,
           11,
           1,
           1,
           1,
           1,
           1,
           1,
           1,
           3,
           2,
           4,
           1,
           1,
           1,
           0,
           2,
           1,
           2,
           2,
           1,
           1,
           0,
           0,
           3,
           0,
           2,
           4,
           1,
           16,
           0,
           3,
           0,
           4,
           2,
           3,
           2,
           3,
           4,
           4,
           2,
           3,
           2,
           2,
           2,
           2,
           1,
           1
          ],
          [
           36,
           29,
           33,
           33,
           34,
           36,
           22,
           34,
           27,
           35,
           34,
           36,
           32,
           37,
           36,
           36,
           37,
           39,
           38,
           23,
           23,
           24,
           32,
           26,
           30,
           29,
           29,
           31,
           32,
           26,
           25,
           26,
           27,
           33,
           38,
           24,
           24,
           32,
           33,
           35,
           37,
           32,
           24,
           26,
           33,
           31,
           34,
           30,
           33,
           31,
           31,
           24,
           29,
           35,
           34,
           27,
           36,
           35,
           35,
           37,
           25,
           35,
           30,
           38,
           30,
           19,
           30
          ],
          [
           44,
           44,
           47,
           45,
           46,
           44,
           44,
           44,
           40,
           45,
           49,
           48,
           46,
           45,
           46,
           46,
           45,
           45,
           44,
           43,
           36,
           46,
           47,
           46,
           44,
           44,
           43,
           45,
           41,
           43,
           44,
           46,
           43,
           45,
           46,
           40,
           48,
           43,
           46,
           45,
           46,
           44,
           34,
           41,
           40,
           47,
           45,
           45,
           47,
           46,
           47,
           41,
           49,
           47,
           46,
           45,
           45,
           44,
           46,
           46,
           46,
           45,
           48,
           47,
           45,
           43,
           46
          ],
          [
           29,
           21,
           27,
           18,
           17,
           15,
           25,
           23,
           21,
           22,
           22,
           24,
           22,
           29,
           27,
           20,
           22,
           28,
           24,
           30,
           18,
           35,
           24,
           30,
           13,
           26,
           26,
           28,
           18,
           16,
           29,
           29,
           34,
           36,
           26,
           19,
           36,
           28,
           27,
           27,
           25,
           14,
           20,
           11,
           6,
           20,
           29,
           24,
           24,
           24,
           27,
           23,
           17,
           21,
           21,
           18,
           27,
           19,
           30,
           23,
           17,
           30,
           21,
           10,
           12,
           26,
           39
          ],
          [
           41,
           40,
           42,
           42,
           43,
           41,
           40,
           42,
           41,
           43,
           41,
           42,
           42,
           42,
           42,
           42,
           42,
           42,
           41,
           41,
           35,
           39,
           42,
           44,
           41,
           41,
           44,
           44,
           39,
           44,
           49,
           45,
           40,
           41,
           42,
           41,
           38,
           42,
           42,
           42,
           42,
           42,
           41,
           38,
           38,
           41,
           42,
           42,
           42,
           41,
           40,
           37,
           40,
           42,
           44,
           41,
           42,
           43,
           43,
           45,
           42,
           42,
           42,
           42,
           44,
           38,
           40
          ],
          [
           49,
           47,
           49,
           48,
           49,
           42,
           46,
           48,
           44,
           48,
           48,
           44,
           49,
           46,
           49,
           45,
           47,
           49,
           49,
           45,
           37,
           47,
           49,
           45,
           46,
           39,
           42,
           40,
           42,
           40,
           48,
           47,
           47,
           49,
           47,
           45,
           40,
           48,
           49,
           48,
           47,
           48,
           38,
           47,
           46,
           50,
           47,
           47,
           48,
           45,
           49,
           45,
           45,
           45,
           43,
           49,
           47,
           49,
           49,
           43,
           48,
           47,
           49,
           48,
           40,
           47,
           43
          ],
          [
           34,
           34,
           40,
           32,
           33,
           34,
           32,
           21,
           32,
           32,
           32,
           35,
           34,
           31,
           35,
           35,
           35,
           35,
           33,
           34,
           32,
           23,
           40,
           38,
           34,
           32,
           36,
           32,
           30,
           34,
           33,
           36,
           33,
           35,
           35,
           27,
           29,
           37,
           31,
           31,
           38,
           38,
           22,
           40,
           32,
           36,
           38,
           38,
           35,
           34,
           33,
           31,
           37,
           31,
           28,
           36,
           34,
           29,
           27,
           38,
           41,
           31,
           37,
           30,
           34,
           20,
           20
          ],
          [
           7,
           7,
           15,
           14,
           9,
           13,
           4,
           14,
           14,
           12,
           15,
           11,
           13,
           15,
           13,
           6,
           16,
           12,
           12,
           15,
           12,
           11,
           13,
           10,
           12,
           7,
           8,
           9,
           12,
           11,
           6,
           10,
           8,
           14,
           10,
           12,
           10,
           8,
           18,
           11,
           8,
           12,
           8,
           16,
           14,
           10,
           14,
           14,
           11,
           17,
           6,
           6,
           11,
           9,
           18,
           11,
           14,
           15,
           14,
           12,
           8,
           10,
           11,
           8,
           17,
           7,
           5
          ],
          [
           12,
           18,
           20,
           16,
           16,
           24,
           16,
           17,
           16,
           16,
           17,
           17,
           10,
           14,
           14,
           13,
           14,
           15,
           14,
           11,
           16,
           18,
           12,
           15,
           18,
           24,
           15,
           15,
           9,
           25,
           12,
           14,
           22,
           23,
           15,
           8,
           9,
           15,
           15,
           10,
           17,
           18,
           13,
           17,
           12,
           16,
           16,
           15,
           15,
           16,
           17,
           13,
           20,
           17,
           16,
           20,
           17,
           22,
           16,
           14,
           13,
           16,
           18,
           17,
           15,
           16,
           22
          ],
          [
           50,
           49,
           46,
           49,
           48,
           47,
           -100,
           50,
           -100,
           50,
           45,
           49,
           43,
           48,
           48,
           49,
           46,
           48,
           47,
           47,
           -100,
           43,
           46,
           41,
           50,
           45,
           39,
           46,
           48,
           42,
           40,
           50,
           44,
           48,
           50,
           50,
           43,
           44,
           48,
           49,
           49,
           49,
           -100,
           37,
           41,
           43,
           49,
           48,
           46,
           48,
           48,
           46,
           46,
           48,
           -100,
           43,
           49,
           45,
           47,
           47,
           44,
           46,
           50,
           -100,
           38,
           -100,
           47
          ],
          [
           6,
           12,
           4,
           3,
           6,
           12,
           20,
           6,
           3,
           3,
           3,
           6,
           9,
           3,
           4,
           10,
           6,
           3,
           3,
           2,
           4,
           20,
           6,
           4,
           7,
           2,
           6,
           4,
           2,
           12,
           22,
           16,
           14,
           3,
           4,
           3,
           11,
           5,
           7,
           7,
           6,
           9,
           7,
           0,
           10,
           5,
           5,
           6,
           4,
           5,
           4,
           14,
           3,
           1,
           5,
           6,
           11,
           6,
           10,
           5,
           5,
           6,
           4,
           3,
           16,
           18,
           3
          ],
          [
           15,
           1,
           17,
           17,
           24,
           17,
           3,
           28,
           -100,
           8,
           20,
           18,
           25,
           20,
           17,
           12,
           19,
           17,
           16,
           28,
           -100,
           32,
           27,
           14,
           4,
           14,
           13,
           11,
           4,
           3,
           27,
           17,
           13,
           4,
           14,
           7,
           -100,
           23,
           20,
           19,
           4,
           27,
           -100,
           -100,
           5,
           28,
           25,
           25,
           17,
           14,
           21,
           15,
           15,
           27,
           12,
           28,
           20,
           17,
           18,
           9,
           34,
           17,
           7,
           24,
           9,
           17,
           10
          ],
          [
           37,
           26,
           31,
           34,
           30,
           32,
           34,
           32,
           34,
           33,
           25,
           28,
           28,
           33,
           32,
           32,
           32,
           30,
           34,
           37,
           30,
           27,
           31,
           34,
           33,
           25,
           34,
           35,
           37,
           33,
           35,
           38,
           38,
           29,
           33,
           32,
           30,
           36,
           34,
           33,
           32,
           34,
           28,
           31,
           30,
           30,
           30,
           37,
           34,
           32,
           34,
           29,
           27,
           34,
           29,
           31,
           32,
           33,
           28,
           31,
           27,
           33,
           32,
           29,
           39,
           34,
           36
          ],
          [
           13,
           9,
           6,
           7,
           11,
           10,
           10,
           7,
           15,
           10,
           5,
           3,
           5,
           7,
           10,
           9,
           8,
           5,
           9,
           19,
           14,
           9,
           8,
           11,
           8,
           20,
           20,
           13,
           14,
           8,
           30,
           20,
           11,
           9,
           12,
           5,
           8,
           10,
           6,
           6,
           7,
           21,
           18,
           9,
           20,
           6,
           6,
           10,
           5,
           8,
           11,
           11,
           7,
           12,
           7,
           16,
           10,
           9,
           8,
           13,
           10,
           8,
           10,
           21,
           8,
           8,
           38
          ],
          [
           2,
           5,
           0,
           5,
           4,
           4,
           1,
           2,
           0,
           9,
           14,
           9,
           4,
           4,
           5,
           16,
           12,
           13,
           6,
           7,
           2,
           25,
           17,
           3,
           2,
           4,
           3,
           5,
           10,
           1,
           13,
           6,
           4,
           7,
           9,
           16,
           6,
           3,
           3,
           5,
           10,
           4,
           3,
           5,
           9,
           1,
           3,
           5,
           3,
           7,
           2,
           21,
           10,
           4,
           9,
           8,
           4,
           0,
           1,
           8,
           24,
           5,
           12,
           9,
           0,
           11,
           2
          ],
          [
           14,
           15,
           12,
           9,
           8,
           5,
           9,
           8,
           11,
           15,
           11,
           16,
           8,
           9,
           9,
           5,
           7,
           7,
           5,
           8,
           10,
           8,
           5,
           12,
           9,
           12,
           18,
           8,
           8,
           6,
           5,
           18,
           24,
           11,
           6,
           21,
           12,
           14,
           10,
           8,
           11,
           6,
           4,
           10,
           7,
           15,
           10,
           11,
           8,
           9,
           16,
           9,
           9,
           15,
           13,
           13,
           6,
           8,
           5,
           7,
           4,
           7,
           15,
           12,
           11,
           9,
           12
          ],
          [
           18,
           20,
           24,
           12,
           21,
           8,
           13,
           10,
           12,
           13,
           4,
           14,
           12,
           8,
           7,
           11,
           10,
           8,
           7,
           9,
           7,
           6,
           11,
           6,
           3,
           3,
           12,
           16,
           13,
           9,
           10,
           9,
           20,
           17,
           16,
           13,
           23,
           17,
           11,
           12,
           15,
           7,
           9,
           15,
           22,
           13,
           9,
           9,
           13,
           18,
           9,
           19,
           2,
           13,
           8,
           7,
           12,
           13,
           11,
           10,
           12,
           9,
           14,
           15,
           22,
           3,
           18
          ],
          [
           42,
           38,
           37,
           40,
           42,
           39,
           38,
           39,
           38,
           40,
           39,
           40,
           40,
           39,
           40,
           38,
           38,
           37,
           39,
           39,
           39,
           36,
           38,
           42,
           42,
           43,
           47,
           41,
           44,
           45,
           42,
           41,
           46,
           37,
           40,
           38,
           49,
           41,
           40,
           40,
           40,
           40,
           33,
           36,
           37,
           40,
           40,
           40,
           40,
           39,
           38,
           38,
           33,
           40,
           39,
           38,
           40,
           40,
           40,
           41,
           40,
           39,
           39,
           46,
           43,
           37,
           42
          ],
          [
           47,
           48,
           45,
           46,
           47,
           48,
           42,
           46,
           42,
           47,
           44,
           47,
           50,
           49,
           47,
           47,
           49,
           47,
           46,
           48,
           38,
           45,
           48,
           50,
           49,
           50,
           48,
           48,
           47,
           48,
           45,
           44,
           45,
           47,
           43,
           43,
           42,
           49,
           47,
           46,
           48,
           47,
           43,
           46,
           42,
           48,
           46,
           49,
           49,
           49,
           46,
           42,
           42,
           49,
           45,
           46,
           48,
           48,
           45,
           48,
           49,
           48,
           45,
           41,
           49,
           44,
           49
          ],
          [
           28,
           23,
           22,
           27,
           20,
           22,
           8,
           24,
           20,
           14,
           28,
           30,
           26,
           30,
           29,
           30,
           31,
           32,
           20,
           14,
           -100,
           31,
           30,
           19,
           27,
           34,
           37,
           27,
           28,
           19,
           15,
           15,
           26,
           21,
           20,
           29,
           27,
           20,
           28,
           29,
           27,
           19,
           29,
           23,
           18,
           19,
           28,
           29,
           20,
           11,
           42,
           20,
           19,
           18,
           19,
           22,
           28,
           24,
           20,
           19,
           26,
           27,
           17,
           26,
           13,
           13,
           17
          ],
          [
           33,
           31,
           32,
           29,
           29,
           30,
           28,
           29,
           31,
           31,
           29,
           29,
           29,
           27,
           30,
           28,
           29,
           29,
           30,
           35,
           28,
           26,
           26,
           31,
           37,
           35,
           30,
           30,
           29,
           29,
           31,
           32,
           31,
           28,
           34,
           28,
           33,
           30,
           30,
           30,
           33,
           33,
           25,
           30,
           27,
           33,
           31,
           32,
           29,
           28,
           28,
           27,
           24,
           33,
           33,
           30,
           30,
           30,
           34,
           35,
           28,
           28,
           31,
           32,
           29,
           31,
           29
          ],
          [
           38,
           35,
           35,
           35,
           37,
           35,
           35,
           35,
           33,
           30,
           33,
           34,
           35,
           32,
           31,
           34,
           30,
           31,
           31,
           27,
           31,
           42,
           36,
           32,
           39,
           33,
           38,
           34,
           33,
           30,
           37,
           28,
           36,
           32,
           32,
           22,
           44,
           40,
           32,
           32,
           29,
           35,
           30,
           33,
           43,
           34,
           33,
           34,
           30,
           33,
           30,
           35,
           38,
           36,
           31,
           44,
           33,
           32,
           38,
           30,
           39,
           32,
           41,
           34,
           35,
           35,
           26
          ],
          [
           8,
           6,
           7,
           13,
           7,
           14,
           17,
           9,
           9,
           17,
           8,
           5,
           11,
           16,
           15,
           15,
           13,
           14,
           15,
           12,
           15,
           14,
           16,
           9,
           6,
           5,
           2,
           3,
           16,
           7,
           9,
           5,
           6,
           8,
           7,
           17,
           5,
           11,
           14,
           17,
           18,
           8,
           15,
           6,
           11,
           12,
           13,
           12,
           12,
           10,
           14,
           7,
           14,
           3,
           10,
           9,
           7,
           16,
           9,
           4,
           11,
           14,
           6,
           7,
           6,
           5,
           24
          ],
          [
           9,
           11,
           5,
           4,
           5,
           6,
           18,
           5,
           4,
           6,
           10,
           4,
           6,
           5,
           6,
           4,
           4,
           6,
           8,
           5,
           3,
           16,
           4,
           8,
           14,
           6,
           14,
           7,
           11,
           4,
           7,
           7,
           12,
           6,
           8,
           14,
           14,
           6,
           5,
           4,
           5,
           17,
           6,
           4,
           1,
           8,
           7,
           4,
           6,
           3,
           18,
           8,
           22,
           11,
           0,
           10,
           5,
           3,
           7,
           3,
           14,
           3,
           5,
           4,
           5,
           2,
           6
          ],
          [
           11,
           19,
           16,
           15,
           14,
           25,
           6,
           13,
           10,
           7,
           7,
           8,
           20,
           18,
           19,
           27,
           20,
           27,
           23,
           6,
           -100,
           0,
           14,
           22,
           25,
           40,
           9,
           24,
           5,
           15,
           8,
           3,
           17,
           22,
           25,
           10,
           4,
           24,
           12,
           20,
           9,
           5,
           -100,
           -100,
           -100,
           17,
           11,
           7,
           9,
           26,
           8,
           -100,
           0,
           19,
           6,
           32,
           18,
           21,
           12,
           6,
           16,
           19,
           8,
           16,
           19,
           28,
           19
          ],
          [
           24,
           27,
           19,
           24,
           23,
           20,
           27,
           20,
           25,
           28,
           19,
           25,
           18,
           21,
           21,
           22,
           21,
           19,
           25,
           26,
           20,
           17,
           22,
           24,
           29,
           27,
           28,
           23,
           27,
           27,
           17,
           27,
           23,
           12,
           18,
           20,
           19,
           18,
           22,
           22,
           26,
           25,
           26,
           20,
           24,
           22,
           21,
           19,
           22,
           19,
           19,
           26,
           16,
           20,
           30,
           17,
           22,
           26,
           26,
           32,
           22,
           20,
           25,
           27,
           24,
           23,
           16
          ],
          [
           10,
           10,
           13,
           22,
           15,
           37,
           39,
           18,
           -100,
           11,
           16,
           15,
           14,
           10,
           12,
           17,
           18,
           25,
           28,
           -100,
           -100,
           13,
           10,
           7,
           16,
           13,
           7,
           12,
           15,
           5,
           2,
           12,
           5,
           16,
           19,
           6,
           20,
           9,
           21,
           15,
           16,
           23,
           -100,
           19,
           17,
           11,
           17,
           18,
           18,
           23,
           13,
           10,
           5,
           10,
           25,
           5,
           15,
           10,
           15,
           17,
           7,
           13,
           9,
           14,
           18,
           10,
           4
          ],
          [
           27,
           8,
           25,
           26,
           31,
           21,
           24,
           19,
           19,
           26,
           26,
           22,
           24,
           25,
           24,
           23,
           25,
           23,
           26,
           16,
           8,
           5,
           23,
           18,
           22,
           23,
           23,
           26,
           35,
           18,
           23,
           11,
           10,
           18,
           21,
           31,
           26,
           12,
           23,
           23,
           24,
           13,
           27,
           29,
           31,
           26,
           22,
           22,
           31,
           38,
           10,
           18,
           26,
           29,
           15,
           29,
           26,
           23,
           31,
           26,
           20,
           29,
           29,
           22,
           25,
           45,
           11
          ],
          [
           32,
           16,
           9,
           25,
           25,
           23,
           12,
           27,
           13,
           20,
           23,
           21,
           27,
           22,
           23,
           25,
           28,
           21,
           27,
           24,
           25,
           33,
           20,
           28,
           28,
           30,
           35,
           33,
           22,
           38,
           39,
           25,
           29,
           26,
           29,
           26,
           32,
           16,
           25,
           24,
           28,
           31,
           -100,
           28,
           25,
           27,
           27,
           26,
           28,
           25,
           20,
           5,
           25,
           24,
           22,
           24,
           24,
           12,
           22,
           25,
           21,
           25,
           19,
           37,
           33,
           24,
           32
          ],
          [
           35,
           37,
           38,
           41,
           39,
           40,
           36,
           38,
           37,
           39,
           38,
           38,
           39,
           41,
           41,
           39,
           41,
           41,
           40,
           36,
           33,
           30,
           37,
           35,
           40,
           38,
           41,
           39,
           38,
           39,
           32,
           35,
           35,
           40,
           37,
           36,
           35,
           38,
           41,
           41,
           41,
           39,
           32,
           35,
           34,
           39,
           41,
           41,
           41,
           42,
           36,
           32,
           28,
           37,
           40,
           39,
           41,
           38,
           39,
           40,
           36,
           41,
           38,
           35,
           37,
           33,
           35
          ],
          [
           5,
           39,
           41,
           38,
           40,
           31,
           7,
           36,
           24,
           44,
           37,
           31,
           38,
           38,
           37,
           41,
           33,
           40,
           42,
           25,
           26,
           10,
           39,
           36,
           15,
           15,
           31,
           36,
           24,
           13,
           28,
           40,
           9,
           39,
           39,
           48,
           22,
           33,
           35,
           36,
           30,
           26,
           42,
           18,
           35,
           32,
           32,
           33,
           36,
           36,
           39,
           30,
           31,
           41,
           35,
           33,
           35,
           39,
           33,
           22,
           37,
           40,
           36,
           39,
           41,
           41,
           37
          ],
          [
           30,
           33,
           30,
           30,
           38,
           29,
           21,
           37,
           35,
           36,
           36,
           41,
           30,
           34,
           33,
           33,
           39,
           38,
           37,
           32,
           29,
           29,
           34,
           29,
           31,
           36,
           24,
           17,
           31,
           20,
           26,
           34,
           32,
           38,
           30,
           35,
           25,
           29,
           37,
           34,
           35,
           29,
           23,
           32,
           29,
           42,
           37,
           31,
           32,
           30,
           32,
           25,
           41,
           26,
           36,
           37,
           31,
           34,
           32,
           33,
           33,
           36,
           34,
           28,
           26,
           40,
           31
          ],
          [
           43,
           45,
           48,
           47,
           45,
           45,
           43,
           45,
           43,
           46,
           47,
           45,
           41,
           44,
           43,
           43,
           44,
           43,
           43,
           46,
           40,
           48,
           44,
           43,
           43,
           46,
           46,
           43,
           43,
           41,
           46,
           42,
           42,
           44,
           44,
           42,
           47,
           45,
           45,
           43,
           43,
           46,
           40,
           45,
           44,
           46,
           44,
           44,
           45,
           43,
           44,
           40,
           44,
           43,
           47,
           47,
           43,
           47,
           44,
           44,
           47,
           43,
           46,
           44,
           46,
           42,
           41
          ],
          [
           17,
           13,
           11,
           11,
           13,
           11,
           11,
           16,
           17,
           18,
           12,
           12,
           16,
           12,
           16,
           14,
           11,
           10,
           10,
           18,
           13,
           4,
           9,
           17,
           17,
           11,
           21,
           14,
           17,
           22,
           11,
           13,
           18,
           13,
           17,
           11,
           16,
           13,
           13,
           13,
           13,
           15,
           14,
           14,
           15,
           14,
           15,
           17,
           14,
           12,
           7,
           16,
           12,
           8,
           11,
           12,
           13,
           11,
           13,
           15,
           15,
           15,
           13,
           11,
           20,
           15,
           15
          ],
          [
           19,
           14,
           10,
           10,
           12,
           7,
           19,
           11,
           8,
           5,
           13,
           7,
           7,
           11,
           11,
           7,
           5,
           11,
           13,
           22,
           1,
           15,
           7,
           13,
           10,
           10,
           11,
           10,
           23,
           24,
           14,
           8,
           2,
           15,
           5,
           9,
           13,
           7,
           8,
           14,
           14,
           11,
           10,
           8,
           8,
           7,
           8,
           8,
           7,
           6,
           15,
           12,
           13,
           5,
           14,
           14,
           8,
           7,
           6,
           11,
           6,
           11,
           16,
           6,
           4,
           6,
           9
          ],
          [
           31,
           42,
           36,
           37,
           35,
           38,
           23,
           43,
           23,
           38,
           40,
           37,
           31,
           36,
           38,
           37,
           34,
           34,
           32,
           38,
           -100,
           44,
           33,
           37,
           36,
           28,
           33,
           29,
           36,
           31,
           38,
           33,
           30,
           34,
           36,
           37,
           15,
           34,
           39,
           38,
           31,
           37,
           39,
           34,
           21,
           38,
           35,
           35,
           38,
           37,
           37,
           44,
           47,
           38,
           38,
           35,
           38,
           31,
           37,
           39,
           35,
           37,
           33,
           31,
           32,
           39,
           33
          ],
          [
           22,
           30,
           18,
           23,
           26,
           18,
           31,
           25,
           28,
           29,
           21,
           27,
           33,
           23,
           22,
           18,
           23,
           18,
           19,
           29,
           17,
           22,
           18,
           21,
           26,
           22,
           27,
           22,
           21,
           23,
           21,
           24,
           25,
           24,
           22,
           23,
           34,
           27,
           19,
           21,
           23,
           20,
           21,
           24,
           26,
           25,
           20,
           23,
           23,
           20,
           24,
           28,
           18,
           25,
           27,
           19,
           23,
           28,
           24,
           27,
           23,
           22,
           23,
           23,
           31,
           27,
           13
          ],
          [
           40,
           36,
           39,
           39,
           36,
           43,
           41,
           31,
           39,
           34,
           42,
           39,
           44,
           40,
           39,
           40,
           40,
           36,
           36,
           40,
           34,
           28,
           43,
           39,
           35,
           42,
           40,
           38,
           40,
           37,
           41,
           39,
           39,
           31,
           41,
           39,
           28,
           35,
           38,
           39,
           39,
           41,
           35,
           43,
           45,
           37,
           39,
           39,
           39,
           40,
           35,
           43,
           34,
           32,
           41,
           40,
           37,
           41,
           41,
           29,
           43,
           38,
           35,
           45,
           21,
           36,
           34
          ],
          [
           23,
           22,
           21,
           19,
           19,
           16,
           26,
           15,
           22,
           25,
           27,
           23,
           15,
           24,
           20,
           24,
           27,
           20,
           17,
           17,
           22,
           19,
           21,
           20,
           24,
           16,
           22,
           25,
           20,
           28,
           19,
           23,
           15,
           20,
           13,
           15,
           18,
           21,
           29,
           26,
           19,
           16,
           12,
           13,
           16,
           21,
           19,
           16,
           19,
           15,
           23,
           17,
           36,
           28,
           32,
           15,
           19,
           14,
           21,
           20,
           19,
           24,
           24,
           25,
           14,
           14,
           23
          ],
          [
           25,
           24,
           34,
           31,
           28,
           28,
           37,
           30,
           36,
           27,
           35,
           33,
           36,
           28,
           28,
           29,
           26,
           26,
           29,
           21,
           21,
           40,
           29,
           27,
           23,
           19,
           10,
           50,
           25,
           50,
           24,
           19,
           49,
           25,
           28,
           25,
           0,
           19,
           26,
           28,
           22,
           30,
           36,
           25,
           36,
           18,
           24,
           28,
           27,
           27,
           41,
           4,
           32,
           30,
           24,
           26,
           29,
           25,
           29,
           28,
           31,
           23,
           26,
           33,
           42,
           25,
           7
          ],
          [
           4,
           3,
           2,
           0,
           1,
           3,
           15,
           1,
           7,
           2,
           1,
           0,
           2,
           1,
           1,
           1,
           2,
           1,
           2,
           1,
           0,
           7,
           2,
           5,
           11,
           9,
           4,
           6,
           6,
           10,
           1,
           2,
           7,
           5,
           3,
           4,
           7,
           4,
           1,
           3,
           2,
           1,
           5,
           2,
           4,
           4,
           1,
           3,
           2,
           4,
           0,
           2,
           8,
           6,
           4,
           1,
           1,
           1,
           2,
           16,
           1,
           0,
           3,
           5,
           3,
           4,
           8
          ],
          [
           16,
           25,
           26,
           28,
           27,
           19,
           30,
           22,
           29,
           23,
           18,
           20,
           21,
           19,
           25,
           19,
           24,
           22,
           22,
           20,
           19,
           12,
           19,
           16,
           20,
           18,
           19,
           20,
           19,
           17,
           16,
           21,
           16,
           27,
           23,
           30,
           21,
           25,
           24,
           25,
           21,
           24,
           17,
           22,
           19,
           23,
           23,
           21,
           25,
           22,
           22,
           22,
           23,
           16,
           23,
           21,
           25,
           20,
           19,
           18,
           18,
           21,
           22,
           18,
           23,
           22,
           25
          ],
          [
           26,
           43,
           28,
           21,
           22,
           27,
           47,
           41,
           5,
           19,
           30,
           13,
           23,
           26,
           26,
           26,
           15,
           24,
           18,
           13,
           -100,
           34,
           25,
           33,
           21,
           21,
           32,
           21,
           7,
           32,
           18,
           31,
           21,
           43,
           24,
           49,
           31,
           31,
           16,
           18,
           34,
           22,
           11,
           39,
           -100,
           29,
           26,
           27,
           26,
           29,
           43,
           39,
           35,
           22,
           17,
           23,
           16,
           37,
           25,
           36,
           29,
           26,
           27,
           13,
           28,
           30,
           21
          ],
          [
           20,
           17,
           8,
           8,
           10,
           9,
           14,
           12,
           18,
           21,
           9,
           19,
           17,
           13,
           8,
           8,
           9,
           9,
           11,
           10,
           5,
           21,
           15,
           23,
           19,
           17,
           16,
           18,
           26,
           21,
           20,
           22,
           19,
           10,
           11,
           18,
           17,
           22,
           9,
           9,
           12,
           10,
           16,
           7,
           13,
           9,
           12,
           13,
           10,
           13,
           12,
           34,
           21,
           14,
           20,
           4,
           9,
           18,
           17,
           21,
           9,
           12,
           20,
           19,
           7,
           21,
           27
          ],
          [
           48,
           50,
           43,
           43,
           44,
           46,
           45,
           47,
           -100,
           41,
           46,
           46,
           47,
           43,
           45,
           44,
           43,
           44,
           45,
           44,
           -100,
           41,
           45,
           47,
           45,
           48,
           45,
           47,
           46,
           46,
           43,
           48,
           48,
           46,
           45,
           46,
           45,
           47,
           44,
           44,
           44,
           45,
           -100,
           -100,
           -100,
           44,
           43,
           43,
           44,
           44,
           45,
           47,
           43,
           44,
           42,
           48,
           44,
           46,
           48,
           49,
           45,
           44,
           47,
           36,
           50,
           46,
           45
          ],
          [
           39,
           32,
           29,
           36,
           32,
           33,
           29,
           33,
           30,
           37,
           31,
           32,
           37,
           35,
           34,
           31,
           36,
           33,
           35,
           31,
           24,
           38,
           35,
           40,
           38,
           37,
           25,
           37,
           49,
           36,
           36,
           37,
           37,
           30,
           31,
           34,
           41,
           39,
           36,
           37,
           36,
           36,
           31,
           27,
           28,
           35,
           36,
           36,
           37,
           35,
           29,
           33,
           39,
           39,
           37,
           34,
           39,
           36,
           36,
           34,
           38,
           34,
           40,
           40,
           36,
           29,
           44
          ],
          [
           21,
           28,
           23,
           20,
           18,
           26,
           33,
           26,
           26,
           24,
           24,
           26,
           19,
           17,
           18,
           21,
           17,
           16,
           21,
           33,
           27,
           37,
           28,
           25,
           32,
           31,
           17,
           19,
           34,
           35,
           34,
           30,
           28,
           19,
           27,
           33,
           37,
           26,
           17,
           16,
           20,
           28,
           19,
           21,
           23,
           24,
           18,
           20,
           21,
           21,
           26,
           36,
           30,
           23,
           26,
           25,
           21,
           27,
           23,
           24,
           32,
           18,
           28,
           20,
           27,
           32,
           28
          ],
          [
           1,
           2,
           14,
           6,
           3,
           2,
           0,
           4,
           6,
           4,
           6,
           10,
           3,
           6,
           2,
           3,
           1,
           4,
           4,
           3,
           6,
           3,
           3,
           2,
           5,
           8,
           5,
           2,
           0,
           14,
           3,
           4,
           3,
           0,
           2,
           0,
           2,
           1,
           4,
           2,
           3,
           3,
           1,
           1,
           3,
           3,
           2,
           2,
           1,
           1,
           5,
           3,
           6,
           7,
           2,
           3,
           2,
           5,
           3,
           0,
           2,
           4,
           1,
           1,
           10,
           12,
           14
          ],
          [
           46,
           41,
           44,
           44,
           41,
           -100,
           -100,
           40,
           -100,
           42,
           50,
           43,
           45,
           47,
           44,
           48,
           48,
           46,
           48,
           42,
           -100,
           -100,
           41,
           49,
           47,
           49,
           50,
           42,
           45,
           49,
           -100,
           43,
           41,
           42,
           48,
           44,
           46,
           46,
           43,
           47,
           45,
           50,
           37,
           44,
           39,
           49,
           48,
           46,
           43,
           47,
           25,
           -100,
           48,
           46,
           48,
           42,
           46,
           42,
           42,
           42,
           30,
           49,
           43,
           43,
           48,
           48,
           48
          ]
         ]
        }
       ],
       "layout": {
        "bargap": 0.15,
        "bargroupgap": 0.1,
        "barmode": "group",
        "coloraxis": {
         "colorscale": [
          [
           0,
           "#0d0887"
          ],
          [
           0.1111111111111111,
           "#46039f"
          ],
          [
           0.2222222222222222,
           "#7201a8"
          ],
          [
           0.3333333333333333,
           "#9c179e"
          ],
          [
           0.4444444444444444,
           "#bd3786"
          ],
          [
           0.5555555555555556,
           "#d8576b"
          ],
          [
           0.6666666666666666,
           "#ed7953"
          ],
          [
           0.7777777777777778,
           "#fb9f3a"
          ],
          [
           0.8888888888888888,
           "#fdca26"
          ],
          [
           1,
           "#f0f921"
          ]
         ]
        },
        "legend": {
         "x": 0,
         "y": 1
        },
        "margin": {
         "t": 60
        },
        "template": {
         "data": {
          "bar": [
           {
            "error_x": {
             "color": "rgb(51,51,51)"
            },
            "error_y": {
             "color": "rgb(51,51,51)"
            },
            "marker": {
             "line": {
              "color": "rgb(237,237,237)",
              "width": 0.5
             },
             "pattern": {
              "fillmode": "overlay",
              "size": 10,
              "solidity": 0.2
             }
            },
            "type": "bar"
           }
          ],
          "barpolar": [
           {
            "marker": {
             "line": {
              "color": "rgb(237,237,237)",
              "width": 0.5
             },
             "pattern": {
              "fillmode": "overlay",
              "size": 10,
              "solidity": 0.2
             }
            },
            "type": "barpolar"
           }
          ],
          "carpet": [
           {
            "aaxis": {
             "endlinecolor": "rgb(51,51,51)",
             "gridcolor": "white",
             "linecolor": "white",
             "minorgridcolor": "white",
             "startlinecolor": "rgb(51,51,51)"
            },
            "baxis": {
             "endlinecolor": "rgb(51,51,51)",
             "gridcolor": "white",
             "linecolor": "white",
             "minorgridcolor": "white",
             "startlinecolor": "rgb(51,51,51)"
            },
            "type": "carpet"
           }
          ],
          "choropleth": [
           {
            "colorbar": {
             "outlinewidth": 0,
             "tickcolor": "rgb(237,237,237)",
             "ticklen": 6,
             "ticks": "inside"
            },
            "type": "choropleth"
           }
          ],
          "contour": [
           {
            "colorbar": {
             "outlinewidth": 0,
             "tickcolor": "rgb(237,237,237)",
             "ticklen": 6,
             "ticks": "inside"
            },
            "colorscale": [
             [
              0,
              "rgb(20,44,66)"
             ],
             [
              1,
              "rgb(90,179,244)"
             ]
            ],
            "type": "contour"
           }
          ],
          "contourcarpet": [
           {
            "colorbar": {
             "outlinewidth": 0,
             "tickcolor": "rgb(237,237,237)",
             "ticklen": 6,
             "ticks": "inside"
            },
            "type": "contourcarpet"
           }
          ],
          "heatmap": [
           {
            "colorbar": {
             "outlinewidth": 0,
             "tickcolor": "rgb(237,237,237)",
             "ticklen": 6,
             "ticks": "inside"
            },
            "colorscale": [
             [
              0,
              "rgb(20,44,66)"
             ],
             [
              1,
              "rgb(90,179,244)"
             ]
            ],
            "type": "heatmap"
           }
          ],
          "heatmapgl": [
           {
            "colorbar": {
             "outlinewidth": 0,
             "tickcolor": "rgb(237,237,237)",
             "ticklen": 6,
             "ticks": "inside"
            },
            "colorscale": [
             [
              0,
              "rgb(20,44,66)"
             ],
             [
              1,
              "rgb(90,179,244)"
             ]
            ],
            "type": "heatmapgl"
           }
          ],
          "histogram": [
           {
            "marker": {
             "pattern": {
              "fillmode": "overlay",
              "size": 10,
              "solidity": 0.2
             }
            },
            "type": "histogram"
           }
          ],
          "histogram2d": [
           {
            "colorbar": {
             "outlinewidth": 0,
             "tickcolor": "rgb(237,237,237)",
             "ticklen": 6,
             "ticks": "inside"
            },
            "colorscale": [
             [
              0,
              "rgb(20,44,66)"
             ],
             [
              1,
              "rgb(90,179,244)"
             ]
            ],
            "type": "histogram2d"
           }
          ],
          "histogram2dcontour": [
           {
            "colorbar": {
             "outlinewidth": 0,
             "tickcolor": "rgb(237,237,237)",
             "ticklen": 6,
             "ticks": "inside"
            },
            "colorscale": [
             [
              0,
              "rgb(20,44,66)"
             ],
             [
              1,
              "rgb(90,179,244)"
             ]
            ],
            "type": "histogram2dcontour"
           }
          ],
          "mesh3d": [
           {
            "colorbar": {
             "outlinewidth": 0,
             "tickcolor": "rgb(237,237,237)",
             "ticklen": 6,
             "ticks": "inside"
            },
            "type": "mesh3d"
           }
          ],
          "parcoords": [
           {
            "line": {
             "colorbar": {
              "outlinewidth": 0,
              "tickcolor": "rgb(237,237,237)",
              "ticklen": 6,
              "ticks": "inside"
             }
            },
            "type": "parcoords"
           }
          ],
          "pie": [
           {
            "automargin": true,
            "type": "pie"
           }
          ],
          "scatter": [
           {
            "marker": {
             "colorbar": {
              "outlinewidth": 0,
              "tickcolor": "rgb(237,237,237)",
              "ticklen": 6,
              "ticks": "inside"
             }
            },
            "type": "scatter"
           }
          ],
          "scatter3d": [
           {
            "line": {
             "colorbar": {
              "outlinewidth": 0,
              "tickcolor": "rgb(237,237,237)",
              "ticklen": 6,
              "ticks": "inside"
             }
            },
            "marker": {
             "colorbar": {
              "outlinewidth": 0,
              "tickcolor": "rgb(237,237,237)",
              "ticklen": 6,
              "ticks": "inside"
             }
            },
            "type": "scatter3d"
           }
          ],
          "scattercarpet": [
           {
            "marker": {
             "colorbar": {
              "outlinewidth": 0,
              "tickcolor": "rgb(237,237,237)",
              "ticklen": 6,
              "ticks": "inside"
             }
            },
            "type": "scattercarpet"
           }
          ],
          "scattergeo": [
           {
            "marker": {
             "colorbar": {
              "outlinewidth": 0,
              "tickcolor": "rgb(237,237,237)",
              "ticklen": 6,
              "ticks": "inside"
             }
            },
            "type": "scattergeo"
           }
          ],
          "scattergl": [
           {
            "marker": {
             "colorbar": {
              "outlinewidth": 0,
              "tickcolor": "rgb(237,237,237)",
              "ticklen": 6,
              "ticks": "inside"
             }
            },
            "type": "scattergl"
           }
          ],
          "scattermapbox": [
           {
            "marker": {
             "colorbar": {
              "outlinewidth": 0,
              "tickcolor": "rgb(237,237,237)",
              "ticklen": 6,
              "ticks": "inside"
             }
            },
            "type": "scattermapbox"
           }
          ],
          "scatterpolar": [
           {
            "marker": {
             "colorbar": {
              "outlinewidth": 0,
              "tickcolor": "rgb(237,237,237)",
              "ticklen": 6,
              "ticks": "inside"
             }
            },
            "type": "scatterpolar"
           }
          ],
          "scatterpolargl": [
           {
            "marker": {
             "colorbar": {
              "outlinewidth": 0,
              "tickcolor": "rgb(237,237,237)",
              "ticklen": 6,
              "ticks": "inside"
             }
            },
            "type": "scatterpolargl"
           }
          ],
          "scatterternary": [
           {
            "marker": {
             "colorbar": {
              "outlinewidth": 0,
              "tickcolor": "rgb(237,237,237)",
              "ticklen": 6,
              "ticks": "inside"
             }
            },
            "type": "scatterternary"
           }
          ],
          "surface": [
           {
            "colorbar": {
             "outlinewidth": 0,
             "tickcolor": "rgb(237,237,237)",
             "ticklen": 6,
             "ticks": "inside"
            },
            "colorscale": [
             [
              0,
              "rgb(20,44,66)"
             ],
             [
              1,
              "rgb(90,179,244)"
             ]
            ],
            "type": "surface"
           }
          ],
          "table": [
           {
            "cells": {
             "fill": {
              "color": "rgb(237,237,237)"
             },
             "line": {
              "color": "white"
             }
            },
            "header": {
             "fill": {
              "color": "rgb(217,217,217)"
             },
             "line": {
              "color": "white"
             }
            },
            "type": "table"
           }
          ]
         },
         "layout": {
          "annotationdefaults": {
           "arrowhead": 0,
           "arrowwidth": 1
          },
          "autotypenumbers": "strict",
          "coloraxis": {
           "colorbar": {
            "outlinewidth": 0,
            "tickcolor": "rgb(237,237,237)",
            "ticklen": 6,
            "ticks": "inside"
           }
          },
          "colorscale": {
           "sequential": [
            [
             0,
             "rgb(20,44,66)"
            ],
            [
             1,
             "rgb(90,179,244)"
            ]
           ],
           "sequentialminus": [
            [
             0,
             "rgb(20,44,66)"
            ],
            [
             1,
             "rgb(90,179,244)"
            ]
           ]
          },
          "colorway": [
           "#F8766D",
           "#A3A500",
           "#00BF7D",
           "#00B0F6",
           "#E76BF3"
          ],
          "font": {
           "color": "rgb(51,51,51)"
          },
          "geo": {
           "bgcolor": "white",
           "lakecolor": "white",
           "landcolor": "rgb(237,237,237)",
           "showlakes": true,
           "showland": true,
           "subunitcolor": "white"
          },
          "hoverlabel": {
           "align": "left"
          },
          "hovermode": "closest",
          "paper_bgcolor": "white",
          "plot_bgcolor": "rgb(237,237,237)",
          "polar": {
           "angularaxis": {
            "gridcolor": "white",
            "linecolor": "white",
            "showgrid": true,
            "tickcolor": "rgb(51,51,51)",
            "ticks": "outside"
           },
           "bgcolor": "rgb(237,237,237)",
           "radialaxis": {
            "gridcolor": "white",
            "linecolor": "white",
            "showgrid": true,
            "tickcolor": "rgb(51,51,51)",
            "ticks": "outside"
           }
          },
          "scene": {
           "xaxis": {
            "backgroundcolor": "rgb(237,237,237)",
            "gridcolor": "white",
            "gridwidth": 2,
            "linecolor": "white",
            "showbackground": true,
            "showgrid": true,
            "tickcolor": "rgb(51,51,51)",
            "ticks": "outside",
            "zerolinecolor": "white"
           },
           "yaxis": {
            "backgroundcolor": "rgb(237,237,237)",
            "gridcolor": "white",
            "gridwidth": 2,
            "linecolor": "white",
            "showbackground": true,
            "showgrid": true,
            "tickcolor": "rgb(51,51,51)",
            "ticks": "outside",
            "zerolinecolor": "white"
           },
           "zaxis": {
            "backgroundcolor": "rgb(237,237,237)",
            "gridcolor": "white",
            "gridwidth": 2,
            "linecolor": "white",
            "showbackground": true,
            "showgrid": true,
            "tickcolor": "rgb(51,51,51)",
            "ticks": "outside",
            "zerolinecolor": "white"
           }
          },
          "shapedefaults": {
           "fillcolor": "black",
           "line": {
            "width": 0
           },
           "opacity": 0.3
          },
          "ternary": {
           "aaxis": {
            "gridcolor": "white",
            "linecolor": "white",
            "showgrid": true,
            "tickcolor": "rgb(51,51,51)",
            "ticks": "outside"
           },
           "baxis": {
            "gridcolor": "white",
            "linecolor": "white",
            "showgrid": true,
            "tickcolor": "rgb(51,51,51)",
            "ticks": "outside"
           },
           "bgcolor": "rgb(237,237,237)",
           "caxis": {
            "gridcolor": "white",
            "linecolor": "white",
            "showgrid": true,
            "tickcolor": "rgb(51,51,51)",
            "ticks": "outside"
           }
          },
          "xaxis": {
           "automargin": true,
           "gridcolor": "white",
           "linecolor": "white",
           "showgrid": true,
           "tickcolor": "rgb(51,51,51)",
           "ticks": "outside",
           "title": {
            "standoff": 15
           },
           "zerolinecolor": "white"
          },
          "yaxis": {
           "automargin": true,
           "gridcolor": "white",
           "linecolor": "white",
           "showgrid": true,
           "tickcolor": "rgb(51,51,51)",
           "ticks": "outside",
           "title": {
            "standoff": 15
           },
           "zerolinecolor": "white"
          }
         }
        },
        "title": {
         "text": "Inpatient Cost Rankings Per Procedure"
        },
        "xaxis": {
         "anchor": "y",
         "domain": [
          0,
          1
         ],
         "tickfont": {
          "size": 14
         },
         "title": {
          "font": {
           "size": 16
          },
          "text": "DRG Definition Id"
         }
        },
        "yaxis": {
         "anchor": "x",
         "autorange": "reversed",
         "domain": [
          0,
          1
         ],
         "tickfont": {
          "size": 14
         },
         "title": {
          "font": {
           "size": 16
          },
          "text": "State"
         }
        }
       }
      },
      "text/html": [
       "<div>                            <div id=\"994b92a1-74a5-47d4-a9ca-7f073a4d3af4\" class=\"plotly-graph-div\" style=\"height:525px; width:100%;\"></div>            <script type=\"text/javascript\">                require([\"plotly\"], function(Plotly) {                    window.PLOTLYENV=window.PLOTLYENV || {};                                    if (document.getElementById(\"994b92a1-74a5-47d4-a9ca-7f073a4d3af4\")) {                    Plotly.newPlot(                        \"994b92a1-74a5-47d4-a9ca-7f073a4d3af4\",                        [{\"coloraxis\":\"coloraxis\",\"name\":\"0\",\"texttemplate\":\"%{z}\",\"x\":[\"039\",\"057\",\"064\",\"065\",\"066\",\"069\",\"074\",\"101\",\"149\",\"176\",\"177\",\"178\",\"189\",\"190\",\"191\",\"192\",\"193\",\"194\",\"195\",\"202\",\"203\",\"207\",\"208\",\"238\",\"243\",\"244\",\"246\",\"247\",\"249\",\"251\",\"252\",\"253\",\"254\",\"280\",\"281\",\"282\",\"286\",\"287\",\"291\",\"292\",\"293\",\"300\",\"301\",\"303\",\"305\",\"308\",\"309\",\"310\",\"312\",\"313\",\"314\",\"315\",\"329\",\"330\",\"372\",\"377\",\"378\",\"379\",\"389\",\"390\",\"391\",\"392\",\"394\",\"418\",\"419\",\"439\",\"460\"],\"y\":[\"AK\",\"AL\",\"AR\",\"AZ\",\"CA\",\"CO\",\"CT\",\"DC\",\"DE\",\"FL\",\"GA\",\"HI\",\"IA\",\"ID\",\"IL\",\"IN\",\"KS\",\"KY\",\"LA\",\"MA\",\"MD\",\"ME\",\"MI\",\"MN\",\"MO\",\"MS\",\"MT\",\"NC\",\"ND\",\"NE\",\"NH\",\"NJ\",\"NM\",\"NV\",\"NY\",\"OH\",\"OK\",\"OR\",\"PA\",\"RI\",\"SC\",\"SD\",\"TN\",\"TX\",\"UT\",\"VA\",\"VT\",\"WA\",\"WI\",\"WV\",\"WY\"],\"z\":[[45.0,46.0,50.0,50.0,50.0,49.0,-100.0,49.0,-100.0,49.0,43.0,50.0,48.0,50.0,50.0,50.0,50.0,50.0,50.0,-100.0,-100.0,49.0,50.0,48.0,48.0,47.0,49.0,49.0,-100.0,47.0,47.0,49.0,-100.0,50.0,49.0,47.0,39.0,50.0,50.0,50.0,50.0,43.0,-100.0,42.0,-100.0,45.0,50.0,50.0,50.0,50.0,50.0,-100.0,50.0,50.0,-100.0,50.0,50.0,50.0,50.0,-100.0,-100.0,50.0,44.0,49.0,47.0,-100.0,50.0],[0.0,0.0,1.0,1.0,0.0,0.0,2.0,0.0,2.0,0.0,2.0,2.0,0.0,0.0,3.0,0.0,0.0,0.0,0.0,4.0,9.0,2.0,0.0,0.0,0.0,0.0,0.0,0.0,1.0,0.0,0.0,0.0,0.0,2.0,1.0,1.0,3.0,0.0,0.0,0.0,0.0,2.0,2.0,12.0,2.0,0.0,0.0,0.0,0.0,2.0,1.0,1.0,1.0,0.0,1.0,0.0,0.0,2.0,0.0,1.0,0.0,1.0,0.0,0.0,1.0,0.0,0.0],[3.0,4.0,3.0,2.0,2.0,1.0,5.0,3.0,1.0,1.0,0.0,1.0,1.0,2.0,0.0,2.0,3.0,2.0,1.0,0.0,11.0,1.0,1.0,1.0,1.0,1.0,1.0,1.0,3.0,2.0,4.0,1.0,1.0,1.0,0.0,2.0,1.0,2.0,2.0,1.0,1.0,0.0,0.0,3.0,0.0,2.0,4.0,1.0,16.0,0.0,3.0,0.0,4.0,2.0,3.0,2.0,3.0,4.0,4.0,2.0,3.0,2.0,2.0,2.0,2.0,1.0,1.0],[36.0,29.0,33.0,33.0,34.0,36.0,22.0,34.0,27.0,35.0,34.0,36.0,32.0,37.0,36.0,36.0,37.0,39.0,38.0,23.0,23.0,24.0,32.0,26.0,30.0,29.0,29.0,31.0,32.0,26.0,25.0,26.0,27.0,33.0,38.0,24.0,24.0,32.0,33.0,35.0,37.0,32.0,24.0,26.0,33.0,31.0,34.0,30.0,33.0,31.0,31.0,24.0,29.0,35.0,34.0,27.0,36.0,35.0,35.0,37.0,25.0,35.0,30.0,38.0,30.0,19.0,30.0],[44.0,44.0,47.0,45.0,46.0,44.0,44.0,44.0,40.0,45.0,49.0,48.0,46.0,45.0,46.0,46.0,45.0,45.0,44.0,43.0,36.0,46.0,47.0,46.0,44.0,44.0,43.0,45.0,41.0,43.0,44.0,46.0,43.0,45.0,46.0,40.0,48.0,43.0,46.0,45.0,46.0,44.0,34.0,41.0,40.0,47.0,45.0,45.0,47.0,46.0,47.0,41.0,49.0,47.0,46.0,45.0,45.0,44.0,46.0,46.0,46.0,45.0,48.0,47.0,45.0,43.0,46.0],[29.0,21.0,27.0,18.0,17.0,15.0,25.0,23.0,21.0,22.0,22.0,24.0,22.0,29.0,27.0,20.0,22.0,28.0,24.0,30.0,18.0,35.0,24.0,30.0,13.0,26.0,26.0,28.0,18.0,16.0,29.0,29.0,34.0,36.0,26.0,19.0,36.0,28.0,27.0,27.0,25.0,14.0,20.0,11.0,6.0,20.0,29.0,24.0,24.0,24.0,27.0,23.0,17.0,21.0,21.0,18.0,27.0,19.0,30.0,23.0,17.0,30.0,21.0,10.0,12.0,26.0,39.0],[41.0,40.0,42.0,42.0,43.0,41.0,40.0,42.0,41.0,43.0,41.0,42.0,42.0,42.0,42.0,42.0,42.0,42.0,41.0,41.0,35.0,39.0,42.0,44.0,41.0,41.0,44.0,44.0,39.0,44.0,49.0,45.0,40.0,41.0,42.0,41.0,38.0,42.0,42.0,42.0,42.0,42.0,41.0,38.0,38.0,41.0,42.0,42.0,42.0,41.0,40.0,37.0,40.0,42.0,44.0,41.0,42.0,43.0,43.0,45.0,42.0,42.0,42.0,42.0,44.0,38.0,40.0],[49.0,47.0,49.0,48.0,49.0,42.0,46.0,48.0,44.0,48.0,48.0,44.0,49.0,46.0,49.0,45.0,47.0,49.0,49.0,45.0,37.0,47.0,49.0,45.0,46.0,39.0,42.0,40.0,42.0,40.0,48.0,47.0,47.0,49.0,47.0,45.0,40.0,48.0,49.0,48.0,47.0,48.0,38.0,47.0,46.0,50.0,47.0,47.0,48.0,45.0,49.0,45.0,45.0,45.0,43.0,49.0,47.0,49.0,49.0,43.0,48.0,47.0,49.0,48.0,40.0,47.0,43.0],[34.0,34.0,40.0,32.0,33.0,34.0,32.0,21.0,32.0,32.0,32.0,35.0,34.0,31.0,35.0,35.0,35.0,35.0,33.0,34.0,32.0,23.0,40.0,38.0,34.0,32.0,36.0,32.0,30.0,34.0,33.0,36.0,33.0,35.0,35.0,27.0,29.0,37.0,31.0,31.0,38.0,38.0,22.0,40.0,32.0,36.0,38.0,38.0,35.0,34.0,33.0,31.0,37.0,31.0,28.0,36.0,34.0,29.0,27.0,38.0,41.0,31.0,37.0,30.0,34.0,20.0,20.0],[7.0,7.0,15.0,14.0,9.0,13.0,4.0,14.0,14.0,12.0,15.0,11.0,13.0,15.0,13.0,6.0,16.0,12.0,12.0,15.0,12.0,11.0,13.0,10.0,12.0,7.0,8.0,9.0,12.0,11.0,6.0,10.0,8.0,14.0,10.0,12.0,10.0,8.0,18.0,11.0,8.0,12.0,8.0,16.0,14.0,10.0,14.0,14.0,11.0,17.0,6.0,6.0,11.0,9.0,18.0,11.0,14.0,15.0,14.0,12.0,8.0,10.0,11.0,8.0,17.0,7.0,5.0],[12.0,18.0,20.0,16.0,16.0,24.0,16.0,17.0,16.0,16.0,17.0,17.0,10.0,14.0,14.0,13.0,14.0,15.0,14.0,11.0,16.0,18.0,12.0,15.0,18.0,24.0,15.0,15.0,9.0,25.0,12.0,14.0,22.0,23.0,15.0,8.0,9.0,15.0,15.0,10.0,17.0,18.0,13.0,17.0,12.0,16.0,16.0,15.0,15.0,16.0,17.0,13.0,20.0,17.0,16.0,20.0,17.0,22.0,16.0,14.0,13.0,16.0,18.0,17.0,15.0,16.0,22.0],[50.0,49.0,46.0,49.0,48.0,47.0,-100.0,50.0,-100.0,50.0,45.0,49.0,43.0,48.0,48.0,49.0,46.0,48.0,47.0,47.0,-100.0,43.0,46.0,41.0,50.0,45.0,39.0,46.0,48.0,42.0,40.0,50.0,44.0,48.0,50.0,50.0,43.0,44.0,48.0,49.0,49.0,49.0,-100.0,37.0,41.0,43.0,49.0,48.0,46.0,48.0,48.0,46.0,46.0,48.0,-100.0,43.0,49.0,45.0,47.0,47.0,44.0,46.0,50.0,-100.0,38.0,-100.0,47.0],[6.0,12.0,4.0,3.0,6.0,12.0,20.0,6.0,3.0,3.0,3.0,6.0,9.0,3.0,4.0,10.0,6.0,3.0,3.0,2.0,4.0,20.0,6.0,4.0,7.0,2.0,6.0,4.0,2.0,12.0,22.0,16.0,14.0,3.0,4.0,3.0,11.0,5.0,7.0,7.0,6.0,9.0,7.0,0.0,10.0,5.0,5.0,6.0,4.0,5.0,4.0,14.0,3.0,1.0,5.0,6.0,11.0,6.0,10.0,5.0,5.0,6.0,4.0,3.0,16.0,18.0,3.0],[15.0,1.0,17.0,17.0,24.0,17.0,3.0,28.0,-100.0,8.0,20.0,18.0,25.0,20.0,17.0,12.0,19.0,17.0,16.0,28.0,-100.0,32.0,27.0,14.0,4.0,14.0,13.0,11.0,4.0,3.0,27.0,17.0,13.0,4.0,14.0,7.0,-100.0,23.0,20.0,19.0,4.0,27.0,-100.0,-100.0,5.0,28.0,25.0,25.0,17.0,14.0,21.0,15.0,15.0,27.0,12.0,28.0,20.0,17.0,18.0,9.0,34.0,17.0,7.0,24.0,9.0,17.0,10.0],[37.0,26.0,31.0,34.0,30.0,32.0,34.0,32.0,34.0,33.0,25.0,28.0,28.0,33.0,32.0,32.0,32.0,30.0,34.0,37.0,30.0,27.0,31.0,34.0,33.0,25.0,34.0,35.0,37.0,33.0,35.0,38.0,38.0,29.0,33.0,32.0,30.0,36.0,34.0,33.0,32.0,34.0,28.0,31.0,30.0,30.0,30.0,37.0,34.0,32.0,34.0,29.0,27.0,34.0,29.0,31.0,32.0,33.0,28.0,31.0,27.0,33.0,32.0,29.0,39.0,34.0,36.0],[13.0,9.0,6.0,7.0,11.0,10.0,10.0,7.0,15.0,10.0,5.0,3.0,5.0,7.0,10.0,9.0,8.0,5.0,9.0,19.0,14.0,9.0,8.0,11.0,8.0,20.0,20.0,13.0,14.0,8.0,30.0,20.0,11.0,9.0,12.0,5.0,8.0,10.0,6.0,6.0,7.0,21.0,18.0,9.0,20.0,6.0,6.0,10.0,5.0,8.0,11.0,11.0,7.0,12.0,7.0,16.0,10.0,9.0,8.0,13.0,10.0,8.0,10.0,21.0,8.0,8.0,38.0],[2.0,5.0,0.0,5.0,4.0,4.0,1.0,2.0,0.0,9.0,14.0,9.0,4.0,4.0,5.0,16.0,12.0,13.0,6.0,7.0,2.0,25.0,17.0,3.0,2.0,4.0,3.0,5.0,10.0,1.0,13.0,6.0,4.0,7.0,9.0,16.0,6.0,3.0,3.0,5.0,10.0,4.0,3.0,5.0,9.0,1.0,3.0,5.0,3.0,7.0,2.0,21.0,10.0,4.0,9.0,8.0,4.0,0.0,1.0,8.0,24.0,5.0,12.0,9.0,0.0,11.0,2.0],[14.0,15.0,12.0,9.0,8.0,5.0,9.0,8.0,11.0,15.0,11.0,16.0,8.0,9.0,9.0,5.0,7.0,7.0,5.0,8.0,10.0,8.0,5.0,12.0,9.0,12.0,18.0,8.0,8.0,6.0,5.0,18.0,24.0,11.0,6.0,21.0,12.0,14.0,10.0,8.0,11.0,6.0,4.0,10.0,7.0,15.0,10.0,11.0,8.0,9.0,16.0,9.0,9.0,15.0,13.0,13.0,6.0,8.0,5.0,7.0,4.0,7.0,15.0,12.0,11.0,9.0,12.0],[18.0,20.0,24.0,12.0,21.0,8.0,13.0,10.0,12.0,13.0,4.0,14.0,12.0,8.0,7.0,11.0,10.0,8.0,7.0,9.0,7.0,6.0,11.0,6.0,3.0,3.0,12.0,16.0,13.0,9.0,10.0,9.0,20.0,17.0,16.0,13.0,23.0,17.0,11.0,12.0,15.0,7.0,9.0,15.0,22.0,13.0,9.0,9.0,13.0,18.0,9.0,19.0,2.0,13.0,8.0,7.0,12.0,13.0,11.0,10.0,12.0,9.0,14.0,15.0,22.0,3.0,18.0],[42.0,38.0,37.0,40.0,42.0,39.0,38.0,39.0,38.0,40.0,39.0,40.0,40.0,39.0,40.0,38.0,38.0,37.0,39.0,39.0,39.0,36.0,38.0,42.0,42.0,43.0,47.0,41.0,44.0,45.0,42.0,41.0,46.0,37.0,40.0,38.0,49.0,41.0,40.0,40.0,40.0,40.0,33.0,36.0,37.0,40.0,40.0,40.0,40.0,39.0,38.0,38.0,33.0,40.0,39.0,38.0,40.0,40.0,40.0,41.0,40.0,39.0,39.0,46.0,43.0,37.0,42.0],[47.0,48.0,45.0,46.0,47.0,48.0,42.0,46.0,42.0,47.0,44.0,47.0,50.0,49.0,47.0,47.0,49.0,47.0,46.0,48.0,38.0,45.0,48.0,50.0,49.0,50.0,48.0,48.0,47.0,48.0,45.0,44.0,45.0,47.0,43.0,43.0,42.0,49.0,47.0,46.0,48.0,47.0,43.0,46.0,42.0,48.0,46.0,49.0,49.0,49.0,46.0,42.0,42.0,49.0,45.0,46.0,48.0,48.0,45.0,48.0,49.0,48.0,45.0,41.0,49.0,44.0,49.0],[28.0,23.0,22.0,27.0,20.0,22.0,8.0,24.0,20.0,14.0,28.0,30.0,26.0,30.0,29.0,30.0,31.0,32.0,20.0,14.0,-100.0,31.0,30.0,19.0,27.0,34.0,37.0,27.0,28.0,19.0,15.0,15.0,26.0,21.0,20.0,29.0,27.0,20.0,28.0,29.0,27.0,19.0,29.0,23.0,18.0,19.0,28.0,29.0,20.0,11.0,42.0,20.0,19.0,18.0,19.0,22.0,28.0,24.0,20.0,19.0,26.0,27.0,17.0,26.0,13.0,13.0,17.0],[33.0,31.0,32.0,29.0,29.0,30.0,28.0,29.0,31.0,31.0,29.0,29.0,29.0,27.0,30.0,28.0,29.0,29.0,30.0,35.0,28.0,26.0,26.0,31.0,37.0,35.0,30.0,30.0,29.0,29.0,31.0,32.0,31.0,28.0,34.0,28.0,33.0,30.0,30.0,30.0,33.0,33.0,25.0,30.0,27.0,33.0,31.0,32.0,29.0,28.0,28.0,27.0,24.0,33.0,33.0,30.0,30.0,30.0,34.0,35.0,28.0,28.0,31.0,32.0,29.0,31.0,29.0],[38.0,35.0,35.0,35.0,37.0,35.0,35.0,35.0,33.0,30.0,33.0,34.0,35.0,32.0,31.0,34.0,30.0,31.0,31.0,27.0,31.0,42.0,36.0,32.0,39.0,33.0,38.0,34.0,33.0,30.0,37.0,28.0,36.0,32.0,32.0,22.0,44.0,40.0,32.0,32.0,29.0,35.0,30.0,33.0,43.0,34.0,33.0,34.0,30.0,33.0,30.0,35.0,38.0,36.0,31.0,44.0,33.0,32.0,38.0,30.0,39.0,32.0,41.0,34.0,35.0,35.0,26.0],[8.0,6.0,7.0,13.0,7.0,14.0,17.0,9.0,9.0,17.0,8.0,5.0,11.0,16.0,15.0,15.0,13.0,14.0,15.0,12.0,15.0,14.0,16.0,9.0,6.0,5.0,2.0,3.0,16.0,7.0,9.0,5.0,6.0,8.0,7.0,17.0,5.0,11.0,14.0,17.0,18.0,8.0,15.0,6.0,11.0,12.0,13.0,12.0,12.0,10.0,14.0,7.0,14.0,3.0,10.0,9.0,7.0,16.0,9.0,4.0,11.0,14.0,6.0,7.0,6.0,5.0,24.0],[9.0,11.0,5.0,4.0,5.0,6.0,18.0,5.0,4.0,6.0,10.0,4.0,6.0,5.0,6.0,4.0,4.0,6.0,8.0,5.0,3.0,16.0,4.0,8.0,14.0,6.0,14.0,7.0,11.0,4.0,7.0,7.0,12.0,6.0,8.0,14.0,14.0,6.0,5.0,4.0,5.0,17.0,6.0,4.0,1.0,8.0,7.0,4.0,6.0,3.0,18.0,8.0,22.0,11.0,0.0,10.0,5.0,3.0,7.0,3.0,14.0,3.0,5.0,4.0,5.0,2.0,6.0],[11.0,19.0,16.0,15.0,14.0,25.0,6.0,13.0,10.0,7.0,7.0,8.0,20.0,18.0,19.0,27.0,20.0,27.0,23.0,6.0,-100.0,0.0,14.0,22.0,25.0,40.0,9.0,24.0,5.0,15.0,8.0,3.0,17.0,22.0,25.0,10.0,4.0,24.0,12.0,20.0,9.0,5.0,-100.0,-100.0,-100.0,17.0,11.0,7.0,9.0,26.0,8.0,-100.0,0.0,19.0,6.0,32.0,18.0,21.0,12.0,6.0,16.0,19.0,8.0,16.0,19.0,28.0,19.0],[24.0,27.0,19.0,24.0,23.0,20.0,27.0,20.0,25.0,28.0,19.0,25.0,18.0,21.0,21.0,22.0,21.0,19.0,25.0,26.0,20.0,17.0,22.0,24.0,29.0,27.0,28.0,23.0,27.0,27.0,17.0,27.0,23.0,12.0,18.0,20.0,19.0,18.0,22.0,22.0,26.0,25.0,26.0,20.0,24.0,22.0,21.0,19.0,22.0,19.0,19.0,26.0,16.0,20.0,30.0,17.0,22.0,26.0,26.0,32.0,22.0,20.0,25.0,27.0,24.0,23.0,16.0],[10.0,10.0,13.0,22.0,15.0,37.0,39.0,18.0,-100.0,11.0,16.0,15.0,14.0,10.0,12.0,17.0,18.0,25.0,28.0,-100.0,-100.0,13.0,10.0,7.0,16.0,13.0,7.0,12.0,15.0,5.0,2.0,12.0,5.0,16.0,19.0,6.0,20.0,9.0,21.0,15.0,16.0,23.0,-100.0,19.0,17.0,11.0,17.0,18.0,18.0,23.0,13.0,10.0,5.0,10.0,25.0,5.0,15.0,10.0,15.0,17.0,7.0,13.0,9.0,14.0,18.0,10.0,4.0],[27.0,8.0,25.0,26.0,31.0,21.0,24.0,19.0,19.0,26.0,26.0,22.0,24.0,25.0,24.0,23.0,25.0,23.0,26.0,16.0,8.0,5.0,23.0,18.0,22.0,23.0,23.0,26.0,35.0,18.0,23.0,11.0,10.0,18.0,21.0,31.0,26.0,12.0,23.0,23.0,24.0,13.0,27.0,29.0,31.0,26.0,22.0,22.0,31.0,38.0,10.0,18.0,26.0,29.0,15.0,29.0,26.0,23.0,31.0,26.0,20.0,29.0,29.0,22.0,25.0,45.0,11.0],[32.0,16.0,9.0,25.0,25.0,23.0,12.0,27.0,13.0,20.0,23.0,21.0,27.0,22.0,23.0,25.0,28.0,21.0,27.0,24.0,25.0,33.0,20.0,28.0,28.0,30.0,35.0,33.0,22.0,38.0,39.0,25.0,29.0,26.0,29.0,26.0,32.0,16.0,25.0,24.0,28.0,31.0,-100.0,28.0,25.0,27.0,27.0,26.0,28.0,25.0,20.0,5.0,25.0,24.0,22.0,24.0,24.0,12.0,22.0,25.0,21.0,25.0,19.0,37.0,33.0,24.0,32.0],[35.0,37.0,38.0,41.0,39.0,40.0,36.0,38.0,37.0,39.0,38.0,38.0,39.0,41.0,41.0,39.0,41.0,41.0,40.0,36.0,33.0,30.0,37.0,35.0,40.0,38.0,41.0,39.0,38.0,39.0,32.0,35.0,35.0,40.0,37.0,36.0,35.0,38.0,41.0,41.0,41.0,39.0,32.0,35.0,34.0,39.0,41.0,41.0,41.0,42.0,36.0,32.0,28.0,37.0,40.0,39.0,41.0,38.0,39.0,40.0,36.0,41.0,38.0,35.0,37.0,33.0,35.0],[5.0,39.0,41.0,38.0,40.0,31.0,7.0,36.0,24.0,44.0,37.0,31.0,38.0,38.0,37.0,41.0,33.0,40.0,42.0,25.0,26.0,10.0,39.0,36.0,15.0,15.0,31.0,36.0,24.0,13.0,28.0,40.0,9.0,39.0,39.0,48.0,22.0,33.0,35.0,36.0,30.0,26.0,42.0,18.0,35.0,32.0,32.0,33.0,36.0,36.0,39.0,30.0,31.0,41.0,35.0,33.0,35.0,39.0,33.0,22.0,37.0,40.0,36.0,39.0,41.0,41.0,37.0],[30.0,33.0,30.0,30.0,38.0,29.0,21.0,37.0,35.0,36.0,36.0,41.0,30.0,34.0,33.0,33.0,39.0,38.0,37.0,32.0,29.0,29.0,34.0,29.0,31.0,36.0,24.0,17.0,31.0,20.0,26.0,34.0,32.0,38.0,30.0,35.0,25.0,29.0,37.0,34.0,35.0,29.0,23.0,32.0,29.0,42.0,37.0,31.0,32.0,30.0,32.0,25.0,41.0,26.0,36.0,37.0,31.0,34.0,32.0,33.0,33.0,36.0,34.0,28.0,26.0,40.0,31.0],[43.0,45.0,48.0,47.0,45.0,45.0,43.0,45.0,43.0,46.0,47.0,45.0,41.0,44.0,43.0,43.0,44.0,43.0,43.0,46.0,40.0,48.0,44.0,43.0,43.0,46.0,46.0,43.0,43.0,41.0,46.0,42.0,42.0,44.0,44.0,42.0,47.0,45.0,45.0,43.0,43.0,46.0,40.0,45.0,44.0,46.0,44.0,44.0,45.0,43.0,44.0,40.0,44.0,43.0,47.0,47.0,43.0,47.0,44.0,44.0,47.0,43.0,46.0,44.0,46.0,42.0,41.0],[17.0,13.0,11.0,11.0,13.0,11.0,11.0,16.0,17.0,18.0,12.0,12.0,16.0,12.0,16.0,14.0,11.0,10.0,10.0,18.0,13.0,4.0,9.0,17.0,17.0,11.0,21.0,14.0,17.0,22.0,11.0,13.0,18.0,13.0,17.0,11.0,16.0,13.0,13.0,13.0,13.0,15.0,14.0,14.0,15.0,14.0,15.0,17.0,14.0,12.0,7.0,16.0,12.0,8.0,11.0,12.0,13.0,11.0,13.0,15.0,15.0,15.0,13.0,11.0,20.0,15.0,15.0],[19.0,14.0,10.0,10.0,12.0,7.0,19.0,11.0,8.0,5.0,13.0,7.0,7.0,11.0,11.0,7.0,5.0,11.0,13.0,22.0,1.0,15.0,7.0,13.0,10.0,10.0,11.0,10.0,23.0,24.0,14.0,8.0,2.0,15.0,5.0,9.0,13.0,7.0,8.0,14.0,14.0,11.0,10.0,8.0,8.0,7.0,8.0,8.0,7.0,6.0,15.0,12.0,13.0,5.0,14.0,14.0,8.0,7.0,6.0,11.0,6.0,11.0,16.0,6.0,4.0,6.0,9.0],[31.0,42.0,36.0,37.0,35.0,38.0,23.0,43.0,23.0,38.0,40.0,37.0,31.0,36.0,38.0,37.0,34.0,34.0,32.0,38.0,-100.0,44.0,33.0,37.0,36.0,28.0,33.0,29.0,36.0,31.0,38.0,33.0,30.0,34.0,36.0,37.0,15.0,34.0,39.0,38.0,31.0,37.0,39.0,34.0,21.0,38.0,35.0,35.0,38.0,37.0,37.0,44.0,47.0,38.0,38.0,35.0,38.0,31.0,37.0,39.0,35.0,37.0,33.0,31.0,32.0,39.0,33.0],[22.0,30.0,18.0,23.0,26.0,18.0,31.0,25.0,28.0,29.0,21.0,27.0,33.0,23.0,22.0,18.0,23.0,18.0,19.0,29.0,17.0,22.0,18.0,21.0,26.0,22.0,27.0,22.0,21.0,23.0,21.0,24.0,25.0,24.0,22.0,23.0,34.0,27.0,19.0,21.0,23.0,20.0,21.0,24.0,26.0,25.0,20.0,23.0,23.0,20.0,24.0,28.0,18.0,25.0,27.0,19.0,23.0,28.0,24.0,27.0,23.0,22.0,23.0,23.0,31.0,27.0,13.0],[40.0,36.0,39.0,39.0,36.0,43.0,41.0,31.0,39.0,34.0,42.0,39.0,44.0,40.0,39.0,40.0,40.0,36.0,36.0,40.0,34.0,28.0,43.0,39.0,35.0,42.0,40.0,38.0,40.0,37.0,41.0,39.0,39.0,31.0,41.0,39.0,28.0,35.0,38.0,39.0,39.0,41.0,35.0,43.0,45.0,37.0,39.0,39.0,39.0,40.0,35.0,43.0,34.0,32.0,41.0,40.0,37.0,41.0,41.0,29.0,43.0,38.0,35.0,45.0,21.0,36.0,34.0],[23.0,22.0,21.0,19.0,19.0,16.0,26.0,15.0,22.0,25.0,27.0,23.0,15.0,24.0,20.0,24.0,27.0,20.0,17.0,17.0,22.0,19.0,21.0,20.0,24.0,16.0,22.0,25.0,20.0,28.0,19.0,23.0,15.0,20.0,13.0,15.0,18.0,21.0,29.0,26.0,19.0,16.0,12.0,13.0,16.0,21.0,19.0,16.0,19.0,15.0,23.0,17.0,36.0,28.0,32.0,15.0,19.0,14.0,21.0,20.0,19.0,24.0,24.0,25.0,14.0,14.0,23.0],[25.0,24.0,34.0,31.0,28.0,28.0,37.0,30.0,36.0,27.0,35.0,33.0,36.0,28.0,28.0,29.0,26.0,26.0,29.0,21.0,21.0,40.0,29.0,27.0,23.0,19.0,10.0,50.0,25.0,50.0,24.0,19.0,49.0,25.0,28.0,25.0,0.0,19.0,26.0,28.0,22.0,30.0,36.0,25.0,36.0,18.0,24.0,28.0,27.0,27.0,41.0,4.0,32.0,30.0,24.0,26.0,29.0,25.0,29.0,28.0,31.0,23.0,26.0,33.0,42.0,25.0,7.0],[4.0,3.0,2.0,0.0,1.0,3.0,15.0,1.0,7.0,2.0,1.0,0.0,2.0,1.0,1.0,1.0,2.0,1.0,2.0,1.0,0.0,7.0,2.0,5.0,11.0,9.0,4.0,6.0,6.0,10.0,1.0,2.0,7.0,5.0,3.0,4.0,7.0,4.0,1.0,3.0,2.0,1.0,5.0,2.0,4.0,4.0,1.0,3.0,2.0,4.0,0.0,2.0,8.0,6.0,4.0,1.0,1.0,1.0,2.0,16.0,1.0,0.0,3.0,5.0,3.0,4.0,8.0],[16.0,25.0,26.0,28.0,27.0,19.0,30.0,22.0,29.0,23.0,18.0,20.0,21.0,19.0,25.0,19.0,24.0,22.0,22.0,20.0,19.0,12.0,19.0,16.0,20.0,18.0,19.0,20.0,19.0,17.0,16.0,21.0,16.0,27.0,23.0,30.0,21.0,25.0,24.0,25.0,21.0,24.0,17.0,22.0,19.0,23.0,23.0,21.0,25.0,22.0,22.0,22.0,23.0,16.0,23.0,21.0,25.0,20.0,19.0,18.0,18.0,21.0,22.0,18.0,23.0,22.0,25.0],[26.0,43.0,28.0,21.0,22.0,27.0,47.0,41.0,5.0,19.0,30.0,13.0,23.0,26.0,26.0,26.0,15.0,24.0,18.0,13.0,-100.0,34.0,25.0,33.0,21.0,21.0,32.0,21.0,7.0,32.0,18.0,31.0,21.0,43.0,24.0,49.0,31.0,31.0,16.0,18.0,34.0,22.0,11.0,39.0,-100.0,29.0,26.0,27.0,26.0,29.0,43.0,39.0,35.0,22.0,17.0,23.0,16.0,37.0,25.0,36.0,29.0,26.0,27.0,13.0,28.0,30.0,21.0],[20.0,17.0,8.0,8.0,10.0,9.0,14.0,12.0,18.0,21.0,9.0,19.0,17.0,13.0,8.0,8.0,9.0,9.0,11.0,10.0,5.0,21.0,15.0,23.0,19.0,17.0,16.0,18.0,26.0,21.0,20.0,22.0,19.0,10.0,11.0,18.0,17.0,22.0,9.0,9.0,12.0,10.0,16.0,7.0,13.0,9.0,12.0,13.0,10.0,13.0,12.0,34.0,21.0,14.0,20.0,4.0,9.0,18.0,17.0,21.0,9.0,12.0,20.0,19.0,7.0,21.0,27.0],[48.0,50.0,43.0,43.0,44.0,46.0,45.0,47.0,-100.0,41.0,46.0,46.0,47.0,43.0,45.0,44.0,43.0,44.0,45.0,44.0,-100.0,41.0,45.0,47.0,45.0,48.0,45.0,47.0,46.0,46.0,43.0,48.0,48.0,46.0,45.0,46.0,45.0,47.0,44.0,44.0,44.0,45.0,-100.0,-100.0,-100.0,44.0,43.0,43.0,44.0,44.0,45.0,47.0,43.0,44.0,42.0,48.0,44.0,46.0,48.0,49.0,45.0,44.0,47.0,36.0,50.0,46.0,45.0],[39.0,32.0,29.0,36.0,32.0,33.0,29.0,33.0,30.0,37.0,31.0,32.0,37.0,35.0,34.0,31.0,36.0,33.0,35.0,31.0,24.0,38.0,35.0,40.0,38.0,37.0,25.0,37.0,49.0,36.0,36.0,37.0,37.0,30.0,31.0,34.0,41.0,39.0,36.0,37.0,36.0,36.0,31.0,27.0,28.0,35.0,36.0,36.0,37.0,35.0,29.0,33.0,39.0,39.0,37.0,34.0,39.0,36.0,36.0,34.0,38.0,34.0,40.0,40.0,36.0,29.0,44.0],[21.0,28.0,23.0,20.0,18.0,26.0,33.0,26.0,26.0,24.0,24.0,26.0,19.0,17.0,18.0,21.0,17.0,16.0,21.0,33.0,27.0,37.0,28.0,25.0,32.0,31.0,17.0,19.0,34.0,35.0,34.0,30.0,28.0,19.0,27.0,33.0,37.0,26.0,17.0,16.0,20.0,28.0,19.0,21.0,23.0,24.0,18.0,20.0,21.0,21.0,26.0,36.0,30.0,23.0,26.0,25.0,21.0,27.0,23.0,24.0,32.0,18.0,28.0,20.0,27.0,32.0,28.0],[1.0,2.0,14.0,6.0,3.0,2.0,0.0,4.0,6.0,4.0,6.0,10.0,3.0,6.0,2.0,3.0,1.0,4.0,4.0,3.0,6.0,3.0,3.0,2.0,5.0,8.0,5.0,2.0,0.0,14.0,3.0,4.0,3.0,0.0,2.0,0.0,2.0,1.0,4.0,2.0,3.0,3.0,1.0,1.0,3.0,3.0,2.0,2.0,1.0,1.0,5.0,3.0,6.0,7.0,2.0,3.0,2.0,5.0,3.0,0.0,2.0,4.0,1.0,1.0,10.0,12.0,14.0],[46.0,41.0,44.0,44.0,41.0,-100.0,-100.0,40.0,-100.0,42.0,50.0,43.0,45.0,47.0,44.0,48.0,48.0,46.0,48.0,42.0,-100.0,-100.0,41.0,49.0,47.0,49.0,50.0,42.0,45.0,49.0,-100.0,43.0,41.0,42.0,48.0,44.0,46.0,46.0,43.0,47.0,45.0,50.0,37.0,44.0,39.0,49.0,48.0,46.0,43.0,47.0,25.0,-100.0,48.0,46.0,48.0,42.0,46.0,42.0,42.0,42.0,30.0,49.0,43.0,43.0,48.0,48.0,48.0]],\"type\":\"heatmap\",\"xaxis\":\"x\",\"yaxis\":\"y\",\"hovertemplate\":\"x: %{x}<br>y: %{y}<br>color: %{z}<extra></extra>\"}],                        {\"template\":{\"data\":{\"barpolar\":[{\"marker\":{\"line\":{\"color\":\"rgb(237,237,237)\",\"width\":0.5},\"pattern\":{\"fillmode\":\"overlay\",\"size\":10,\"solidity\":0.2}},\"type\":\"barpolar\"}],\"bar\":[{\"error_x\":{\"color\":\"rgb(51,51,51)\"},\"error_y\":{\"color\":\"rgb(51,51,51)\"},\"marker\":{\"line\":{\"color\":\"rgb(237,237,237)\",\"width\":0.5},\"pattern\":{\"fillmode\":\"overlay\",\"size\":10,\"solidity\":0.2}},\"type\":\"bar\"}],\"carpet\":[{\"aaxis\":{\"endlinecolor\":\"rgb(51,51,51)\",\"gridcolor\":\"white\",\"linecolor\":\"white\",\"minorgridcolor\":\"white\",\"startlinecolor\":\"rgb(51,51,51)\"},\"baxis\":{\"endlinecolor\":\"rgb(51,51,51)\",\"gridcolor\":\"white\",\"linecolor\":\"white\",\"minorgridcolor\":\"white\",\"startlinecolor\":\"rgb(51,51,51)\"},\"type\":\"carpet\"}],\"choropleth\":[{\"colorbar\":{\"outlinewidth\":0,\"tickcolor\":\"rgb(237,237,237)\",\"ticklen\":6,\"ticks\":\"inside\"},\"type\":\"choropleth\"}],\"contourcarpet\":[{\"colorbar\":{\"outlinewidth\":0,\"tickcolor\":\"rgb(237,237,237)\",\"ticklen\":6,\"ticks\":\"inside\"},\"type\":\"contourcarpet\"}],\"contour\":[{\"colorbar\":{\"outlinewidth\":0,\"tickcolor\":\"rgb(237,237,237)\",\"ticklen\":6,\"ticks\":\"inside\"},\"colorscale\":[[0,\"rgb(20,44,66)\"],[1,\"rgb(90,179,244)\"]],\"type\":\"contour\"}],\"heatmapgl\":[{\"colorbar\":{\"outlinewidth\":0,\"tickcolor\":\"rgb(237,237,237)\",\"ticklen\":6,\"ticks\":\"inside\"},\"colorscale\":[[0,\"rgb(20,44,66)\"],[1,\"rgb(90,179,244)\"]],\"type\":\"heatmapgl\"}],\"heatmap\":[{\"colorbar\":{\"outlinewidth\":0,\"tickcolor\":\"rgb(237,237,237)\",\"ticklen\":6,\"ticks\":\"inside\"},\"colorscale\":[[0,\"rgb(20,44,66)\"],[1,\"rgb(90,179,244)\"]],\"type\":\"heatmap\"}],\"histogram2dcontour\":[{\"colorbar\":{\"outlinewidth\":0,\"tickcolor\":\"rgb(237,237,237)\",\"ticklen\":6,\"ticks\":\"inside\"},\"colorscale\":[[0,\"rgb(20,44,66)\"],[1,\"rgb(90,179,244)\"]],\"type\":\"histogram2dcontour\"}],\"histogram2d\":[{\"colorbar\":{\"outlinewidth\":0,\"tickcolor\":\"rgb(237,237,237)\",\"ticklen\":6,\"ticks\":\"inside\"},\"colorscale\":[[0,\"rgb(20,44,66)\"],[1,\"rgb(90,179,244)\"]],\"type\":\"histogram2d\"}],\"histogram\":[{\"marker\":{\"pattern\":{\"fillmode\":\"overlay\",\"size\":10,\"solidity\":0.2}},\"type\":\"histogram\"}],\"mesh3d\":[{\"colorbar\":{\"outlinewidth\":0,\"tickcolor\":\"rgb(237,237,237)\",\"ticklen\":6,\"ticks\":\"inside\"},\"type\":\"mesh3d\"}],\"parcoords\":[{\"line\":{\"colorbar\":{\"outlinewidth\":0,\"tickcolor\":\"rgb(237,237,237)\",\"ticklen\":6,\"ticks\":\"inside\"}},\"type\":\"parcoords\"}],\"pie\":[{\"automargin\":true,\"type\":\"pie\"}],\"scatter3d\":[{\"line\":{\"colorbar\":{\"outlinewidth\":0,\"tickcolor\":\"rgb(237,237,237)\",\"ticklen\":6,\"ticks\":\"inside\"}},\"marker\":{\"colorbar\":{\"outlinewidth\":0,\"tickcolor\":\"rgb(237,237,237)\",\"ticklen\":6,\"ticks\":\"inside\"}},\"type\":\"scatter3d\"}],\"scattercarpet\":[{\"marker\":{\"colorbar\":{\"outlinewidth\":0,\"tickcolor\":\"rgb(237,237,237)\",\"ticklen\":6,\"ticks\":\"inside\"}},\"type\":\"scattercarpet\"}],\"scattergeo\":[{\"marker\":{\"colorbar\":{\"outlinewidth\":0,\"tickcolor\":\"rgb(237,237,237)\",\"ticklen\":6,\"ticks\":\"inside\"}},\"type\":\"scattergeo\"}],\"scattergl\":[{\"marker\":{\"colorbar\":{\"outlinewidth\":0,\"tickcolor\":\"rgb(237,237,237)\",\"ticklen\":6,\"ticks\":\"inside\"}},\"type\":\"scattergl\"}],\"scattermapbox\":[{\"marker\":{\"colorbar\":{\"outlinewidth\":0,\"tickcolor\":\"rgb(237,237,237)\",\"ticklen\":6,\"ticks\":\"inside\"}},\"type\":\"scattermapbox\"}],\"scatterpolargl\":[{\"marker\":{\"colorbar\":{\"outlinewidth\":0,\"tickcolor\":\"rgb(237,237,237)\",\"ticklen\":6,\"ticks\":\"inside\"}},\"type\":\"scatterpolargl\"}],\"scatterpolar\":[{\"marker\":{\"colorbar\":{\"outlinewidth\":0,\"tickcolor\":\"rgb(237,237,237)\",\"ticklen\":6,\"ticks\":\"inside\"}},\"type\":\"scatterpolar\"}],\"scatter\":[{\"marker\":{\"colorbar\":{\"outlinewidth\":0,\"tickcolor\":\"rgb(237,237,237)\",\"ticklen\":6,\"ticks\":\"inside\"}},\"type\":\"scatter\"}],\"scatterternary\":[{\"marker\":{\"colorbar\":{\"outlinewidth\":0,\"tickcolor\":\"rgb(237,237,237)\",\"ticklen\":6,\"ticks\":\"inside\"}},\"type\":\"scatterternary\"}],\"surface\":[{\"colorbar\":{\"outlinewidth\":0,\"tickcolor\":\"rgb(237,237,237)\",\"ticklen\":6,\"ticks\":\"inside\"},\"colorscale\":[[0,\"rgb(20,44,66)\"],[1,\"rgb(90,179,244)\"]],\"type\":\"surface\"}],\"table\":[{\"cells\":{\"fill\":{\"color\":\"rgb(237,237,237)\"},\"line\":{\"color\":\"white\"}},\"header\":{\"fill\":{\"color\":\"rgb(217,217,217)\"},\"line\":{\"color\":\"white\"}},\"type\":\"table\"}]},\"layout\":{\"annotationdefaults\":{\"arrowhead\":0,\"arrowwidth\":1},\"autotypenumbers\":\"strict\",\"coloraxis\":{\"colorbar\":{\"outlinewidth\":0,\"tickcolor\":\"rgb(237,237,237)\",\"ticklen\":6,\"ticks\":\"inside\"}},\"colorscale\":{\"sequential\":[[0,\"rgb(20,44,66)\"],[1,\"rgb(90,179,244)\"]],\"sequentialminus\":[[0,\"rgb(20,44,66)\"],[1,\"rgb(90,179,244)\"]]},\"colorway\":[\"#F8766D\",\"#A3A500\",\"#00BF7D\",\"#00B0F6\",\"#E76BF3\"],\"font\":{\"color\":\"rgb(51,51,51)\"},\"geo\":{\"bgcolor\":\"white\",\"lakecolor\":\"white\",\"landcolor\":\"rgb(237,237,237)\",\"showlakes\":true,\"showland\":true,\"subunitcolor\":\"white\"},\"hoverlabel\":{\"align\":\"left\"},\"hovermode\":\"closest\",\"paper_bgcolor\":\"white\",\"plot_bgcolor\":\"rgb(237,237,237)\",\"polar\":{\"angularaxis\":{\"gridcolor\":\"white\",\"linecolor\":\"white\",\"showgrid\":true,\"tickcolor\":\"rgb(51,51,51)\",\"ticks\":\"outside\"},\"bgcolor\":\"rgb(237,237,237)\",\"radialaxis\":{\"gridcolor\":\"white\",\"linecolor\":\"white\",\"showgrid\":true,\"tickcolor\":\"rgb(51,51,51)\",\"ticks\":\"outside\"}},\"scene\":{\"xaxis\":{\"backgroundcolor\":\"rgb(237,237,237)\",\"gridcolor\":\"white\",\"gridwidth\":2,\"linecolor\":\"white\",\"showbackground\":true,\"showgrid\":true,\"tickcolor\":\"rgb(51,51,51)\",\"ticks\":\"outside\",\"zerolinecolor\":\"white\"},\"yaxis\":{\"backgroundcolor\":\"rgb(237,237,237)\",\"gridcolor\":\"white\",\"gridwidth\":2,\"linecolor\":\"white\",\"showbackground\":true,\"showgrid\":true,\"tickcolor\":\"rgb(51,51,51)\",\"ticks\":\"outside\",\"zerolinecolor\":\"white\"},\"zaxis\":{\"backgroundcolor\":\"rgb(237,237,237)\",\"gridcolor\":\"white\",\"gridwidth\":2,\"linecolor\":\"white\",\"showbackground\":true,\"showgrid\":true,\"tickcolor\":\"rgb(51,51,51)\",\"ticks\":\"outside\",\"zerolinecolor\":\"white\"}},\"shapedefaults\":{\"fillcolor\":\"black\",\"line\":{\"width\":0},\"opacity\":0.3},\"ternary\":{\"aaxis\":{\"gridcolor\":\"white\",\"linecolor\":\"white\",\"showgrid\":true,\"tickcolor\":\"rgb(51,51,51)\",\"ticks\":\"outside\"},\"baxis\":{\"gridcolor\":\"white\",\"linecolor\":\"white\",\"showgrid\":true,\"tickcolor\":\"rgb(51,51,51)\",\"ticks\":\"outside\"},\"bgcolor\":\"rgb(237,237,237)\",\"caxis\":{\"gridcolor\":\"white\",\"linecolor\":\"white\",\"showgrid\":true,\"tickcolor\":\"rgb(51,51,51)\",\"ticks\":\"outside\"}},\"xaxis\":{\"automargin\":true,\"gridcolor\":\"white\",\"linecolor\":\"white\",\"showgrid\":true,\"tickcolor\":\"rgb(51,51,51)\",\"ticks\":\"outside\",\"title\":{\"standoff\":15},\"zerolinecolor\":\"white\"},\"yaxis\":{\"automargin\":true,\"gridcolor\":\"white\",\"linecolor\":\"white\",\"showgrid\":true,\"tickcolor\":\"rgb(51,51,51)\",\"ticks\":\"outside\",\"title\":{\"standoff\":15},\"zerolinecolor\":\"white\"}}},\"xaxis\":{\"anchor\":\"y\",\"domain\":[0.0,1.0],\"title\":{\"text\":\"DRG Definition Id\",\"font\":{\"size\":16}},\"tickfont\":{\"size\":14}},\"yaxis\":{\"anchor\":\"x\",\"domain\":[0.0,1.0],\"autorange\":\"reversed\",\"title\":{\"text\":\"State\",\"font\":{\"size\":16}},\"tickfont\":{\"size\":14}},\"coloraxis\":{\"colorscale\":[[0.0,\"#0d0887\"],[0.1111111111111111,\"#46039f\"],[0.2222222222222222,\"#7201a8\"],[0.3333333333333333,\"#9c179e\"],[0.4444444444444444,\"#bd3786\"],[0.5555555555555556,\"#d8576b\"],[0.6666666666666666,\"#ed7953\"],[0.7777777777777778,\"#fb9f3a\"],[0.8888888888888888,\"#fdca26\"],[1.0,\"#f0f921\"]]},\"margin\":{\"t\":60},\"legend\":{\"x\":0,\"y\":1.0},\"title\":{\"text\":\"Inpatient Cost Rankings Per Procedure\"},\"barmode\":\"group\",\"bargap\":0.15,\"bargroupgap\":0.1},                        {\"responsive\": true}                    ).then(function(){\n",
       "                            \n",
       "var gd = document.getElementById('994b92a1-74a5-47d4-a9ca-7f073a4d3af4');\n",
       "var x = new MutationObserver(function (mutations, observer) {{\n",
       "        var display = window.getComputedStyle(gd).display;\n",
       "        if (!display || display === 'none') {{\n",
       "            console.log([gd, 'removed!']);\n",
       "            Plotly.purge(gd);\n",
       "            observer.disconnect();\n",
       "        }}\n",
       "}});\n",
       "\n",
       "// Listen for the removal of the full notebook cells\n",
       "var notebookContainer = gd.closest('#notebook-container');\n",
       "if (notebookContainer) {{\n",
       "    x.observe(notebookContainer, {childList: true});\n",
       "}}\n",
       "\n",
       "// Listen for the clearing of the current output cell\n",
       "var outputEl = gd.closest('.output');\n",
       "if (outputEl) {{\n",
       "    x.observe(outputEl, {childList: true});\n",
       "}}\n",
       "\n",
       "                        })                };                });            </script>        </div>"
      ]
     },
     "metadata": {},
     "output_type": "display_data"
    }
   ],
   "source": [
    "fig = px.imshow(_df,text_auto=True, aspect=\"auto\")\n",
    "fig.update_layout(\n",
    "    title='Inpatient Cost Rankings Per Procedure',\n",
    "    template='ggplot2',\n",
    "    xaxis=dict(\n",
    "        title='DRG Definition Id',\n",
    "        titlefont_size=16,\n",
    "        tickfont_size=14,\n",
    "    ),\n",
    "    yaxis=dict(\n",
    "        title='State',\n",
    "        titlefont_size=16,\n",
    "        tickfont_size=14,\n",
    "    ),\n",
    "    legend=dict(\n",
    "        x=0,\n",
    "        y=1.0,\n",
    "    ),\n",
    "    barmode='group',\n",
    "    bargap=0.15,\n",
    "    bargroupgap=0.1 \n",
    ")\n",
    "fig.show()"
   ]
  }
 ],
 "metadata": {
  "kernelspec": {
   "display_name": "Python 3.9.12 ('base')",
   "language": "python",
   "name": "python3"
  },
  "language_info": {
   "codemirror_mode": {
    "name": "ipython",
    "version": 3
   },
   "file_extension": ".py",
   "mimetype": "text/x-python",
   "name": "python",
   "nbconvert_exporter": "python",
   "pygments_lexer": "ipython3",
   "version": "3.9.12"
  },
  "orig_nbformat": 4,
  "vscode": {
   "interpreter": {
    "hash": "277d713a2869ad522e0f58de96fa3cb2620734b34dd3b3afd7f1966d69d2580f"
   }
  }
 },
 "nbformat": 4,
 "nbformat_minor": 2
}
